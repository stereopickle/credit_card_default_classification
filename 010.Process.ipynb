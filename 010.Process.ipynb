{
 "cells": [
  {
   "cell_type": "markdown",
   "metadata": {},
   "source": [
    "# Credit Card Default Classification Project\n",
    "\n"
   ]
  },
  {
   "cell_type": "code",
   "execution_count": 1,
   "metadata": {},
   "outputs": [],
   "source": [
    "import pandas as pd\n",
    "import numpy as np\n",
    "import matplotlib.pyplot as plt\n",
    "import seaborn as sns\n",
    "import math \n",
    "\n",
    "%matplotlib inline\n",
    "\n",
    "#pd.options.display.max_columns = None\n",
    "\n",
    "from sklearn import metrics\n",
    "from sklearn.model_selection import train_test_split\n",
    "from sklearn.dummy import DummyClassifier\n",
    "from sklearn.metrics import accuracy_score, f1_score, recall_score, roc_auc_score\n",
    "from sklearn.linear_model import LogisticRegression"
   ]
  },
  {
   "cell_type": "markdown",
   "metadata": {},
   "source": [
    "## Import Data"
   ]
  },
  {
   "cell_type": "code",
   "execution_count": 2,
   "metadata": {},
   "outputs": [
    {
     "data": {
      "text/html": [
       "<div>\n",
       "<style scoped>\n",
       "    .dataframe tbody tr th:only-of-type {\n",
       "        vertical-align: middle;\n",
       "    }\n",
       "\n",
       "    .dataframe tbody tr th {\n",
       "        vertical-align: top;\n",
       "    }\n",
       "\n",
       "    .dataframe thead th {\n",
       "        text-align: right;\n",
       "    }\n",
       "</style>\n",
       "<table border=\"1\" class=\"dataframe\">\n",
       "  <thead>\n",
       "    <tr style=\"text-align: right;\">\n",
       "      <th></th>\n",
       "      <th>X1</th>\n",
       "      <th>X2</th>\n",
       "      <th>X3</th>\n",
       "      <th>X4</th>\n",
       "      <th>X5</th>\n",
       "      <th>X6</th>\n",
       "      <th>X7</th>\n",
       "      <th>X8</th>\n",
       "      <th>X9</th>\n",
       "      <th>X10</th>\n",
       "      <th>...</th>\n",
       "      <th>X15</th>\n",
       "      <th>X16</th>\n",
       "      <th>X17</th>\n",
       "      <th>X18</th>\n",
       "      <th>X19</th>\n",
       "      <th>X20</th>\n",
       "      <th>X21</th>\n",
       "      <th>X22</th>\n",
       "      <th>X23</th>\n",
       "      <th>Y</th>\n",
       "    </tr>\n",
       "  </thead>\n",
       "  <tbody>\n",
       "    <tr>\n",
       "      <th>28835</th>\n",
       "      <td>220000</td>\n",
       "      <td>2</td>\n",
       "      <td>1</td>\n",
       "      <td>2</td>\n",
       "      <td>36</td>\n",
       "      <td>0</td>\n",
       "      <td>0</td>\n",
       "      <td>0</td>\n",
       "      <td>0</td>\n",
       "      <td>0</td>\n",
       "      <td>...</td>\n",
       "      <td>221193</td>\n",
       "      <td>181859</td>\n",
       "      <td>184605</td>\n",
       "      <td>10000</td>\n",
       "      <td>8018</td>\n",
       "      <td>10121</td>\n",
       "      <td>6006</td>\n",
       "      <td>10987</td>\n",
       "      <td>143779</td>\n",
       "      <td>1</td>\n",
       "    </tr>\n",
       "    <tr>\n",
       "      <th>25329</th>\n",
       "      <td>200000</td>\n",
       "      <td>2</td>\n",
       "      <td>3</td>\n",
       "      <td>2</td>\n",
       "      <td>29</td>\n",
       "      <td>-1</td>\n",
       "      <td>-1</td>\n",
       "      <td>-1</td>\n",
       "      <td>-1</td>\n",
       "      <td>-1</td>\n",
       "      <td>...</td>\n",
       "      <td>326</td>\n",
       "      <td>326</td>\n",
       "      <td>326</td>\n",
       "      <td>326</td>\n",
       "      <td>326</td>\n",
       "      <td>326</td>\n",
       "      <td>326</td>\n",
       "      <td>326</td>\n",
       "      <td>326</td>\n",
       "      <td>0</td>\n",
       "    </tr>\n",
       "    <tr>\n",
       "      <th>18894</th>\n",
       "      <td>180000</td>\n",
       "      <td>2</td>\n",
       "      <td>1</td>\n",
       "      <td>2</td>\n",
       "      <td>27</td>\n",
       "      <td>-2</td>\n",
       "      <td>-2</td>\n",
       "      <td>-2</td>\n",
       "      <td>-2</td>\n",
       "      <td>-2</td>\n",
       "      <td>...</td>\n",
       "      <td>0</td>\n",
       "      <td>0</td>\n",
       "      <td>0</td>\n",
       "      <td>0</td>\n",
       "      <td>0</td>\n",
       "      <td>0</td>\n",
       "      <td>0</td>\n",
       "      <td>0</td>\n",
       "      <td>0</td>\n",
       "      <td>0</td>\n",
       "    </tr>\n",
       "  </tbody>\n",
       "</table>\n",
       "<p>3 rows × 24 columns</p>\n",
       "</div>"
      ],
      "text/plain": [
       "           X1 X2 X3 X4  X5  X6  X7  X8  X9 X10  ...     X15     X16     X17  \\\n",
       "28835  220000  2  1  2  36   0   0   0   0   0  ...  221193  181859  184605   \n",
       "25329  200000  2  3  2  29  -1  -1  -1  -1  -1  ...     326     326     326   \n",
       "18894  180000  2  1  2  27  -2  -2  -2  -2  -2  ...       0       0       0   \n",
       "\n",
       "         X18   X19    X20   X21    X22     X23  Y  \n",
       "28835  10000  8018  10121  6006  10987  143779  1  \n",
       "25329    326   326    326   326    326     326  0  \n",
       "18894      0     0      0     0      0       0  0  \n",
       "\n",
       "[3 rows x 24 columns]"
      ]
     },
     "execution_count": 2,
     "metadata": {},
     "output_type": "execute_result"
    }
   ],
   "source": [
    "df = pd.read_csv('DATA/training_data.csv',  index_col = 0)\n",
    "df.head(3)"
   ]
  },
  {
   "cell_type": "markdown",
   "metadata": {},
   "source": [
    "# Data Cleaning & EDA"
   ]
  },
  {
   "cell_type": "markdown",
   "metadata": {},
   "source": [
    "It seems like there's a row that's supposed to be the header."
   ]
  },
  {
   "cell_type": "code",
   "execution_count": 3,
   "metadata": {},
   "outputs": [],
   "source": [
    "df = df.rename(columns = df.loc['ID'])\n",
    "df = df.drop([df.index[0], 'ID'])\n",
    "df = df.rename(columns = {'default payment next month': 'Y'})"
   ]
  },
  {
   "cell_type": "code",
   "execution_count": 4,
   "metadata": {
    "tags": []
   },
   "outputs": [],
   "source": [
    "#df.info()"
   ]
  },
  {
   "cell_type": "markdown",
   "metadata": {},
   "source": [
    "They are still all objects. Let's take a look at each of their unique values, if they don't have to be objects, I'll convert them."
   ]
  },
  {
   "cell_type": "code",
   "execution_count": 5,
   "metadata": {},
   "outputs": [],
   "source": [
    "#df.describe()"
   ]
  },
  {
   "cell_type": "code",
   "execution_count": 6,
   "metadata": {},
   "outputs": [
    {
     "data": {
      "text/plain": [
       "Index(['LIMIT_BAL', 'SEX', 'EDUCATION', 'MARRIAGE', 'AGE', 'PAY_0', 'PAY_2',\n",
       "       'PAY_3', 'PAY_4', 'PAY_5', 'PAY_6', 'BILL_AMT1', 'BILL_AMT2',\n",
       "       'BILL_AMT3', 'BILL_AMT4', 'BILL_AMT5', 'BILL_AMT6', 'PAY_AMT1',\n",
       "       'PAY_AMT2', 'PAY_AMT3', 'PAY_AMT4', 'PAY_AMT5', 'PAY_AMT6', 'Y'],\n",
       "      dtype='object')"
      ]
     },
     "execution_count": 6,
     "metadata": {},
     "output_type": "execute_result"
    }
   ],
   "source": [
    "df.columns"
   ]
  },
  {
   "cell_type": "code",
   "execution_count": 7,
   "metadata": {
    "tags": []
   },
   "outputs": [],
   "source": [
    "categorical = ['SEX', 'EDUCATION', 'MARRIAGE']\n",
    "for c in df.columns:\n",
    "    if c not in categorical: \n",
    "        df[c] = pd.to_numeric(df[c])\n",
    "\n",
    "#for c in df.columns[0:5]:\n",
    "#    print (f\"{c}: {df[c].unique()}\")"
   ]
  },
  {
   "cell_type": "markdown",
   "metadata": {},
   "source": [
    "### Default (Y)"
   ]
  },
  {
   "cell_type": "code",
   "execution_count": 8,
   "metadata": {},
   "outputs": [
    {
     "data": {
      "image/png": "[encoded data removed]",
      "text/plain": [
       "<Figure size 432x288 with 1 Axes>"
      ]
     },
     "metadata": {
      "needs_background": "light"
     },
     "output_type": "display_data"
    }
   ],
   "source": [
    "sns.countplot(df['Y'], alpha =.80)\n",
    "plt.title('DEFAULT or not')\n",
    "plt.ylabel('#')\n",
    "plt.show()"
   ]
  },
  {
   "cell_type": "markdown",
   "metadata": {},
   "source": [
    "### Credit Limit"
   ]
  },
  {
   "cell_type": "code",
   "execution_count": 9,
   "metadata": {},
   "outputs": [
    {
     "data": {
      "text/plain": [
       "<matplotlib.axes._subplots.AxesSubplot at 0x1eeb6f80e88>"
      ]
     },
     "execution_count": 9,
     "metadata": {},
     "output_type": "execute_result"
    },
    {
     "data": {
      "image/png": "[encoded data removed]",
      "text/plain": [
       "<Figure size 432x288 with 1 Axes>"
      ]
     },
     "metadata": {
      "needs_background": "light"
     },
     "output_type": "display_data"
    }
   ],
   "source": [
    "sns.distplot(df.LIMIT_BAL)"
   ]
  },
  {
   "cell_type": "markdown",
   "metadata": {},
   "source": [
    "Some people seems to have very high credit limit, but nothing look abnormal."
   ]
  },
  {
   "cell_type": "code",
   "execution_count": 13,
   "metadata": {
    "scrolled": true
   },
   "outputs": [
    {
     "data": {
      "image/png": "[encoded data removed]",
      "text/plain": [
       "<Figure size 432x288 with 1 Axes>"
      ]
     },
     "metadata": {
      "needs_background": "light"
     },
     "output_type": "display_data"
    }
   ],
   "source": [
    "sns.distplot(df[df.Y == 1]['LIMIT_BAL'], hist = True, label='DEFAULT')\n",
    "sns.distplot(df[df.Y == 0]['LIMIT_BAL'], hist = True, label='NOT')\n",
    "\n",
    "plt.legend()\n",
    "plt.show()"
   ]
  },
  {
   "cell_type": "markdown",
   "metadata": {},
   "source": [
    "It seems like lower rate has a lot to do with defaulting.I'll add a column to indicate that."
   ]
  },
  {
   "cell_type": "code",
   "execution_count": 14,
   "metadata": {
    "scrolled": true
   },
   "outputs": [
    {
     "data": {
      "image/png": "[encoded data removed]",
      "text/plain": [
       "<Figure size 432x288 with 1 Axes>"
      ]
     },
     "metadata": {
      "needs_background": "light"
     },
     "output_type": "display_data"
    }
   ],
   "source": [
    "# try normalizing\n",
    "sns.distplot(np.log(df[df.Y == 1]['LIMIT_BAL']),label='DEFAULT')\n",
    "sns.distplot(np.log(df[df.Y == 0]['LIMIT_BAL']), label='NOT')\n",
    "\n",
    "plt.legend()\n",
    "plt.show()"
   ]
  },
  {
   "cell_type": "code",
   "execution_count": 40,
   "metadata": {},
   "outputs": [
    {
     "data": {
      "text/html": [
       "<div>\n",
       "<style scoped>\n",
       "    .dataframe tbody tr th:only-of-type {\n",
       "        vertical-align: middle;\n",
       "    }\n",
       "\n",
       "    .dataframe tbody tr th {\n",
       "        vertical-align: top;\n",
       "    }\n",
       "\n",
       "    .dataframe thead th {\n",
       "        text-align: right;\n",
       "    }\n",
       "</style>\n",
       "<table border=\"1\" class=\"dataframe\">\n",
       "  <thead>\n",
       "    <tr style=\"text-align: right;\">\n",
       "      <th></th>\n",
       "      <th>count</th>\n",
       "      <th>mean</th>\n",
       "      <th>std</th>\n",
       "      <th>min</th>\n",
       "      <th>25%</th>\n",
       "      <th>50%</th>\n",
       "      <th>75%</th>\n",
       "      <th>max</th>\n",
       "    </tr>\n",
       "    <tr>\n",
       "      <th>Y</th>\n",
       "      <th></th>\n",
       "      <th></th>\n",
       "      <th></th>\n",
       "      <th></th>\n",
       "      <th></th>\n",
       "      <th></th>\n",
       "      <th></th>\n",
       "      <th></th>\n",
       "    </tr>\n",
       "  </thead>\n",
       "  <tbody>\n",
       "    <tr>\n",
       "      <th>0</th>\n",
       "      <td>17471.0</td>\n",
       "      <td>177919.523782</td>\n",
       "      <td>131708.375639</td>\n",
       "      <td>10000.0</td>\n",
       "      <td>60000.0</td>\n",
       "      <td>150000.0</td>\n",
       "      <td>250000.0</td>\n",
       "      <td>1000000.0</td>\n",
       "    </tr>\n",
       "    <tr>\n",
       "      <th>1</th>\n",
       "      <td>5027.0</td>\n",
       "      <td>129283.405610</td>\n",
       "      <td>115575.598882</td>\n",
       "      <td>10000.0</td>\n",
       "      <td>50000.0</td>\n",
       "      <td>90000.0</td>\n",
       "      <td>190000.0</td>\n",
       "      <td>720000.0</td>\n",
       "    </tr>\n",
       "  </tbody>\n",
       "</table>\n",
       "</div>"
      ],
      "text/plain": [
       "     count           mean            std      min      25%       50%  \\\n",
       "Y                                                                      \n",
       "0  17471.0  177919.523782  131708.375639  10000.0  60000.0  150000.0   \n",
       "1   5027.0  129283.405610  115575.598882  10000.0  50000.0   90000.0   \n",
       "\n",
       "        75%        max  \n",
       "Y                       \n",
       "0  250000.0  1000000.0  \n",
       "1  190000.0   720000.0  "
      ]
     },
     "execution_count": 40,
     "metadata": {},
     "output_type": "execute_result"
    }
   ],
   "source": [
    "df.groupby('Y').LIMIT_BAL.describe()"
   ]
  },
  {
   "cell_type": "markdown",
   "metadata": {},
   "source": [
    "### SEX"
   ]
  },
  {
   "cell_type": "code",
   "execution_count": 15,
   "metadata": {},
   "outputs": [
    {
     "data": {
      "text/plain": [
       "2    13571\n",
       "1     8927\n",
       "Name: SEX, dtype: int64"
      ]
     },
     "execution_count": 15,
     "metadata": {},
     "output_type": "execute_result"
    }
   ],
   "source": [
    "df.SEX.value_counts()"
   ]
  },
  {
   "cell_type": "markdown",
   "metadata": {},
   "source": [
    "Slight imbalance. "
   ]
  },
  {
   "cell_type": "code",
   "execution_count": 16,
   "metadata": {},
   "outputs": [
    {
     "data": {
      "image/png": "[encoded data removed]",
      "text/plain": [
       "<Figure size 432x288 with 1 Axes>"
      ]
     },
     "metadata": {
      "needs_background": "light"
     },
     "output_type": "display_data"
    }
   ],
   "source": [
    "sns.countplot(df['SEX'], alpha =.80)\n",
    "plt.title('SEX')\n",
    "plt.xticks([0, 1], ['M', 'F'])\n",
    "plt.ylabel('#')\n",
    "plt.show()"
   ]
  },
  {
   "cell_type": "code",
   "execution_count": 17,
   "metadata": {},
   "outputs": [
    {
     "data": {
      "image/png": "[encoded data removed]",
      "text/plain": [
       "<Figure size 432x288 with 1 Axes>"
      ]
     },
     "metadata": {
      "needs_background": "light"
     },
     "output_type": "display_data"
    }
   ],
   "source": [
    "tmp = df.groupby(['SEX']).Y.value_counts(normalize = True).unstack()\n",
    "tmp.plot(kind = 'bar', stacked = True)\n",
    "plt.xticks([0, 1], ['Male', 'Female'])\n",
    "plt.show()"
   ]
  },
  {
   "cell_type": "markdown",
   "metadata": {},
   "source": [
    "It doesn't seem too much difference."
   ]
  },
  {
   "cell_type": "markdown",
   "metadata": {},
   "source": [
    "### Education"
   ]
  },
  {
   "cell_type": "code",
   "execution_count": 18,
   "metadata": {},
   "outputs": [
    {
     "data": {
      "text/plain": [
       "2    10516\n",
       "1     7918\n",
       "3     3713\n",
       "5      208\n",
       "4       90\n",
       "6       42\n",
       "0       11\n",
       "Name: EDUCATION, dtype: int64"
      ]
     },
     "execution_count": 18,
     "metadata": {},
     "output_type": "execute_result"
    }
   ],
   "source": [
    "df.EDUCATION.value_counts()"
   ]
  },
  {
   "cell_type": "markdown",
   "metadata": {},
   "source": [
    "There are unknown values above 4. We can roughly assume that higher education is linked to higher credit limit. Let's see if this matches up with the number system. "
   ]
  },
  {
   "cell_type": "code",
   "execution_count": 19,
   "metadata": {},
   "outputs": [
    {
     "data": {
      "text/plain": [
       "<matplotlib.axes._subplots.AxesSubplot at 0x1eeba875548>"
      ]
     },
     "execution_count": 19,
     "metadata": {},
     "output_type": "execute_result"
    },
    {
     "data": {
      "image/png": "[encoded data removed]",
      "text/plain": [
       "<Figure size 432x288 with 1 Axes>"
      ]
     },
     "metadata": {
      "needs_background": "light"
     },
     "output_type": "display_data"
    }
   ],
   "source": [
    "sns.boxplot(df.EDUCATION, df.LIMIT_BAL)"
   ]
  },
  {
   "cell_type": "markdown",
   "metadata": {},
   "source": [
    "Okay, we cannot treat this as an ordinal group. We will treat as categorical."
   ]
  },
  {
   "cell_type": "code",
   "execution_count": 20,
   "metadata": {},
   "outputs": [
    {
     "data": {
      "image/png": "[encoded data removed]",
      "text/plain": [
       "<Figure size 432x288 with 1 Axes>"
      ]
     },
     "metadata": {
      "needs_background": "light"
     },
     "output_type": "display_data"
    }
   ],
   "source": [
    "tmp = df.groupby(['EDUCATION']).Y.value_counts().unstack()\n",
    "tmp.plot(kind = 'bar', stacked = True)\n",
    "plt.legend(bbox_to_anchor = [1, 1])\n",
    "plt.show()"
   ]
  },
  {
   "cell_type": "code",
   "execution_count": 21,
   "metadata": {},
   "outputs": [
    {
     "data": {
      "image/png": "[encoded data removed]",
      "text/plain": [
       "<Figure size 432x288 with 1 Axes>"
      ]
     },
     "metadata": {
      "needs_background": "light"
     },
     "output_type": "display_data"
    }
   ],
   "source": [
    "tmp = df.groupby(['EDUCATION']).Y.value_counts(normalize = True).unstack()\n",
    "tmp.plot(kind = 'bar', stacked = True)\n",
    "plt.legend(bbox_to_anchor = [1, 1])\n",
    "plt.show()"
   ]
  },
  {
   "cell_type": "code",
   "execution_count": 30,
   "metadata": {},
   "outputs": [
    {
     "data": {
      "text/plain": [
       "<seaborn.axisgrid.FacetGrid at 0x1eebddb35c8>"
      ]
     },
     "execution_count": 30,
     "metadata": {},
     "output_type": "execute_result"
    },
    {
     "data": {
      "image/png": "[encoded data removed]",
      "text/plain": [
       "<Figure size 618.375x360 with 7 Axes>"
      ]
     },
     "metadata": {
      "needs_background": "light"
     },
     "output_type": "display_data"
    }
   ],
   "source": [
    "sns.catplot('Y', hue = 'SEX', col = 'EDUCATION', col_wrap = 4, data = df, kind = 'count', height = 2.5, aspect = 0.8)"
   ]
  },
  {
   "cell_type": "markdown",
   "metadata": {},
   "source": [
    "### MARRIAGE"
   ]
  },
  {
   "cell_type": "code",
   "execution_count": 31,
   "metadata": {},
   "outputs": [
    {
     "data": {
      "text/plain": [
       "2    12025\n",
       "1    10195\n",
       "3      234\n",
       "0       44\n",
       "Name: MARRIAGE, dtype: int64"
      ]
     },
     "execution_count": 31,
     "metadata": {},
     "output_type": "execute_result"
    }
   ],
   "source": [
    "df.MARRIAGE.value_counts()"
   ]
  },
  {
   "cell_type": "code",
   "execution_count": 32,
   "metadata": {},
   "outputs": [
    {
     "data": {
      "image/png": "[encoded data removed]",
      "text/plain": [
       "<Figure size 432x288 with 1 Axes>"
      ]
     },
     "metadata": {
      "needs_background": "light"
     },
     "output_type": "display_data"
    }
   ],
   "source": [
    "sns.boxplot(x = 'MARRIAGE', y = 'AGE', data = df).set_title('Marital Status by Age')\n",
    "plt.show()"
   ]
  },
  {
   "cell_type": "code",
   "execution_count": 33,
   "metadata": {},
   "outputs": [
    {
     "data": {
      "image/png": "[encoded data removed]",
      "text/plain": [
       "<Figure size 432x288 with 1 Axes>"
      ]
     },
     "metadata": {
      "needs_background": "light"
     },
     "output_type": "display_data"
    }
   ],
   "source": [
    "tmp = df.groupby(['MARRIAGE']).Y.value_counts().unstack()\n",
    "tmp.plot(kind = 'bar', stacked = True)\n",
    "plt.xticks([0, 1, 2, 3], ['?', 'married', 'single', 'others'])\n",
    "plt.show()"
   ]
  },
  {
   "cell_type": "markdown",
   "metadata": {},
   "source": [
    "I'm guessing 0 values are ones we don't have the information for but I'm going to leave as it for now."
   ]
  },
  {
   "cell_type": "code",
   "execution_count": null,
   "metadata": {},
   "outputs": [],
   "source": [
    "#df.MARRIAGE = df.MARRIAGE.replace('3', '0')"
   ]
  },
  {
   "cell_type": "markdown",
   "metadata": {},
   "source": [
    "### Age"
   ]
  },
  {
   "cell_type": "code",
   "execution_count": 34,
   "metadata": {},
   "outputs": [
    {
     "data": {
      "image/png": "[encoded data removed]",
      "text/plain": [
       "<Figure size 432x288 with 1 Axes>"
      ]
     },
     "metadata": {
      "needs_background": "light"
     },
     "output_type": "display_data"
    }
   ],
   "source": [
    "sns.distplot(df[df.Y == 1]['AGE'], label='DEFAULT')\n",
    "sns.distplot(df[df.Y == 0]['AGE'], label='NOT')\n",
    "\n",
    "plt.legend()\n",
    "plt.show()"
   ]
  },
  {
   "cell_type": "code",
   "execution_count": 38,
   "metadata": {},
   "outputs": [
    {
     "data": {
      "text/html": [
       "<div>\n",
       "<style scoped>\n",
       "    .dataframe tbody tr th:only-of-type {\n",
       "        vertical-align: middle;\n",
       "    }\n",
       "\n",
       "    .dataframe tbody tr th {\n",
       "        vertical-align: top;\n",
       "    }\n",
       "\n",
       "    .dataframe thead th {\n",
       "        text-align: right;\n",
       "    }\n",
       "</style>\n",
       "<table border=\"1\" class=\"dataframe\">\n",
       "  <thead>\n",
       "    <tr style=\"text-align: right;\">\n",
       "      <th></th>\n",
       "      <th>count</th>\n",
       "      <th>mean</th>\n",
       "      <th>std</th>\n",
       "      <th>min</th>\n",
       "      <th>25%</th>\n",
       "      <th>50%</th>\n",
       "      <th>75%</th>\n",
       "      <th>max</th>\n",
       "    </tr>\n",
       "    <tr>\n",
       "      <th>Y</th>\n",
       "      <th></th>\n",
       "      <th></th>\n",
       "      <th></th>\n",
       "      <th></th>\n",
       "      <th></th>\n",
       "      <th></th>\n",
       "      <th></th>\n",
       "      <th></th>\n",
       "    </tr>\n",
       "  </thead>\n",
       "  <tbody>\n",
       "    <tr>\n",
       "      <th>0</th>\n",
       "      <td>17471.0</td>\n",
       "      <td>35.375651</td>\n",
       "      <td>9.068939</td>\n",
       "      <td>21.0</td>\n",
       "      <td>28.0</td>\n",
       "      <td>34.0</td>\n",
       "      <td>41.0</td>\n",
       "      <td>75.0</td>\n",
       "    </tr>\n",
       "    <tr>\n",
       "      <th>1</th>\n",
       "      <td>5027.0</td>\n",
       "      <td>35.699025</td>\n",
       "      <td>9.799031</td>\n",
       "      <td>21.0</td>\n",
       "      <td>28.0</td>\n",
       "      <td>34.0</td>\n",
       "      <td>42.0</td>\n",
       "      <td>75.0</td>\n",
       "    </tr>\n",
       "  </tbody>\n",
       "</table>\n",
       "</div>"
      ],
      "text/plain": [
       "     count       mean       std   min   25%   50%   75%   max\n",
       "Y                                                            \n",
       "0  17471.0  35.375651  9.068939  21.0  28.0  34.0  41.0  75.0\n",
       "1   5027.0  35.699025  9.799031  21.0  28.0  34.0  42.0  75.0"
      ]
     },
     "execution_count": 38,
     "metadata": {},
     "output_type": "execute_result"
    }
   ],
   "source": [
    "df.groupby('Y').AGE.describe()"
   ]
  },
  {
   "cell_type": "markdown",
   "metadata": {},
   "source": [
    "# Baseline Model\n",
    "I'll create a basline logistic regression model using demographics only. "
   ]
  },
  {
   "cell_type": "code",
   "execution_count": 41,
   "metadata": {},
   "outputs": [],
   "source": [
    "def fit_logreg(X, y):\n",
    "    X_train, X_test, y_train, y_test = train_test_split(X, y)\n",
    "    logreg = LogisticRegression(class_weight = 'balanced', max_iter = 10000)\n",
    "    logreg.fit(X_train, y_train)    \n",
    "    y_pred_train = logreg.predict(X_train)\n",
    "    y_pred_test = logreg.predict(X_test)\n",
    "    f1_train = round(f1_score(y_train, y_pred_train), 3)\n",
    "    f1_test = round(f1_score(y_test, y_pred_test), 3)\n",
    "    print(f\"F1_train: {f1_train}\")\n",
    "    print(f\"F1_test: {f1_test}\")\n",
    "    print(f\"Test Accuracy: {round(accuracy_score(y_test, y_pred_test), 3)}\")\n",
    "    print(f\"Test AUC: {round(roc_auc_score(y_test, y_pred_test), 3)}\")\n",
    "\n",
    "    return logreg, f1_train, f1_test"
   ]
  },
  {
   "cell_type": "code",
   "execution_count": 42,
   "metadata": {},
   "outputs": [],
   "source": [
    "y = df['Y']\n",
    "X = pd.get_dummies(df[['LIMIT_BAL', 'SEX', 'EDUCATION', 'MARRIAGE', 'AGE']])"
   ]
  },
  {
   "cell_type": "code",
   "execution_count": 43,
   "metadata": {},
   "outputs": [
    {
     "data": {
      "text/html": [
       "<div>\n",
       "<style scoped>\n",
       "    .dataframe tbody tr th:only-of-type {\n",
       "        vertical-align: middle;\n",
       "    }\n",
       "\n",
       "    .dataframe tbody tr th {\n",
       "        vertical-align: top;\n",
       "    }\n",
       "\n",
       "    .dataframe thead th {\n",
       "        text-align: right;\n",
       "    }\n",
       "</style>\n",
       "<table border=\"1\" class=\"dataframe\">\n",
       "  <thead>\n",
       "    <tr style=\"text-align: right;\">\n",
       "      <th></th>\n",
       "      <th>v1</th>\n",
       "      <th>v2</th>\n",
       "      <th>c</th>\n",
       "    </tr>\n",
       "  </thead>\n",
       "  <tbody>\n",
       "    <tr>\n",
       "      <th>33</th>\n",
       "      <td>SEX_1</td>\n",
       "      <td>SEX_2</td>\n",
       "      <td>1.000000</td>\n",
       "    </tr>\n",
       "    <tr>\n",
       "      <th>47</th>\n",
       "      <td>SEX_2</td>\n",
       "      <td>SEX_1</td>\n",
       "      <td>1.000000</td>\n",
       "    </tr>\n",
       "    <tr>\n",
       "      <th>193</th>\n",
       "      <td>MARRIAGE_1</td>\n",
       "      <td>MARRIAGE_2</td>\n",
       "      <td>0.975428</td>\n",
       "    </tr>\n",
       "    <tr>\n",
       "      <th>207</th>\n",
       "      <td>MARRIAGE_2</td>\n",
       "      <td>MARRIAGE_1</td>\n",
       "      <td>0.975428</td>\n",
       "    </tr>\n",
       "  </tbody>\n",
       "</table>\n",
       "</div>"
      ],
      "text/plain": [
       "             v1          v2         c\n",
       "33        SEX_1       SEX_2  1.000000\n",
       "47        SEX_2       SEX_1  1.000000\n",
       "193  MARRIAGE_1  MARRIAGE_2  0.975428\n",
       "207  MARRIAGE_2  MARRIAGE_1  0.975428"
      ]
     },
     "execution_count": 43,
     "metadata": {},
     "output_type": "execute_result"
    }
   ],
   "source": [
    "def corr_high(df):\n",
    "    corr_df = abs(df.corr()).stack().reset_index()\n",
    "    corr_df.columns = ['v1', 'v2', 'c']\n",
    "    return corr_df, corr_df[(corr_df.c > 0.7) & (corr_df['v1'] != corr_df['v2'])].sort_values(\n",
    "        by = 'c', ascending = False)\n",
    "\n",
    "corr_high(X)[1]"
   ]
  },
  {
   "cell_type": "code",
   "execution_count": 44,
   "metadata": {},
   "outputs": [],
   "source": [
    "X = X.drop(['SEX_2', 'MARRIAGE_1'], axis = 1)"
   ]
  },
  {
   "cell_type": "code",
   "execution_count": 45,
   "metadata": {},
   "outputs": [
    {
     "name": "stdout",
     "output_type": "stream",
     "text": [
      "F1_train: 0.0\n",
      "F1_test: 0.0\n",
      "Test Accuracy: 0.774\n",
      "Test AUC: 0.5\n"
     ]
    }
   ],
   "source": [
    "lr = fit_logreg(X, y)\n",
    "\n",
    "# Keeping a log of all models fitted\n",
    "\n",
    "models= {'only_demographics_logreg': (lr[1], lr[2])}"
   ]
  },
  {
   "cell_type": "markdown",
   "metadata": {},
   "source": [
    "### History of past payment\n",
    "PAY0 ~ 6 are past payment status backwards (from Sept ~ April).  \n",
    "Repayment status measurement scale is...  \n",
    "-1: paid ontime  \n",
    "1: delayed for one month  \n",
    "2: delayed for 2 months  ...  \n",
    "8: delayed for 8 months  \n",
    "9: delayed for nine + months  \n",
    "\n",
    "I want to first see if there are no values I don't understand."
   ]
  },
  {
   "cell_type": "code",
   "execution_count": 47,
   "metadata": {},
   "outputs": [],
   "source": [
    "pay_hist_names =[c for c in df if c.startswith('PAY')][0:6]"
   ]
  },
  {
   "cell_type": "code",
   "execution_count": 48,
   "metadata": {},
   "outputs": [
    {
     "data": {
      "text/plain": [
       "[array([-1, -2,  0,  2,  1,  3,  8,  4,  6,  5,  7], dtype=int64),\n",
       " array([-1, -2,  0,  2,  3,  4,  7,  5,  1,  8,  6], dtype=int64),\n",
       " array([-1, -2,  0,  2,  3,  4,  6,  5,  7,  8,  1], dtype=int64),\n",
       " array([-1, -2,  0,  2,  4,  5,  3,  7,  6,  8,  1], dtype=int64),\n",
       " array([-1, -2,  0,  2,  4,  3,  7,  5,  6,  8], dtype=int64),\n",
       " array([-1, -2,  0,  2,  4,  3,  7,  6,  8,  5], dtype=int64)]"
      ]
     },
     "execution_count": 48,
     "metadata": {},
     "output_type": "execute_result"
    }
   ],
   "source": [
    "[df[x].unique() for x in pay_hist_names]"
   ]
  },
  {
   "cell_type": "markdown",
   "metadata": {},
   "source": [
    "Okay, there are 0 and -2, which are not the values we are supposed to have. I'll try to sample someone and see if we can figure it out."
   ]
  },
  {
   "cell_type": "code",
   "execution_count": 49,
   "metadata": {
    "scrolled": true
   },
   "outputs": [
    {
     "data": {
      "image/png": "[encoded data removed]",
      "text/plain": [
       "<Figure size 432x288 with 1 Axes>"
      ]
     },
     "metadata": {
      "needs_background": "light"
     },
     "output_type": "display_data"
    }
   ],
   "source": [
    "Y = pd.melt(df[pay_hist_names], value_vars = pay_hist_names).value.value_counts(normalize = True)\n",
    "X = Y.index\n",
    "\n",
    "sns.barplot(X, Y)\n",
    "plt.xlabel('payment history labels')\n",
    "plt.ylabel('%')\n",
    "plt.show()"
   ]
  },
  {
   "cell_type": "markdown",
   "metadata": {},
   "source": [
    "I want to assume that 0 is on time payment. But I'll feed in as categorical for now.  \n",
    "On the other hand, these measures may highly correlating with others, since they can be accumulating balance.  \n",
    "So we need a better measure for these that are not time sensative. We will add some measures later and remove these.  "
   ]
  },
  {
   "cell_type": "code",
   "execution_count": null,
   "metadata": {},
   "outputs": [],
   "source": [
    "#corr_high(df)[1]"
   ]
  },
  {
   "cell_type": "markdown",
   "metadata": {},
   "source": [
    "### Amount of Billing Statement & Payment\n",
    "BILL_AMT1 ~ 6 are also backward statement from September ~ April.  \n",
    "PAY_AMT1~6 are previous payment from Sept ~ April.  "
   ]
  },
  {
   "cell_type": "code",
   "execution_count": 53,
   "metadata": {},
   "outputs": [],
   "source": [
    "bill_amt_names = [c for c in df if c.startswith('BILL_AMT')]\n",
    "pay_amt_names = [c for c in df if c.startswith('PAY_AMT')]"
   ]
  },
  {
   "cell_type": "code",
   "execution_count": 54,
   "metadata": {},
   "outputs": [],
   "source": [
    "# making a dataframe so I can plot performance each month\n",
    "tmp2 = pd.melt(df[bill_amt_names].reset_index(), id_vars = 'index', value_vars=bill_amt_names, value_name='bill_amount')\n",
    "tmp2 = tmp2.replace(tmp2.variable.unique(), [1, 2, 3, 4, 5, 6])\n",
    "\n",
    "tmp3 = pd.melt(df[pay_amt_names].reset_index(), id_vars = 'index', value_vars=pay_amt_names, value_name='pay_amount')\n",
    "tmp3 = tmp3.replace(tmp3.variable.unique(), [1, 2, 3, 4, 5, 6])\n",
    "\n",
    "tmp = tmp2.merge(tmp3)"
   ]
  },
  {
   "cell_type": "code",
   "execution_count": 55,
   "metadata": {},
   "outputs": [
    {
     "data": {
      "image/png": "[encoded data removed]",
      "text/plain": [
       "<Figure size 432x288 with 1 Axes>"
      ]
     },
     "metadata": {
      "needs_background": "light"
     },
     "output_type": "display_data"
    }
   ],
   "source": [
    "sns.scatterplot(x = 'bill_amount', y = 'pay_amount', data = tmp)\n",
    "plt.xticks(rotation=45, ha='right')\n",
    "plt.show()"
   ]
  },
  {
   "cell_type": "code",
   "execution_count": 57,
   "metadata": {},
   "outputs": [
    {
     "data": {
      "image/png": "[encoded data removed]",
      "text/plain": [
       "<Figure size 432x288 with 1 Axes>"
      ]
     },
     "metadata": {
      "needs_background": "light"
     },
     "output_type": "display_data"
    }
   ],
   "source": [
    "tmp_b = tmp.groupby('index').sum()\n",
    "sns.scatterplot(x = 'bill_amount', y = 'pay_amount', data = tmp_b)\n",
    "plt.xticks(rotation=45, ha='right')\n",
    "plt.show()"
   ]
  },
  {
   "cell_type": "code",
   "execution_count": 58,
   "metadata": {},
   "outputs": [],
   "source": [
    "#tmp[tmp['index'] == tmp_b[tmp_b['pay_amount'] > 3500000].index[0]]\n",
    "#tmp[tmp['index'] == tmp_b[tmp_b['bill_amount'] > 5000000].index[0]]"
   ]
  },
  {
   "cell_type": "markdown",
   "metadata": {},
   "source": [
    "Some outliers, but I have no evidence to delete them."
   ]
  },
  {
   "cell_type": "markdown",
   "metadata": {},
   "source": [
    "### Feature Engineering"
   ]
  },
  {
   "cell_type": "markdown",
   "metadata": {},
   "source": [
    "#### Payment History\n",
    "Instead of having each month record, I'll add the number of time for each category. "
   ]
  },
  {
   "cell_type": "code",
   "execution_count": 59,
   "metadata": {},
   "outputs": [],
   "source": [
    "payment_hist = pd.melt(df.reset_index(), id_vars = 'index', value_vars=pay_hist_names).groupby(['index', 'value']).count().unstack()\n",
    "payment_hist = payment_hist.fillna(0)\n",
    "payment_hist.columns = ['pay_hist_n2', 'pay_hist_n1', 'pay_hist_0', 'pay_hist_1', 'pay_hist_2', 'pay_hist_3', 'pay_hist_4', \n",
    "                       'pay_hist_5', 'pay_hist_6', 'pay_hist_7', 'pay_hist_8']"
   ]
  },
  {
   "cell_type": "code",
   "execution_count": 65,
   "metadata": {},
   "outputs": [],
   "source": [
    "df = df.join(payment_hist)\n",
    "cols_to_drop = pay_hist_names[2:]"
   ]
  },
  {
   "cell_type": "markdown",
   "metadata": {},
   "source": [
    "#### Add the Balance Info (at the end of the month)\n",
    "I'll remove this later."
   ]
  },
  {
   "cell_type": "code",
   "execution_count": 67,
   "metadata": {},
   "outputs": [
    {
     "name": "stdout",
     "output_type": "stream",
     "text": [
      "4887\n",
      "1602\n"
     ]
    }
   ],
   "source": [
    "# bill first pay first?\n",
    "print(sum(df['BILL_AMT2'] == df['PAY_AMT1']))\n",
    "print(sum(df['BILL_AMT1'] == df['PAY_AMT1']))"
   ]
  },
  {
   "cell_type": "code",
   "execution_count": 71,
   "metadata": {},
   "outputs": [],
   "source": [
    "for i in range(6, 1, -1):\n",
    "    df[f\"BAL_{i}\"] = df[f\"BILL_AMT{i}\"] - df[f\"PAY_AMT{i-1}\"]"
   ]
  },
  {
   "cell_type": "code",
   "execution_count": 76,
   "metadata": {},
   "outputs": [],
   "source": [
    "# average balance\n",
    "df['AVG_BAL'] = df[[c for c in df if c.startswith('BAL_')]].mean(axis = 1)"
   ]
  },
  {
   "cell_type": "code",
   "execution_count": 83,
   "metadata": {},
   "outputs": [],
   "source": [
    "cols_to_drop = cols_to_drop + bill_amt_names + ['PAY_AMT5', 'PAY_AMT4', 'PAY_AMT3', 'PAY_AMT2', 'PAY_AMT1'] + [c for c in df if c.startswith('BAL_')]"
   ]
  },
  {
   "cell_type": "markdown",
   "metadata": {},
   "source": [
    "#### Add the cumulative change of balance"
   ]
  },
  {
   "cell_type": "code",
   "execution_count": 84,
   "metadata": {},
   "outputs": [],
   "source": [
    "for i in range(6, 2, -1):\n",
    "    df[f\"BAL_change_{i}\"] = df[f\"BAL_{i}\"] - df[f\"BAL_{i-1}\"]"
   ]
  },
  {
   "cell_type": "code",
   "execution_count": 85,
   "metadata": {},
   "outputs": [],
   "source": [
    "df[\"cum_bal_change\"] = df[[c for c in df if c.startswith('BAL_change')]].sum(axis = 1)"
   ]
  },
  {
   "cell_type": "code",
   "execution_count": 86,
   "metadata": {},
   "outputs": [],
   "source": [
    "cols_to_drop = cols_to_drop + [c for c in df if c.startswith(\"BAL_change\")]"
   ]
  },
  {
   "cell_type": "markdown",
   "metadata": {},
   "source": [
    "#### final balance and payment"
   ]
  },
  {
   "cell_type": "code",
   "execution_count": 89,
   "metadata": {},
   "outputs": [],
   "source": [
    "df['final_balance'] = df['BILL_AMT1']"
   ]
  },
  {
   "cell_type": "code",
   "execution_count": 90,
   "metadata": {},
   "outputs": [],
   "source": [
    "df['final_payment'] = df['PAY_AMT1']"
   ]
  },
  {
   "cell_type": "markdown",
   "metadata": {},
   "source": [
    "#### Add N_Default\n",
    "How often they paid less than minimum."
   ]
  },
  {
   "cell_type": "code",
   "execution_count": 91,
   "metadata": {},
   "outputs": [],
   "source": [
    "for i in range(1, 7):\n",
    "    df[f\"DEF_{i}\"] = np.where(((df[f\"BILL_AMT{i}\"] >= 35) & (df[f\"PAY_AMT{i}\"] < 35)) | \n",
    "                              ((df[f\"BILL_AMT{i}\"] < 35) & (df[f\"PAY_AMT{i}\"] < df[f\"BILL_AMT{i}\"])), 1, 0)"
   ]
  },
  {
   "cell_type": "code",
   "execution_count": 98,
   "metadata": {},
   "outputs": [],
   "source": [
    "df['N_underpayment'] = df[[c for c in df if c.startswith('DEF')]].sum(axis = 1)"
   ]
  },
  {
   "cell_type": "code",
   "execution_count": 99,
   "metadata": {},
   "outputs": [],
   "source": [
    "df['avg_underpayment'] = df[[c for c in df if c.startswith('DEF')]].mean(axis = 1)"
   ]
  },
  {
   "cell_type": "code",
   "execution_count": 101,
   "metadata": {},
   "outputs": [],
   "source": [
    "cols_to_drop = cols_to_drop + [c for c in df if c.startswith('DEF')][2:]"
   ]
  },
  {
   "cell_type": "markdown",
   "metadata": {},
   "source": [
    "#### Add Over Credit Limit\n",
    "number of times they spent over the credit limit."
   ]
  },
  {
   "cell_type": "code",
   "execution_count": 102,
   "metadata": {},
   "outputs": [],
   "source": [
    "for i in range(1, 7):\n",
    "    df[f\"over_lim_{i}\"] = np.where(df[f\"BILL_AMT{i}\"] > df[f\"LIMIT_BAL\"], 1, 0)"
   ]
  },
  {
   "cell_type": "code",
   "execution_count": 103,
   "metadata": {},
   "outputs": [],
   "source": [
    "df[\"n_over_lim\"] = df[[c for c in df if c.startswith('over_lim')]].sum(axis = 1)"
   ]
  },
  {
   "cell_type": "code",
   "execution_count": 104,
   "metadata": {},
   "outputs": [],
   "source": [
    "cols_to_drop = cols_to_drop + [c for c in df if c.startswith('over_lim')]"
   ]
  },
  {
   "cell_type": "markdown",
   "metadata": {},
   "source": [
    "#### Add Percent Use\n",
    "Percentage of credit limit used"
   ]
  },
  {
   "cell_type": "code",
   "execution_count": 105,
   "metadata": {},
   "outputs": [],
   "source": [
    "for i in range(1, 7):\n",
    "    df[f\"percent_use_{i}\"] = df[f\"BILL_AMT{i}\"] / df[f\"LIMIT_BAL\"]\n",
    "    \n",
    "df['avg_percent_use'] = df[[c for c in df if c.startswith('percent_use')]].mean(axis = 1)"
   ]
  },
  {
   "cell_type": "code",
   "execution_count": 106,
   "metadata": {},
   "outputs": [],
   "source": [
    "cols_to_drop = cols_to_drop + [c for c in df if c.startswith('percent_use')]"
   ]
  },
  {
   "cell_type": "markdown",
   "metadata": {},
   "source": [
    "#### Add Pattern Change\n",
    "Add percent of payment to balance then subtract the most recent one from the old one"
   ]
  },
  {
   "cell_type": "code",
   "execution_count": 107,
   "metadata": {},
   "outputs": [],
   "source": [
    "for i in range(1, 7):\n",
    "    df[f\"percent_paid_{i}\"] = np.where(df[f\"BILL_AMT{i}\"] > 0, df[f\"PAY_AMT{i}\"] / df[f\"BILL_AMT{i}\"], 1)\n",
    "    \n",
    "df['payment_patter_change'] = df['percent_paid_6'] - df['percent_paid_1']\n",
    "df['bill_change'] = df['BILL_AMT6'] - df['BILL_AMT1']"
   ]
  },
  {
   "cell_type": "code",
   "execution_count": 108,
   "metadata": {},
   "outputs": [],
   "source": [
    "cols_to_drop = cols_to_drop + [c for c in df if c.startswith('percent_paid')]"
   ]
  },
  {
   "cell_type": "markdown",
   "metadata": {},
   "source": [
    "#### Add Average Percent Paid"
   ]
  },
  {
   "cell_type": "code",
   "execution_count": 109,
   "metadata": {},
   "outputs": [],
   "source": [
    "df['payment_average_p'] = df[[c for c in df if c.startswith('percent_paid')]].mean(axis = 1)"
   ]
  },
  {
   "cell_type": "markdown",
   "metadata": {},
   "source": [
    "#### Max bill amount"
   ]
  },
  {
   "cell_type": "code",
   "execution_count": 111,
   "metadata": {},
   "outputs": [],
   "source": [
    "df['max_bill'] = df[bill_amt_names].max(axis = 1)"
   ]
  },
  {
   "cell_type": "markdown",
   "metadata": {},
   "source": [
    "#### Transform to a Log Limit\n",
    "data was highly right skewed. it'll fit better if we normalize it a bit."
   ]
  },
  {
   "cell_type": "code",
   "execution_count": 113,
   "metadata": {},
   "outputs": [],
   "source": [
    "df['ln_limit_bal'] = np.log(df['LIMIT_BAL'])\n",
    "df['low_limit_bal'] = np.where(df['ln_limit_bal'] < 10.5, 1, 0)"
   ]
  },
  {
   "cell_type": "code",
   "execution_count": 114,
   "metadata": {},
   "outputs": [],
   "source": [
    "cols_to_drop = cols_to_drop + ['LIMIT_BAL']"
   ]
  },
  {
   "cell_type": "markdown",
   "metadata": {},
   "source": [
    "### Categorical columns\n",
    "Let's determine whether to use some of the ordinal columns as continuous or as categorical"
   ]
  },
  {
   "cell_type": "code",
   "execution_count": 119,
   "metadata": {},
   "outputs": [],
   "source": [
    "df_clean = df.drop(cols_to_drop, axis = 1)"
   ]
  },
  {
   "cell_type": "code",
   "execution_count": 126,
   "metadata": {},
   "outputs": [
    {
     "data": {
      "image/png": "[encoded data removed]",
      "text/plain": [
       "<Figure size 432x288 with 1 Axes>"
      ]
     },
     "metadata": {
      "needs_background": "light"
     },
     "output_type": "display_data"
    }
   ],
   "source": [
    "tmp = df_clean.groupby(['N_underpayment']).Y.value_counts(normalize = True).unstack()\n",
    "tmp.plot(kind = 'bar', stacked = True)\n",
    "plt.legend(bbox_to_anchor = [1, 1])\n",
    "plt.show()"
   ]
  },
  {
   "cell_type": "code",
   "execution_count": 131,
   "metadata": {},
   "outputs": [],
   "source": [
    "categories = ['SEX', 'EDUCATION', 'MARRIAGE', 'PAY_0', 'PAY_2']"
   ]
  },
  {
   "cell_type": "code",
   "execution_count": 133,
   "metadata": {},
   "outputs": [],
   "source": [
    "df_ohe = pd.get_dummies(df_clean, columns = categories)"
   ]
  },
  {
   "cell_type": "markdown",
   "metadata": {},
   "source": [
    "### Standardization\n",
    "I'll standardize the measures."
   ]
  },
  {
   "cell_type": "code",
   "execution_count": 138,
   "metadata": {},
   "outputs": [],
   "source": [
    "from sklearn.preprocessing import StandardScaler\n",
    "\n",
    "y = df_ohe['Y'].values\n",
    "X = df_ohe.drop(['Y'], axis = 1)\n",
    "\n",
    "scaler = StandardScaler()\n",
    "scaler.fit(X)\n",
    "df_std = pd.DataFrame(scaler.transform(X), columns= X.columns)\n",
    "df_std['Y'] = y"
   ]
  },
  {
   "cell_type": "markdown",
   "metadata": {},
   "source": [
    "### Fit everything"
   ]
  },
  {
   "cell_type": "code",
   "execution_count": 140,
   "metadata": {},
   "outputs": [
    {
     "name": "stdout",
     "output_type": "stream",
     "text": [
      "F1_train: 0.531\n",
      "F1_test: 0.539\n",
      "Test Accuracy: 0.774\n",
      "Test AUC: 0.704\n"
     ]
    }
   ],
   "source": [
    "y = df_std['Y']\n",
    "X = df_std.drop(['Y'], axis = 1)\n",
    "lr1 = fit_logreg(X, y)\n",
    "\n",
    "models['after_feat_eng'] = (lr1[1], lr1[2])"
   ]
  },
  {
   "cell_type": "markdown",
   "metadata": {},
   "source": [
    "Much better F1 and accuracy, but it's still useless."
   ]
  },
  {
   "cell_type": "markdown",
   "metadata": {},
   "source": [
    "### Add Polynomials\n",
    "Find the most meaningful polynomials and add."
   ]
  },
  {
   "cell_type": "code",
   "execution_count": null,
   "metadata": {},
   "outputs": [],
   "source": [
    "from sklearn.preprocessing import PolynomialFeatures\n",
    "\n",
    "X = df_std.drop('Y', axis = 1)\n",
    "\n",
    "polys = pd.DataFrame(columns = ['col', 'degree', 'f1'])\n",
    "logreg = LogisticRegression(class_weight = 'balanced', max_iter = 10000)\n",
    "cv = KFold(n_splits = 5, shuffle = True, random_state = 2)\n",
    "thresh = np.mean(cross_val_score(logreg, X, y, scoring = 'f1', cv = cv))\n",
    "\n",
    "i = 0\n",
    "for c in X.columns:\n",
    "    i += 1\n",
    "    print(i, '/', len(X.columns))\n",
    "    for deg in [2, 3]: \n",
    "        X2 = X.copy()\n",
    "        poly = PolynomialFeatures(deg, include_bias = False)\n",
    "        X2[c] = poly.fit_transform(X2[[c]])\n",
    "        score = np.mean(cross_val_score(logreg, X2, y, scoring = 'f1', cv = cv))\n",
    "        if score > thresh: \n",
    "            print(c, deg, score)\n",
    "            polys.loc[len(polys)] = [c, deg, f1]"
   ]
  },
  {
   "cell_type": "markdown",
   "metadata": {},
   "source": [
    "### Add Interaction\n",
    "Find the most meaningful interactions and add."
   ]
  },
  {
   "cell_type": "code",
   "execution_count": null,
   "metadata": {},
   "outputs": [],
   "source": [
    "from itertools import combinations\n",
    "from sklearn.model_selection import KFold\n",
    "from sklearn.model_selection import cross_val_score\n",
    "\n",
    "def add_interaction(X, y): \n",
    "    allpairs = list(combinations(X.columns, 2))\n",
    "\n",
    "    interactions = pd.DataFrame(columns = ['pair', 'f1'])\n",
    "    logreg = LogisticRegression(class_weight = 'balanced', max_iter = 5000)\n",
    "    cv = KFold(n_splits = 3, shuffle = True, random_state = 2)\n",
    "    thresh = np.mean(cross_val_score(logreg, X, y, scoring = 'f1', cv = cv))\n",
    "    i = 0\n",
    "    for pair in allpairs:\n",
    "        i += 1\n",
    "        X['interaction'] = X[pair[0]] * X[pair[1]]\n",
    "        score = np.mean(cross_val_score(logreg, X, y, scoring = 'f1', cv = cv))\n",
    "        if score > thresh: \n",
    "            interactions.loc[len(interactions)] = [pair, score]\n",
    "    return interactions\n",
    "\n",
    "#interactions = add_interaction(X, y)\n",
    "\n",
    "#interactions.head()\n"
   ]
  },
  {
   "cell_type": "code",
   "execution_count": null,
   "metadata": {},
   "outputs": [],
   "source": [
    "#interactions.to_pickle('interaction.pkl')"
   ]
  },
  {
   "cell_type": "code",
   "execution_count": null,
   "metadata": {},
   "outputs": [],
   "source": [
    "interactions = pd.read_pickle('interaction.pkl')"
   ]
  },
  {
   "cell_type": "code",
   "execution_count": null,
   "metadata": {},
   "outputs": [],
   "source": [
    "interactions.sort_values(by = ['f1'], ascending = False)[0:10]"
   ]
  },
  {
   "cell_type": "code",
   "execution_count": null,
   "metadata": {},
   "outputs": [],
   "source": [
    "tmp = interactions.sort_values(by = ['f1'], ascending = False)[0:10][['pair']]\n",
    "for i in range(len(tmp)):\n",
    "    pair = tmp.iloc[0][0]\n",
    "    df[f'{pair[0]}X{pair[1]}'] = df[pair[0]] * df[pair[1]]"
   ]
  },
  {
   "cell_type": "code",
   "execution_count": null,
   "metadata": {},
   "outputs": [],
   "source": [
    "y = df['Y']\n",
    "X = df.drop(['Y'], axis = 1)\n",
    "lr1 = fit_logreg(X, y)\n",
    "\n",
    "models['raw_after_interactions'] = (lr1[1], lr1[2])"
   ]
  },
  {
   "cell_type": "code",
   "execution_count": null,
   "metadata": {},
   "outputs": [],
   "source": [
    "y = df['Y']\n",
    "X = df.drop(['Y'] + cols_to_drop, axis = 1)\n",
    "lr2 = fit_logreg(X, y)\n",
    "\n",
    "models['interactions_removing_old_feats'] = (lr2[1], lr2[2])"
   ]
  },
  {
   "cell_type": "markdown",
   "metadata": {},
   "source": [
    "### Train Test Split\n",
    "For the rest of model evaluation, I'll split the dataset."
   ]
  },
  {
   "cell_type": "code",
   "execution_count": null,
   "metadata": {},
   "outputs": [],
   "source": [
    "#df.to_pickle('final_df.pkl')"
   ]
  },
  {
   "cell_type": "code",
   "execution_count": null,
   "metadata": {},
   "outputs": [],
   "source": [
    "Y = df['Y']\n",
    "X = df.drop(['Y'], axis = 1)\n",
    "X_train, X_test, y_train, y_test = train_test_split(X, y, test_size = 0.25)"
   ]
  },
  {
   "cell_type": "markdown",
   "metadata": {},
   "source": [
    "### Class Imbalance Problem\n",
    "First, we will balance out our train samples with the best method. (I don't have to use this for decision trees)"
   ]
  },
  {
   "cell_type": "code",
   "execution_count": null,
   "metadata": {},
   "outputs": [],
   "source": [
    "# Balanced weight method\n",
    "lr_weight = LogisticRegression(solver='liblinear', class_weight='balanced', max_iter = 10000)\n",
    "lr_weight.fit(X_train, y_train)\n",
    "lr_weight_test = lr_weight.predict(X_test)\n",
    "\n",
    "print('Test Accuracy score: ', accuracy_score(y_test, lr_weight_test))\n",
    "print('Test F1 score: ', f1_score(y_test, lr_weight_test))"
   ]
  },
  {
   "cell_type": "code",
   "execution_count": null,
   "metadata": {},
   "outputs": [],
   "source": [
    "# SMOTE Oversampling\n",
    "from imblearn.over_sampling import SMOTE\n",
    "\n",
    "smote = SMOTE()\n",
    "X_train_resampled, y_train_resampled = smote.fit_sample(X_train, y_train)\n",
    "\n",
    "smote_lr = LogisticRegression(solver='liblinear', max_iter = 10000)\n",
    "smote_lr.fit(X_train_resampled, y_train_resampled)\n",
    "smote_lr_test = smote_lr.predict(X_test)\n",
    "\n",
    "print('Test Accuracy score: ', accuracy_score(y_test, smote_lr_test))\n",
    "print('Test F1 score: ', f1_score(y_test, smote_lr_test))"
   ]
  },
  {
   "cell_type": "code",
   "execution_count": null,
   "metadata": {},
   "outputs": [],
   "source": [
    "# Tomek Links Undersampling\n",
    "from imblearn.under_sampling import TomekLinks # doctest: +NORMALIZE_WHITESPACE\n",
    "\n",
    "tl = TomekLinks()\n",
    "X_train_resampled, y_train_resampled = tl.fit_sample(X_train, y_train)\n",
    "\n",
    "tl_lr = LogisticRegression(solver='liblinear', max_iter = 10000)\n",
    "tl_lr.fit(X_train_resampled, y_train_resampled)\n",
    "tl_lr_test = tl_lr.predict(X_test)\n",
    "\n",
    "print('Test Accuracy score: ', accuracy_score(y_test, tl_lr_test))\n",
    "print('Test F1 score: ', f1_score(y_test, tl_lr_test))"
   ]
  },
  {
   "cell_type": "markdown",
   "metadata": {},
   "source": [
    "It seems like SMOTE sometimes does well but balanced weight control works the best."
   ]
  },
  {
   "cell_type": "markdown",
   "metadata": {},
   "source": [
    "## Model Evaluation\n",
    "### Logistic Regression\n",
    "I'm going to now compare model performance. I'll first do multiple logistic regressions and test couple different things.\n",
    "1. Choose the best way to control for multicollinearity (VIF vs manual controls vs. variance threshold)\n",
    "2. Try regularizations (L1, L2) + find the best C "
   ]
  },
  {
   "cell_type": "markdown",
   "metadata": {},
   "source": [
    "### Multicollinearity choice for Logistic Regression\n",
    "#### Manual control"
   ]
  },
  {
   "cell_type": "code",
   "execution_count": null,
   "metadata": {},
   "outputs": [],
   "source": [
    "# check correlation\n",
    "#corr_high(X_train)[1]"
   ]
  },
  {
   "cell_type": "code",
   "execution_count": null,
   "metadata": {},
   "outputs": [],
   "source": [
    "# drop manually\n",
    "X_train_manual = X_train.drop(cols_to_drop + ['SEX_2', 'PAY_AMT1', 'MARRIAGE_2', 'pay_hist_2'], axis = 1)\n",
    "X_test_manual = X_test.drop(cols_to_drop + ['SEX_2', 'PAY_AMT1', 'MARRIAGE_2', 'pay_hist_2'], axis = 1)\n"
   ]
  },
  {
   "cell_type": "code",
   "execution_count": null,
   "metadata": {},
   "outputs": [],
   "source": [
    "def Logreg_testing(X_train, X_test, colname):\n",
    "    lr = LogisticRegression(solver='liblinear', class_weight = 'balanced', max_iter = 10000)\n",
    "    lr.fit(X_train, y_train)\n",
    "\n",
    "    lr_train = lr.predict(X_train)\n",
    "    lr_test = lr.predict(X_test)\n",
    "    \n",
    "    f1_train = round(f1_score(y_train, lr_train), 3)\n",
    "    f1_test = round(f1_score(y_test, lr_test), 3)\n",
    "    print('Train F1 score: ', f1_train)\n",
    "    print('Test F1 score: ', f1_test)\n",
    "    models[colname] = (f1_train, f1_test)\n",
    "    return models\n",
    "\n",
    "Logreg_testing(X_train_manual, X_test_manual, 'manual_corr')"
   ]
  },
  {
   "cell_type": "markdown",
   "metadata": {},
   "source": [
    "#### VIF"
   ]
  },
  {
   "cell_type": "code",
   "execution_count": null,
   "metadata": {},
   "outputs": [],
   "source": [
    "from statsmodels.stats.outliers_influence import variance_inflation_factor\n",
    "def vif_(X):\n",
    "    vif = pd.DataFrame()\n",
    "    vif['VIF'] = [variance_inflation_factor(X.values, i) for i in range(len(X.columns))]\n",
    "    vif['Features'] = X.columns\n",
    "    return vif\n",
    "Vif = vif_(X_train)"
   ]
  },
  {
   "cell_type": "code",
   "execution_count": null,
   "metadata": {},
   "outputs": [],
   "source": [
    "X_train_VIF = X_train.drop(list(Vif.Features[Vif.VIF > 10].values), axis = 1)\n",
    "X_test_VIF = X_test[X_train_VIF.columns]"
   ]
  },
  {
   "cell_type": "code",
   "execution_count": null,
   "metadata": {},
   "outputs": [],
   "source": [
    "Logreg_testing(X_train_VIF, X_test_VIF, 'VIF')"
   ]
  },
  {
   "cell_type": "markdown",
   "metadata": {},
   "source": [
    "#### Lasso/Ridge Regression"
   ]
  },
  {
   "cell_type": "code",
   "execution_count": null,
   "metadata": {},
   "outputs": [],
   "source": [
    "# first data needs to be scaled\n",
    "from sklearn.preprocessing import StandardScaler\n",
    "\n",
    "# Instantiate StandardScaler\n",
    "scaler = StandardScaler()\n",
    "\n",
    "# Transform the training and test sets\n",
    "scaled_X_train = scaler.fit_transform(X_train)\n",
    "scaled_X_test = scaler.transform(X_test)\n",
    "\n",
    "# Convert into a DataFrame\n",
    "scaled_X_train = pd.DataFrame(scaled_X_train, columns=X_train.columns)\n",
    "scaled_X_test = pd.DataFrame(scaled_X_test, columns=X_test.columns)\n",
    "\n",
    "# Use standardized data with less features\n",
    "scaled_X_train_controlled = scaled_X_train[X_train_manual.columns]\n",
    "scaled_X_test_controlled = scaled_X_test[X_train_manual.columns]"
   ]
  },
  {
   "cell_type": "code",
   "execution_count": null,
   "metadata": {},
   "outputs": [],
   "source": [
    "# grid search hyperparams\n",
    "from sklearn.model_selection import GridSearchCV\n",
    "\n",
    "params = {\n",
    "    'C': [0.001, 0.01, 0.1, 0.3, 0.5, 0.7, 0.9, 1]\n",
    "}\n",
    "lr_l1 = LogisticRegression(random_state = 2, solver = 'liblinear', penalty = 'l1')\n",
    "lr_g = GridSearchCV(lr_l1, params, cv = 5, scoring = 'f1', verbose = 1, n_jobs = -1)\n",
    "lr_g.fit(scaled_X_train, y_train)\n",
    "\n",
    "print(lr_g.best_params_, ': ', lr_g.best_score_)\n",
    "\n",
    "y_pred = lr_g.best_estimator_.predict(scaled_X_test)    \n",
    "y_pred_train = lr_g.best_estimator_.predict(scaled_X_train)    \n",
    "\n",
    "f1_train = round(f1_score(y_train, y_pred_train), 3)\n",
    "f1_test = round(f1_score(y_test, y_pred), 3)\n",
    "\n",
    "print('Train F1 score: ', f1_train)\n",
    "print('Test F1 score: ', f1_test)"
   ]
  },
  {
   "cell_type": "code",
   "execution_count": null,
   "metadata": {},
   "outputs": [],
   "source": [
    "models['lasso'] = (f1_train, f1_test)\n"
   ]
  },
  {
   "cell_type": "code",
   "execution_count": null,
   "metadata": {},
   "outputs": [],
   "source": [
    "# after multicollinearity solved"
   ]
  },
  {
   "cell_type": "code",
   "execution_count": null,
   "metadata": {},
   "outputs": [],
   "source": [
    "# grid search hyperparams\n",
    "from sklearn.model_selection import GridSearchCV\n",
    "\n",
    "params = {\n",
    "    'C': [0.001, 0.01, 0.1, 0.3, 0.5, 0.7, 0.9, 1]\n",
    "}\n",
    "lr_l1 = LogisticRegression(random_state = 2, solver = 'liblinear', penalty = 'l1')\n",
    "lr_g = GridSearchCV(lr_l1, params, cv = 5, scoring = 'f1', verbose = 1, n_jobs = -1)\n",
    "lr_g.fit(scaled_X_train_controlled, y_train)\n",
    "\n",
    "print(lr_g.best_params_, ': ', lr_g.best_score_)\n",
    "\n",
    "y_pred = lr_g.best_estimator_.predict(scaled_X_test_controlled)    \n",
    "y_pred_train = lr_g.best_estimator_.predict(scaled_X_train_controlled)    \n",
    "\n",
    "f1_train = round(f1_score(y_train, y_pred_train), 3)\n",
    "f1_test = round(f1_score(y_test, y_pred), 3)\n",
    "\n",
    "print('Train F1 score: ', f1_train)\n",
    "print('Test F1 score: ', f1_test)"
   ]
  },
  {
   "cell_type": "code",
   "execution_count": null,
   "metadata": {},
   "outputs": [],
   "source": [
    "models['lasso_control'] = (f1_train, f1_test)\n"
   ]
  },
  {
   "cell_type": "markdown",
   "metadata": {},
   "source": [
    "### AIC/BIC"
   ]
  },
  {
   "cell_type": "markdown",
   "metadata": {},
   "source": [
    "### KNN \n",
    "Fit KNN model"
   ]
  },
  {
   "cell_type": "code",
   "execution_count": null,
   "metadata": {},
   "outputs": [],
   "source": [
    "from sklearn.neighbors import KNeighborsClassifier\n",
    "\n",
    "params = {\n",
    "    'n_neighbors': range(1, 25, 2),\n",
    "}\n",
    "\n",
    "knc = KNeighborsClassifier()\n",
    "knc_g = GridSearchCV(knc, params, cv = 5, scoring = 'f1', verbose = 1, n_jobs = -1)\n",
    "knc_g.fit(scaled_X_train, y_train)\n",
    "\n",
    "print(knc_g.best_params_, ': ', knc_g.best_score_)\n",
    "\n",
    "y_pred = knc_g.best_estimator_.predict(scaled_X_test)    \n",
    "y_pred_train = knc_g.best_estimator_.predict(scaled_X_train)    \n",
    "\n",
    "f1_train = round(f1_score(y_train, y_pred_train), 3)\n",
    "f1_test = round(f1_score(y_test, y_pred), 3)\n",
    "\n",
    "print('Train F1 score: ', f1_train)\n",
    "print('Test F1 score: ', f1_test)\n",
    "models['knn'] = (f1_train, f1_test)"
   ]
  },
  {
   "cell_type": "code",
   "execution_count": null,
   "metadata": {},
   "outputs": [],
   "source": [
    "from sklearn.neighbors import KNeighborsClassifier\n",
    "\n",
    "params = {\n",
    "    'n_neighbors': range(1, 25, 2),\n",
    "}\n",
    "\n",
    "knc = KNeighborsClassifier()\n",
    "knc_g = GridSearchCV(knc, params, cv = 5, scoring = 'f1', verbose = 1, n_jobs = -1)\n",
    "knc_g.fit(scaled_X_train_controlled, y_train)\n",
    "\n",
    "print(knc_g.best_params_, ': ', knc_g.best_score_)\n",
    "\n",
    "y_pred = knc_g.best_estimator_.predict(scaled_X_test_controlled)    \n",
    "y_pred_train = knc_g.best_estimator_.predict(scaled_X_train_controlled)    \n",
    "\n",
    "f1_train = round(f1_score(y_train, y_pred_train), 3)\n",
    "f1_test = round(f1_score(y_test, y_pred), 3)\n",
    "\n",
    "print('Train F1 score: ', f1_train)\n",
    "print('Test F1 score: ', f1_test)\n",
    "models['knn_control'] = (f1_train, f1_test)"
   ]
  },
  {
   "cell_type": "markdown",
   "metadata": {},
   "source": [
    "None of these methods are improving the model any more than the logistic regression..."
   ]
  },
  {
   "cell_type": "markdown",
   "metadata": {},
   "source": [
    "### Decision Trees\n",
    "Fit different decision trees"
   ]
  },
  {
   "cell_type": "code",
   "execution_count": null,
   "metadata": {},
   "outputs": [],
   "source": [
    "# Simple decision tree (ID3)\n",
    "from sklearn.tree import DecisionTreeClassifier \n",
    "\n",
    "X_train_resampled, y_train_resampled = smote.fit_sample(X_train, y_train)\n",
    "\n",
    "clf = DecisionTreeClassifier(criterion = 'entropy')\n",
    "clf.fit(X_train_resampled, y_train_resampled)\n",
    "y_pred_train = clf.predict(X_train_resampled)\n",
    "y_pred = clf.predict(X_test)\n",
    "\n",
    "f1_train = round(f1_score(y_train_resampled, y_pred_train), 3)\n",
    "f1_test = round(f1_score(y_test, y_pred), 3)\n",
    "\n",
    "print('Train F1 score: ', f1_train)\n",
    "print('Test F1 score: ', f1_test)\n",
    "models['simple_tree_ID3'] = (f1_train, f1_test)"
   ]
  },
  {
   "cell_type": "code",
   "execution_count": null,
   "metadata": {},
   "outputs": [],
   "source": [
    "# find the best hyperparameters for simple decision tree\n",
    "parameters={'max_depth': range(3,8,1),  \n",
    "            'min_samples_split':range(1,10,1),\n",
    "            'min_samples_leaf':range(1,10,1),\n",
    "            'criterion': ['gini', 'entropy'] \n",
    "           }\n",
    "\n",
    "dtc = DecisionTreeClassifier(random_state=1)\n",
    "\n",
    "tree_g = GridSearchCV(dtc, parameters, cv=5, scoring='f1', verbose = 1,  n_jobs = -1)\n",
    "tree_g.fit(X_train_resampled,y_train_resampled)\n",
    "\n",
    "print(tree_g.best_params_, ': ', tree_g.best_score_)\n",
    "\n",
    "y_pred = tree_g.best_estimator_.predict(X_test)    \n",
    "y_pred_train = tree_g.best_estimator_.predict(X_train_resampled)    \n",
    "\n",
    "f1_train = round(f1_score(y_train_resampled, y_pred_train), 3)\n",
    "f1_test = round(f1_score(y_test, y_pred), 3)\n",
    "\n",
    "print('Train F1 score: ', f1_train)\n",
    "print('Test F1 score: ', f1_test)\n",
    "models['decision_tree_gridsearch'] = (f1_train, f1_test)"
   ]
  },
  {
   "cell_type": "code",
   "execution_count": null,
   "metadata": {},
   "outputs": [],
   "source": [
    "from sklearn.tree import export_graphviz\n",
    "from io import StringIO\n",
    "from IPython.display import Image  \n",
    "import pydotplus\n",
    "\n",
    "dtc = DecisionTreeClassifier(random_state=1, criterion = 'ginig', max_depth = 7, min_samples_leaf = 7, min_samples_split = 2)\n",
    "dtc.fit(X_train_resampled,y_train_resampled)\n",
    "\n",
    "dot_data = StringIO()\n",
    "export_graphviz(dtc, out_file=dot_data,  \n",
    "                filled=True, rounded=True,\n",
    "                special_characters=True,feature_names = scaled_X_train.columns,class_names=['0','1'])\n",
    "graph = pydotplus.graph_from_dot_data(dot_data.getvalue())  \n",
    "#graph.write_png('simple_decision_tree.png')\n",
    "Image(graph.create_png())"
   ]
  },
  {
   "cell_type": "markdown",
   "metadata": {},
   "source": [
    "### Ensemble Methods\n",
    "Test ensemble methods"
   ]
  },
  {
   "cell_type": "code",
   "execution_count": null,
   "metadata": {},
   "outputs": [],
   "source": [
    "# Random forest\n",
    "\n"
   ]
  },
  {
   "cell_type": "code",
   "execution_count": null,
   "metadata": {},
   "outputs": [],
   "source": [
    "import xgboost as xgb\n",
    "\n",
    "# find the best hyperparameters for simple decision tree\n",
    "parameters={'eta': [0.1, 0.3, 0.5, 0.7],\n",
    "            'max_depth':range(3, 8, 1)\n",
    "           }\n",
    "\n",
    "xgbc = xgb.XGBClassifier()\n",
    "xgbc_g = GridSearchCV(xgbc, parameters, cv=5, scoring='f1', verbose = 1,  n_jobs = -1)\n",
    "\n",
    "xgbc_g.fit(X_train_resampled, y_train_resampled)\n",
    "\n",
    "print(xgbc_g.best_params_, ': ', xgbc_g.best_score_)\n",
    "\n",
    "y_pred = xgbc_g.best_estimator_.predict(X_test)    \n",
    "y_pred_train = xgbc_g.best_estimator_.predict(X_train_resampled)    \n",
    "\n",
    "f1_train = round(f1_score(y_train_resampled, y_pred_train), 3)\n",
    "f1_test = round(f1_score(y_test, y_pred), 3)\n",
    "\n",
    "print('Train F1 score: ', f1_train)\n",
    "print('Test F1 score: ', f1_test)\n",
    "models['XGBoost_best_params'] = (f1_train, f1_test)"
   ]
  },
  {
   "cell_type": "code",
   "execution_count": null,
   "metadata": {},
   "outputs": [],
   "source": []
  }
 ],
 "metadata": {
  "kernelspec": {
   "display_name": "Python 3",
   "language": "python",
   "name": "python3"
  },
  "language_info": {
   "codemirror_mode": {
    "name": "ipython",
    "version": 3
   },
   "file_extension": ".py",
   "mimetype": "text/x-python",
   "name": "python",
   "nbconvert_exporter": "python",
   "pygments_lexer": "ipython3",
   "version": "3.7.6"
  }
 },
 "nbformat": 4,
 "nbformat_minor": 4
}
