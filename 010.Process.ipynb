{
 "cells": [
  {
   "cell_type": "markdown",
   "metadata": {},
   "source": [
    "# Credit Card Default Classification Project\n",
    "\n"
   ]
  },
  {
   "cell_type": "code",
   "execution_count": 1,
   "metadata": {},
   "outputs": [],
   "source": [
    "import pandas as pd\n",
    "import numpy as np\n",
    "import matplotlib.pyplot as plt\n",
    "import seaborn as sns\n",
    "import math \n",
    "\n",
    "%matplotlib inline\n",
    "\n",
    "#pd.options.display.max_columns = None\n",
    "\n",
    "from sklearn import metrics\n",
    "from sklearn.model_selection import train_test_split\n",
    "from sklearn.dummy import DummyClassifier\n",
    "from sklearn.metrics import accuracy_score, f1_score, recall_score, roc_auc_score\n",
    "from sklearn.linear_model import LogisticRegression"
   ]
  },
  {
   "cell_type": "markdown",
   "metadata": {},
   "source": [
    "## Import Data"
   ]
  },
  {
   "cell_type": "code",
   "execution_count": 2,
   "metadata": {},
   "outputs": [
    {
     "data": {
      "text/html": [
       "<div>\n",
       "<style scoped>\n",
       "    .dataframe tbody tr th:only-of-type {\n",
       "        vertical-align: middle;\n",
       "    }\n",
       "\n",
       "    .dataframe tbody tr th {\n",
       "        vertical-align: top;\n",
       "    }\n",
       "\n",
       "    .dataframe thead th {\n",
       "        text-align: right;\n",
       "    }\n",
       "</style>\n",
       "<table border=\"1\" class=\"dataframe\">\n",
       "  <thead>\n",
       "    <tr style=\"text-align: right;\">\n",
       "      <th></th>\n",
       "      <th>X1</th>\n",
       "      <th>X2</th>\n",
       "      <th>X3</th>\n",
       "      <th>X4</th>\n",
       "      <th>X5</th>\n",
       "      <th>X6</th>\n",
       "      <th>X7</th>\n",
       "      <th>X8</th>\n",
       "      <th>X9</th>\n",
       "      <th>X10</th>\n",
       "      <th>...</th>\n",
       "      <th>X15</th>\n",
       "      <th>X16</th>\n",
       "      <th>X17</th>\n",
       "      <th>X18</th>\n",
       "      <th>X19</th>\n",
       "      <th>X20</th>\n",
       "      <th>X21</th>\n",
       "      <th>X22</th>\n",
       "      <th>X23</th>\n",
       "      <th>Y</th>\n",
       "    </tr>\n",
       "  </thead>\n",
       "  <tbody>\n",
       "    <tr>\n",
       "      <th>28835</th>\n",
       "      <td>220000</td>\n",
       "      <td>2</td>\n",
       "      <td>1</td>\n",
       "      <td>2</td>\n",
       "      <td>36</td>\n",
       "      <td>0</td>\n",
       "      <td>0</td>\n",
       "      <td>0</td>\n",
       "      <td>0</td>\n",
       "      <td>0</td>\n",
       "      <td>...</td>\n",
       "      <td>221193</td>\n",
       "      <td>181859</td>\n",
       "      <td>184605</td>\n",
       "      <td>10000</td>\n",
       "      <td>8018</td>\n",
       "      <td>10121</td>\n",
       "      <td>6006</td>\n",
       "      <td>10987</td>\n",
       "      <td>143779</td>\n",
       "      <td>1</td>\n",
       "    </tr>\n",
       "    <tr>\n",
       "      <th>25329</th>\n",
       "      <td>200000</td>\n",
       "      <td>2</td>\n",
       "      <td>3</td>\n",
       "      <td>2</td>\n",
       "      <td>29</td>\n",
       "      <td>-1</td>\n",
       "      <td>-1</td>\n",
       "      <td>-1</td>\n",
       "      <td>-1</td>\n",
       "      <td>-1</td>\n",
       "      <td>...</td>\n",
       "      <td>326</td>\n",
       "      <td>326</td>\n",
       "      <td>326</td>\n",
       "      <td>326</td>\n",
       "      <td>326</td>\n",
       "      <td>326</td>\n",
       "      <td>326</td>\n",
       "      <td>326</td>\n",
       "      <td>326</td>\n",
       "      <td>0</td>\n",
       "    </tr>\n",
       "    <tr>\n",
       "      <th>18894</th>\n",
       "      <td>180000</td>\n",
       "      <td>2</td>\n",
       "      <td>1</td>\n",
       "      <td>2</td>\n",
       "      <td>27</td>\n",
       "      <td>-2</td>\n",
       "      <td>-2</td>\n",
       "      <td>-2</td>\n",
       "      <td>-2</td>\n",
       "      <td>-2</td>\n",
       "      <td>...</td>\n",
       "      <td>0</td>\n",
       "      <td>0</td>\n",
       "      <td>0</td>\n",
       "      <td>0</td>\n",
       "      <td>0</td>\n",
       "      <td>0</td>\n",
       "      <td>0</td>\n",
       "      <td>0</td>\n",
       "      <td>0</td>\n",
       "      <td>0</td>\n",
       "    </tr>\n",
       "  </tbody>\n",
       "</table>\n",
       "<p>3 rows × 24 columns</p>\n",
       "</div>"
      ],
      "text/plain": [
       "           X1 X2 X3 X4  X5  X6  X7  X8  X9 X10  ...     X15     X16     X17  \\\n",
       "28835  220000  2  1  2  36   0   0   0   0   0  ...  221193  181859  184605   \n",
       "25329  200000  2  3  2  29  -1  -1  -1  -1  -1  ...     326     326     326   \n",
       "18894  180000  2  1  2  27  -2  -2  -2  -2  -2  ...       0       0       0   \n",
       "\n",
       "         X18   X19    X20   X21    X22     X23  Y  \n",
       "28835  10000  8018  10121  6006  10987  143779  1  \n",
       "25329    326   326    326   326    326     326  0  \n",
       "18894      0     0      0     0      0       0  0  \n",
       "\n",
       "[3 rows x 24 columns]"
      ]
     },
     "execution_count": 2,
     "metadata": {},
     "output_type": "execute_result"
    }
   ],
   "source": [
    "df = pd.read_csv('DATA/training_data.csv',  index_col = 0)\n",
    "df.head(3)"
   ]
  },
  {
   "cell_type": "markdown",
   "metadata": {},
   "source": [
    "# Data Cleaning & EDA"
   ]
  },
  {
   "cell_type": "markdown",
   "metadata": {},
   "source": [
    "It seems like there's a row that's supposed to be the header."
   ]
  },
  {
   "cell_type": "code",
   "execution_count": 3,
   "metadata": {},
   "outputs": [],
   "source": [
    "df = df.rename(columns = df.loc['ID'])\n",
    "df = df.drop([df.index[0], 'ID'])\n",
    "df = df.rename(columns = {'default payment next month': 'Y'})"
   ]
  },
  {
   "cell_type": "code",
   "execution_count": 4,
   "metadata": {
    "tags": []
   },
   "outputs": [],
   "source": [
    "#df.info()"
   ]
  },
  {
   "cell_type": "markdown",
   "metadata": {},
   "source": [
    "They are still all objects. Let's take a look at each of their unique values, if they don't have to be objects, I'll convert them."
   ]
  },
  {
   "cell_type": "code",
   "execution_count": 5,
   "metadata": {},
   "outputs": [],
   "source": [
    "#df.describe()"
   ]
  },
  {
   "cell_type": "code",
   "execution_count": 6,
   "metadata": {},
   "outputs": [
    {
     "data": {
      "text/plain": [
       "Index(['LIMIT_BAL', 'SEX', 'EDUCATION', 'MARRIAGE', 'AGE', 'PAY_0', 'PAY_2',\n",
       "       'PAY_3', 'PAY_4', 'PAY_5', 'PAY_6', 'BILL_AMT1', 'BILL_AMT2',\n",
       "       'BILL_AMT3', 'BILL_AMT4', 'BILL_AMT5', 'BILL_AMT6', 'PAY_AMT1',\n",
       "       'PAY_AMT2', 'PAY_AMT3', 'PAY_AMT4', 'PAY_AMT5', 'PAY_AMT6', 'Y'],\n",
       "      dtype='object')"
      ]
     },
     "execution_count": 6,
     "metadata": {},
     "output_type": "execute_result"
    }
   ],
   "source": [
    "df.columns"
   ]
  },
  {
   "cell_type": "code",
   "execution_count": 7,
   "metadata": {
    "tags": []
   },
   "outputs": [],
   "source": [
    "categorical = ['SEX', 'EDUCATION', 'MARRIAGE']\n",
    "for c in df.columns:\n",
    "    if c not in categorical: \n",
    "        df[c] = pd.to_numeric(df[c])\n",
    "\n",
    "#for c in df.columns[0:5]:\n",
    "#    print (f\"{c}: {df[c].unique()}\")"
   ]
  },
  {
   "cell_type": "markdown",
   "metadata": {},
   "source": [
    "### Default (Y)"
   ]
  },
  {
   "cell_type": "code",
   "execution_count": 8,
   "metadata": {},
   "outputs": [
    {
     "data": {
      "image/png": "[encoded data removed]",
      "text/plain": [
       "<Figure size 432x288 with 1 Axes>"
      ]
     },
     "metadata": {
      "needs_background": "light"
     },
     "output_type": "display_data"
    }
   ],
   "source": [
    "sns.countplot(df['Y'], alpha =.80)\n",
    "plt.title('DEFAULT or not')\n",
    "plt.ylabel('#')\n",
    "plt.show()"
   ]
  },
  {
   "cell_type": "markdown",
   "metadata": {},
   "source": [
    "### Credit Limit"
   ]
  },
  {
   "cell_type": "code",
   "execution_count": 9,
   "metadata": {},
   "outputs": [
    {
     "data": {
      "text/plain": [
       "<matplotlib.axes._subplots.AxesSubplot at 0x1d11070f688>"
      ]
     },
     "execution_count": 9,
     "metadata": {},
     "output_type": "execute_result"
    },
    {
     "data": {
      "image/png": "[encoded data removed]",
      "text/plain": [
       "<Figure size 432x288 with 1 Axes>"
      ]
     },
     "metadata": {
      "needs_background": "light"
     },
     "output_type": "display_data"
    }
   ],
   "source": [
    "sns.distplot(df.LIMIT_BAL)"
   ]
  },
  {
   "cell_type": "markdown",
   "metadata": {},
   "source": [
    "Some people seems to have very high credit limit, but nothing look abnormal."
   ]
  },
  {
   "cell_type": "code",
   "execution_count": 10,
   "metadata": {},
   "outputs": [
    {
     "data": {
      "image/png": "[encoded data removed]",
      "text/plain": [
       "<Figure size 432x288 with 1 Axes>"
      ]
     },
     "metadata": {
      "needs_background": "light"
     },
     "output_type": "display_data"
    }
   ],
   "source": [
    "sns.distplot(df[df.Y == 1]['LIMIT_BAL'], hist = False, label='DEFAULT')\n",
    "sns.distplot(df[df.Y == 0]['LIMIT_BAL'], hist = False, label='NOT')\n",
    "\n",
    "plt.legend()\n",
    "plt.show()"
   ]
  },
  {
   "cell_type": "code",
   "execution_count": 11,
   "metadata": {},
   "outputs": [
    {
     "data": {
      "image/png": "[encoded data removed]",
      "text/plain": [
       "<Figure size 432x288 with 1 Axes>"
      ]
     },
     "metadata": {
      "needs_background": "light"
     },
     "output_type": "display_data"
    }
   ],
   "source": [
    "# try normalizing\n",
    "sns.distplot(np.log(df[df.Y == 1]['LIMIT_BAL']), hist = False, label='DEFAULT')\n",
    "sns.distplot(np.log(df[df.Y == 0]['LIMIT_BAL']), hist = False, label='NOT')\n",
    "\n",
    "plt.legend()\n",
    "plt.show()"
   ]
  },
  {
   "cell_type": "markdown",
   "metadata": {},
   "source": [
    "### SEX"
   ]
  },
  {
   "cell_type": "code",
   "execution_count": 12,
   "metadata": {},
   "outputs": [
    {
     "data": {
      "text/plain": [
       "2    13571\n",
       "1     8927\n",
       "Name: SEX, dtype: int64"
      ]
     },
     "execution_count": 12,
     "metadata": {},
     "output_type": "execute_result"
    }
   ],
   "source": [
    "df.SEX.value_counts()"
   ]
  },
  {
   "cell_type": "code",
   "execution_count": 13,
   "metadata": {},
   "outputs": [
    {
     "data": {
      "image/png": "[encoded data removed]",
      "text/plain": [
       "<Figure size 432x288 with 1 Axes>"
      ]
     },
     "metadata": {
      "needs_background": "light"
     },
     "output_type": "display_data"
    }
   ],
   "source": [
    "sns.countplot(df['SEX'], alpha =.80)\n",
    "plt.title('SEX')\n",
    "plt.xticks([0, 1], ['M', 'F'])\n",
    "plt.ylabel('#')\n",
    "plt.show()"
   ]
  },
  {
   "cell_type": "code",
   "execution_count": 14,
   "metadata": {},
   "outputs": [
    {
     "data": {
      "image/png": "[encoded data removed]",
      "text/plain": [
       "<Figure size 432x288 with 1 Axes>"
      ]
     },
     "metadata": {
      "needs_background": "light"
     },
     "output_type": "display_data"
    }
   ],
   "source": [
    "tmp = df.groupby(['SEX']).Y.value_counts(normalize = True).unstack()\n",
    "tmp.plot(kind = 'bar', stacked = True)\n",
    "plt.xticks([0, 1], ['Male', 'Female'])\n",
    "plt.show()"
   ]
  },
  {
   "cell_type": "markdown",
   "metadata": {},
   "source": [
    "Data is a little skewed towards females."
   ]
  },
  {
   "cell_type": "markdown",
   "metadata": {},
   "source": [
    "### Education"
   ]
  },
  {
   "cell_type": "code",
   "execution_count": 15,
   "metadata": {},
   "outputs": [
    {
     "data": {
      "text/plain": [
       "2    10516\n",
       "1     7918\n",
       "3     3713\n",
       "5      208\n",
       "4       90\n",
       "6       42\n",
       "0       11\n",
       "Name: EDUCATION, dtype: int64"
      ]
     },
     "execution_count": 15,
     "metadata": {},
     "output_type": "execute_result"
    }
   ],
   "source": [
    "df.EDUCATION.value_counts()"
   ]
  },
  {
   "cell_type": "markdown",
   "metadata": {},
   "source": [
    "There are unknown values above 4. We can roughly assume that higher education is linked to higher credit limit. Let's see if this matches up with the number system. "
   ]
  },
  {
   "cell_type": "code",
   "execution_count": 16,
   "metadata": {},
   "outputs": [
    {
     "data": {
      "text/plain": [
       "<matplotlib.axes._subplots.AxesSubplot at 0x1d110c9c888>"
      ]
     },
     "execution_count": 16,
     "metadata": {},
     "output_type": "execute_result"
    },
    {
     "data": {
      "image/png": "[encoded data removed]",
      "text/plain": [
       "<Figure size 432x288 with 1 Axes>"
      ]
     },
     "metadata": {
      "needs_background": "light"
     },
     "output_type": "display_data"
    }
   ],
   "source": [
    "sns.boxplot(df.EDUCATION, df.LIMIT_BAL)"
   ]
  },
  {
   "cell_type": "markdown",
   "metadata": {},
   "source": [
    "Okay, we cannot treat this as an ordinal group. We will treat as categorical."
   ]
  },
  {
   "cell_type": "code",
   "execution_count": 17,
   "metadata": {},
   "outputs": [
    {
     "data": {
      "image/png": "[encoded data removed]",
      "text/plain": [
       "<Figure size 432x288 with 1 Axes>"
      ]
     },
     "metadata": {
      "needs_background": "light"
     },
     "output_type": "display_data"
    }
   ],
   "source": [
    "tmp = df.groupby(['EDUCATION']).Y.value_counts().unstack()\n",
    "tmp.plot(kind = 'bar', stacked = True)\n",
    "plt.legend(bbox_to_anchor = [1, 1])\n",
    "plt.show()"
   ]
  },
  {
   "cell_type": "code",
   "execution_count": 18,
   "metadata": {},
   "outputs": [
    {
     "data": {
      "image/png": "[encoded data removed]",
      "text/plain": [
       "<Figure size 432x288 with 1 Axes>"
      ]
     },
     "metadata": {
      "needs_background": "light"
     },
     "output_type": "display_data"
    }
   ],
   "source": [
    "tmp = df.groupby(['EDUCATION']).Y.value_counts(normalize = True).unstack()\n",
    "tmp.plot(kind = 'bar', stacked = True)\n",
    "plt.legend(bbox_to_anchor = [1, 1])\n",
    "plt.show()"
   ]
  },
  {
   "cell_type": "markdown",
   "metadata": {},
   "source": [
    "### MARRIAGE"
   ]
  },
  {
   "cell_type": "code",
   "execution_count": 19,
   "metadata": {},
   "outputs": [
    {
     "data": {
      "text/plain": [
       "2    12025\n",
       "1    10195\n",
       "3      234\n",
       "0       44\n",
       "Name: MARRIAGE, dtype: int64"
      ]
     },
     "execution_count": 19,
     "metadata": {},
     "output_type": "execute_result"
    }
   ],
   "source": [
    "df.MARRIAGE.value_counts()"
   ]
  },
  {
   "cell_type": "code",
   "execution_count": 20,
   "metadata": {},
   "outputs": [
    {
     "data": {
      "image/png": "[encoded data removed]",
      "text/plain": [
       "<Figure size 432x288 with 1 Axes>"
      ]
     },
     "metadata": {
      "needs_background": "light"
     },
     "output_type": "display_data"
    }
   ],
   "source": [
    "sns.boxplot(x = 'MARRIAGE', y = 'AGE', data = df).set_title('Marital Status by Age')\n",
    "plt.show()"
   ]
  },
  {
   "cell_type": "code",
   "execution_count": 21,
   "metadata": {},
   "outputs": [
    {
     "data": {
      "image/png": "[encoded data removed]",
      "text/plain": [
       "<Figure size 432x288 with 1 Axes>"
      ]
     },
     "metadata": {
      "needs_background": "light"
     },
     "output_type": "display_data"
    }
   ],
   "source": [
    "tmp = df.groupby(['MARRIAGE']).Y.value_counts().unstack()\n",
    "tmp.plot(kind = 'bar', stacked = True)\n",
    "plt.xticks([0, 1, 2, 3], ['?', 'married', 'single', 'others'])\n",
    "plt.show()"
   ]
  },
  {
   "cell_type": "markdown",
   "metadata": {},
   "source": [
    "I'm guessing 0 values are ones we don't have the information for but I'm going to leave as it for now."
   ]
  },
  {
   "cell_type": "code",
   "execution_count": 22,
   "metadata": {},
   "outputs": [],
   "source": [
    "#df.MARRIAGE = df.MARRIAGE.replace('3', '0')"
   ]
  },
  {
   "cell_type": "markdown",
   "metadata": {},
   "source": [
    "### Age"
   ]
  },
  {
   "cell_type": "code",
   "execution_count": 23,
   "metadata": {},
   "outputs": [
    {
     "data": {
      "image/png": "[encoded data removed]",
      "text/plain": [
       "<Figure size 432x288 with 1 Axes>"
      ]
     },
     "metadata": {
      "needs_background": "light"
     },
     "output_type": "display_data"
    }
   ],
   "source": [
    "sns.distplot(df[df.Y == 1]['AGE'], hist = False, label='DEFAULT')\n",
    "sns.distplot(df[df.Y == 0]['AGE'], hist = False, label='NOT')\n",
    "\n",
    "plt.legend()\n",
    "plt.show()"
   ]
  },
  {
   "cell_type": "markdown",
   "metadata": {},
   "source": [
    "# Baseline Model\n",
    "I'll create a basline logistic regression model using demographics only. "
   ]
  },
  {
   "cell_type": "code",
   "execution_count": 24,
   "metadata": {},
   "outputs": [],
   "source": [
    "def fit_logreg(X, y):\n",
    "    X_train, X_test, y_train, y_test = train_test_split(X, y, random_state=1)\n",
    "    logreg = LogisticRegression(class_weight = 'balanced', max_iter = 10000)\n",
    "    logreg.fit(X_train, y_train)    \n",
    "    y_pred_train = logreg.predict(X_train)\n",
    "    y_pred_test = logreg.predict(X_test)\n",
    "    f1_train = round(f1_score(y_train, y_pred_train), 3)\n",
    "    f1_test = round(f1_score(y_test, y_pred_test), 3)\n",
    "    print(f\"F1_train: {f1_train}\")\n",
    "    print(f\"F1_test: {f1_test}\")\n",
    "    print(f\"Test Accuracy: {round(accuracy_score(y_test, y_pred_test), 3)}\")\n",
    "    print(f\"Test AUC: {round(roc_auc_score(y_test, y_pred_test), 3)}\")\n",
    "\n",
    "    return logreg, f1_train, f1_test"
   ]
  },
  {
   "cell_type": "code",
   "execution_count": 25,
   "metadata": {},
   "outputs": [],
   "source": [
    "y = df['Y']\n",
    "X = pd.get_dummies(df[['LIMIT_BAL', 'SEX', 'EDUCATION', 'MARRIAGE', 'AGE']])"
   ]
  },
  {
   "cell_type": "code",
   "execution_count": 26,
   "metadata": {},
   "outputs": [
    {
     "data": {
      "text/html": [
       "<div>\n",
       "<style scoped>\n",
       "    .dataframe tbody tr th:only-of-type {\n",
       "        vertical-align: middle;\n",
       "    }\n",
       "\n",
       "    .dataframe tbody tr th {\n",
       "        vertical-align: top;\n",
       "    }\n",
       "\n",
       "    .dataframe thead th {\n",
       "        text-align: right;\n",
       "    }\n",
       "</style>\n",
       "<table border=\"1\" class=\"dataframe\">\n",
       "  <thead>\n",
       "    <tr style=\"text-align: right;\">\n",
       "      <th></th>\n",
       "      <th>v1</th>\n",
       "      <th>v2</th>\n",
       "      <th>c</th>\n",
       "    </tr>\n",
       "  </thead>\n",
       "  <tbody>\n",
       "    <tr>\n",
       "      <th>33</th>\n",
       "      <td>SEX_1</td>\n",
       "      <td>SEX_2</td>\n",
       "      <td>1.000000</td>\n",
       "    </tr>\n",
       "    <tr>\n",
       "      <th>47</th>\n",
       "      <td>SEX_2</td>\n",
       "      <td>SEX_1</td>\n",
       "      <td>1.000000</td>\n",
       "    </tr>\n",
       "    <tr>\n",
       "      <th>193</th>\n",
       "      <td>MARRIAGE_1</td>\n",
       "      <td>MARRIAGE_2</td>\n",
       "      <td>0.975428</td>\n",
       "    </tr>\n",
       "    <tr>\n",
       "      <th>207</th>\n",
       "      <td>MARRIAGE_2</td>\n",
       "      <td>MARRIAGE_1</td>\n",
       "      <td>0.975428</td>\n",
       "    </tr>\n",
       "  </tbody>\n",
       "</table>\n",
       "</div>"
      ],
      "text/plain": [
       "             v1          v2         c\n",
       "33        SEX_1       SEX_2  1.000000\n",
       "47        SEX_2       SEX_1  1.000000\n",
       "193  MARRIAGE_1  MARRIAGE_2  0.975428\n",
       "207  MARRIAGE_2  MARRIAGE_1  0.975428"
      ]
     },
     "execution_count": 26,
     "metadata": {},
     "output_type": "execute_result"
    }
   ],
   "source": [
    "def corr_high(df):\n",
    "    corr_df = abs(df.corr()).stack().reset_index()\n",
    "    corr_df.columns = ['v1', 'v2', 'c']\n",
    "    return corr_df, corr_df[(corr_df.c > 0.7) & (corr_df['v1'] != corr_df['v2'])].sort_values(\n",
    "        by = 'c', ascending = False)\n",
    "\n",
    "corr_high(X)[1]"
   ]
  },
  {
   "cell_type": "code",
   "execution_count": 27,
   "metadata": {},
   "outputs": [],
   "source": [
    "X = X.drop(['SEX_2', 'MARRIAGE_1'], axis = 1)"
   ]
  },
  {
   "cell_type": "code",
   "execution_count": 28,
   "metadata": {},
   "outputs": [
    {
     "name": "stdout",
     "output_type": "stream",
     "text": [
      "F1_train: 0.0\n",
      "F1_test: 0.0\n",
      "Test Accuracy: 0.771\n",
      "Test AUC: 0.5\n"
     ]
    }
   ],
   "source": [
    "lr = fit_logreg(X, y)\n",
    "\n",
    "# Keeping a log of all models fitted\n",
    "\n",
    "models= {'only_demographics_logreg': (lr[1], lr[2])}"
   ]
  },
  {
   "cell_type": "code",
   "execution_count": 29,
   "metadata": {},
   "outputs": [],
   "source": [
    "df = pd.get_dummies(df)"
   ]
  },
  {
   "cell_type": "markdown",
   "metadata": {},
   "source": [
    "### History of past payment\n",
    "PAY0 ~ 6 are past payment status backwards (from Sept ~ April).  \n",
    "Repayment status measurement scale is...  \n",
    "-1: paid ontime  \n",
    "1: delayed for one month  \n",
    "2: delayed for 2 months  ...  \n",
    "8: delayed for 8 months  \n",
    "9: delayed for nine + months  \n",
    "\n",
    "I want to first see if there are no values I don't understand."
   ]
  },
  {
   "cell_type": "code",
   "execution_count": 30,
   "metadata": {},
   "outputs": [],
   "source": [
    "pay_hist_names =[c for c in df if c.startswith('PAY')][0:6]"
   ]
  },
  {
   "cell_type": "code",
   "execution_count": 38,
   "metadata": {},
   "outputs": [
    {
     "data": {
      "text/plain": [
       "[array([-1, -2,  0,  2,  1,  3,  8,  4,  6,  5,  7], dtype=int64),\n",
       " array([-1, -2,  0,  2,  3,  4,  7,  5,  1,  8,  6], dtype=int64),\n",
       " array([-1, -2,  0,  2,  3,  4,  6,  5,  7,  8,  1], dtype=int64),\n",
       " array([-1, -2,  0,  2,  4,  5,  3,  7,  6,  8,  1], dtype=int64),\n",
       " array([-1, -2,  0,  2,  4,  3,  7,  5,  6,  8], dtype=int64),\n",
       " array([-1, -2,  0,  2,  4,  3,  7,  6,  8,  5], dtype=int64)]"
      ]
     },
     "execution_count": 38,
     "metadata": {},
     "output_type": "execute_result"
    }
   ],
   "source": [
    "[df[x].unique() for x in pay_hist_names]"
   ]
  },
  {
   "cell_type": "markdown",
   "metadata": {},
   "source": [
    "Okay, there are 0 and -2, which are not the values we are supposed to have. I'll try to sample someone and see if we can figure it out."
   ]
  },
  {
   "cell_type": "code",
   "execution_count": 39,
   "metadata": {},
   "outputs": [
    {
     "data": {
      "image/png": "[encoded data removed]",
      "text/plain": [
       "<Figure size 432x288 with 1 Axes>"
      ]
     },
     "metadata": {
      "needs_background": "light"
     },
     "output_type": "display_data"
    }
   ],
   "source": [
    "Y = pd.melt(df[pay_hist_names], value_vars = pay_hist_names).value.value_counts(normalize = True)\n",
    "X = Y.index\n",
    "\n",
    "sns.barplot(X, Y)\n",
    "plt.xlabel('payment history labels')\n",
    "plt.ylabel('%')\n",
    "plt.show()"
   ]
  },
  {
   "cell_type": "markdown",
   "metadata": {},
   "source": [
    "I want to assume that 0 is on time payment. But I'll feed in as categorical for now.  \n",
    "On the other hand, these measures may highly correlating with others, since they can be accumulating balance.  \n",
    "So we need a better measure for these that are not time sensative. We will add some measures later and remove these.  "
   ]
  },
  {
   "cell_type": "code",
   "execution_count": 40,
   "metadata": {},
   "outputs": [],
   "source": [
    "#corr_high(df)[1]"
   ]
  },
  {
   "cell_type": "markdown",
   "metadata": {},
   "source": [
    "### Amount of Billing Statement & Payment\n",
    "BILL_AMT1 ~ 6 are also backward statement from September ~ April.  \n",
    "PAY_AMT1~6 are previous payment from Sept ~ April.  "
   ]
  },
  {
   "cell_type": "code",
   "execution_count": 41,
   "metadata": {},
   "outputs": [],
   "source": [
    "bill_amt_names = [c for c in df if c.startswith('BILL_AMT')]\n",
    "pay_amt_names = [c for c in df if c.startswith('PAY_AMT')]"
   ]
  },
  {
   "cell_type": "code",
   "execution_count": 42,
   "metadata": {},
   "outputs": [],
   "source": [
    "# making a dataframe so I can plot performance each month\n",
    "tmp2 = pd.melt(df[bill_amt_names].reset_index(), id_vars = 'index', value_vars=bill_amt_names, value_name='bill_amount')\n",
    "tmp2 = tmp2.replace(tmp2.variable.unique(), [1, 2, 3, 4, 5, 6])\n",
    "\n",
    "tmp3 = pd.melt(df[pay_amt_names].reset_index(), id_vars = 'index', value_vars=pay_amt_names, value_name='pay_amount')\n",
    "tmp3 = tmp3.replace(tmp3.variable.unique(), [1, 2, 3, 4, 5, 6])\n",
    "\n",
    "tmp = tmp2.merge(tmp3)"
   ]
  },
  {
   "cell_type": "code",
   "execution_count": 43,
   "metadata": {},
   "outputs": [
    {
     "data": {
      "image/png": "[encoded data removed]",
      "text/plain": [
       "<Figure size 432x288 with 1 Axes>"
      ]
     },
     "metadata": {
      "needs_background": "light"
     },
     "output_type": "display_data"
    }
   ],
   "source": [
    "sns.scatterplot(x = 'bill_amount', y = 'pay_amount', data = tmp)\n",
    "plt.xticks(rotation=45, ha='right')\n",
    "plt.show()"
   ]
  },
  {
   "cell_type": "code",
   "execution_count": 44,
   "metadata": {},
   "outputs": [
    {
     "data": {
      "image/png": "[encoded data removed]",
      "text/plain": [
       "<Figure size 432x288 with 1 Axes>"
      ]
     },
     "metadata": {
      "needs_background": "light"
     },
     "output_type": "display_data"
    }
   ],
   "source": [
    "tmp_b = tmp.groupby('index').sum()\n",
    "sns.scatterplot(x = 'bill_amount', y = 'pay_amount', data = tmp_b)\n",
    "plt.xticks(rotation=45, ha='right')\n",
    "plt.show()"
   ]
  },
  {
   "cell_type": "code",
   "execution_count": 45,
   "metadata": {},
   "outputs": [],
   "source": [
    "#tmp[tmp['index'] == tmp_b[tmp_b['pay_amount'] > 3500000].index[0]]\n",
    "#tmp[tmp['index'] == tmp_b[tmp_b['bill_amount'] > 5000000].index[0]]"
   ]
  },
  {
   "cell_type": "markdown",
   "metadata": {},
   "source": [
    "Some outliers, but I have no evidence to delete them."
   ]
  },
  {
   "cell_type": "markdown",
   "metadata": {},
   "source": [
    "### Feature Engineering"
   ]
  },
  {
   "cell_type": "markdown",
   "metadata": {},
   "source": [
    "#### Payment History\n",
    "Instead of having each month record, I'll add the number of time for each category. "
   ]
  },
  {
   "cell_type": "code",
   "execution_count": 46,
   "metadata": {},
   "outputs": [],
   "source": [
    "payment_hist = pd.melt(df.reset_index(), id_vars = 'index', value_vars=pay_hist_names).groupby(['index', 'value']).count().unstack()\n",
    "payment_hist = payment_hist.fillna(0)\n",
    "payment_hist.columns = ['pay_hist_n2', 'pay_hist_n1', 'pay_hist_0', 'pay_hist_1', 'pay_hist_2', 'pay_hist_3', 'pay_hist_4', \n",
    "                       'pay_hist_5', 'pay_hist_6', 'pay_hist_7', 'pay_hist_8']"
   ]
  },
  {
   "cell_type": "code",
   "execution_count": 47,
   "metadata": {},
   "outputs": [],
   "source": [
    "df = df.join(payment_hist)\n",
    "cols_to_drop = pay_hist_names"
   ]
  },
  {
   "cell_type": "markdown",
   "metadata": {},
   "source": [
    "#### Add the Balance Info (at the end of the month)\n",
    "I'll remove this later."
   ]
  },
  {
   "cell_type": "code",
   "execution_count": 48,
   "metadata": {},
   "outputs": [],
   "source": [
    "for i in range(1, 7):\n",
    "    df[f\"BAL_{i}\"] = df[f\"BILL_AMT{i}\"] - df[f\"PAY_AMT{i}\"]"
   ]
  },
  {
   "cell_type": "code",
   "execution_count": 49,
   "metadata": {},
   "outputs": [],
   "source": [
    "cols_to_drop = cols_to_drop + bill_amt_names + [c for c in df if c.startswith(\"BAL_\")]"
   ]
  },
  {
   "cell_type": "markdown",
   "metadata": {},
   "source": [
    "#### Add the cumulative change of balance"
   ]
  },
  {
   "cell_type": "code",
   "execution_count": 50,
   "metadata": {},
   "outputs": [],
   "source": [
    "for i in [6, 5, 4, 3, 2]:\n",
    "    df[f\"BAL_change_{i}\"] = df[f\"BAL_{i}\"] - df[f\"BAL_{i-1}\"]"
   ]
  },
  {
   "cell_type": "code",
   "execution_count": 51,
   "metadata": {},
   "outputs": [],
   "source": [
    "df[\"cum_bal_change\"] = df[[c for c in df if c.startswith('BAL_change')]].sum(axis = 1)"
   ]
  },
  {
   "cell_type": "code",
   "execution_count": 52,
   "metadata": {},
   "outputs": [],
   "source": [
    "cols_to_drop = cols_to_drop + [c for c in df if c.startswith(\"BAL_change\")]"
   ]
  },
  {
   "cell_type": "markdown",
   "metadata": {},
   "source": [
    "#### final balance and payment"
   ]
  },
  {
   "cell_type": "code",
   "execution_count": 53,
   "metadata": {},
   "outputs": [],
   "source": [
    "df['final_balance'] = df['BAL_1']"
   ]
  },
  {
   "cell_type": "code",
   "execution_count": 54,
   "metadata": {},
   "outputs": [],
   "source": [
    "df['final_payment'] = df['PAY_AMT1']"
   ]
  },
  {
   "cell_type": "markdown",
   "metadata": {},
   "source": [
    "#### Add N_Default\n",
    "How often they paid less than minimum."
   ]
  },
  {
   "cell_type": "code",
   "execution_count": 55,
   "metadata": {},
   "outputs": [],
   "source": [
    "for i in range(1, 7):\n",
    "    df[f\"DEF_{i}\"] = np.where(((df[f\"BILL_AMT{i}\"] >= 35) & (df[f\"PAY_AMT{i}\"] < 35)) | \n",
    "                              ((df[f\"BILL_AMT{i}\"] < 35) & (df[f\"PAY_AMT{i}\"] < df[f\"BILL_AMT{i}\"])), 1, 0)"
   ]
  },
  {
   "cell_type": "code",
   "execution_count": 56,
   "metadata": {},
   "outputs": [],
   "source": [
    "df['N_underpayment'] = df[[c for c in df if c.startswith('DEF')]].sum(axis = 1)"
   ]
  },
  {
   "cell_type": "code",
   "execution_count": 57,
   "metadata": {},
   "outputs": [],
   "source": [
    "cols_to_drop = cols_to_drop + ['DEF_1']"
   ]
  },
  {
   "cell_type": "markdown",
   "metadata": {},
   "source": [
    "#### Add Over Credit Limit\n",
    "number of times they spent over the credit limit."
   ]
  },
  {
   "cell_type": "code",
   "execution_count": 58,
   "metadata": {},
   "outputs": [],
   "source": [
    "for i in range(1, 7):\n",
    "    df[f\"over_lim_{i}\"] = np.where(df[f\"BILL_AMT{i}\"] > df[f\"LIMIT_BAL\"], 1, 0)"
   ]
  },
  {
   "cell_type": "code",
   "execution_count": 59,
   "metadata": {},
   "outputs": [],
   "source": [
    "df[\"n_over_lim\"] = df[[c for c in df if c.startswith('over_lim')]].sum(axis = 1)"
   ]
  },
  {
   "cell_type": "code",
   "execution_count": 60,
   "metadata": {},
   "outputs": [],
   "source": [
    "cols_to_drop = cols_to_drop + [c for c in df if c.startswith('over_lim')]"
   ]
  },
  {
   "cell_type": "markdown",
   "metadata": {},
   "source": [
    "#### Add Percent Use\n",
    "Percentage of credit limit used"
   ]
  },
  {
   "cell_type": "code",
   "execution_count": 61,
   "metadata": {},
   "outputs": [],
   "source": [
    "for i in range(1, 7):\n",
    "    df[f\"percent_use_{i}\"] = df[f\"BILL_AMT{i}\"] / df[f\"LIMIT_BAL\"]\n",
    "    \n",
    "df['avg_percent_use'] = df[[c for c in df if c.startswith('percent_use')]].mean(axis = 1)"
   ]
  },
  {
   "cell_type": "code",
   "execution_count": 62,
   "metadata": {},
   "outputs": [],
   "source": [
    "cols_to_drop = cols_to_drop + [c for c in df if c.startswith('percent_use')]"
   ]
  },
  {
   "cell_type": "markdown",
   "metadata": {},
   "source": [
    "#### Add Pattern Change\n",
    "Add percent of payment to balance then subtract the most recent one from the old one"
   ]
  },
  {
   "cell_type": "code",
   "execution_count": 63,
   "metadata": {},
   "outputs": [],
   "source": [
    "for i in range(1, 7):\n",
    "    df[f\"percent_paid_{i}\"] = np.where(df[f\"BILL_AMT{i}\"] > 0, df[f\"PAY_AMT{i}\"] / df[f\"BILL_AMT{i}\"], 1)\n",
    "    \n",
    "df['payment_patter_change'] = df['percent_paid_6'] - df['percent_paid_1']"
   ]
  },
  {
   "cell_type": "code",
   "execution_count": 64,
   "metadata": {},
   "outputs": [],
   "source": [
    "cols_to_drop = cols_to_drop + [c for c in df if c.startswith('percent_paid')]"
   ]
  },
  {
   "cell_type": "markdown",
   "metadata": {},
   "source": [
    "#### Add Average Percent Paid"
   ]
  },
  {
   "cell_type": "code",
   "execution_count": 65,
   "metadata": {},
   "outputs": [],
   "source": [
    "df['payment_average_p'] = df[[c for c in df if c.startswith('percent_paid')]].mean(axis = 1)"
   ]
  },
  {
   "cell_type": "markdown",
   "metadata": {},
   "source": [
    "#### Transform to a Log Limit\n",
    "data was highly right skewed. it'll fit better if we normalize it a bit."
   ]
  },
  {
   "cell_type": "code",
   "execution_count": 66,
   "metadata": {},
   "outputs": [],
   "source": [
    "df['ln_limit_bal'] = np.log(df['LIMIT_BAL'])"
   ]
  },
  {
   "cell_type": "code",
   "execution_count": 67,
   "metadata": {},
   "outputs": [],
   "source": [
    "cols_to_drop = cols_to_drop + ['LIMIT_BAL']"
   ]
  },
  {
   "cell_type": "markdown",
   "metadata": {},
   "source": [
    "### Plot everything\n",
    "Let's take a look at relationship between new variables and target. "
   ]
  },
  {
   "cell_type": "code",
   "execution_count": 88,
   "metadata": {},
   "outputs": [],
   "source": [
    "from sklearn.preprocessing import StandardScaler\n",
    "y = df['Y'].values\n",
    "X = df.drop(['Y'] + cols_to_drop, axis = 1)\n",
    "\n",
    "scaler = StandardScaler()\n",
    "scaler.fit(X)\n",
    "X1 = pd.DataFrame(scaler.transform(X), columns= X.columns)\n",
    "X1['Y'] = y"
   ]
  },
  {
   "cell_type": "code",
   "execution_count": null,
   "metadata": {},
   "outputs": [],
   "source": [
    "for c in X1.columns:\n",
    "    \n",
    "    sns.distplot(X1[X1.Y == 1][c], hist = False, label='DEFAULT')\n",
    "    sns.distplot(X1[X1.Y == 0][c], hist = False, label='NOT')\n",
    "\n",
    "    plt.legend()\n",
    "    plt.show()"
   ]
  },
  {
   "cell_type": "markdown",
   "metadata": {},
   "source": [
    "### Fit everything"
   ]
  },
  {
   "cell_type": "code",
   "execution_count": 68,
   "metadata": {},
   "outputs": [
    {
     "name": "stdout",
     "output_type": "stream",
     "text": [
      "F1_train: 0.418\n",
      "F1_test: 0.431\n",
      "Test Accuracy: 0.553\n",
      "Test AUC: 0.618\n"
     ]
    }
   ],
   "source": [
    "y = df['Y']\n",
    "X = df.drop(['Y'], axis = 1)\n",
    "lr1 = fit_logreg(X, y)\n",
    "\n",
    "models['after_feat_eng'] = (lr1[1], lr1[2])"
   ]
  },
  {
   "cell_type": "markdown",
   "metadata": {},
   "source": [
    "### Fit all after manually dropping old features"
   ]
  },
  {
   "cell_type": "code",
   "execution_count": 69,
   "metadata": {},
   "outputs": [
    {
     "name": "stdout",
     "output_type": "stream",
     "text": [
      "F1_train: 0.468\n",
      "F1_test: 0.487\n",
      "Test Accuracy: 0.714\n",
      "Test AUC: 0.671\n"
     ]
    }
   ],
   "source": [
    "y = df['Y']\n",
    "X = df.drop(['Y'] + cols_to_drop, axis = 1)\n",
    "lr2 = fit_logreg(X, y)\n",
    "\n",
    "models['removing_old_feats'] = (lr1[1], lr1[2])"
   ]
  },
  {
   "cell_type": "markdown",
   "metadata": {},
   "source": [
    "Much better F1 and accuracy, but it's still useless."
   ]
  },
  {
   "cell_type": "markdown",
   "metadata": {},
   "source": [
    "### Add Polynomials\n",
    "Find the most meaningful polynomials and add."
   ]
  },
  {
   "cell_type": "code",
   "execution_count": 84,
   "metadata": {},
   "outputs": [
    {
     "name": "stdout",
     "output_type": "stream",
     "text": [
      "0.4200975495335234\n",
      "1 / 88\n",
      "2 / 88\n",
      "3 / 88\n",
      "4 / 88\n",
      "5 / 88\n",
      "6 / 88\n",
      "7 / 88\n",
      "8 / 88\n",
      "9 / 88\n",
      "10 / 88\n",
      "11 / 88\n",
      "12 / 88\n",
      "13 / 88\n",
      "14 / 88\n",
      "15 / 88\n",
      "16 / 88\n",
      "17 / 88\n",
      "18 / 88\n",
      "19 / 88\n",
      "20 / 88\n",
      "21 / 88\n",
      "22 / 88\n",
      "23 / 88\n",
      "24 / 88\n",
      "25 / 88\n",
      "26 / 88\n",
      "27 / 88\n",
      "28 / 88\n",
      "29 / 88\n",
      "30 / 88\n",
      "31 / 88\n",
      "32 / 88\n",
      "33 / 88\n",
      "34 / 88\n",
      "35 / 88\n",
      "36 / 88\n",
      "37 / 88\n"
     ]
    },
    {
     "data": {
      "text/html": [
       "<div>\n",
       "<style scoped>\n",
       "    .dataframe tbody tr th:only-of-type {\n",
       "        vertical-align: middle;\n",
       "    }\n",
       "\n",
       "    .dataframe tbody tr th {\n",
       "        vertical-align: top;\n",
       "    }\n",
       "\n",
       "    .dataframe thead th {\n",
       "        text-align: right;\n",
       "    }\n",
       "</style>\n",
       "<table border=\"1\" class=\"dataframe\">\n",
       "  <thead>\n",
       "    <tr style=\"text-align: right;\">\n",
       "      <th></th>\n",
       "      <th>col</th>\n",
       "      <th>degree</th>\n",
       "      <th>f1</th>\n",
       "    </tr>\n",
       "  </thead>\n",
       "  <tbody>\n",
       "  </tbody>\n",
       "</table>\n",
       "</div>"
      ],
      "text/plain": [
       "Empty DataFrame\n",
       "Columns: [col, degree, f1]\n",
       "Index: []"
      ]
     },
     "execution_count": 84,
     "metadata": {},
     "output_type": "execute_result"
    }
   ],
   "source": [
    "#from sklearn.preprocessing import PolynomialFeatures\n",
    "\n",
    "#X = df.drop('Y', axis = 1)\n",
    "\n",
    "#polys = pd.DataFrame(columns = ['col', 'degree', 'f1'])\n",
    "#logreg = LogisticRegression(class_weight = 'balanced', max_iter = 10000)\n",
    "#cv = KFold(n_splits = 5, shuffle = True, random_state = 2)\n",
    "#thresh = np.mean(cross_val_score(logreg, X, y, scoring = 'f1', cv = cv))\n",
    "print(thresh)\n",
    "\n",
    "i = 0\n",
    "for c in X.columns:\n",
    "    i += 1\n",
    "    print(i, '/', len(X.columns))\n",
    "    for deg in [2, 3, 4]: \n",
    "        X2 = X.copy()\n",
    "        poly = PolynomialFeatures(deg, include_bias = False)\n",
    "        X2[c] = poly.fit_transform(X2[[c]])\n",
    "        score = np.mean(cross_val_score(logreg, X2, y, scoring = 'f1', cv = cv))\n",
    "        if score > thresh: \n",
    "            print(c, deg, score)\n",
    "            polys.loc[len(polys)] = [c, deg, f1]\n"
   ]
  },
  {
   "cell_type": "markdown",
   "metadata": {},
   "source": [
    "### Add Interaction\n",
    "Find the most meaningful interactions and add."
   ]
  },
  {
   "cell_type": "code",
   "execution_count": 85,
   "metadata": {},
   "outputs": [
    {
     "name": "stdout",
     "output_type": "stream",
     "text": [
      "0.42071015811687423\n",
      "2 / 3828 :  ('LIMIT_BAL', 'PAY_0') :  0.4472029382146612\n",
      "3 / 3828 :  ('LIMIT_BAL', 'PAY_2') :  0.4303270425919388\n",
      "4 / 3828 :  ('LIMIT_BAL', 'PAY_3') :  0.4262544380668638\n",
      "5 / 3828 :  ('LIMIT_BAL', 'PAY_4') :  0.4247234861268497\n",
      "6 / 3828 :  ('LIMIT_BAL', 'PAY_5') :  0.4210958283161929\n",
      "7 / 3828 :  ('LIMIT_BAL', 'PAY_6') :  0.4226029532209125\n",
      "20 / 3828 :  ('LIMIT_BAL', 'SEX_1') :  0.42179478983186386\n",
      "21 / 3828 :  ('LIMIT_BAL', 'SEX_2') :  0.42163346621284675\n",
      "22 / 3828 :  ('LIMIT_BAL', 'EDUCATION_0') :  0.42085817699587497\n",
      "23 / 3828 :  ('LIMIT_BAL', 'EDUCATION_1') :  0.42121196534298383\n",
      "25 / 3828 :  ('LIMIT_BAL', 'EDUCATION_3') :  0.4211522989551682\n",
      "27 / 3828 :  ('LIMIT_BAL', 'EDUCATION_5') :  0.4216844098684869\n",
      "28 / 3828 :  ('LIMIT_BAL', 'EDUCATION_6') :  0.42083244452884766\n",
      "29 / 3828 :  ('LIMIT_BAL', 'MARRIAGE_0') :  0.4211259190470413\n",
      "30 / 3828 :  ('LIMIT_BAL', 'MARRIAGE_1') :  0.42132215511206716\n",
      "31 / 3828 :  ('LIMIT_BAL', 'MARRIAGE_2') :  0.42190871281973585\n",
      "35 / 3828 :  ('LIMIT_BAL', 'pay_hist_0') :  0.44241524429062706\n",
      "36 / 3828 :  ('LIMIT_BAL', 'pay_hist_1') :  0.42527697656931984\n",
      "37 / 3828 :  ('LIMIT_BAL', 'pay_hist_2') :  0.4851099131679421\n",
      "38 / 3828 :  ('LIMIT_BAL', 'pay_hist_3') :  0.4270995566575844\n",
      "39 / 3828 :  ('LIMIT_BAL', 'pay_hist_4') :  0.4216606455484356\n",
      "40 / 3828 :  ('LIMIT_BAL', 'pay_hist_5') :  0.421089152621162\n",
      "41 / 3828 :  ('LIMIT_BAL', 'pay_hist_6') :  0.4212479858828628\n",
      "42 / 3828 :  ('LIMIT_BAL', 'pay_hist_7') :  0.42087806805349465\n",
      "43 / 3828 :  ('LIMIT_BAL', 'pay_hist_8') :  0.42091051348579445\n",
      "58 / 3828 :  ('LIMIT_BAL', 'DEF_1') :  0.42734325480959506\n",
      "59 / 3828 :  ('LIMIT_BAL', 'DEF_2') :  0.4243908358126592\n",
      "60 / 3828 :  ('LIMIT_BAL', 'DEF_3') :  0.4272221420543767\n",
      "61 / 3828 :  ('LIMIT_BAL', 'DEF_4') :  0.42152188691480325\n",
      "62 / 3828 :  ('LIMIT_BAL', 'DEF_5') :  0.4231883926145453\n",
      "63 / 3828 :  ('LIMIT_BAL', 'DEF_6') :  0.42183380089252\n",
      "64 / 3828 :  ('LIMIT_BAL', 'N_underpayment') :  0.43453503377519076\n",
      "65 / 3828 :  ('LIMIT_BAL', 'over_lim_1') :  0.425991375836555\n",
      "66 / 3828 :  ('LIMIT_BAL', 'over_lim_2') :  0.42435280333388414\n",
      "67 / 3828 :  ('LIMIT_BAL', 'over_lim_3') :  0.42473348031216673\n",
      "68 / 3828 :  ('LIMIT_BAL', 'over_lim_4') :  0.4227571633086877\n",
      "69 / 3828 :  ('LIMIT_BAL', 'over_lim_5') :  0.4223409781838885\n",
      "70 / 3828 :  ('LIMIT_BAL', 'over_lim_6') :  0.42187715969065737\n",
      "71 / 3828 :  ('LIMIT_BAL', 'n_over_lim') :  0.4257844444276244\n",
      "74 / 3828 :  ('LIMIT_BAL', 'percent_use_3') :  0.4209129034277348\n",
      "75 / 3828 :  ('LIMIT_BAL', 'percent_use_4') :  0.42077537636398105\n",
      "77 / 3828 :  ('LIMIT_BAL', 'percent_use_6') :  0.4207703802821796\n",
      "88 / 3828 :  ('AGE', 'PAY_0') :  0.48199240980783237\n",
      "89 / 3828 :  ('AGE', 'PAY_2') :  0.43726250376148434\n",
      "90 / 3828 :  ('AGE', 'PAY_3') :  0.43815935373354575\n",
      "91 / 3828 :  ('AGE', 'PAY_4') :  0.42435698273674\n",
      "101 / 3828 :  ('AGE', 'PAY_AMT2') :  0.42240072289130265\n",
      "105 / 3828 :  ('AGE', 'PAY_AMT6') :  0.421199080611751\n",
      "106 / 3828 :  ('AGE', 'SEX_1') :  0.4234102266074217\n",
      "107 / 3828 :  ('AGE', 'SEX_2') :  0.42416104513972136\n",
      "108 / 3828 :  ('AGE', 'EDUCATION_0') :  0.421304879921347\n",
      "112 / 3828 :  ('AGE', 'EDUCATION_4') :  0.42081766033762236\n",
      "116 / 3828 :  ('AGE', 'MARRIAGE_1') :  0.4213210405694026\n",
      "117 / 3828 :  ('AGE', 'MARRIAGE_2') :  0.42649026769953197\n",
      "119 / 3828 :  ('AGE', 'pay_hist_n2') :  0.4210719885495174\n",
      "121 / 3828 :  ('AGE', 'pay_hist_0') :  0.45572680118376097\n",
      "122 / 3828 :  ('AGE', 'pay_hist_1') :  0.424455859255658\n",
      "123 / 3828 :  ('AGE', 'pay_hist_2') :  0.5114012424905534\n",
      "124 / 3828 :  ('AGE', 'pay_hist_3') :  0.42649649628410735\n",
      "125 / 3828 :  ('AGE', 'pay_hist_4') :  0.4211433519905627\n",
      "126 / 3828 :  ('AGE', 'pay_hist_5') :  0.42359431601031616\n",
      "128 / 3828 :  ('AGE', 'pay_hist_7') :  0.42105325181839565\n",
      "129 / 3828 :  ('AGE', 'pay_hist_8') :  0.42077652663860804\n",
      "144 / 3828 :  ('AGE', 'DEF_1') :  0.43659404437114496\n",
      "145 / 3828 :  ('AGE', 'DEF_2') :  0.4229379706622567\n",
      "146 / 3828 :  ('AGE', 'DEF_3') :  0.430153774326065\n",
      "147 / 3828 :  ('AGE', 'DEF_4') :  0.4223552578295661\n",
      "148 / 3828 :  ('AGE', 'DEF_5') :  0.4222685492133871\n",
      "149 / 3828 :  ('AGE', 'DEF_6') :  0.4230156705900287\n",
      "150 / 3828 :  ('AGE', 'N_underpayment') :  0.44977717729440386\n",
      "151 / 3828 :  ('AGE', 'over_lim_1') :  0.42294928968329937\n",
      "152 / 3828 :  ('AGE', 'over_lim_2') :  0.42238127020196886\n",
      "153 / 3828 :  ('AGE', 'over_lim_3') :  0.42113759040686466\n",
      "154 / 3828 :  ('AGE', 'over_lim_4') :  0.42130845519093385\n",
      "155 / 3828 :  ('AGE', 'over_lim_5') :  0.42115337069154934\n",
      "156 / 3828 :  ('AGE', 'over_lim_6') :  0.4211033248781236\n",
      "157 / 3828 :  ('AGE', 'n_over_lim') :  0.44968500138919937\n",
      "158 / 3828 :  ('AGE', 'percent_use_1') :  0.42173750165510643\n",
      "159 / 3828 :  ('AGE', 'percent_use_2') :  0.42286435771888436\n",
      "160 / 3828 :  ('AGE', 'percent_use_3') :  0.42151428532652585\n",
      "161 / 3828 :  ('AGE', 'percent_use_4') :  0.42104635280735847\n",
      "162 / 3828 :  ('AGE', 'percent_use_5') :  0.4210845053168005\n",
      "163 / 3828 :  ('AGE', 'percent_use_6') :  0.42157808424269766\n",
      "164 / 3828 :  ('AGE', 'avg_percent_use') :  0.42117879535752395\n",
      "167 / 3828 :  ('AGE', 'percent_paid_3') :  0.42116926564970886\n",
      "170 / 3828 :  ('AGE', 'percent_paid_6') :  0.4212690329071434\n",
      "171 / 3828 :  ('AGE', 'payment_patter_change') :  0.4488806801989364\n",
      "173 / 3828 :  ('AGE', 'ln_limit_bal') :  0.43459217870459743\n",
      "174 / 3828 :  ('PAY_0', 'PAY_2') :  0.42115096424127757\n",
      "178 / 3828 :  ('PAY_0', 'PAY_6') :  0.4209625478898686\n",
      "179 / 3828 :  ('PAY_0', 'BILL_AMT1') :  0.46617762514647104\n",
      "180 / 3828 :  ('PAY_0', 'BILL_AMT2') :  0.4686362854198259\n",
      "181 / 3828 :  ('PAY_0', 'BILL_AMT3') :  0.46745034234112914\n",
      "182 / 3828 :  ('PAY_0', 'BILL_AMT4') :  0.46689943730565614\n",
      "183 / 3828 :  ('PAY_0', 'BILL_AMT5') :  0.46612052194308484\n",
      "184 / 3828 :  ('PAY_0', 'BILL_AMT6') :  0.4648095973248542\n",
      "185 / 3828 :  ('PAY_0', 'PAY_AMT1') :  0.4360131896131961\n",
      "186 / 3828 :  ('PAY_0', 'PAY_AMT2') :  0.43311079673156055\n",
      "187 / 3828 :  ('PAY_0', 'PAY_AMT3') :  0.4296727169893105\n",
      "188 / 3828 :  ('PAY_0', 'PAY_AMT4') :  0.4316319134713747\n",
      "189 / 3828 :  ('PAY_0', 'PAY_AMT5') :  0.4472580871008229\n",
      "190 / 3828 :  ('PAY_0', 'PAY_AMT6') :  0.42671265039705375\n"
     ]
    },
    {
     "name": "stderr",
     "output_type": "stream",
     "text": [
      "C:\\Users\\Eunjoo\\anaconda3\\lib\\site-packages\\sklearn\\linear_model\\_logistic.py:940: ConvergenceWarning: lbfgs failed to converge (status=1):\n",
      "STOP: TOTAL NO. of ITERATIONS REACHED LIMIT.\n",
      "\n",
      "Increase the number of iterations (max_iter) or scale the data as shown in:\n",
      "    https://scikit-learn.org/stable/modules/preprocessing.html\n",
      "Please also refer to the documentation for alternative solver options:\n",
      "    https://scikit-learn.org/stable/modules/linear_model.html#logistic-regression\n",
      "  extra_warning_msg=_LOGISTIC_SOLVER_CONVERGENCE_MSG)\n"
     ]
    },
    {
     "name": "stdout",
     "output_type": "stream",
     "text": [
      "191 / 3828 :  ('PAY_0', 'SEX_1') :  0.449659842899578\n",
      "192 / 3828 :  ('PAY_0', 'SEX_2') :  0.4507840170538792\n",
      "193 / 3828 :  ('PAY_0', 'EDUCATION_0') :  0.4207521127985843\n",
      "194 / 3828 :  ('PAY_0', 'EDUCATION_1') :  0.44851092963589956\n",
      "195 / 3828 :  ('PAY_0', 'EDUCATION_2') :  0.42074760091584745\n",
      "196 / 3828 :  ('PAY_0', 'EDUCATION_3') :  0.42071090547667006\n",
      "197 / 3828 :  ('PAY_0', 'EDUCATION_4') :  0.42075096252395755\n",
      "198 / 3828 :  ('PAY_0', 'EDUCATION_5') :  0.42082204831818415\n",
      "200 / 3828 :  ('PAY_0', 'MARRIAGE_0') :  0.4207261543458281\n",
      "201 / 3828 :  ('PAY_0', 'MARRIAGE_1') :  0.4216347701437368\n",
      "204 / 3828 :  ('PAY_0', 'pay_hist_n2') :  0.4209376458439687\n",
      "206 / 3828 :  ('PAY_0', 'pay_hist_0') :  0.42755474453553016\n",
      "207 / 3828 :  ('PAY_0', 'pay_hist_1') :  0.42075096252395755\n",
      "208 / 3828 :  ('PAY_0', 'pay_hist_2') :  0.4534137579024897\n",
      "210 / 3828 :  ('PAY_0', 'pay_hist_4') :  0.4207691856792651\n",
      "211 / 3828 :  ('PAY_0', 'pay_hist_5') :  0.420722792737718\n",
      "213 / 3828 :  ('PAY_0', 'pay_hist_7') :  0.4208639929437961\n",
      "214 / 3828 :  ('PAY_0', 'pay_hist_8') :  0.4207521127985843\n",
      "215 / 3828 :  ('PAY_0', 'BAL_1') :  0.46277158568941773\n",
      "216 / 3828 :  ('PAY_0', 'BAL_2') :  0.470180123004339\n",
      "217 / 3828 :  ('PAY_0', 'BAL_3') :  0.4621664665708011\n",
      "218 / 3828 :  ('PAY_0', 'BAL_4') :  0.45974037704644716\n",
      "219 / 3828 :  ('PAY_0', 'BAL_5') :  0.46195112029236957\n",
      "220 / 3828 :  ('PAY_0', 'BAL_6') :  0.45860040255315404\n",
      "221 / 3828 :  ('PAY_0', 'BAL_change_6') :  0.4213291930500193\n",
      "222 / 3828 :  ('PAY_0', 'BAL_change_5') :  0.4215894867805978\n",
      "223 / 3828 :  ('PAY_0', 'BAL_change_4') :  0.4503110479660071\n",
      "224 / 3828 :  ('PAY_0', 'BAL_change_3') :  0.42293166298632956\n",
      "226 / 3828 :  ('PAY_0', 'cum_bal_change') :  0.42550870664807566\n",
      "227 / 3828 :  ('PAY_0', 'final_balance') :  0.46277158568941773\n",
      "228 / 3828 :  ('PAY_0', 'final_payment') :  0.4360131896131961\n",
      "229 / 3828 :  ('PAY_0', 'DEF_1') :  0.4207960795892105\n",
      "231 / 3828 :  ('PAY_0', 'DEF_3') :  0.42072729604372966\n",
      "232 / 3828 :  ('PAY_0', 'DEF_4') :  0.42082461542412997\n",
      "233 / 3828 :  ('PAY_0', 'DEF_5') :  0.42080060461484087\n",
      "234 / 3828 :  ('PAY_0', 'DEF_6') :  0.4207300498156885\n",
      "235 / 3828 :  ('PAY_0', 'N_underpayment') :  0.4208791551527336\n",
      "239 / 3828 :  ('PAY_0', 'over_lim_4') :  0.4207976429390303\n",
      "240 / 3828 :  ('PAY_0', 'over_lim_5') :  0.4212016476145685\n",
      "242 / 3828 :  ('PAY_0', 'n_over_lim') :  0.4208204849683643\n",
      "243 / 3828 :  ('PAY_0', 'percent_use_1') :  0.4207701247878269\n",
      "244 / 3828 :  ('PAY_0', 'percent_use_2') :  0.42088108297348215\n",
      "245 / 3828 :  ('PAY_0', 'percent_use_3') :  0.42081365355287254\n",
      "246 / 3828 :  ('PAY_0', 'percent_use_4') :  0.42072729604372966\n",
      "249 / 3828 :  ('PAY_0', 'avg_percent_use') :  0.4224271513282127\n",
      "252 / 3828 :  ('PAY_0', 'percent_paid_3') :  0.4209064523725809\n",
      "253 / 3828 :  ('PAY_0', 'percent_paid_4') :  0.42111768410176365\n",
      "254 / 3828 :  ('PAY_0', 'percent_paid_5') :  0.4207643885724927\n",
      "255 / 3828 :  ('PAY_0', 'percent_paid_6') :  0.4211154450785733\n",
      "256 / 3828 :  ('PAY_0', 'payment_patter_change') :  0.4208809621902343\n",
      "257 / 3828 :  ('PAY_0', 'payment_average_p') :  0.42089122515356975\n",
      "258 / 3828 :  ('PAY_0', 'ln_limit_bal') :  0.4878717561021478\n",
      "259 / 3828 :  ('PAY_2', 'PAY_3') :  0.4208160798280778\n",
      "263 / 3828 :  ('PAY_2', 'BILL_AMT1') :  0.4447233747272939\n",
      "264 / 3828 :  ('PAY_2', 'BILL_AMT2') :  0.44516045170131696\n",
      "265 / 3828 :  ('PAY_2', 'BILL_AMT3') :  0.44263499823192554\n",
      "266 / 3828 :  ('PAY_2', 'BILL_AMT4') :  0.44476853694497925\n",
      "267 / 3828 :  ('PAY_2', 'BILL_AMT5') :  0.43407754583198765\n",
      "268 / 3828 :  ('PAY_2', 'BILL_AMT6') :  0.4427822599302568\n",
      "269 / 3828 :  ('PAY_2', 'PAY_AMT1') :  0.42457940431965197\n",
      "270 / 3828 :  ('PAY_2', 'PAY_AMT2') :  0.4244207018808739\n",
      "271 / 3828 :  ('PAY_2', 'PAY_AMT3') :  0.4243909239209908\n",
      "272 / 3828 :  ('PAY_2', 'PAY_AMT4') :  0.4256489721729119\n",
      "273 / 3828 :  ('PAY_2', 'PAY_AMT5') :  0.42373877628858114\n",
      "274 / 3828 :  ('PAY_2', 'PAY_AMT6') :  0.422440692533612\n",
      "275 / 3828 :  ('PAY_2', 'SEX_1') :  0.42091501931681535\n",
      "276 / 3828 :  ('PAY_2', 'SEX_2') :  0.42092992531001944\n",
      "278 / 3828 :  ('PAY_2', 'EDUCATION_1') :  0.4208924782848152\n",
      "279 / 3828 :  ('PAY_2', 'EDUCATION_2') :  0.4207541285588731\n",
      "280 / 3828 :  ('PAY_2', 'EDUCATION_3') :  0.42077537636398105\n",
      "282 / 3828 :  ('PAY_2', 'EDUCATION_5') :  0.4214588107885759\n",
      "283 / 3828 :  ('PAY_2', 'EDUCATION_6') :  0.4207269017056238\n",
      "284 / 3828 :  ('PAY_2', 'MARRIAGE_0') :  0.4207269017056238\n",
      "285 / 3828 :  ('PAY_2', 'MARRIAGE_1') :  0.4207761992356871\n",
      "286 / 3828 :  ('PAY_2', 'MARRIAGE_2') :  0.42084026694763704\n",
      "288 / 3828 :  ('PAY_2', 'pay_hist_n2') :  0.42072965824370917\n",
      "289 / 3828 :  ('PAY_2', 'pay_hist_n1') :  0.4208879378000847\n",
      "290 / 3828 :  ('PAY_2', 'pay_hist_0') :  0.4216842415644229\n",
      "291 / 3828 :  ('PAY_2', 'pay_hist_1') :  0.42088532552511165\n",
      "292 / 3828 :  ('PAY_2', 'pay_hist_2') :  0.4213996963603716\n",
      "293 / 3828 :  ('PAY_2', 'pay_hist_3') :  0.42578918665633675\n",
      "294 / 3828 :  ('PAY_2', 'pay_hist_4') :  0.4217461556664411\n",
      "297 / 3828 :  ('PAY_2', 'pay_hist_7') :  0.42082501845486453\n",
      "298 / 3828 :  ('PAY_2', 'pay_hist_8') :  0.42076766963493234\n",
      "299 / 3828 :  ('PAY_2', 'BAL_1') :  0.4430786517904047\n",
      "300 / 3828 :  ('PAY_2', 'BAL_2') :  0.4430491448333564\n",
      "301 / 3828 :  ('PAY_2', 'BAL_3') :  0.43921004097540467\n",
      "302 / 3828 :  ('PAY_2', 'BAL_4') :  0.4399312831535723\n",
      "303 / 3828 :  ('PAY_2', 'BAL_5') :  0.4400809534216574\n",
      "304 / 3828 :  ('PAY_2', 'BAL_6') :  0.43874375746034433\n",
      "305 / 3828 :  ('PAY_2', 'BAL_change_6') :  0.4208733553229729\n",
      "307 / 3828 :  ('PAY_2', 'BAL_change_4') :  0.4483289661405816\n",
      "308 / 3828 :  ('PAY_2', 'BAL_change_3') :  0.4216108953988695\n",
      "310 / 3828 :  ('PAY_2', 'cum_bal_change') :  0.4237721060770616\n",
      "311 / 3828 :  ('PAY_2', 'final_balance') :  0.4430786517904047\n",
      "312 / 3828 :  ('PAY_2', 'final_payment') :  0.42457940431965197\n",
      "313 / 3828 :  ('PAY_2', 'DEF_1') :  0.4207207278078633\n",
      "316 / 3828 :  ('PAY_2', 'DEF_4') :  0.42086765294878653\n",
      "318 / 3828 :  ('PAY_2', 'DEF_6') :  0.42084489880838793\n",
      "319 / 3828 :  ('PAY_2', 'N_underpayment') :  0.4212920057060375\n",
      "320 / 3828 :  ('PAY_2', 'over_lim_1') :  0.4207265571448037\n",
      "322 / 3828 :  ('PAY_2', 'over_lim_3') :  0.42071090547667006\n",
      "323 / 3828 :  ('PAY_2', 'over_lim_4') :  0.42082501845486453\n",
      "327 / 3828 :  ('PAY_2', 'percent_use_1') :  0.42075056818585166\n",
      "328 / 3828 :  ('PAY_2', 'percent_use_2') :  0.42081820851595025\n",
      "329 / 3828 :  ('PAY_2', 'percent_use_3') :  0.4208186113149259\n",
      "330 / 3828 :  ('PAY_2', 'percent_use_4') :  0.4208436359482779\n",
      "332 / 3828 :  ('PAY_2', 'percent_use_6') :  0.4207265571448037\n",
      "336 / 3828 :  ('PAY_2', 'percent_paid_3') :  0.4208868284559313\n",
      "337 / 3828 :  ('PAY_2', 'percent_paid_4') :  0.42093414691911657\n",
      "338 / 3828 :  ('PAY_2', 'percent_paid_5') :  0.4210144389202215\n",
      "339 / 3828 :  ('PAY_2', 'percent_paid_6') :  0.4208563104966759\n",
      "341 / 3828 :  ('PAY_2', 'payment_average_p') :  0.42111197747196166\n",
      "342 / 3828 :  ('PAY_2', 'ln_limit_bal') :  0.43469461703598045\n",
      "343 / 3828 :  ('PAY_3', 'PAY_4') :  0.42095451379705295\n",
      "345 / 3828 :  ('PAY_3', 'PAY_6') :  0.42089855970862217\n",
      "346 / 3828 :  ('PAY_3', 'BILL_AMT1') :  0.4382390343530342\n",
      "347 / 3828 :  ('PAY_3', 'BILL_AMT2') :  0.4385243300297718\n",
      "348 / 3828 :  ('PAY_3', 'BILL_AMT3') :  0.4375603751953793\n",
      "349 / 3828 :  ('PAY_3', 'BILL_AMT4') :  0.439236775891574\n",
      "350 / 3828 :  ('PAY_3', 'BILL_AMT5') :  0.4385705881319916\n",
      "351 / 3828 :  ('PAY_3', 'BILL_AMT6') :  0.4394686921349032\n",
      "352 / 3828 :  ('PAY_3', 'PAY_AMT1') :  0.4293587548551103\n",
      "354 / 3828 :  ('PAY_3', 'PAY_AMT3') :  0.42278727946835\n",
      "355 / 3828 :  ('PAY_3', 'PAY_AMT4') :  0.4239276269518552\n",
      "356 / 3828 :  ('PAY_3', 'PAY_AMT5') :  0.4232224012432703\n",
      "357 / 3828 :  ('PAY_3', 'PAY_AMT6') :  0.4216896776188754\n",
      "359 / 3828 :  ('PAY_3', 'SEX_2') :  0.42081225858661947\n",
      "360 / 3828 :  ('PAY_3', 'EDUCATION_0') :  0.4207265571448037\n",
      "361 / 3828 :  ('PAY_3', 'EDUCATION_1') :  0.4209343985759195\n",
      "364 / 3828 :  ('PAY_3', 'EDUCATION_4') :  0.4207277074194306\n",
      "365 / 3828 :  ('PAY_3', 'EDUCATION_5') :  0.4212044245939943\n",
      "366 / 3828 :  ('PAY_3', 'EDUCATION_6') :  0.4207928690936599\n",
      "368 / 3828 :  ('PAY_3', 'MARRIAGE_1') :  0.420793602615829\n",
      "369 / 3828 :  ('PAY_3', 'MARRIAGE_2') :  0.4209779390043587\n",
      "370 / 3828 :  ('PAY_3', 'MARRIAGE_3') :  0.42075327986906075\n",
      "371 / 3828 :  ('PAY_3', 'pay_hist_n2') :  0.4207216550503769\n",
      "372 / 3828 :  ('PAY_3', 'pay_hist_n1') :  0.42100230309312087\n",
      "373 / 3828 :  ('PAY_3', 'pay_hist_0') :  0.4211335704721259\n",
      "374 / 3828 :  ('PAY_3', 'pay_hist_1') :  0.42072729604372966\n",
      "375 / 3828 :  ('PAY_3', 'pay_hist_2') :  0.4210029579120047\n",
      "376 / 3828 :  ('PAY_3', 'pay_hist_3') :  0.4217714186697032\n",
      "377 / 3828 :  ('PAY_3', 'pay_hist_4') :  0.4212118946431904\n",
      "379 / 3828 :  ('PAY_3', 'pay_hist_6') :  0.45273658555601015\n",
      "381 / 3828 :  ('PAY_3', 'pay_hist_8') :  0.4208001931188359\n",
      "382 / 3828 :  ('PAY_3', 'BAL_1') :  0.43664449601602734\n",
      "383 / 3828 :  ('PAY_3', 'BAL_2') :  0.438015139707661\n",
      "384 / 3828 :  ('PAY_3', 'BAL_3') :  0.43584943631330403\n",
      "385 / 3828 :  ('PAY_3', 'BAL_4') :  0.4374321583675444\n",
      "386 / 3828 :  ('PAY_3', 'BAL_5') :  0.4377005017621247\n",
      "387 / 3828 :  ('PAY_3', 'BAL_6') :  0.43658474277404546\n",
      "391 / 3828 :  ('PAY_3', 'BAL_change_3') :  0.4225846376535736\n",
      "392 / 3828 :  ('PAY_3', 'BAL_change_2') :  0.4226414456085326\n",
      "394 / 3828 :  ('PAY_3', 'final_balance') :  0.43664449601602734\n",
      "395 / 3828 :  ('PAY_3', 'final_payment') :  0.4293587548551103\n",
      "396 / 3828 :  ('PAY_3', 'DEF_1') :  0.42082569826707644\n",
      "397 / 3828 :  ('PAY_3', 'DEF_2') :  0.4207284545330321\n",
      "398 / 3828 :  ('PAY_3', 'DEF_3') :  0.42084375218513365\n",
      "399 / 3828 :  ('PAY_3', 'DEF_4') :  0.42084169449603026\n",
      "400 / 3828 :  ('PAY_3', 'DEF_5') :  0.4486319766645351\n",
      "402 / 3828 :  ('PAY_3', 'N_underpayment') :  0.42262560281759826\n",
      "408 / 3828 :  ('PAY_3', 'over_lim_6') :  0.42075286837305564\n",
      "409 / 3828 :  ('PAY_3', 'n_over_lim') :  0.4236344074126368\n",
      "410 / 3828 :  ('PAY_3', 'percent_use_1') :  0.42209410975852685\n",
      "411 / 3828 :  ('PAY_3', 'percent_use_2') :  0.4208657689231365\n",
      "412 / 3828 :  ('PAY_3', 'percent_use_3') :  0.42075137389965844\n",
      "413 / 3828 :  ('PAY_3', 'percent_use_4') :  0.4208165355738878\n",
      "414 / 3828 :  ('PAY_3', 'percent_use_5') :  0.42095275858632974\n",
      "415 / 3828 :  ('PAY_3', 'percent_use_6') :  0.4208347559728138\n",
      "416 / 3828 :  ('PAY_3', 'avg_percent_use') :  0.4207928690936599\n",
      "418 / 3828 :  ('PAY_3', 'percent_paid_2') :  0.44942565542307467\n",
      "419 / 3828 :  ('PAY_3', 'percent_paid_3') :  0.4249575316444189\n",
      "421 / 3828 :  ('PAY_3', 'percent_paid_5') :  0.42071624309943273\n",
      "422 / 3828 :  ('PAY_3', 'percent_paid_6') :  0.4211113531678657\n"
     ]
    },
    {
     "name": "stderr",
     "output_type": "stream",
     "text": [
      "C:\\Users\\Eunjoo\\anaconda3\\lib\\site-packages\\sklearn\\linear_model\\_logistic.py:940: ConvergenceWarning: lbfgs failed to converge (status=1):\n",
      "STOP: TOTAL NO. of ITERATIONS REACHED LIMIT.\n",
      "\n",
      "Increase the number of iterations (max_iter) or scale the data as shown in:\n",
      "    https://scikit-learn.org/stable/modules/preprocessing.html\n",
      "Please also refer to the documentation for alternative solver options:\n",
      "    https://scikit-learn.org/stable/modules/linear_model.html#logistic-regression\n",
      "  extra_warning_msg=_LOGISTIC_SOLVER_CONVERGENCE_MSG)\n"
     ]
    },
    {
     "name": "stdout",
     "output_type": "stream",
     "text": [
      "423 / 3828 :  ('PAY_3', 'payment_patter_change') :  0.4674097212226485\n",
      "424 / 3828 :  ('PAY_3', 'payment_average_p') :  0.4208835950076195\n",
      "425 / 3828 :  ('PAY_3', 'ln_limit_bal') :  0.43192268543255535\n",
      "426 / 3828 :  ('PAY_4', 'PAY_5') :  0.421713209538483\n",
      "427 / 3828 :  ('PAY_4', 'PAY_6') :  0.4209339375210681\n",
      "428 / 3828 :  ('PAY_4', 'BILL_AMT1') :  0.42971211527283676\n",
      "430 / 3828 :  ('PAY_4', 'BILL_AMT3') :  0.4337832891911328\n",
      "431 / 3828 :  ('PAY_4', 'BILL_AMT4') :  0.4348266786005688\n",
      "432 / 3828 :  ('PAY_4', 'BILL_AMT5') :  0.4337887612312166\n",
      "433 / 3828 :  ('PAY_4', 'BILL_AMT6') :  0.43403904351796135\n",
      "434 / 3828 :  ('PAY_4', 'PAY_AMT1') :  0.42596586908726025\n",
      "435 / 3828 :  ('PAY_4', 'PAY_AMT2') :  0.42418304119947026\n",
      "437 / 3828 :  ('PAY_4', 'PAY_AMT4') :  0.42250014880743564\n",
      "438 / 3828 :  ('PAY_4', 'PAY_AMT5') :  0.42165528036934236\n",
      "439 / 3828 :  ('PAY_4', 'PAY_AMT6') :  0.42185007306207956\n",
      "440 / 3828 :  ('PAY_4', 'SEX_1') :  0.4207456832315423\n",
      "441 / 3828 :  ('PAY_4', 'SEX_2') :  0.42072729604372966\n",
      "442 / 3828 :  ('PAY_4', 'EDUCATION_0') :  0.44735147690073535\n",
      "443 / 3828 :  ('PAY_4', 'EDUCATION_1') :  0.4208013519746367\n",
      "444 / 3828 :  ('PAY_4', 'EDUCATION_2') :  0.42076430528667524\n",
      "445 / 3828 :  ('PAY_4', 'EDUCATION_3') :  0.4207544636557121\n",
      "447 / 3828 :  ('PAY_4', 'EDUCATION_5') :  0.42075286837305564\n",
      "448 / 3828 :  ('PAY_4', 'EDUCATION_6') :  0.420776938134613\n",
      "449 / 3828 :  ('PAY_4', 'MARRIAGE_0') :  0.42081933834511015\n",
      "451 / 3828 :  ('PAY_4', 'MARRIAGE_2') :  0.4348795767579113\n",
      "452 / 3828 :  ('PAY_4', 'MARRIAGE_3') :  0.42075056818585166\n",
      "455 / 3828 :  ('PAY_4', 'pay_hist_0') :  0.4209532397659355\n",
      "456 / 3828 :  ('PAY_4', 'pay_hist_1') :  0.4207761992356871\n",
      "458 / 3828 :  ('PAY_4', 'pay_hist_3') :  0.42077736667711335\n",
      "460 / 3828 :  ('PAY_4', 'pay_hist_5') :  0.4207521127985843\n",
      "461 / 3828 :  ('PAY_4', 'pay_hist_6') :  0.4207300498156885\n",
      "463 / 3828 :  ('PAY_4', 'pay_hist_8') :  0.4207261543458281\n",
      "464 / 3828 :  ('PAY_4', 'BAL_1') :  0.4287407414193514\n",
      "465 / 3828 :  ('PAY_4', 'BAL_2') :  0.4327474037671017\n",
      "466 / 3828 :  ('PAY_4', 'BAL_3') :  0.4327806300360804\n",
      "467 / 3828 :  ('PAY_4', 'BAL_4') :  0.4314562497494642\n",
      "468 / 3828 :  ('PAY_4', 'BAL_5') :  0.4324387310942616\n",
      "469 / 3828 :  ('PAY_4', 'BAL_6') :  0.43029113870178043\n",
      "470 / 3828 :  ('PAY_4', 'BAL_change_6') :  0.4210055104771521\n",
      "472 / 3828 :  ('PAY_4', 'BAL_change_4') :  0.42182615752290803\n",
      "474 / 3828 :  ('PAY_4', 'BAL_change_2') :  0.42160318797691376\n",
      "475 / 3828 :  ('PAY_4', 'cum_bal_change') :  0.4209512524735055\n",
      "476 / 3828 :  ('PAY_4', 'final_balance') :  0.4287407414193514\n",
      "477 / 3828 :  ('PAY_4', 'final_payment') :  0.42596586908726025\n",
      "481 / 3828 :  ('PAY_4', 'DEF_4') :  0.44948687470932036\n",
      "483 / 3828 :  ('PAY_4', 'DEF_6') :  0.4207720263135341\n",
      "484 / 3828 :  ('PAY_4', 'N_underpayment') :  0.449159354246006\n",
      "487 / 3828 :  ('PAY_4', 'over_lim_3') :  0.4208001931188359\n",
      "489 / 3828 :  ('PAY_4', 'over_lim_5') :  0.420728051618201\n",
      "490 / 3828 :  ('PAY_4', 'over_lim_6') :  0.4479296131968593\n",
      "495 / 3828 :  ('PAY_4', 'percent_use_4') :  0.42082461542412997\n",
      "500 / 3828 :  ('PAY_4', 'percent_paid_2') :  0.42075211435836746\n",
      "502 / 3828 :  ('PAY_4', 'percent_paid_4') :  0.4207295742088133\n",
      "503 / 3828 :  ('PAY_4', 'percent_paid_5') :  0.4212435878939574\n",
      "504 / 3828 :  ('PAY_4', 'percent_paid_6') :  0.4208520527588348\n",
      "505 / 3828 :  ('PAY_4', 'payment_patter_change') :  0.43805330291718225\n",
      "506 / 3828 :  ('PAY_4', 'payment_average_p') :  0.4208184107939584\n",
      "507 / 3828 :  ('PAY_4', 'ln_limit_bal') :  0.42684525464947826\n",
      "508 / 3828 :  ('PAY_5', 'PAY_6') :  0.44779537464283875\n",
      "509 / 3828 :  ('PAY_5', 'BILL_AMT1') :  0.426592686921274\n",
      "510 / 3828 :  ('PAY_5', 'BILL_AMT2') :  0.42726078596017647\n",
      "511 / 3828 :  ('PAY_5', 'BILL_AMT3') :  0.42905069963676706\n",
      "512 / 3828 :  ('PAY_5', 'BILL_AMT4') :  0.4313172074666552\n",
      "513 / 3828 :  ('PAY_5', 'BILL_AMT5') :  0.4311800892229398\n",
      "514 / 3828 :  ('PAY_5', 'BILL_AMT6') :  0.43177220219206397\n",
      "515 / 3828 :  ('PAY_5', 'PAY_AMT1') :  0.4246764090994776\n",
      "516 / 3828 :  ('PAY_5', 'PAY_AMT2') :  0.4240939189888903\n",
      "517 / 3828 :  ('PAY_5', 'PAY_AMT3') :  0.42358152567668156\n",
      "518 / 3828 :  ('PAY_5', 'PAY_AMT4') :  0.42233077118554085\n",
      "519 / 3828 :  ('PAY_5', 'PAY_AMT5') :  0.42206462518773186\n",
      "520 / 3828 :  ('PAY_5', 'PAY_AMT6') :  0.4215774277809534\n",
      "522 / 3828 :  ('PAY_5', 'SEX_2') :  0.4208680528848418\n",
      "523 / 3828 :  ('PAY_5', 'EDUCATION_0') :  0.4207757792788122\n",
      "526 / 3828 :  ('PAY_5', 'EDUCATION_3') :  0.42077652663860804\n",
      "527 / 3828 :  ('PAY_5', 'EDUCATION_4') :  0.4207956682135096\n",
      "528 / 3828 :  ('PAY_5', 'EDUCATION_5') :  0.4207947941222032\n",
      "529 / 3828 :  ('PAY_5', 'EDUCATION_6') :  0.45125776566872866\n",
      "533 / 3828 :  ('PAY_5', 'MARRIAGE_3') :  0.4207936246681312\n",
      "535 / 3828 :  ('PAY_5', 'pay_hist_n1') :  0.4207695701444006\n",
      "537 / 3828 :  ('PAY_5', 'pay_hist_1') :  0.42169776109277657\n",
      "538 / 3828 :  ('PAY_5', 'pay_hist_2') :  0.42287459859499005\n",
      "539 / 3828 :  ('PAY_5', 'pay_hist_3') :  0.42084375218513365\n",
      "540 / 3828 :  ('PAY_5', 'pay_hist_4') :  0.42075137389965844\n"
     ]
    },
    {
     "name": "stderr",
     "output_type": "stream",
     "text": [
      "C:\\Users\\Eunjoo\\anaconda3\\lib\\site-packages\\sklearn\\linear_model\\_logistic.py:940: ConvergenceWarning: lbfgs failed to converge (status=1):\n",
      "STOP: TOTAL NO. of ITERATIONS REACHED LIMIT.\n",
      "\n",
      "Increase the number of iterations (max_iter) or scale the data as shown in:\n",
      "    https://scikit-learn.org/stable/modules/preprocessing.html\n",
      "Please also refer to the documentation for alternative solver options:\n",
      "    https://scikit-learn.org/stable/modules/linear_model.html#logistic-regression\n",
      "  extra_warning_msg=_LOGISTIC_SOLVER_CONVERGENCE_MSG)\n"
     ]
    },
    {
     "name": "stdout",
     "output_type": "stream",
     "text": [
      "541 / 3828 :  ('PAY_5', 'pay_hist_5') :  0.445565959572153\n",
      "542 / 3828 :  ('PAY_5', 'pay_hist_6') :  0.4208001931188359\n",
      "543 / 3828 :  ('PAY_5', 'pay_hist_7') :  0.42077652663860804\n",
      "545 / 3828 :  ('PAY_5', 'BAL_1') :  0.42770308433979115\n",
      "546 / 3828 :  ('PAY_5', 'BAL_2') :  0.427630634598191\n",
      "548 / 3828 :  ('PAY_5', 'BAL_4') :  0.4554603152275414\n",
      "549 / 3828 :  ('PAY_5', 'BAL_5') :  0.43070035391927813\n",
      "550 / 3828 :  ('PAY_5', 'BAL_6') :  0.42962705244570837\n",
      "551 / 3828 :  ('PAY_5', 'BAL_change_6') :  0.42107854724917165\n",
      "552 / 3828 :  ('PAY_5', 'BAL_change_5') :  0.4207884854194008\n",
      "553 / 3828 :  ('PAY_5', 'BAL_change_4') :  0.4209391958256958\n",
      "555 / 3828 :  ('PAY_5', 'BAL_change_2') :  0.42172317767792616\n",
      "556 / 3828 :  ('PAY_5', 'cum_bal_change') :  0.4212502626246817\n",
      "557 / 3828 :  ('PAY_5', 'final_balance') :  0.42770308433979115\n",
      "558 / 3828 :  ('PAY_5', 'final_payment') :  0.4246764090994776\n",
      "559 / 3828 :  ('PAY_5', 'DEF_1') :  0.4208020317868486\n",
      "561 / 3828 :  ('PAY_5', 'DEF_3') :  0.4208663089265923\n",
      "562 / 3828 :  ('PAY_5', 'DEF_4') :  0.4208436359482779\n",
      "563 / 3828 :  ('PAY_5', 'DEF_5') :  0.4208001931188359\n",
      "564 / 3828 :  ('PAY_5', 'DEF_6') :  0.42072729604372966\n",
      "565 / 3828 :  ('PAY_5', 'N_underpayment') :  0.42081781893688713\n",
      "566 / 3828 :  ('PAY_5', 'over_lim_1') :  0.4495124776293012\n",
      "568 / 3828 :  ('PAY_5', 'over_lim_3') :  0.42081974972081104\n",
      "569 / 3828 :  ('PAY_5', 'over_lim_4') :  0.420776938134613\n",
      "570 / 3828 :  ('PAY_5', 'over_lim_5') :  0.42156490161091953\n",
      "571 / 3828 :  ('PAY_5', 'over_lim_6') :  0.4209504844449645\n",
      "572 / 3828 :  ('PAY_5', 'n_over_lim') :  0.42072766574536563\n",
      "574 / 3828 :  ('PAY_5', 'percent_use_2') :  0.4207960795892105\n",
      "575 / 3828 :  ('PAY_5', 'percent_use_3') :  0.42072576858000216\n",
      "576 / 3828 :  ('PAY_5', 'percent_use_4') :  0.4218719903513725\n",
      "577 / 3828 :  ('PAY_5', 'percent_use_5') :  0.4207521127985843\n",
      "579 / 3828 :  ('PAY_5', 'avg_percent_use') :  0.44782162715628376\n",
      "585 / 3828 :  ('PAY_5', 'percent_paid_6') :  0.4209038530256714\n",
      "586 / 3828 :  ('PAY_5', 'payment_patter_change') :  0.42077947981911396\n",
      "587 / 3828 :  ('PAY_5', 'payment_average_p') :  0.42075279239613733\n",
      "588 / 3828 :  ('PAY_5', 'ln_limit_bal') :  0.4236736144671172\n",
      "589 / 3828 :  ('PAY_6', 'BILL_AMT1') :  0.42589682771081905\n",
      "590 / 3828 :  ('PAY_6', 'BILL_AMT2') :  0.42632350511397715\n",
      "591 / 3828 :  ('PAY_6', 'BILL_AMT3') :  0.42743638329327666\n",
      "592 / 3828 :  ('PAY_6', 'BILL_AMT4') :  0.4278714074843539\n",
      "593 / 3828 :  ('PAY_6', 'BILL_AMT5') :  0.42857331117894687\n",
      "594 / 3828 :  ('PAY_6', 'BILL_AMT6') :  0.43010366304500897\n",
      "595 / 3828 :  ('PAY_6', 'PAY_AMT1') :  0.4226273228819945\n",
      "596 / 3828 :  ('PAY_6', 'PAY_AMT2') :  0.4229346841500807\n",
      "597 / 3828 :  ('PAY_6', 'PAY_AMT3') :  0.4229367566980877\n",
      "598 / 3828 :  ('PAY_6', 'PAY_AMT4') :  0.4239407109475617\n",
      "599 / 3828 :  ('PAY_6', 'PAY_AMT5') :  0.42149293446422925\n",
      "600 / 3828 :  ('PAY_6', 'PAY_AMT6') :  0.42183131943308866\n",
      "602 / 3828 :  ('PAY_6', 'SEX_2') :  0.42075137389965844\n",
      "603 / 3828 :  ('PAY_6', 'EDUCATION_0') :  0.4208013519746367\n",
      "604 / 3828 :  ('PAY_6', 'EDUCATION_1') :  0.4207521127985843\n",
      "607 / 3828 :  ('PAY_6', 'EDUCATION_4') :  0.4208905970115211\n",
      "608 / 3828 :  ('PAY_6', 'EDUCATION_5') :  0.42137923050970594\n",
      "610 / 3828 :  ('PAY_6', 'MARRIAGE_0') :  0.42072729604372966\n",
      "611 / 3828 :  ('PAY_6', 'MARRIAGE_1') :  0.42086898043599347\n",
      "612 / 3828 :  ('PAY_6', 'MARRIAGE_2') :  0.4207199775958632\n",
      "613 / 3828 :  ('PAY_6', 'MARRIAGE_3') :  0.4207517098837532\n",
      "616 / 3828 :  ('PAY_6', 'pay_hist_0') :  0.4207521127985843\n",
      "617 / 3828 :  ('PAY_6', 'pay_hist_1') :  0.4207265571448037\n",
      "619 / 3828 :  ('PAY_6', 'pay_hist_3') :  0.4207517098837532\n",
      "622 / 3828 :  ('PAY_6', 'pay_hist_6') :  0.42073457195689795\n",
      "623 / 3828 :  ('PAY_6', 'pay_hist_7') :  0.420776938134613\n",
      "624 / 3828 :  ('PAY_6', 'pay_hist_8') :  0.42073457195689795\n",
      "625 / 3828 :  ('PAY_6', 'BAL_1') :  0.4255572674590824\n",
      "626 / 3828 :  ('PAY_6', 'BAL_2') :  0.4263083038972344\n",
      "627 / 3828 :  ('PAY_6', 'BAL_3') :  0.4267073724584072\n",
      "628 / 3828 :  ('PAY_6', 'BAL_4') :  0.42753259745704897\n",
      "629 / 3828 :  ('PAY_6', 'BAL_5') :  0.42782979964829354\n",
      "631 / 3828 :  ('PAY_6', 'BAL_change_6') :  0.42109280835670665\n",
      "633 / 3828 :  ('PAY_6', 'BAL_change_4') :  0.4209086544163166\n",
      "635 / 3828 :  ('PAY_6', 'BAL_change_2') :  0.42100128882309834\n",
      "636 / 3828 :  ('PAY_6', 'cum_bal_change') :  0.4212338987121457\n",
      "637 / 3828 :  ('PAY_6', 'final_balance') :  0.4255572674590824\n",
      "638 / 3828 :  ('PAY_6', 'final_payment') :  0.4226273228819945\n",
      "639 / 3828 :  ('PAY_6', 'DEF_1') :  0.42071090547667006\n",
      "640 / 3828 :  ('PAY_6', 'DEF_2') :  0.42075056818585166\n",
      "641 / 3828 :  ('PAY_6', 'DEF_3') :  0.42075370841156107\n",
      "642 / 3828 :  ('PAY_6', 'DEF_4') :  0.42077652663860804\n",
      "643 / 3828 :  ('PAY_6', 'DEF_5') :  0.42077537636398105\n",
      "644 / 3828 :  ('PAY_6', 'DEF_6') :  0.42088727237789936\n",
      "647 / 3828 :  ('PAY_6', 'over_lim_2') :  0.4207776937090843\n",
      "648 / 3828 :  ('PAY_6', 'over_lim_3') :  0.42072576858000216\n",
      "649 / 3828 :  ('PAY_6', 'over_lim_4') :  0.42134974424454485\n",
      "650 / 3828 :  ('PAY_6', 'over_lim_5') :  0.420776938134613\n",
      "655 / 3828 :  ('PAY_6', 'percent_use_3') :  0.42084531030439293\n",
      "656 / 3828 :  ('PAY_6', 'percent_use_4') :  0.42077652663860804\n",
      "657 / 3828 :  ('PAY_6', 'percent_use_5') :  0.4207277074194306\n",
      "658 / 3828 :  ('PAY_6', 'percent_use_6') :  0.42082543853649507\n",
      "659 / 3828 :  ('PAY_6', 'avg_percent_use') :  0.42075096252395755\n",
      "660 / 3828 :  ('PAY_6', 'percent_paid_1') :  0.4207111798064837\n",
      "661 / 3828 :  ('PAY_6', 'percent_paid_2') :  0.42076182401953366\n",
      "664 / 3828 :  ('PAY_6', 'percent_paid_5') :  0.4207724460684652\n",
      "667 / 3828 :  ('PAY_6', 'payment_average_p') :  0.42517630759380665\n",
      "668 / 3828 :  ('PAY_6', 'ln_limit_bal') :  0.4229866755952087\n",
      "680 / 3828 :  ('BILL_AMT1', 'SEX_1') :  0.4226604925296067\n",
      "681 / 3828 :  ('BILL_AMT1', 'SEX_2') :  0.44062074441892135\n",
      "683 / 3828 :  ('BILL_AMT1', 'EDUCATION_1') :  0.42155475018024774\n",
      "684 / 3828 :  ('BILL_AMT1', 'EDUCATION_2') :  0.4218480250063452\n",
      "685 / 3828 :  ('BILL_AMT1', 'EDUCATION_3') :  0.42117151499854727\n",
      "686 / 3828 :  ('BILL_AMT1', 'EDUCATION_4') :  0.4209041535256315\n",
      "687 / 3828 :  ('BILL_AMT1', 'EDUCATION_5') :  0.42130225989671805\n",
      "688 / 3828 :  ('BILL_AMT1', 'EDUCATION_6') :  0.42102493164155014\n",
      "689 / 3828 :  ('BILL_AMT1', 'MARRIAGE_0') :  0.4207273972270966\n",
      "690 / 3828 :  ('BILL_AMT1', 'MARRIAGE_1') :  0.42302175374173956\n",
      "691 / 3828 :  ('BILL_AMT1', 'MARRIAGE_2') :  0.42301584154098254\n",
      "692 / 3828 :  ('BILL_AMT1', 'MARRIAGE_3') :  0.4209474671033662\n",
      "693 / 3828 :  ('BILL_AMT1', 'pay_hist_n2') :  0.4213559113316165\n",
      "695 / 3828 :  ('BILL_AMT1', 'pay_hist_0') :  0.462606055476887\n",
      "696 / 3828 :  ('BILL_AMT1', 'pay_hist_1') :  0.4221123086337579\n",
      "697 / 3828 :  ('BILL_AMT1', 'pay_hist_2') :  0.47246670367335236\n",
      "698 / 3828 :  ('BILL_AMT1', 'pay_hist_3') :  0.424653390319427\n",
      "699 / 3828 :  ('BILL_AMT1', 'pay_hist_4') :  0.42190247460067676\n",
      "700 / 3828 :  ('BILL_AMT1', 'pay_hist_5') :  0.4211305560920909\n",
      "701 / 3828 :  ('BILL_AMT1', 'pay_hist_6') :  0.4211539287479125\n",
      "702 / 3828 :  ('BILL_AMT1', 'pay_hist_7') :  0.42112729679839145\n",
      "703 / 3828 :  ('BILL_AMT1', 'pay_hist_8') :  0.4530422606612414\n",
      "718 / 3828 :  ('BILL_AMT1', 'DEF_1') :  0.42560342925615974\n",
      "719 / 3828 :  ('BILL_AMT1', 'DEF_2') :  0.4264473933212542\n",
      "720 / 3828 :  ('BILL_AMT1', 'DEF_3') :  0.4242077245326561\n",
      "721 / 3828 :  ('BILL_AMT1', 'DEF_4') :  0.4224199307459187\n",
      "722 / 3828 :  ('BILL_AMT1', 'DEF_5') :  0.42238058164202275\n",
      "723 / 3828 :  ('BILL_AMT1', 'DEF_6') :  0.42267586380829\n",
      "724 / 3828 :  ('BILL_AMT1', 'N_underpayment') :  0.44035149016951297\n",
      "725 / 3828 :  ('BILL_AMT1', 'over_lim_1') :  0.4262886084130151\n",
      "726 / 3828 :  ('BILL_AMT1', 'over_lim_2') :  0.42435593013601175\n",
      "727 / 3828 :  ('BILL_AMT1', 'over_lim_3') :  0.4232244970055345\n",
      "728 / 3828 :  ('BILL_AMT1', 'over_lim_4') :  0.42157245968793394\n",
      "729 / 3828 :  ('BILL_AMT1', 'over_lim_5') :  0.4504343652631186\n",
      "730 / 3828 :  ('BILL_AMT1', 'over_lim_6') :  0.4215990256749224\n",
      "731 / 3828 :  ('BILL_AMT1', 'n_over_lim') :  0.42572654795519327\n",
      "732 / 3828 :  ('BILL_AMT1', 'percent_use_1') :  0.426146421637116\n",
      "733 / 3828 :  ('BILL_AMT1', 'percent_use_2') :  0.42590232900162245\n",
      "734 / 3828 :  ('BILL_AMT1', 'percent_use_3') :  0.4225037266422957\n",
      "735 / 3828 :  ('BILL_AMT1', 'percent_use_4') :  0.42243173229919034\n",
      "736 / 3828 :  ('BILL_AMT1', 'percent_use_5') :  0.42260421023502265\n",
      "737 / 3828 :  ('BILL_AMT1', 'percent_use_6') :  0.42140030397181755\n",
      "738 / 3828 :  ('BILL_AMT1', 'avg_percent_use') :  0.42279257840326884\n",
      "744 / 3828 :  ('BILL_AMT1', 'percent_paid_6') :  0.4210455198043362\n",
      "745 / 3828 :  ('BILL_AMT1', 'payment_patter_change') :  0.4210683445117489\n",
      "758 / 3828 :  ('BILL_AMT2', 'SEX_1') :  0.42228983187710606\n",
      "759 / 3828 :  ('BILL_AMT2', 'SEX_2') :  0.42236697904462145\n",
      "760 / 3828 :  ('BILL_AMT2', 'EDUCATION_0') :  0.4207879672051836\n",
      "761 / 3828 :  ('BILL_AMT2', 'EDUCATION_1') :  0.42097215269987304\n",
      "762 / 3828 :  ('BILL_AMT2', 'EDUCATION_2') :  0.4219034201426561\n",
      "763 / 3828 :  ('BILL_AMT2', 'EDUCATION_3') :  0.4256962712863584\n",
      "764 / 3828 :  ('BILL_AMT2', 'EDUCATION_4') :  0.4207684556862732\n",
      "765 / 3828 :  ('BILL_AMT2', 'EDUCATION_5') :  0.42134495813622647\n",
      "766 / 3828 :  ('BILL_AMT2', 'EDUCATION_6') :  0.42091427171070367\n",
      "767 / 3828 :  ('BILL_AMT2', 'MARRIAGE_0') :  0.42084189508656883\n",
      "768 / 3828 :  ('BILL_AMT2', 'MARRIAGE_1') :  0.42265860501044855\n",
      "769 / 3828 :  ('BILL_AMT2', 'MARRIAGE_2') :  0.4226400893810496\n",
      "771 / 3828 :  ('BILL_AMT2', 'pay_hist_n2') :  0.42080103315734124\n",
      "773 / 3828 :  ('BILL_AMT2', 'pay_hist_0') :  0.463840954443995\n",
      "774 / 3828 :  ('BILL_AMT2', 'pay_hist_1') :  0.4225422417759979\n",
      "775 / 3828 :  ('BILL_AMT2', 'pay_hist_2') :  0.4714799745853357\n",
      "776 / 3828 :  ('BILL_AMT2', 'pay_hist_3') :  0.4248125710002108\n",
      "777 / 3828 :  ('BILL_AMT2', 'pay_hist_4') :  0.42196927041820725\n",
      "778 / 3828 :  ('BILL_AMT2', 'pay_hist_5') :  0.42115428844402497\n",
      "779 / 3828 :  ('BILL_AMT2', 'pay_hist_6') :  0.42098920991819294\n",
      "780 / 3828 :  ('BILL_AMT2', 'pay_hist_7') :  0.421082090611476\n",
      "781 / 3828 :  ('BILL_AMT2', 'pay_hist_8') :  0.42085006837462663\n",
      "796 / 3828 :  ('BILL_AMT2', 'DEF_1') :  0.42560195566085857\n",
      "797 / 3828 :  ('BILL_AMT2', 'DEF_2') :  0.42726676363606436\n",
      "798 / 3828 :  ('BILL_AMT2', 'DEF_3') :  0.4246612422101968\n",
      "799 / 3828 :  ('BILL_AMT2', 'DEF_4') :  0.4224980413660104\n",
      "800 / 3828 :  ('BILL_AMT2', 'DEF_5') :  0.4225964655718713\n",
      "801 / 3828 :  ('BILL_AMT2', 'DEF_6') :  0.4235579137005047\n",
      "802 / 3828 :  ('BILL_AMT2', 'N_underpayment') :  0.43782427205953006\n",
      "803 / 3828 :  ('BILL_AMT2', 'over_lim_1') :  0.42597046672220734\n",
      "804 / 3828 :  ('BILL_AMT2', 'over_lim_2') :  0.42417588783582577\n",
      "805 / 3828 :  ('BILL_AMT2', 'over_lim_3') :  0.42308912254037656\n",
      "806 / 3828 :  ('BILL_AMT2', 'over_lim_4') :  0.4216851071242283\n",
      "807 / 3828 :  ('BILL_AMT2', 'over_lim_5') :  0.4489322170592633\n",
      "808 / 3828 :  ('BILL_AMT2', 'over_lim_6') :  0.4215916881113307\n",
      "809 / 3828 :  ('BILL_AMT2', 'n_over_lim') :  0.42519053756874037\n",
      "810 / 3828 :  ('BILL_AMT2', 'percent_use_1') :  0.42433132211985164\n",
      "811 / 3828 :  ('BILL_AMT2', 'percent_use_2') :  0.4246510924328808\n",
      "812 / 3828 :  ('BILL_AMT2', 'percent_use_3') :  0.4229533406720934\n",
      "813 / 3828 :  ('BILL_AMT2', 'percent_use_4') :  0.42400034342126663\n",
      "814 / 3828 :  ('BILL_AMT2', 'percent_use_5') :  0.4233533172356189\n",
      "815 / 3828 :  ('BILL_AMT2', 'percent_use_6') :  0.422435993260386\n",
      "816 / 3828 :  ('BILL_AMT2', 'avg_percent_use') :  0.4233726590538107\n",
      "818 / 3828 :  ('BILL_AMT2', 'percent_paid_2') :  0.4216626784508985\n",
      "822 / 3828 :  ('BILL_AMT2', 'percent_paid_6') :  0.42089454406472643\n",
      "835 / 3828 :  ('BILL_AMT3', 'SEX_1') :  0.42233166641243924\n",
      "836 / 3828 :  ('BILL_AMT3', 'SEX_2') :  0.4223810022475089\n",
      "837 / 3828 :  ('BILL_AMT3', 'EDUCATION_0') :  0.4208854311280639\n",
      "838 / 3828 :  ('BILL_AMT3', 'EDUCATION_1') :  0.4210856638937274\n",
      "839 / 3828 :  ('BILL_AMT3', 'EDUCATION_2') :  0.42195058746677483\n",
      "840 / 3828 :  ('BILL_AMT3', 'EDUCATION_3') :  0.42098450452942976\n",
      "841 / 3828 :  ('BILL_AMT3', 'EDUCATION_4') :  0.42085543574746825\n",
      "842 / 3828 :  ('BILL_AMT3', 'EDUCATION_5') :  0.4213196619925148\n",
      "843 / 3828 :  ('BILL_AMT3', 'EDUCATION_6') :  0.42093098572782583\n",
      "846 / 3828 :  ('BILL_AMT3', 'MARRIAGE_2') :  0.4230292335976919\n",
      "847 / 3828 :  ('BILL_AMT3', 'MARRIAGE_3') :  0.4207666062487668\n",
      "848 / 3828 :  ('BILL_AMT3', 'pay_hist_n2') :  0.4212955250453028\n",
      "849 / 3828 :  ('BILL_AMT3', 'pay_hist_n1') :  0.4208642966662644\n",
      "850 / 3828 :  ('BILL_AMT3', 'pay_hist_0') :  0.46639851301409246\n",
      "851 / 3828 :  ('BILL_AMT3', 'pay_hist_1') :  0.4222448998184562\n",
      "852 / 3828 :  ('BILL_AMT3', 'pay_hist_2') :  0.4699502417916292\n",
      "853 / 3828 :  ('BILL_AMT3', 'pay_hist_3') :  0.42468512210977943\n",
      "854 / 3828 :  ('BILL_AMT3', 'pay_hist_4') :  0.4218296176983262\n",
      "855 / 3828 :  ('BILL_AMT3', 'pay_hist_5') :  0.42608806574593755\n",
      "856 / 3828 :  ('BILL_AMT3', 'pay_hist_6') :  0.4212822660046536\n",
      "857 / 3828 :  ('BILL_AMT3', 'pay_hist_7') :  0.4211462239798249\n",
      "858 / 3828 :  ('BILL_AMT3', 'pay_hist_8') :  0.4208176800235299\n",
      "873 / 3828 :  ('BILL_AMT3', 'DEF_1') :  0.4398939913719375\n",
      "874 / 3828 :  ('BILL_AMT3', 'DEF_2') :  0.42596989124126666\n",
      "875 / 3828 :  ('BILL_AMT3', 'DEF_3') :  0.4258608059875086\n",
      "876 / 3828 :  ('BILL_AMT3', 'DEF_4') :  0.4226665504594737\n",
      "877 / 3828 :  ('BILL_AMT3', 'DEF_5') :  0.42249943662638495\n",
      "878 / 3828 :  ('BILL_AMT3', 'DEF_6') :  0.4233687660559597\n",
      "879 / 3828 :  ('BILL_AMT3', 'N_underpayment') :  0.4419535125943952\n",
      "880 / 3828 :  ('BILL_AMT3', 'over_lim_1') :  0.42502863226207704\n",
      "881 / 3828 :  ('BILL_AMT3', 'over_lim_2') :  0.42380533311927526\n",
      "882 / 3828 :  ('BILL_AMT3', 'over_lim_3') :  0.4229992699510619\n",
      "883 / 3828 :  ('BILL_AMT3', 'over_lim_4') :  0.4216657560440596\n",
      "884 / 3828 :  ('BILL_AMT3', 'over_lim_5') :  0.42172716709901464\n",
      "885 / 3828 :  ('BILL_AMT3', 'over_lim_6') :  0.4210924583603333\n",
      "887 / 3828 :  ('BILL_AMT3', 'percent_use_1') :  0.422497095935946\n",
      "888 / 3828 :  ('BILL_AMT3', 'percent_use_2') :  0.4230289416069592\n",
      "889 / 3828 :  ('BILL_AMT3', 'percent_use_3') :  0.4237251187209166\n",
      "890 / 3828 :  ('BILL_AMT3', 'percent_use_4') :  0.4234351057421685\n",
      "891 / 3828 :  ('BILL_AMT3', 'percent_use_5') :  0.42377731156326287\n",
      "892 / 3828 :  ('BILL_AMT3', 'percent_use_6') :  0.42321238493740215\n",
      "893 / 3828 :  ('BILL_AMT3', 'avg_percent_use') :  0.4229821125920487\n",
      "911 / 3828 :  ('BILL_AMT4', 'SEX_1') :  0.4224334318990044\n",
      "912 / 3828 :  ('BILL_AMT4', 'SEX_2') :  0.4220966531211028\n",
      "913 / 3828 :  ('BILL_AMT4', 'EDUCATION_0') :  0.4207426568664924\n",
      "914 / 3828 :  ('BILL_AMT4', 'EDUCATION_1') :  0.42155650903494335\n",
      "915 / 3828 :  ('BILL_AMT4', 'EDUCATION_2') :  0.42207582432220875\n",
      "916 / 3828 :  ('BILL_AMT4', 'EDUCATION_3') :  0.4209131207308281\n",
      "917 / 3828 :  ('BILL_AMT4', 'EDUCATION_4') :  0.4209002747902564\n",
      "918 / 3828 :  ('BILL_AMT4', 'EDUCATION_5') :  0.4217359839403924\n",
      "920 / 3828 :  ('BILL_AMT4', 'MARRIAGE_0') :  0.42086247277204986\n",
      "921 / 3828 :  ('BILL_AMT4', 'MARRIAGE_1') :  0.4225099837814135\n",
      "922 / 3828 :  ('BILL_AMT4', 'MARRIAGE_2') :  0.42223278499755373\n",
      "923 / 3828 :  ('BILL_AMT4', 'MARRIAGE_3') :  0.42084191643336033\n",
      "926 / 3828 :  ('BILL_AMT4', 'pay_hist_0') :  0.4633949234545686\n",
      "927 / 3828 :  ('BILL_AMT4', 'pay_hist_1') :  0.42161744902371456\n",
      "928 / 3828 :  ('BILL_AMT4', 'pay_hist_2') :  0.47004831979722983\n",
      "929 / 3828 :  ('BILL_AMT4', 'pay_hist_3') :  0.4249031655930931\n",
      "930 / 3828 :  ('BILL_AMT4', 'pay_hist_4') :  0.42163260410821574\n",
      "931 / 3828 :  ('BILL_AMT4', 'pay_hist_5') :  0.4219498464600489\n",
      "932 / 3828 :  ('BILL_AMT4', 'pay_hist_6') :  0.4210563643549034\n",
      "933 / 3828 :  ('BILL_AMT4', 'pay_hist_7') :  0.4212506339740491\n",
      "949 / 3828 :  ('BILL_AMT4', 'DEF_1') :  0.425870133065422\n",
      "950 / 3828 :  ('BILL_AMT4', 'DEF_2') :  0.42547599710066614\n",
      "951 / 3828 :  ('BILL_AMT4', 'DEF_3') :  0.4259988239140238\n",
      "952 / 3828 :  ('BILL_AMT4', 'DEF_4') :  0.4228301318945427\n",
      "953 / 3828 :  ('BILL_AMT4', 'DEF_5') :  0.422622023515595\n",
      "954 / 3828 :  ('BILL_AMT4', 'DEF_6') :  0.44602611491559724\n",
      "955 / 3828 :  ('BILL_AMT4', 'N_underpayment') :  0.44155313406417235\n",
      "956 / 3828 :  ('BILL_AMT4', 'over_lim_1') :  0.42470384323297977\n",
      "957 / 3828 :  ('BILL_AMT4', 'over_lim_2') :  0.4240010048963934\n",
      "958 / 3828 :  ('BILL_AMT4', 'over_lim_3') :  0.42327361917358797\n",
      "959 / 3828 :  ('BILL_AMT4', 'over_lim_4') :  0.42141423210036894\n",
      "960 / 3828 :  ('BILL_AMT4', 'over_lim_5') :  0.42200904855485705\n",
      "961 / 3828 :  ('BILL_AMT4', 'over_lim_6') :  0.42140064664682764\n",
      "962 / 3828 :  ('BILL_AMT4', 'n_over_lim') :  0.4248342030709182\n",
      "963 / 3828 :  ('BILL_AMT4', 'percent_use_1') :  0.4500709220111883\n",
      "964 / 3828 :  ('BILL_AMT4', 'percent_use_2') :  0.42388291050482013\n",
      "965 / 3828 :  ('BILL_AMT4', 'percent_use_3') :  0.4234097997772362\n",
      "966 / 3828 :  ('BILL_AMT4', 'percent_use_4') :  0.42356190804183164\n",
      "967 / 3828 :  ('BILL_AMT4', 'percent_use_5') :  0.4229995433679538\n",
      "968 / 3828 :  ('BILL_AMT4', 'percent_use_6') :  0.44765428507727073\n",
      "969 / 3828 :  ('BILL_AMT4', 'avg_percent_use') :  0.423097257798929\n",
      "973 / 3828 :  ('BILL_AMT4', 'percent_paid_4') :  0.4337156199031167\n",
      "974 / 3828 :  ('BILL_AMT4', 'percent_paid_5') :  0.420820842440319\n",
      "986 / 3828 :  ('BILL_AMT5', 'SEX_1') :  0.42271142959185476\n",
      "987 / 3828 :  ('BILL_AMT5', 'SEX_2') :  0.4226369721249334\n",
      "988 / 3828 :  ('BILL_AMT5', 'EDUCATION_0') :  0.4209493608295422\n",
      "989 / 3828 :  ('BILL_AMT5', 'EDUCATION_1') :  0.42116601338075954\n",
      "990 / 3828 :  ('BILL_AMT5', 'EDUCATION_2') :  0.42229320065269516\n",
      "991 / 3828 :  ('BILL_AMT5', 'EDUCATION_3') :  0.42119483808491326\n",
      "992 / 3828 :  ('BILL_AMT5', 'EDUCATION_4') :  0.4208791367354756\n",
      "993 / 3828 :  ('BILL_AMT5', 'EDUCATION_5') :  0.4214657012373216\n",
      "994 / 3828 :  ('BILL_AMT5', 'EDUCATION_6') :  0.4207655718048404\n"
     ]
    },
    {
     "name": "stderr",
     "output_type": "stream",
     "text": [
      "C:\\Users\\Eunjoo\\anaconda3\\lib\\site-packages\\sklearn\\linear_model\\_logistic.py:940: ConvergenceWarning: lbfgs failed to converge (status=1):\n",
      "STOP: TOTAL NO. of ITERATIONS REACHED LIMIT.\n",
      "\n",
      "Increase the number of iterations (max_iter) or scale the data as shown in:\n",
      "    https://scikit-learn.org/stable/modules/preprocessing.html\n",
      "Please also refer to the documentation for alternative solver options:\n",
      "    https://scikit-learn.org/stable/modules/linear_model.html#logistic-regression\n",
      "  extra_warning_msg=_LOGISTIC_SOLVER_CONVERGENCE_MSG)\n"
     ]
    },
    {
     "name": "stdout",
     "output_type": "stream",
     "text": [
      "995 / 3828 :  ('BILL_AMT5', 'MARRIAGE_0') :  0.443138422657108\n",
      "997 / 3828 :  ('BILL_AMT5', 'MARRIAGE_2') :  0.4224178261697507\n",
      "998 / 3828 :  ('BILL_AMT5', 'MARRIAGE_3') :  0.42086395334703086\n",
      "999 / 3828 :  ('BILL_AMT5', 'pay_hist_n2') :  0.42074726078777075\n",
      "1001 / 3828 :  ('BILL_AMT5', 'pay_hist_0') :  0.46263265104869483\n",
      "1002 / 3828 :  ('BILL_AMT5', 'pay_hist_1') :  0.4215515999515955\n",
      "1003 / 3828 :  ('BILL_AMT5', 'pay_hist_2') :  0.4702726594918773\n",
      "1004 / 3828 :  ('BILL_AMT5', 'pay_hist_3') :  0.4246826999740163\n",
      "1005 / 3828 :  ('BILL_AMT5', 'pay_hist_4') :  0.4216550025520665\n",
      "1006 / 3828 :  ('BILL_AMT5', 'pay_hist_5') :  0.42120674032425914\n",
      "1007 / 3828 :  ('BILL_AMT5', 'pay_hist_6') :  0.4212659042049413\n",
      "1008 / 3828 :  ('BILL_AMT5', 'pay_hist_7') :  0.4211626700296323\n",
      "1009 / 3828 :  ('BILL_AMT5', 'pay_hist_8') :  0.42813710046233183\n",
      "1024 / 3828 :  ('BILL_AMT5', 'DEF_1') :  0.4257672184259465\n",
      "1025 / 3828 :  ('BILL_AMT5', 'DEF_2') :  0.42590820837892557\n",
      "1026 / 3828 :  ('BILL_AMT5', 'DEF_3') :  0.42611487383647306\n",
      "1027 / 3828 :  ('BILL_AMT5', 'DEF_4') :  0.4237588699868336\n",
      "1028 / 3828 :  ('BILL_AMT5', 'DEF_5') :  0.42313725056252194\n",
      "1029 / 3828 :  ('BILL_AMT5', 'DEF_6') :  0.4237607315482195\n",
      "1030 / 3828 :  ('BILL_AMT5', 'N_underpayment') :  0.44342057713974614\n",
      "1031 / 3828 :  ('BILL_AMT5', 'over_lim_1') :  0.4246168666983959\n",
      "1032 / 3828 :  ('BILL_AMT5', 'over_lim_2') :  0.42391154313555474\n",
      "1033 / 3828 :  ('BILL_AMT5', 'over_lim_3') :  0.4231718047807993\n",
      "1034 / 3828 :  ('BILL_AMT5', 'over_lim_4') :  0.4219384458430177\n",
      "1035 / 3828 :  ('BILL_AMT5', 'over_lim_5') :  0.42209989175115187\n",
      "1036 / 3828 :  ('BILL_AMT5', 'over_lim_6') :  0.4217073044364579\n",
      "1037 / 3828 :  ('BILL_AMT5', 'n_over_lim') :  0.4241268018552062\n",
      "1038 / 3828 :  ('BILL_AMT5', 'percent_use_1') :  0.42246226779881085\n",
      "1039 / 3828 :  ('BILL_AMT5', 'percent_use_2') :  0.4234257836876774\n",
      "1040 / 3828 :  ('BILL_AMT5', 'percent_use_3') :  0.42377605891852027\n",
      "1041 / 3828 :  ('BILL_AMT5', 'percent_use_4') :  0.42302382552965617\n",
      "1042 / 3828 :  ('BILL_AMT5', 'percent_use_5') :  0.42229957145440017\n",
      "1043 / 3828 :  ('BILL_AMT5', 'percent_use_6') :  0.42204686244157497\n",
      "1044 / 3828 :  ('BILL_AMT5', 'avg_percent_use') :  0.4226899251976021\n",
      "1049 / 3828 :  ('BILL_AMT5', 'percent_paid_5') :  0.42111744333886475\n",
      "1050 / 3828 :  ('BILL_AMT5', 'percent_paid_6') :  0.4207209002217664\n",
      "1060 / 3828 :  ('BILL_AMT6', 'SEX_1') :  0.4227354626321436\n",
      "1061 / 3828 :  ('BILL_AMT6', 'SEX_2') :  0.4223996151664662\n",
      "1062 / 3828 :  ('BILL_AMT6', 'EDUCATION_0') :  0.42072126939151877\n",
      "1063 / 3828 :  ('BILL_AMT6', 'EDUCATION_1') :  0.4211724914018478\n",
      "1064 / 3828 :  ('BILL_AMT6', 'EDUCATION_2') :  0.42202747609938385\n",
      "1065 / 3828 :  ('BILL_AMT6', 'EDUCATION_3') :  0.42114862538548475\n",
      "1067 / 3828 :  ('BILL_AMT6', 'EDUCATION_5') :  0.4212568140246156\n",
      "1068 / 3828 :  ('BILL_AMT6', 'EDUCATION_6') :  0.42081033319798616\n",
      "1070 / 3828 :  ('BILL_AMT6', 'MARRIAGE_1') :  0.42236643131801915\n",
      "1071 / 3828 :  ('BILL_AMT6', 'MARRIAGE_2') :  0.42268344415988873\n",
      "1073 / 3828 :  ('BILL_AMT6', 'pay_hist_n2') :  0.4222711242855659\n",
      "1075 / 3828 :  ('BILL_AMT6', 'pay_hist_0') :  0.45905550048902405\n",
      "1076 / 3828 :  ('BILL_AMT6', 'pay_hist_1') :  0.4216578325702165\n",
      "1077 / 3828 :  ('BILL_AMT6', 'pay_hist_2') :  0.47022431119292857\n",
      "1078 / 3828 :  ('BILL_AMT6', 'pay_hist_3') :  0.4246519064993333\n",
      "1079 / 3828 :  ('BILL_AMT6', 'pay_hist_4') :  0.42190835599323906\n",
      "1080 / 3828 :  ('BILL_AMT6', 'pay_hist_5') :  0.42124613743377964\n",
      "1081 / 3828 :  ('BILL_AMT6', 'pay_hist_6') :  0.42106453448778697\n",
      "1082 / 3828 :  ('BILL_AMT6', 'pay_hist_7') :  0.42238572883615566\n",
      "1083 / 3828 :  ('BILL_AMT6', 'pay_hist_8') :  0.42089357716144576\n",
      "1098 / 3828 :  ('BILL_AMT6', 'DEF_1') :  0.42624133604322606\n",
      "1099 / 3828 :  ('BILL_AMT6', 'DEF_2') :  0.4257836642953259\n",
      "1100 / 3828 :  ('BILL_AMT6', 'DEF_3') :  0.4258192606929403\n",
      "1101 / 3828 :  ('BILL_AMT6', 'DEF_4') :  0.42353298952439555\n",
      "1102 / 3828 :  ('BILL_AMT6', 'DEF_5') :  0.4242793402935406\n",
      "1103 / 3828 :  ('BILL_AMT6', 'DEF_6') :  0.4242420925369852\n",
      "1104 / 3828 :  ('BILL_AMT6', 'N_underpayment') :  0.44364673805195665\n",
      "1105 / 3828 :  ('BILL_AMT6', 'over_lim_1') :  0.4243840350268404\n",
      "1106 / 3828 :  ('BILL_AMT6', 'over_lim_2') :  0.4236455541816633\n",
      "1107 / 3828 :  ('BILL_AMT6', 'over_lim_3') :  0.4232844693421461\n",
      "1108 / 3828 :  ('BILL_AMT6', 'over_lim_4') :  0.4289014848192392\n",
      "1109 / 3828 :  ('BILL_AMT6', 'over_lim_5') :  0.422603525123884\n",
      "1110 / 3828 :  ('BILL_AMT6', 'over_lim_6') :  0.42176075069337476\n",
      "1111 / 3828 :  ('BILL_AMT6', 'n_over_lim') :  0.42417320685353976\n",
      "1112 / 3828 :  ('BILL_AMT6', 'percent_use_1') :  0.4216162886185693\n",
      "1113 / 3828 :  ('BILL_AMT6', 'percent_use_2') :  0.42241078818388617\n",
      "1114 / 3828 :  ('BILL_AMT6', 'percent_use_3') :  0.4232796765116274\n",
      "1115 / 3828 :  ('BILL_AMT6', 'percent_use_4') :  0.4218449503541111\n",
      "1116 / 3828 :  ('BILL_AMT6', 'percent_use_5') :  0.4223672308384856\n",
      "1117 / 3828 :  ('BILL_AMT6', 'percent_use_6') :  0.4228374499688414\n",
      "1118 / 3828 :  ('BILL_AMT6', 'avg_percent_use') :  0.4222932085776063\n",
      "1126 / 3828 :  ('BILL_AMT6', 'payment_average_p') :  0.4209725560526687\n",
      "1133 / 3828 :  ('PAY_AMT1', 'SEX_1') :  0.42112029549308777\n",
      "1134 / 3828 :  ('PAY_AMT1', 'SEX_2') :  0.42110236486254876\n",
      "1135 / 3828 :  ('PAY_AMT1', 'EDUCATION_0') :  0.4207895941218054\n",
      "1138 / 3828 :  ('PAY_AMT1', 'EDUCATION_3') :  0.42077970173937757\n",
      "1140 / 3828 :  ('PAY_AMT1', 'EDUCATION_5') :  0.42109592976338694\n",
      "1142 / 3828 :  ('PAY_AMT1', 'MARRIAGE_0') :  0.42092588143381743\n",
      "1143 / 3828 :  ('PAY_AMT1', 'MARRIAGE_1') :  0.42224323173629025\n",
      "1144 / 3828 :  ('PAY_AMT1', 'MARRIAGE_2') :  0.4219282365750911\n",
      "1145 / 3828 :  ('PAY_AMT1', 'MARRIAGE_3') :  0.4218592587759911\n",
      "1146 / 3828 :  ('PAY_AMT1', 'pay_hist_n2') :  0.42073211121279863\n",
      "1147 / 3828 :  ('PAY_AMT1', 'pay_hist_n1') :  0.42081395153826007\n",
      "1148 / 3828 :  ('PAY_AMT1', 'pay_hist_0') :  0.4264319672736791\n",
      "1150 / 3828 :  ('PAY_AMT1', 'pay_hist_2') :  0.45449959853291916\n",
      "1151 / 3828 :  ('PAY_AMT1', 'pay_hist_3') :  0.42259605686386426\n",
      "1152 / 3828 :  ('PAY_AMT1', 'pay_hist_4') :  0.4213648467968459\n",
      "1153 / 3828 :  ('PAY_AMT1', 'pay_hist_5') :  0.4209218524238683\n",
      "1154 / 3828 :  ('PAY_AMT1', 'pay_hist_6') :  0.4208872018406953\n",
      "1156 / 3828 :  ('PAY_AMT1', 'pay_hist_8') :  0.4214629814510726\n",
      "1172 / 3828 :  ('PAY_AMT1', 'DEF_2') :  0.4233476657087372\n",
      "1173 / 3828 :  ('PAY_AMT1', 'DEF_3') :  0.42141623354808216\n",
      "1174 / 3828 :  ('PAY_AMT1', 'DEF_4') :  0.4323906938943367\n",
      "1175 / 3828 :  ('PAY_AMT1', 'DEF_5') :  0.4212886843328323\n",
      "1176 / 3828 :  ('PAY_AMT1', 'DEF_6') :  0.4215218675738391\n",
      "1177 / 3828 :  ('PAY_AMT1', 'N_underpayment') :  0.42621854292684946\n",
      "1178 / 3828 :  ('PAY_AMT1', 'over_lim_1') :  0.4237163155417907\n",
      "1179 / 3828 :  ('PAY_AMT1', 'over_lim_2') :  0.4219624021465675\n",
      "1180 / 3828 :  ('PAY_AMT1', 'over_lim_3') :  0.4217428506279209\n",
      "1181 / 3828 :  ('PAY_AMT1', 'over_lim_4') :  0.42141245322167165\n",
      "1182 / 3828 :  ('PAY_AMT1', 'over_lim_5') :  0.4211229630460514\n",
      "1183 / 3828 :  ('PAY_AMT1', 'over_lim_6') :  0.42140567380679395\n",
      "1184 / 3828 :  ('PAY_AMT1', 'n_over_lim') :  0.4243688368615796\n",
      "1185 / 3828 :  ('PAY_AMT1', 'percent_use_1') :  0.4215467058050402\n",
      "1186 / 3828 :  ('PAY_AMT1', 'percent_use_2') :  0.42275709272517986\n",
      "1187 / 3828 :  ('PAY_AMT1', 'percent_use_3') :  0.42292629148943767\n",
      "1188 / 3828 :  ('PAY_AMT1', 'percent_use_4') :  0.42319006616718613\n",
      "1189 / 3828 :  ('PAY_AMT1', 'percent_use_5') :  0.4220023411702724\n",
      "1190 / 3828 :  ('PAY_AMT1', 'percent_use_6') :  0.42184862448377974\n",
      "1191 / 3828 :  ('PAY_AMT1', 'avg_percent_use') :  0.4219580999954012\n",
      "1195 / 3828 :  ('PAY_AMT1', 'percent_paid_4') :  0.42239408128745576\n",
      "1197 / 3828 :  ('PAY_AMT1', 'percent_paid_6') :  0.42074891309451407\n",
      "1199 / 3828 :  ('PAY_AMT1', 'payment_average_p') :  0.4208796883685914\n",
      "1200 / 3828 :  ('PAY_AMT1', 'ln_limit_bal') :  0.4218204579659441\n",
      "1205 / 3828 :  ('PAY_AMT2', 'SEX_1') :  0.4214400160308706\n",
      "1206 / 3828 :  ('PAY_AMT2', 'SEX_2') :  0.4216474311485925\n",
      "1207 / 3828 :  ('PAY_AMT2', 'EDUCATION_0') :  0.42083302888322277\n",
      "1208 / 3828 :  ('PAY_AMT2', 'EDUCATION_1') :  0.4212668094580418\n",
      "1210 / 3828 :  ('PAY_AMT2', 'EDUCATION_3') :  0.42110565575907555\n",
      "1211 / 3828 :  ('PAY_AMT2', 'EDUCATION_4') :  0.42091581734943057\n",
      "1212 / 3828 :  ('PAY_AMT2', 'EDUCATION_5') :  0.42316880195401313\n",
      "1214 / 3828 :  ('PAY_AMT2', 'MARRIAGE_0') :  0.4209139030304496\n",
      "1215 / 3828 :  ('PAY_AMT2', 'MARRIAGE_1') :  0.4226006009554708\n",
      "1216 / 3828 :  ('PAY_AMT2', 'MARRIAGE_2') :  0.4224871171056939\n",
      "1217 / 3828 :  ('PAY_AMT2', 'MARRIAGE_3') :  0.42084385966451393\n",
      "1218 / 3828 :  ('PAY_AMT2', 'pay_hist_n2') :  0.42118183748237376\n",
      "1219 / 3828 :  ('PAY_AMT2', 'pay_hist_n1') :  0.4208592029496523\n",
      "1220 / 3828 :  ('PAY_AMT2', 'pay_hist_0') :  0.4287895654295811\n",
      "1221 / 3828 :  ('PAY_AMT2', 'pay_hist_1') :  0.4219373439536935\n",
      "1222 / 3828 :  ('PAY_AMT2', 'pay_hist_2') :  0.4502768706729136\n",
      "1223 / 3828 :  ('PAY_AMT2', 'pay_hist_3') :  0.4230067150222771\n",
      "1224 / 3828 :  ('PAY_AMT2', 'pay_hist_4') :  0.42095611006356054\n"
     ]
    },
    {
     "name": "stderr",
     "output_type": "stream",
     "text": [
      "C:\\Users\\Eunjoo\\anaconda3\\lib\\site-packages\\sklearn\\linear_model\\_logistic.py:940: ConvergenceWarning: lbfgs failed to converge (status=1):\n",
      "STOP: TOTAL NO. of ITERATIONS REACHED LIMIT.\n",
      "\n",
      "Increase the number of iterations (max_iter) or scale the data as shown in:\n",
      "    https://scikit-learn.org/stable/modules/preprocessing.html\n",
      "Please also refer to the documentation for alternative solver options:\n",
      "    https://scikit-learn.org/stable/modules/linear_model.html#logistic-regression\n",
      "  extra_warning_msg=_LOGISTIC_SOLVER_CONVERGENCE_MSG)\n"
     ]
    },
    {
     "name": "stdout",
     "output_type": "stream",
     "text": [
      "1225 / 3828 :  ('PAY_AMT2', 'pay_hist_5') :  0.4530011406353868\n",
      "1227 / 3828 :  ('PAY_AMT2', 'pay_hist_7') :  0.42113453523093947\n",
      "1228 / 3828 :  ('PAY_AMT2', 'pay_hist_8') :  0.42082501845486453\n",
      "1243 / 3828 :  ('PAY_AMT2', 'DEF_1') :  0.4233325864873165\n",
      "1245 / 3828 :  ('PAY_AMT2', 'DEF_3') :  0.42311368673762334\n",
      "1246 / 3828 :  ('PAY_AMT2', 'DEF_4') :  0.4220468283537102\n",
      "1247 / 3828 :  ('PAY_AMT2', 'DEF_5') :  0.4211826318143345\n",
      "1248 / 3828 :  ('PAY_AMT2', 'DEF_6') :  0.42135986179489465\n",
      "1249 / 3828 :  ('PAY_AMT2', 'N_underpayment') :  0.425191656810265\n",
      "1250 / 3828 :  ('PAY_AMT2', 'over_lim_1') :  0.4216840348660987\n",
      "1251 / 3828 :  ('PAY_AMT2', 'over_lim_2') :  0.4220407947739369\n",
      "1252 / 3828 :  ('PAY_AMT2', 'over_lim_3') :  0.4218187837884637\n",
      "1253 / 3828 :  ('PAY_AMT2', 'over_lim_4') :  0.4213034182029098\n",
      "1255 / 3828 :  ('PAY_AMT2', 'over_lim_6') :  0.4232757999527821\n",
      "1256 / 3828 :  ('PAY_AMT2', 'n_over_lim') :  0.4220553134832807\n",
      "1257 / 3828 :  ('PAY_AMT2', 'percent_use_1') :  0.42226040720459396\n",
      "1258 / 3828 :  ('PAY_AMT2', 'percent_use_2') :  0.42103931467415956\n",
      "1259 / 3828 :  ('PAY_AMT2', 'percent_use_3') :  0.4212833723892568\n",
      "1260 / 3828 :  ('PAY_AMT2', 'percent_use_4') :  0.42086869845159214\n",
      "1261 / 3828 :  ('PAY_AMT2', 'percent_use_5') :  0.4368686689306441\n",
      "1262 / 3828 :  ('PAY_AMT2', 'percent_use_6') :  0.4226343837713677\n",
      "1263 / 3828 :  ('PAY_AMT2', 'avg_percent_use') :  0.4208568957483794\n",
      "1264 / 3828 :  ('PAY_AMT2', 'percent_paid_1') :  0.42098498127724593\n",
      "1266 / 3828 :  ('PAY_AMT2', 'percent_paid_3') :  0.4207834608928818\n",
      "1267 / 3828 :  ('PAY_AMT2', 'percent_paid_4') :  0.42097460429319367\n",
      "1272 / 3828 :  ('PAY_AMT2', 'ln_limit_bal') :  0.42365580975957234\n",
      "1276 / 3828 :  ('PAY_AMT3', 'SEX_1') :  0.4211954348905944\n",
      "1277 / 3828 :  ('PAY_AMT3', 'SEX_2') :  0.42107316858364613\n",
      "1278 / 3828 :  ('PAY_AMT3', 'EDUCATION_0') :  0.42097654587829275\n",
      "1279 / 3828 :  ('PAY_AMT3', 'EDUCATION_1') :  0.42101946864406675\n",
      "1280 / 3828 :  ('PAY_AMT3', 'EDUCATION_2') :  0.42128082333301914\n",
      "1281 / 3828 :  ('PAY_AMT3', 'EDUCATION_3') :  0.42081981948540853\n",
      "1282 / 3828 :  ('PAY_AMT3', 'EDUCATION_4') :  0.44717360848961335\n",
      "1283 / 3828 :  ('PAY_AMT3', 'EDUCATION_5') :  0.42096621954281793\n",
      "1284 / 3828 :  ('PAY_AMT3', 'EDUCATION_6') :  0.42142844597219287\n",
      "1285 / 3828 :  ('PAY_AMT3', 'MARRIAGE_0') :  0.4222103392058316\n",
      "1286 / 3828 :  ('PAY_AMT3', 'MARRIAGE_1') :  0.42194161579385864\n",
      "1287 / 3828 :  ('PAY_AMT3', 'MARRIAGE_2') :  0.4213536461630722\n",
      "1291 / 3828 :  ('PAY_AMT3', 'pay_hist_0') :  0.4228290263948565\n",
      "1293 / 3828 :  ('PAY_AMT3', 'pay_hist_2') :  0.4476681834197181\n",
      "1294 / 3828 :  ('PAY_AMT3', 'pay_hist_3') :  0.4226262190693142\n",
      "1295 / 3828 :  ('PAY_AMT3', 'pay_hist_4') :  0.4212256951523323\n",
      "1296 / 3828 :  ('PAY_AMT3', 'pay_hist_5') :  0.4227263103196148\n",
      "1297 / 3828 :  ('PAY_AMT3', 'pay_hist_6') :  0.42156548272987776\n",
      "1298 / 3828 :  ('PAY_AMT3', 'pay_hist_7') :  0.42126065084060027\n",
      "1299 / 3828 :  ('PAY_AMT3', 'pay_hist_8') :  0.42125759994035733\n",
      "1314 / 3828 :  ('PAY_AMT3', 'DEF_1') :  0.42166964087274733\n",
      "1315 / 3828 :  ('PAY_AMT3', 'DEF_2') :  0.4214760616500535\n",
      "1316 / 3828 :  ('PAY_AMT3', 'DEF_3') :  0.42084531030439293\n",
      "1317 / 3828 :  ('PAY_AMT3', 'DEF_4') :  0.4208128823527606\n",
      "1318 / 3828 :  ('PAY_AMT3', 'DEF_5') :  0.4240322231631974\n",
      "1319 / 3828 :  ('PAY_AMT3', 'DEF_6') :  0.4208895573431306\n",
      "1320 / 3828 :  ('PAY_AMT3', 'N_underpayment') :  0.42275920439172304\n",
      "1321 / 3828 :  ('PAY_AMT3', 'over_lim_1') :  0.4231334243101133\n",
      "1322 / 3828 :  ('PAY_AMT3', 'over_lim_2') :  0.42219046961089357\n",
      "1323 / 3828 :  ('PAY_AMT3', 'over_lim_3') :  0.42142809874786075\n",
      "1324 / 3828 :  ('PAY_AMT3', 'over_lim_4') :  0.42129531213591637\n",
      "1325 / 3828 :  ('PAY_AMT3', 'over_lim_5') :  0.4217848001192055\n",
      "1326 / 3828 :  ('PAY_AMT3', 'over_lim_6') :  0.4217956205567197\n",
      "1327 / 3828 :  ('PAY_AMT3', 'n_over_lim') :  0.4237516664936915\n",
      "1328 / 3828 :  ('PAY_AMT3', 'percent_use_1') :  0.42084874414628076\n",
      "1329 / 3828 :  ('PAY_AMT3', 'percent_use_2') :  0.44376085030411283\n",
      "1330 / 3828 :  ('PAY_AMT3', 'percent_use_3') :  0.4215818088383292\n"
     ]
    },
    {
     "name": "stderr",
     "output_type": "stream",
     "text": [
      "C:\\Users\\Eunjoo\\anaconda3\\lib\\site-packages\\sklearn\\linear_model\\_logistic.py:940: ConvergenceWarning: lbfgs failed to converge (status=1):\n",
      "STOP: TOTAL NO. of ITERATIONS REACHED LIMIT.\n",
      "\n",
      "Increase the number of iterations (max_iter) or scale the data as shown in:\n",
      "    https://scikit-learn.org/stable/modules/preprocessing.html\n",
      "Please also refer to the documentation for alternative solver options:\n",
      "    https://scikit-learn.org/stable/modules/linear_model.html#logistic-regression\n",
      "  extra_warning_msg=_LOGISTIC_SOLVER_CONVERGENCE_MSG)\n"
     ]
    },
    {
     "name": "stdout",
     "output_type": "stream",
     "text": [
      "1331 / 3828 :  ('PAY_AMT3', 'percent_use_4') :  0.4498362130370366\n",
      "1332 / 3828 :  ('PAY_AMT3', 'percent_use_5') :  0.42260065411623793\n",
      "1333 / 3828 :  ('PAY_AMT3', 'percent_use_6') :  0.42218228782222367\n",
      "1334 / 3828 :  ('PAY_AMT3', 'avg_percent_use') :  0.42255178598140625\n",
      "1335 / 3828 :  ('PAY_AMT3', 'percent_paid_1') :  0.42084697288899076\n",
      "1336 / 3828 :  ('PAY_AMT3', 'percent_paid_2') :  0.4208334085181404\n",
      "1338 / 3828 :  ('PAY_AMT3', 'percent_paid_4') :  0.44952882855497805\n",
      "1339 / 3828 :  ('PAY_AMT3', 'percent_paid_5') :  0.4209894733878519\n",
      "1340 / 3828 :  ('PAY_AMT3', 'percent_paid_6') :  0.4207987976196792\n",
      "1343 / 3828 :  ('PAY_AMT3', 'ln_limit_bal') :  0.42101709757860944\n",
      "1346 / 3828 :  ('PAY_AMT4', 'SEX_1') :  0.45030452319432906\n",
      "1347 / 3828 :  ('PAY_AMT4', 'SEX_2') :  0.4219409440327054\n",
      "1348 / 3828 :  ('PAY_AMT4', 'EDUCATION_0') :  0.420836054273348\n",
      "1349 / 3828 :  ('PAY_AMT4', 'EDUCATION_1') :  0.42071629070787764\n",
      "1351 / 3828 :  ('PAY_AMT4', 'EDUCATION_3') :  0.42549359635442613\n",
      "1352 / 3828 :  ('PAY_AMT4', 'EDUCATION_4') :  0.4218866802590196\n",
      "1353 / 3828 :  ('PAY_AMT4', 'EDUCATION_5') :  0.42110010405947546\n",
      "1355 / 3828 :  ('PAY_AMT4', 'MARRIAGE_0') :  0.42172296710706575\n",
      "1356 / 3828 :  ('PAY_AMT4', 'MARRIAGE_1') :  0.4214867713791975\n",
      "1357 / 3828 :  ('PAY_AMT4', 'MARRIAGE_2') :  0.4209749826055031\n",
      "1359 / 3828 :  ('PAY_AMT4', 'pay_hist_n2') :  0.42266511298207005\n",
      "1360 / 3828 :  ('PAY_AMT4', 'pay_hist_n1') :  0.45019078428355375\n",
      "1361 / 3828 :  ('PAY_AMT4', 'pay_hist_0') :  0.4229760586237483\n",
      "1362 / 3828 :  ('PAY_AMT4', 'pay_hist_1') :  0.42124735330157453\n",
      "1363 / 3828 :  ('PAY_AMT4', 'pay_hist_2') :  0.44610983941254406\n",
      "1364 / 3828 :  ('PAY_AMT4', 'pay_hist_3') :  0.42227826023124254\n",
      "1365 / 3828 :  ('PAY_AMT4', 'pay_hist_4') :  0.4213639382424052\n"
     ]
    },
    {
     "name": "stderr",
     "output_type": "stream",
     "text": [
      "C:\\Users\\Eunjoo\\anaconda3\\lib\\site-packages\\sklearn\\linear_model\\_logistic.py:940: ConvergenceWarning: lbfgs failed to converge (status=1):\n",
      "STOP: TOTAL NO. of ITERATIONS REACHED LIMIT.\n",
      "\n",
      "Increase the number of iterations (max_iter) or scale the data as shown in:\n",
      "    https://scikit-learn.org/stable/modules/preprocessing.html\n",
      "Please also refer to the documentation for alternative solver options:\n",
      "    https://scikit-learn.org/stable/modules/linear_model.html#logistic-regression\n",
      "  extra_warning_msg=_LOGISTIC_SOLVER_CONVERGENCE_MSG)\n"
     ]
    },
    {
     "name": "stdout",
     "output_type": "stream",
     "text": [
      "1366 / 3828 :  ('PAY_AMT4', 'pay_hist_5') :  0.450229493227351\n",
      "1368 / 3828 :  ('PAY_AMT4', 'pay_hist_7') :  0.42082386781801845\n",
      "1369 / 3828 :  ('PAY_AMT4', 'pay_hist_8') :  0.42089836958743554\n",
      "1384 / 3828 :  ('PAY_AMT4', 'DEF_1') :  0.4213032522832379\n",
      "1385 / 3828 :  ('PAY_AMT4', 'DEF_2') :  0.4227644954193024\n",
      "1386 / 3828 :  ('PAY_AMT4', 'DEF_3') :  0.42197379214704783\n",
      "1387 / 3828 :  ('PAY_AMT4', 'DEF_4') :  0.420728051618201\n",
      "1388 / 3828 :  ('PAY_AMT4', 'DEF_5') :  0.4213592420409868\n",
      "1389 / 3828 :  ('PAY_AMT4', 'DEF_6') :  0.421398707058467\n",
      "1390 / 3828 :  ('PAY_AMT4', 'N_underpayment') :  0.42432885625296607\n",
      "1391 / 3828 :  ('PAY_AMT4', 'over_lim_1') :  0.4238630570164492\n",
      "1392 / 3828 :  ('PAY_AMT4', 'over_lim_2') :  0.4234738870123926\n",
      "1393 / 3828 :  ('PAY_AMT4', 'over_lim_3') :  0.42273232937710015\n",
      "1394 / 3828 :  ('PAY_AMT4', 'over_lim_4') :  0.42173096636949586\n",
      "1395 / 3828 :  ('PAY_AMT4', 'over_lim_5') :  0.421685886770545\n",
      "1396 / 3828 :  ('PAY_AMT4', 'over_lim_6') :  0.42157127946339656\n",
      "1397 / 3828 :  ('PAY_AMT4', 'n_over_lim') :  0.4238451820063535\n",
      "1398 / 3828 :  ('PAY_AMT4', 'percent_use_1') :  0.4220225509878901\n",
      "1399 / 3828 :  ('PAY_AMT4', 'percent_use_2') :  0.4231042521398625\n",
      "1400 / 3828 :  ('PAY_AMT4', 'percent_use_3') :  0.4223439135617229\n",
      "1401 / 3828 :  ('PAY_AMT4', 'percent_use_4') :  0.421619135790326\n",
      "1402 / 3828 :  ('PAY_AMT4', 'percent_use_5') :  0.42147440556786897\n",
      "1403 / 3828 :  ('PAY_AMT4', 'percent_use_6') :  0.4218151430557522\n",
      "1404 / 3828 :  ('PAY_AMT4', 'avg_percent_use') :  0.4214796848029268\n",
      "1405 / 3828 :  ('PAY_AMT4', 'percent_paid_1') :  0.420992612215251\n",
      "1406 / 3828 :  ('PAY_AMT4', 'percent_paid_2') :  0.42150657677886677\n",
      "1409 / 3828 :  ('PAY_AMT4', 'percent_paid_5') :  0.4460349950096802\n",
      "1410 / 3828 :  ('PAY_AMT4', 'percent_paid_6') :  0.4217919017242837\n",
      "1411 / 3828 :  ('PAY_AMT4', 'payment_patter_change') :  0.4209519661268388\n",
      "1413 / 3828 :  ('PAY_AMT4', 'ln_limit_bal') :  0.42191743208745575\n",
      "1415 / 3828 :  ('PAY_AMT5', 'SEX_1') :  0.4216012648408109\n",
      "1416 / 3828 :  ('PAY_AMT5', 'SEX_2') :  0.42164258283727224\n",
      "1417 / 3828 :  ('PAY_AMT5', 'EDUCATION_0') :  0.420836054273348\n",
      "1418 / 3828 :  ('PAY_AMT5', 'EDUCATION_1') :  0.42075668384275833\n",
      "1419 / 3828 :  ('PAY_AMT5', 'EDUCATION_2') :  0.42166369870062675\n",
      "1420 / 3828 :  ('PAY_AMT5', 'EDUCATION_3') :  0.4216119718007403\n",
      "1421 / 3828 :  ('PAY_AMT5', 'EDUCATION_4') :  0.42081188782329654\n",
      "1422 / 3828 :  ('PAY_AMT5', 'EDUCATION_5') :  0.42077365401932676\n",
      "1423 / 3828 :  ('PAY_AMT5', 'EDUCATION_6') :  0.42081206944414173\n",
      "1424 / 3828 :  ('PAY_AMT5', 'MARRIAGE_0') :  0.4452948926269951\n",
      "1425 / 3828 :  ('PAY_AMT5', 'MARRIAGE_1') :  0.42147274287183506\n",
      "1426 / 3828 :  ('PAY_AMT5', 'MARRIAGE_2') :  0.4214322254552088\n",
      "1427 / 3828 :  ('PAY_AMT5', 'MARRIAGE_3') :  0.4209940741046032\n",
      "1428 / 3828 :  ('PAY_AMT5', 'pay_hist_n2') :  0.4499860658641231\n",
      "1430 / 3828 :  ('PAY_AMT5', 'pay_hist_0') :  0.42443835654661916\n",
      "1431 / 3828 :  ('PAY_AMT5', 'pay_hist_1') :  0.4215415417468136\n",
      "1432 / 3828 :  ('PAY_AMT5', 'pay_hist_2') :  0.4485126081869259\n",
      "1433 / 3828 :  ('PAY_AMT5', 'pay_hist_3') :  0.4236537092368285\n",
      "1434 / 3828 :  ('PAY_AMT5', 'pay_hist_4') :  0.4218169011666981\n",
      "1436 / 3828 :  ('PAY_AMT5', 'pay_hist_6') :  0.42180083740912006\n",
      "1437 / 3828 :  ('PAY_AMT5', 'pay_hist_7') :  0.4208721016135402\n",
      "1438 / 3828 :  ('PAY_AMT5', 'pay_hist_8') :  0.4208575884954491\n",
      "1453 / 3828 :  ('PAY_AMT5', 'DEF_1') :  0.42307390719163346\n",
      "1454 / 3828 :  ('PAY_AMT5', 'DEF_2') :  0.4221302899863599\n",
      "1455 / 3828 :  ('PAY_AMT5', 'DEF_3') :  0.4217584980917934\n",
      "1456 / 3828 :  ('PAY_AMT5', 'DEF_4') :  0.42147442529476425\n",
      "1457 / 3828 :  ('PAY_AMT5', 'DEF_5') :  0.42137601792014473\n",
      "1458 / 3828 :  ('PAY_AMT5', 'DEF_6') :  0.42168156916499483\n",
      "1459 / 3828 :  ('PAY_AMT5', 'N_underpayment') :  0.42660060890900114\n",
      "1460 / 3828 :  ('PAY_AMT5', 'over_lim_1') :  0.42227884905559887\n",
      "1461 / 3828 :  ('PAY_AMT5', 'over_lim_2') :  0.42217076060848463\n",
      "1462 / 3828 :  ('PAY_AMT5', 'over_lim_3') :  0.4215680000643173\n",
      "1463 / 3828 :  ('PAY_AMT5', 'over_lim_4') :  0.42123096763140966\n",
      "1464 / 3828 :  ('PAY_AMT5', 'over_lim_5') :  0.42109702944149485\n",
      "1466 / 3828 :  ('PAY_AMT5', 'n_over_lim') :  0.42289941315883744\n",
      "1467 / 3828 :  ('PAY_AMT5', 'percent_use_1') :  0.42111730742521614\n",
      "1470 / 3828 :  ('PAY_AMT5', 'percent_use_4') :  0.421096603291313\n",
      "1471 / 3828 :  ('PAY_AMT5', 'percent_use_5') :  0.4209050413902231\n",
      "1472 / 3828 :  ('PAY_AMT5', 'percent_use_6') :  0.4212407027260459\n",
      "1473 / 3828 :  ('PAY_AMT5', 'avg_percent_use') :  0.42117428337190416\n",
      "1474 / 3828 :  ('PAY_AMT5', 'percent_paid_1') :  0.42122319528204405\n",
      "1477 / 3828 :  ('PAY_AMT5', 'percent_paid_4') :  0.4274710575307819\n"
     ]
    },
    {
     "name": "stderr",
     "output_type": "stream",
     "text": [
      "C:\\Users\\Eunjoo\\anaconda3\\lib\\site-packages\\sklearn\\linear_model\\_logistic.py:940: ConvergenceWarning: lbfgs failed to converge (status=1):\n",
      "STOP: TOTAL NO. of ITERATIONS REACHED LIMIT.\n",
      "\n",
      "Increase the number of iterations (max_iter) or scale the data as shown in:\n",
      "    https://scikit-learn.org/stable/modules/preprocessing.html\n",
      "Please also refer to the documentation for alternative solver options:\n",
      "    https://scikit-learn.org/stable/modules/linear_model.html#logistic-regression\n",
      "  extra_warning_msg=_LOGISTIC_SOLVER_CONVERGENCE_MSG)\n"
     ]
    },
    {
     "name": "stdout",
     "output_type": "stream",
     "text": [
      "1479 / 3828 :  ('PAY_AMT5', 'percent_paid_6') :  0.43665895383219183\n",
      "1481 / 3828 :  ('PAY_AMT5', 'payment_average_p') :  0.4209773358839964\n",
      "1482 / 3828 :  ('PAY_AMT5', 'ln_limit_bal') :  0.42222250842643216\n",
      "1483 / 3828 :  ('PAY_AMT6', 'SEX_1') :  0.42135635421724843\n",
      "1484 / 3828 :  ('PAY_AMT6', 'SEX_2') :  0.4214213821593902\n",
      "1485 / 3828 :  ('PAY_AMT6', 'EDUCATION_0') :  0.4208599331432851\n",
      "1487 / 3828 :  ('PAY_AMT6', 'EDUCATION_2') :  0.4210145615453294\n",
      "1489 / 3828 :  ('PAY_AMT6', 'EDUCATION_4') :  0.4209655007485573\n",
      "1492 / 3828 :  ('PAY_AMT6', 'MARRIAGE_0') :  0.4220695714191174\n",
      "1493 / 3828 :  ('PAY_AMT6', 'MARRIAGE_1') :  0.4212532377980669\n",
      "1494 / 3828 :  ('PAY_AMT6', 'MARRIAGE_2') :  0.42116348439495527\n",
      "1495 / 3828 :  ('PAY_AMT6', 'MARRIAGE_3') :  0.4207555074922073\n",
      "1498 / 3828 :  ('PAY_AMT6', 'pay_hist_0') :  0.42343094885600463\n",
      "1499 / 3828 :  ('PAY_AMT6', 'pay_hist_1') :  0.42090608108615807\n",
      "1500 / 3828 :  ('PAY_AMT6', 'pay_hist_2') :  0.4370047986999896\n",
      "1502 / 3828 :  ('PAY_AMT6', 'pay_hist_4') :  0.42085884746767405\n",
      "1504 / 3828 :  ('PAY_AMT6', 'pay_hist_6') :  0.42217145622554003\n",
      "1505 / 3828 :  ('PAY_AMT6', 'pay_hist_7') :  0.4211676614944526\n",
      "1506 / 3828 :  ('PAY_AMT6', 'pay_hist_8') :  0.4210298196069835\n",
      "1521 / 3828 :  ('PAY_AMT6', 'DEF_1') :  0.421815246471767\n",
      "1522 / 3828 :  ('PAY_AMT6', 'DEF_2') :  0.4210282848706835\n",
      "1523 / 3828 :  ('PAY_AMT6', 'DEF_3') :  0.42137270470383487\n",
      "1525 / 3828 :  ('PAY_AMT6', 'DEF_5') :  0.4495665271821398\n",
      "1526 / 3828 :  ('PAY_AMT6', 'DEF_6') :  0.4211271837374994\n",
      "1527 / 3828 :  ('PAY_AMT6', 'N_underpayment') :  0.4224939518897695\n",
      "1528 / 3828 :  ('PAY_AMT6', 'over_lim_1') :  0.4240671410715166\n",
      "1529 / 3828 :  ('PAY_AMT6', 'over_lim_2') :  0.42315711472995005\n",
      "1530 / 3828 :  ('PAY_AMT6', 'over_lim_3') :  0.4220367021767051\n",
      "1531 / 3828 :  ('PAY_AMT6', 'over_lim_4') :  0.42184606693882154\n",
      "1532 / 3828 :  ('PAY_AMT6', 'over_lim_5') :  0.4218030334390995\n",
      "1533 / 3828 :  ('PAY_AMT6', 'over_lim_6') :  0.4214416032940002\n",
      "1534 / 3828 :  ('PAY_AMT6', 'n_over_lim') :  0.42334957360715725\n",
      "1535 / 3828 :  ('PAY_AMT6', 'percent_use_1') :  0.4210169089340947\n",
      "1536 / 3828 :  ('PAY_AMT6', 'percent_use_2') :  0.42148865323657486\n",
      "1537 / 3828 :  ('PAY_AMT6', 'percent_use_3') :  0.4217595968512968\n",
      "1538 / 3828 :  ('PAY_AMT6', 'percent_use_4') :  0.4219398158607633\n",
      "1539 / 3828 :  ('PAY_AMT6', 'percent_use_5') :  0.421979717069241\n",
      "1541 / 3828 :  ('PAY_AMT6', 'avg_percent_use') :  0.42171146593720027\n",
      "1544 / 3828 :  ('PAY_AMT6', 'percent_paid_3') :  0.4207352884207091\n",
      "1545 / 3828 :  ('PAY_AMT6', 'percent_paid_4') :  0.42122507733629416\n",
      "1546 / 3828 :  ('PAY_AMT6', 'percent_paid_5') :  0.4209165532867238\n",
      "1550 / 3828 :  ('PAY_AMT6', 'ln_limit_bal') :  0.42176073932650643\n",
      "1551 / 3828 :  ('SEX_1', 'SEX_2') :  0.4209341447442891\n",
      "1554 / 3828 :  ('SEX_1', 'EDUCATION_2') :  0.42082501845486453\n",
      "1556 / 3828 :  ('SEX_1', 'EDUCATION_4') :  0.42075137389965844\n",
      "1557 / 3828 :  ('SEX_1', 'EDUCATION_5') :  0.44762010049288503\n",
      "1558 / 3828 :  ('SEX_1', 'EDUCATION_6') :  0.4500913538033087\n",
      "1560 / 3828 :  ('SEX_1', 'MARRIAGE_1') :  0.42075180231300563\n",
      "1561 / 3828 :  ('SEX_1', 'MARRIAGE_2') :  0.42075327986906075\n",
      "1562 / 3828 :  ('SEX_1', 'MARRIAGE_3') :  0.42075253275545926\n",
      "1563 / 3828 :  ('SEX_1', 'pay_hist_n2') :  0.4207934089101008\n",
      "1564 / 3828 :  ('SEX_1', 'pay_hist_n1') :  0.4207288744899069\n",
      "1567 / 3828 :  ('SEX_1', 'pay_hist_2') :  0.4207216550503769\n",
      "1568 / 3828 :  ('SEX_1', 'pay_hist_3') :  0.4500258565069785\n",
      "1570 / 3828 :  ('SEX_1', 'pay_hist_5') :  0.4207757792788122\n",
      "1571 / 3828 :  ('SEX_1', 'pay_hist_6') :  0.42075286837305564\n",
      "1573 / 3828 :  ('SEX_1', 'pay_hist_8') :  0.4208013519746367\n",
      "1574 / 3828 :  ('SEX_1', 'BAL_1') :  0.42571628525366106\n",
      "1575 / 3828 :  ('SEX_1', 'BAL_2') :  0.4222607324519722\n",
      "1576 / 3828 :  ('SEX_1', 'BAL_3') :  0.4219276741182642\n",
      "1577 / 3828 :  ('SEX_1', 'BAL_4') :  0.4213879127011108\n",
      "1578 / 3828 :  ('SEX_1', 'BAL_5') :  0.422519067981328\n",
      "1579 / 3828 :  ('SEX_1', 'BAL_6') :  0.42289971447014246\n",
      "1582 / 3828 :  ('SEX_1', 'BAL_change_4') :  0.4213047454495416\n",
      "1583 / 3828 :  ('SEX_1', 'BAL_change_3') :  0.44624710065556844\n",
      "1585 / 3828 :  ('SEX_1', 'cum_bal_change') :  0.4458638838822333\n",
      "1586 / 3828 :  ('SEX_1', 'final_balance') :  0.42571628525366106\n",
      "1587 / 3828 :  ('SEX_1', 'final_payment') :  0.42112029549308777\n",
      "1588 / 3828 :  ('SEX_1', 'DEF_1') :  0.42075096252395755\n",
      "1589 / 3828 :  ('SEX_1', 'DEF_2') :  0.4215750488205556\n",
      "1590 / 3828 :  ('SEX_1', 'DEF_3') :  0.4209380488747032\n",
      "1592 / 3828 :  ('SEX_1', 'DEF_5') :  0.44836315351448564\n",
      "1594 / 3828 :  ('SEX_1', 'N_underpayment') :  0.42084375218513365\n",
      "1596 / 3828 :  ('SEX_1', 'over_lim_2') :  0.42075286837305564\n",
      "1597 / 3828 :  ('SEX_1', 'over_lim_3') :  0.4208013519746367\n",
      "1598 / 3828 :  ('SEX_1', 'over_lim_4') :  0.4207261543458281\n",
      "1600 / 3828 :  ('SEX_1', 'over_lim_6') :  0.420776938134613\n",
      "1603 / 3828 :  ('SEX_1', 'percent_use_2') :  0.420776938134613\n",
      "1604 / 3828 :  ('SEX_1', 'percent_use_3') :  0.4207757792788122\n",
      "1606 / 3828 :  ('SEX_1', 'percent_use_5') :  0.42145583965870276\n",
      "1607 / 3828 :  ('SEX_1', 'percent_use_6') :  0.42072090075692864\n",
      "1608 / 3828 :  ('SEX_1', 'avg_percent_use') :  0.4208001931188359\n",
      "1611 / 3828 :  ('SEX_1', 'percent_paid_3') :  0.4208151906419609\n",
      "1612 / 3828 :  ('SEX_1', 'percent_paid_4') :  0.42080094894390213\n",
      "1613 / 3828 :  ('SEX_1', 'percent_paid_5') :  0.4209376458439687\n",
      "1616 / 3828 :  ('SEX_1', 'payment_average_p') :  0.42304698593454054\n",
      "1617 / 3828 :  ('SEX_1', 'ln_limit_bal') :  0.4209318709715619\n"
     ]
    },
    {
     "name": "stderr",
     "output_type": "stream",
     "text": [
      "C:\\Users\\Eunjoo\\anaconda3\\lib\\site-packages\\sklearn\\linear_model\\_logistic.py:940: ConvergenceWarning: lbfgs failed to converge (status=1):\n",
      "STOP: TOTAL NO. of ITERATIONS REACHED LIMIT.\n",
      "\n",
      "Increase the number of iterations (max_iter) or scale the data as shown in:\n",
      "    https://scikit-learn.org/stable/modules/preprocessing.html\n",
      "Please also refer to the documentation for alternative solver options:\n",
      "    https://scikit-learn.org/stable/modules/linear_model.html#logistic-regression\n",
      "  extra_warning_msg=_LOGISTIC_SOLVER_CONVERGENCE_MSG)\n"
     ]
    },
    {
     "name": "stdout",
     "output_type": "stream",
     "text": [
      "1620 / 3828 :  ('SEX_2', 'EDUCATION_2') :  0.44206078183927566\n",
      "1621 / 3828 :  ('SEX_2', 'EDUCATION_3') :  0.4208204849683643\n",
      "1623 / 3828 :  ('SEX_2', 'EDUCATION_5') :  0.44991813895496097\n",
      "1624 / 3828 :  ('SEX_2', 'EDUCATION_6') :  0.42178011101592744\n",
      "1626 / 3828 :  ('SEX_2', 'MARRIAGE_1') :  0.420728051618201\n",
      "1627 / 3828 :  ('SEX_2', 'MARRIAGE_2') :  0.4207517098837532\n",
      "1628 / 3828 :  ('SEX_2', 'MARRIAGE_3') :  0.4472323831793708\n",
      "1631 / 3828 :  ('SEX_2', 'pay_hist_0') :  0.4241231387557429\n",
      "1633 / 3828 :  ('SEX_2', 'pay_hist_2') :  0.4211300688965732\n",
      "1635 / 3828 :  ('SEX_2', 'pay_hist_4') :  0.4207757792788122\n",
      "1640 / 3828 :  ('SEX_2', 'BAL_1') :  0.42219958344847425\n",
      "1641 / 3828 :  ('SEX_2', 'BAL_2') :  0.42212073856659105\n",
      "1642 / 3828 :  ('SEX_2', 'BAL_3') :  0.4219744138462204\n",
      "1643 / 3828 :  ('SEX_2', 'BAL_4') :  0.4229072390800716\n",
      "1644 / 3828 :  ('SEX_2', 'BAL_5') :  0.42254477746971775\n"
     ]
    },
    {
     "name": "stderr",
     "output_type": "stream",
     "text": [
      "C:\\Users\\Eunjoo\\anaconda3\\lib\\site-packages\\sklearn\\linear_model\\_logistic.py:940: ConvergenceWarning: lbfgs failed to converge (status=1):\n",
      "STOP: TOTAL NO. of ITERATIONS REACHED LIMIT.\n",
      "\n",
      "Increase the number of iterations (max_iter) or scale the data as shown in:\n",
      "    https://scikit-learn.org/stable/modules/preprocessing.html\n",
      "Please also refer to the documentation for alternative solver options:\n",
      "    https://scikit-learn.org/stable/modules/linear_model.html#logistic-regression\n",
      "  extra_warning_msg=_LOGISTIC_SOLVER_CONVERGENCE_MSG)\n"
     ]
    },
    {
     "name": "stdout",
     "output_type": "stream",
     "text": [
      "1645 / 3828 :  ('SEX_2', 'BAL_6') :  0.43673108725568666\n",
      "1647 / 3828 :  ('SEX_2', 'BAL_change_5') :  0.4426088001578227\n",
      "1648 / 3828 :  ('SEX_2', 'BAL_change_4') :  0.4214831841098494\n",
      "1651 / 3828 :  ('SEX_2', 'cum_bal_change') :  0.4209245622717128\n",
      "1652 / 3828 :  ('SEX_2', 'final_balance') :  0.42219958344847425\n",
      "1653 / 3828 :  ('SEX_2', 'final_payment') :  0.42110236486254876\n",
      "1655 / 3828 :  ('SEX_2', 'DEF_2') :  0.42135156477501085\n",
      "1658 / 3828 :  ('SEX_2', 'DEF_5') :  0.4207265571448037\n",
      "1661 / 3828 :  ('SEX_2', 'over_lim_1') :  0.4207292183179027\n",
      "1663 / 3828 :  ('SEX_2', 'over_lim_3') :  0.42072729604372966\n",
      "1664 / 3828 :  ('SEX_2', 'over_lim_4') :  0.4214688985348058\n",
      "1665 / 3828 :  ('SEX_2', 'over_lim_5') :  0.43616970746723566\n",
      "1666 / 3828 :  ('SEX_2', 'over_lim_6') :  0.4207517098837532\n",
      "1667 / 3828 :  ('SEX_2', 'n_over_lim') :  0.42080060461484087\n",
      "1668 / 3828 :  ('SEX_2', 'percent_use_1') :  0.42076921082810764\n",
      "1669 / 3828 :  ('SEX_2', 'percent_use_2') :  0.420726976976977\n",
      "1670 / 3828 :  ('SEX_2', 'percent_use_3') :  0.42075096252395755\n",
      "1671 / 3828 :  ('SEX_2', 'percent_use_4') :  0.42077537636398105\n",
      "1673 / 3828 :  ('SEX_2', 'percent_use_6') :  0.4208685689399885\n",
      "1676 / 3828 :  ('SEX_2', 'percent_paid_2') :  0.4208928708910174\n",
      "1677 / 3828 :  ('SEX_2', 'percent_paid_3') :  0.421056957245934\n",
      "1678 / 3828 :  ('SEX_2', 'percent_paid_4') :  0.4207281462959405\n",
      "1679 / 3828 :  ('SEX_2', 'percent_paid_5') :  0.4207541285588731\n",
      "1680 / 3828 :  ('SEX_2', 'percent_paid_6') :  0.42089498673778136\n",
      "1681 / 3828 :  ('SEX_2', 'payment_patter_change') :  0.42081988687147653\n",
      "1682 / 3828 :  ('SEX_2', 'payment_average_p') :  0.42075286837305564\n",
      "1683 / 3828 :  ('SEX_2', 'ln_limit_bal') :  0.4442084636353066\n",
      "1684 / 3828 :  ('EDUCATION_0', 'EDUCATION_1') :  0.4209341447442891\n",
      "1685 / 3828 :  ('EDUCATION_0', 'EDUCATION_2') :  0.4209341447442891\n",
      "1686 / 3828 :  ('EDUCATION_0', 'EDUCATION_3') :  0.4209341447442891\n",
      "1687 / 3828 :  ('EDUCATION_0', 'EDUCATION_4') :  0.4209341447442891\n",
      "1688 / 3828 :  ('EDUCATION_0', 'EDUCATION_5') :  0.4209341447442891\n",
      "1689 / 3828 :  ('EDUCATION_0', 'EDUCATION_6') :  0.4209341447442891\n",
      "1690 / 3828 :  ('EDUCATION_0', 'MARRIAGE_0') :  0.4209341447442891\n",
      "1691 / 3828 :  ('EDUCATION_0', 'MARRIAGE_1') :  0.42084375218513365\n"
     ]
    },
    {
     "name": "stderr",
     "output_type": "stream",
     "text": [
      "C:\\Users\\Eunjoo\\anaconda3\\lib\\site-packages\\sklearn\\linear_model\\_logistic.py:940: ConvergenceWarning: lbfgs failed to converge (status=1):\n",
      "STOP: TOTAL NO. of ITERATIONS REACHED LIMIT.\n",
      "\n",
      "Increase the number of iterations (max_iter) or scale the data as shown in:\n",
      "    https://scikit-learn.org/stable/modules/preprocessing.html\n",
      "Please also refer to the documentation for alternative solver options:\n",
      "    https://scikit-learn.org/stable/modules/linear_model.html#logistic-regression\n",
      "  extra_warning_msg=_LOGISTIC_SOLVER_CONVERGENCE_MSG)\n"
     ]
    },
    {
     "name": "stdout",
     "output_type": "stream",
     "text": [
      "1692 / 3828 :  ('EDUCATION_0', 'MARRIAGE_2') :  0.44777432782711185\n",
      "1693 / 3828 :  ('EDUCATION_0', 'MARRIAGE_3') :  0.4209341447442891\n",
      "1694 / 3828 :  ('EDUCATION_0', 'pay_hist_n2') :  0.4215182851043234\n",
      "1695 / 3828 :  ('EDUCATION_0', 'pay_hist_n1') :  0.4207277074194306\n",
      "1696 / 3828 :  ('EDUCATION_0', 'pay_hist_0') :  0.4207284545330321\n",
      "1697 / 3828 :  ('EDUCATION_0', 'pay_hist_1') :  0.4208013519746367\n",
      "1698 / 3828 :  ('EDUCATION_0', 'pay_hist_2') :  0.4207288744899069\n",
      "1699 / 3828 :  ('EDUCATION_0', 'pay_hist_3') :  0.4209341447442891\n",
      "1700 / 3828 :  ('EDUCATION_0', 'pay_hist_4') :  0.4209341447442891\n",
      "1701 / 3828 :  ('EDUCATION_0', 'pay_hist_5') :  0.4209341447442891\n",
      "1702 / 3828 :  ('EDUCATION_0', 'pay_hist_6') :  0.4209341447442891\n",
      "1703 / 3828 :  ('EDUCATION_0', 'pay_hist_7') :  0.4209341447442891\n",
      "1704 / 3828 :  ('EDUCATION_0', 'pay_hist_8') :  0.4209341447442891\n",
      "1705 / 3828 :  ('EDUCATION_0', 'BAL_1') :  0.4210373614249278\n"
     ]
    },
    {
     "name": "stderr",
     "output_type": "stream",
     "text": [
      "C:\\Users\\Eunjoo\\anaconda3\\lib\\site-packages\\sklearn\\linear_model\\_logistic.py:940: ConvergenceWarning: lbfgs failed to converge (status=1):\n",
      "STOP: TOTAL NO. of ITERATIONS REACHED LIMIT.\n",
      "\n",
      "Increase the number of iterations (max_iter) or scale the data as shown in:\n",
      "    https://scikit-learn.org/stable/modules/preprocessing.html\n",
      "Please also refer to the documentation for alternative solver options:\n",
      "    https://scikit-learn.org/stable/modules/linear_model.html#logistic-regression\n",
      "  extra_warning_msg=_LOGISTIC_SOLVER_CONVERGENCE_MSG)\n"
     ]
    },
    {
     "name": "stdout",
     "output_type": "stream",
     "text": [
      "1706 / 3828 :  ('EDUCATION_0', 'BAL_2') :  0.44505479391623454\n",
      "1707 / 3828 :  ('EDUCATION_0', 'BAL_3') :  0.44982229096825427\n",
      "1708 / 3828 :  ('EDUCATION_0', 'BAL_4') :  0.421552451285194\n",
      "1709 / 3828 :  ('EDUCATION_0', 'BAL_5') :  0.42188185852565024\n",
      "1711 / 3828 :  ('EDUCATION_0', 'BAL_change_6') :  0.4427511988686594\n",
      "1714 / 3828 :  ('EDUCATION_0', 'BAL_change_3') :  0.4214541681486601\n",
      "1715 / 3828 :  ('EDUCATION_0', 'BAL_change_2') :  0.4213883145584079\n",
      "1716 / 3828 :  ('EDUCATION_0', 'cum_bal_change') :  0.42132534983295994\n",
      "1717 / 3828 :  ('EDUCATION_0', 'final_balance') :  0.4210373614249278\n",
      "1718 / 3828 :  ('EDUCATION_0', 'final_payment') :  0.4207895941218054\n",
      "1720 / 3828 :  ('EDUCATION_0', 'DEF_2') :  0.4207949329659563\n",
      "1722 / 3828 :  ('EDUCATION_0', 'DEF_4') :  0.4208657689231365\n",
      "1723 / 3828 :  ('EDUCATION_0', 'DEF_5') :  0.4209341447442891\n",
      "1724 / 3828 :  ('EDUCATION_0', 'DEF_6') :  0.42072891453528616\n",
      "1726 / 3828 :  ('EDUCATION_0', 'over_lim_1') :  0.4209341447442891\n",
      "1727 / 3828 :  ('EDUCATION_0', 'over_lim_2') :  0.4209341447442891\n",
      "1728 / 3828 :  ('EDUCATION_0', 'over_lim_3') :  0.4209341447442891\n",
      "1729 / 3828 :  ('EDUCATION_0', 'over_lim_4') :  0.4209341447442891\n",
      "1730 / 3828 :  ('EDUCATION_0', 'over_lim_5') :  0.4209341447442891\n",
      "1731 / 3828 :  ('EDUCATION_0', 'over_lim_6') :  0.4209341447442891\n",
      "1732 / 3828 :  ('EDUCATION_0', 'n_over_lim') :  0.4209341447442891\n",
      "1733 / 3828 :  ('EDUCATION_0', 'percent_use_1') :  0.4207776937090843\n"
     ]
    },
    {
     "name": "stderr",
     "output_type": "stream",
     "text": [
      "C:\\Users\\Eunjoo\\anaconda3\\lib\\site-packages\\sklearn\\linear_model\\_logistic.py:940: ConvergenceWarning: lbfgs failed to converge (status=1):\n",
      "STOP: TOTAL NO. of ITERATIONS REACHED LIMIT.\n",
      "\n",
      "Increase the number of iterations (max_iter) or scale the data as shown in:\n",
      "    https://scikit-learn.org/stable/modules/preprocessing.html\n",
      "Please also refer to the documentation for alternative solver options:\n",
      "    https://scikit-learn.org/stable/modules/linear_model.html#logistic-regression\n",
      "  extra_warning_msg=_LOGISTIC_SOLVER_CONVERGENCE_MSG)\n"
     ]
    },
    {
     "name": "stdout",
     "output_type": "stream",
     "text": [
      "1735 / 3828 :  ('EDUCATION_0', 'percent_use_3') :  0.449687509904477\n",
      "1738 / 3828 :  ('EDUCATION_0', 'percent_use_6') :  0.420728051618201\n",
      "1740 / 3828 :  ('EDUCATION_0', 'percent_paid_1') :  0.42072729604372966\n",
      "1741 / 3828 :  ('EDUCATION_0', 'percent_paid_2') :  0.4215510518136198\n",
      "1743 / 3828 :  ('EDUCATION_0', 'percent_paid_4') :  0.42077537636398105\n",
      "1746 / 3828 :  ('EDUCATION_0', 'payment_patter_change') :  0.42075056818585166\n",
      "1748 / 3828 :  ('EDUCATION_0', 'ln_limit_bal') :  0.42080060461484087\n",
      "1749 / 3828 :  ('EDUCATION_1', 'EDUCATION_2') :  0.4209341447442891\n",
      "1750 / 3828 :  ('EDUCATION_1', 'EDUCATION_3') :  0.4209341447442891\n",
      "1751 / 3828 :  ('EDUCATION_1', 'EDUCATION_4') :  0.4209341447442891\n",
      "1752 / 3828 :  ('EDUCATION_1', 'EDUCATION_5') :  0.4209341447442891\n",
      "1753 / 3828 :  ('EDUCATION_1', 'EDUCATION_6') :  0.4209341447442891\n",
      "1754 / 3828 :  ('EDUCATION_1', 'MARRIAGE_0') :  0.42072576858000216\n",
      "1755 / 3828 :  ('EDUCATION_1', 'MARRIAGE_1') :  0.42075253275545926\n",
      "1760 / 3828 :  ('EDUCATION_1', 'pay_hist_0') :  0.4209147537047659\n",
      "1761 / 3828 :  ('EDUCATION_1', 'pay_hist_1') :  0.4207956682135096\n",
      "1762 / 3828 :  ('EDUCATION_1', 'pay_hist_2') :  0.4483821959062367\n",
      "1764 / 3828 :  ('EDUCATION_1', 'pay_hist_4') :  0.4207761992356871\n",
      "1766 / 3828 :  ('EDUCATION_1', 'pay_hist_6') :  0.42082501845486453\n",
      "1768 / 3828 :  ('EDUCATION_1', 'pay_hist_8') :  0.4209492740085293\n",
      "1769 / 3828 :  ('EDUCATION_1', 'BAL_1') :  0.42209038559724604\n",
      "1770 / 3828 :  ('EDUCATION_1', 'BAL_2') :  0.42118671751146497\n",
      "1771 / 3828 :  ('EDUCATION_1', 'BAL_3') :  0.4213262567579766\n",
      "1772 / 3828 :  ('EDUCATION_1', 'BAL_4') :  0.4216253873634022\n",
      "1773 / 3828 :  ('EDUCATION_1', 'BAL_5') :  0.4211082301556364\n",
      "1774 / 3828 :  ('EDUCATION_1', 'BAL_6') :  0.42122209895243423\n",
      "1777 / 3828 :  ('EDUCATION_1', 'BAL_change_4') :  0.4209968785726344\n",
      "1778 / 3828 :  ('EDUCATION_1', 'BAL_change_3') :  0.42102500552078675\n",
      "1779 / 3828 :  ('EDUCATION_1', 'BAL_change_2') :  0.4209295659937265\n",
      "1781 / 3828 :  ('EDUCATION_1', 'final_balance') :  0.42209038559724604\n",
      "1783 / 3828 :  ('EDUCATION_1', 'DEF_1') :  0.4207945301669807\n",
      "1784 / 3828 :  ('EDUCATION_1', 'DEF_2') :  0.4207757792788122\n",
      "1785 / 3828 :  ('EDUCATION_1', 'DEF_3') :  0.4207521127985843\n",
      "1789 / 3828 :  ('EDUCATION_1', 'N_underpayment') :  0.42084322754881315\n",
      "1790 / 3828 :  ('EDUCATION_1', 'over_lim_1') :  0.420728051618201\n",
      "1791 / 3828 :  ('EDUCATION_1', 'over_lim_2') :  0.42077537636398105\n",
      "1792 / 3828 :  ('EDUCATION_1', 'over_lim_3') :  0.42292867300072157\n",
      "1794 / 3828 :  ('EDUCATION_1', 'over_lim_5') :  0.45037284339483624\n",
      "1796 / 3828 :  ('EDUCATION_1', 'n_over_lim') :  0.44905991610638774\n",
      "1799 / 3828 :  ('EDUCATION_1', 'percent_use_3') :  0.4221044400588722\n",
      "1800 / 3828 :  ('EDUCATION_1', 'percent_use_4') :  0.42076745647234187\n",
      "1802 / 3828 :  ('EDUCATION_1', 'percent_use_6') :  0.4211516075552157\n",
      "1803 / 3828 :  ('EDUCATION_1', 'avg_percent_use') :  0.44947663373244345\n",
      "1807 / 3828 :  ('EDUCATION_1', 'percent_paid_4') :  0.4207703355918422\n",
      "1809 / 3828 :  ('EDUCATION_1', 'percent_paid_6') :  0.42077537636398105\n",
      "1810 / 3828 :  ('EDUCATION_1', 'payment_patter_change') :  0.4209337486661524\n",
      "1811 / 3828 :  ('EDUCATION_1', 'payment_average_p') :  0.42073457195689795\n",
      "1812 / 3828 :  ('EDUCATION_1', 'ln_limit_bal') :  0.4208338718163416\n",
      "1813 / 3828 :  ('EDUCATION_2', 'EDUCATION_3') :  0.4209341447442891\n",
      "1814 / 3828 :  ('EDUCATION_2', 'EDUCATION_4') :  0.4209341447442891\n",
      "1815 / 3828 :  ('EDUCATION_2', 'EDUCATION_5') :  0.4209341447442891\n",
      "1816 / 3828 :  ('EDUCATION_2', 'EDUCATION_6') :  0.4209341447442891\n"
     ]
    },
    {
     "name": "stderr",
     "output_type": "stream",
     "text": [
      "C:\\Users\\Eunjoo\\anaconda3\\lib\\site-packages\\sklearn\\linear_model\\_logistic.py:940: ConvergenceWarning: lbfgs failed to converge (status=1):\n",
      "STOP: TOTAL NO. of ITERATIONS REACHED LIMIT.\n",
      "\n",
      "Increase the number of iterations (max_iter) or scale the data as shown in:\n",
      "    https://scikit-learn.org/stable/modules/preprocessing.html\n",
      "Please also refer to the documentation for alternative solver options:\n",
      "    https://scikit-learn.org/stable/modules/linear_model.html#logistic-regression\n",
      "  extra_warning_msg=_LOGISTIC_SOLVER_CONVERGENCE_MSG)\n"
     ]
    },
    {
     "name": "stdout",
     "output_type": "stream",
     "text": [
      "1820 / 3828 :  ('EDUCATION_2', 'MARRIAGE_3') :  0.4485539600566539\n",
      "1822 / 3828 :  ('EDUCATION_2', 'pay_hist_n1') :  0.4207292183179027\n",
      "1823 / 3828 :  ('EDUCATION_2', 'pay_hist_0') :  0.4208569779437634\n",
      "1824 / 3828 :  ('EDUCATION_2', 'pay_hist_1') :  0.42075056818585166\n",
      "1825 / 3828 :  ('EDUCATION_2', 'pay_hist_2') :  0.4209005518131432\n",
      "1826 / 3828 :  ('EDUCATION_2', 'pay_hist_3') :  0.42092798449395236\n",
      "1827 / 3828 :  ('EDUCATION_2', 'pay_hist_4') :  0.42071090547667006\n",
      "1828 / 3828 :  ('EDUCATION_2', 'pay_hist_5') :  0.4214869261125491\n",
      "1832 / 3828 :  ('EDUCATION_2', 'BAL_1') :  0.42131912938910965\n",
      "1833 / 3828 :  ('EDUCATION_2', 'BAL_2') :  0.42193475304457434\n",
      "1834 / 3828 :  ('EDUCATION_2', 'BAL_3') :  0.42227961589221064\n",
      "1835 / 3828 :  ('EDUCATION_2', 'BAL_4') :  0.4520166089728164\n",
      "1836 / 3828 :  ('EDUCATION_2', 'BAL_5') :  0.4215723571465146\n",
      "1837 / 3828 :  ('EDUCATION_2', 'BAL_6') :  0.4220591304909404\n",
      "1839 / 3828 :  ('EDUCATION_2', 'BAL_change_5') :  0.42122080427045083\n",
      "1840 / 3828 :  ('EDUCATION_2', 'BAL_change_4') :  0.4481560586289377\n",
      "1841 / 3828 :  ('EDUCATION_2', 'BAL_change_3') :  0.42082275423820276\n",
      "1843 / 3828 :  ('EDUCATION_2', 'cum_bal_change') :  0.42078533967849935\n",
      "1844 / 3828 :  ('EDUCATION_2', 'final_balance') :  0.42131912938910965\n",
      "1847 / 3828 :  ('EDUCATION_2', 'DEF_2') :  0.44858156098982377\n",
      "1848 / 3828 :  ('EDUCATION_2', 'DEF_3') :  0.4207269017056238\n",
      "1850 / 3828 :  ('EDUCATION_2', 'DEF_5') :  0.42098426950692125\n",
      "1851 / 3828 :  ('EDUCATION_2', 'DEF_6') :  0.4485704923077852\n",
      "1853 / 3828 :  ('EDUCATION_2', 'over_lim_1') :  0.4207517098837532\n",
      "1855 / 3828 :  ('EDUCATION_2', 'over_lim_3') :  0.44906854898359033\n",
      "1856 / 3828 :  ('EDUCATION_2', 'over_lim_4') :  0.42075096252395755\n",
      "1857 / 3828 :  ('EDUCATION_2', 'over_lim_5') :  0.4211662697759552\n",
      "1858 / 3828 :  ('EDUCATION_2', 'over_lim_6') :  0.4207284545330321\n",
      "1859 / 3828 :  ('EDUCATION_2', 'n_over_lim') :  0.42075253275545926\n",
      "1860 / 3828 :  ('EDUCATION_2', 'percent_use_1') :  0.42101386408183455\n",
      "1863 / 3828 :  ('EDUCATION_2', 'percent_use_4') :  0.42077813378731266\n",
      "1864 / 3828 :  ('EDUCATION_2', 'percent_use_5') :  0.42072576858000216\n",
      "1866 / 3828 :  ('EDUCATION_2', 'avg_percent_use') :  0.42072729604372966\n",
      "1867 / 3828 :  ('EDUCATION_2', 'percent_paid_1') :  0.4208716848828458\n",
      "1868 / 3828 :  ('EDUCATION_2', 'percent_paid_2') :  0.4207284545330321\n",
      "1869 / 3828 :  ('EDUCATION_2', 'percent_paid_3') :  0.42106862913631043\n",
      "1870 / 3828 :  ('EDUCATION_2', 'percent_paid_4') :  0.4208806408493336\n",
      "1872 / 3828 :  ('EDUCATION_2', 'percent_paid_6') :  0.4208441550999648\n",
      "1873 / 3828 :  ('EDUCATION_2', 'payment_patter_change') :  0.42078307206099663\n",
      "1874 / 3828 :  ('EDUCATION_2', 'payment_average_p') :  0.44357306578207917\n",
      "1876 / 3828 :  ('EDUCATION_3', 'EDUCATION_4') :  0.4209341447442891\n",
      "1877 / 3828 :  ('EDUCATION_3', 'EDUCATION_5') :  0.4209341447442891\n",
      "1878 / 3828 :  ('EDUCATION_3', 'EDUCATION_6') :  0.4209341447442891\n",
      "1880 / 3828 :  ('EDUCATION_3', 'MARRIAGE_1') :  0.4207776937090843\n",
      "1882 / 3828 :  ('EDUCATION_3', 'MARRIAGE_3') :  0.42080060461484087\n",
      "1884 / 3828 :  ('EDUCATION_3', 'pay_hist_n1') :  0.4207277074194306\n",
      "1886 / 3828 :  ('EDUCATION_3', 'pay_hist_1') :  0.42073457195689795\n",
      "1889 / 3828 :  ('EDUCATION_3', 'pay_hist_4') :  0.42077652663860804\n",
      "1893 / 3828 :  ('EDUCATION_3', 'pay_hist_8') :  0.4208001931188359\n",
      "1894 / 3828 :  ('EDUCATION_3', 'BAL_1') :  0.4210575197681116\n",
      "1896 / 3828 :  ('EDUCATION_3', 'BAL_3') :  0.42121681170158887\n",
      "1897 / 3828 :  ('EDUCATION_3', 'BAL_4') :  0.42152086093888613\n",
      "1898 / 3828 :  ('EDUCATION_3', 'BAL_5') :  0.42126912248122467\n",
      "1899 / 3828 :  ('EDUCATION_3', 'BAL_6') :  0.42112846274164245\n",
      "1902 / 3828 :  ('EDUCATION_3', 'BAL_change_4') :  0.42101312248789385\n",
      "1904 / 3828 :  ('EDUCATION_3', 'BAL_change_2') :  0.44838007284321996\n",
      "1906 / 3828 :  ('EDUCATION_3', 'final_balance') :  0.4210575197681116\n",
      "1907 / 3828 :  ('EDUCATION_3', 'final_payment') :  0.42077970173937757\n",
      "1908 / 3828 :  ('EDUCATION_3', 'DEF_1') :  0.42072729604372966\n",
      "1909 / 3828 :  ('EDUCATION_3', 'DEF_2') :  0.4207284545330321\n",
      "1910 / 3828 :  ('EDUCATION_3', 'DEF_3') :  0.4207517098837532\n",
      "1911 / 3828 :  ('EDUCATION_3', 'DEF_4') :  0.4208013519746367\n",
      "1912 / 3828 :  ('EDUCATION_3', 'DEF_5') :  0.42263044734128813\n",
      "1913 / 3828 :  ('EDUCATION_3', 'DEF_6') :  0.42076706224564625\n",
      "1914 / 3828 :  ('EDUCATION_3', 'N_underpayment') :  0.42075286837305564\n",
      "1915 / 3828 :  ('EDUCATION_3', 'over_lim_1') :  0.42081933834511015\n",
      "1916 / 3828 :  ('EDUCATION_3', 'over_lim_2') :  0.431614866009888\n",
      "1919 / 3828 :  ('EDUCATION_3', 'over_lim_5') :  0.4218954324221558\n",
      "1920 / 3828 :  ('EDUCATION_3', 'over_lim_6') :  0.4207521127985843\n",
      "1921 / 3828 :  ('EDUCATION_3', 'n_over_lim') :  0.42073457195689795\n",
      "1923 / 3828 :  ('EDUCATION_3', 'percent_use_2') :  0.42072729604372966\n",
      "1925 / 3828 :  ('EDUCATION_3', 'percent_use_4') :  0.420776938134613\n",
      "1927 / 3828 :  ('EDUCATION_3', 'percent_use_6') :  0.42082501845486453\n",
      "1928 / 3828 :  ('EDUCATION_3', 'avg_percent_use') :  0.4479331284643154\n",
      "1929 / 3828 :  ('EDUCATION_3', 'percent_paid_1') :  0.4207300498156885\n",
      "1930 / 3828 :  ('EDUCATION_3', 'percent_paid_2') :  0.4207932832237311\n",
      "1932 / 3828 :  ('EDUCATION_3', 'percent_paid_4') :  0.420776938134613\n",
      "1933 / 3828 :  ('EDUCATION_3', 'percent_paid_5') :  0.42072320399316593\n",
      "1934 / 3828 :  ('EDUCATION_3', 'percent_paid_6') :  0.42296962271737654\n",
      "1937 / 3828 :  ('EDUCATION_3', 'ln_limit_bal') :  0.4207625777363717\n",
      "1938 / 3828 :  ('EDUCATION_4', 'EDUCATION_5') :  0.4209341447442891\n",
      "1939 / 3828 :  ('EDUCATION_4', 'EDUCATION_6') :  0.4209341447442891\n",
      "1940 / 3828 :  ('EDUCATION_4', 'MARRIAGE_0') :  0.4209341447442891\n",
      "1943 / 3828 :  ('EDUCATION_4', 'MARRIAGE_3') :  0.42077652663860804\n",
      "1944 / 3828 :  ('EDUCATION_4', 'pay_hist_n2') :  0.4460456848118757\n",
      "1945 / 3828 :  ('EDUCATION_4', 'pay_hist_n1') :  0.42075137389965844\n",
      "1946 / 3828 :  ('EDUCATION_4', 'pay_hist_0') :  0.420728051618201\n",
      "1947 / 3828 :  ('EDUCATION_4', 'pay_hist_1') :  0.420776938134613\n",
      "1948 / 3828 :  ('EDUCATION_4', 'pay_hist_2') :  0.4207182534225417\n",
      "1949 / 3828 :  ('EDUCATION_4', 'pay_hist_3') :  0.4209341447442891\n",
      "1950 / 3828 :  ('EDUCATION_4', 'pay_hist_4') :  0.4209341447442891\n",
      "1951 / 3828 :  ('EDUCATION_4', 'pay_hist_5') :  0.4209341447442891\n",
      "1952 / 3828 :  ('EDUCATION_4', 'pay_hist_6') :  0.4209341447442891\n",
      "1953 / 3828 :  ('EDUCATION_4', 'pay_hist_7') :  0.4209341447442891\n",
      "1954 / 3828 :  ('EDUCATION_4', 'pay_hist_8') :  0.4209341447442891\n",
      "1955 / 3828 :  ('EDUCATION_4', 'BAL_1') :  0.420994328739392\n",
      "1956 / 3828 :  ('EDUCATION_4', 'BAL_2') :  0.42074390470828044\n",
      "1957 / 3828 :  ('EDUCATION_4', 'BAL_3') :  0.4209391083826972\n",
      "1958 / 3828 :  ('EDUCATION_4', 'BAL_4') :  0.42092326104334704\n",
      "1959 / 3828 :  ('EDUCATION_4', 'BAL_5') :  0.420781002939492\n",
      "1960 / 3828 :  ('EDUCATION_4', 'BAL_6') :  0.4208862887393514\n"
     ]
    },
    {
     "name": "stderr",
     "output_type": "stream",
     "text": [
      "C:\\Users\\Eunjoo\\anaconda3\\lib\\site-packages\\sklearn\\linear_model\\_logistic.py:940: ConvergenceWarning: lbfgs failed to converge (status=1):\n",
      "STOP: TOTAL NO. of ITERATIONS REACHED LIMIT.\n",
      "\n",
      "Increase the number of iterations (max_iter) or scale the data as shown in:\n",
      "    https://scikit-learn.org/stable/modules/preprocessing.html\n",
      "Please also refer to the documentation for alternative solver options:\n",
      "    https://scikit-learn.org/stable/modules/linear_model.html#logistic-regression\n",
      "  extra_warning_msg=_LOGISTIC_SOLVER_CONVERGENCE_MSG)\n"
     ]
    },
    {
     "name": "stdout",
     "output_type": "stream",
     "text": [
      "1961 / 3828 :  ('EDUCATION_4', 'BAL_change_6') :  0.482127321472624\n",
      "1962 / 3828 :  ('EDUCATION_4', 'BAL_change_5') :  0.422259125080435\n",
      "1963 / 3828 :  ('EDUCATION_4', 'BAL_change_4') :  0.4207654426149971\n",
      "1964 / 3828 :  ('EDUCATION_4', 'BAL_change_3') :  0.4509054851615719\n",
      "1965 / 3828 :  ('EDUCATION_4', 'BAL_change_2') :  0.4210005002832456\n",
      "1966 / 3828 :  ('EDUCATION_4', 'cum_bal_change') :  0.4207959803615609\n",
      "1967 / 3828 :  ('EDUCATION_4', 'final_balance') :  0.420994328739392\n",
      "1975 / 3828 :  ('EDUCATION_4', 'N_underpayment') :  0.4208657689231365\n",
      "1977 / 3828 :  ('EDUCATION_4', 'over_lim_2') :  0.43596955234970086\n",
      "1978 / 3828 :  ('EDUCATION_4', 'over_lim_3') :  0.42075096252395755\n",
      "1979 / 3828 :  ('EDUCATION_4', 'over_lim_4') :  0.42084135508311277\n",
      "1980 / 3828 :  ('EDUCATION_4', 'over_lim_5') :  0.42073457195689795\n",
      "1983 / 3828 :  ('EDUCATION_4', 'percent_use_1') :  0.421527303203218\n",
      "1984 / 3828 :  ('EDUCATION_4', 'percent_use_2') :  0.4208013519746367\n",
      "1985 / 3828 :  ('EDUCATION_4', 'percent_use_3') :  0.4490898261835616\n",
      "1988 / 3828 :  ('EDUCATION_4', 'percent_use_6') :  0.420776938134613\n",
      "1989 / 3828 :  ('EDUCATION_4', 'avg_percent_use') :  0.42086898043599347\n",
      "1991 / 3828 :  ('EDUCATION_4', 'percent_paid_2') :  0.4493135007111062\n",
      "1997 / 3828 :  ('EDUCATION_4', 'payment_average_p') :  0.42195592137349247\n",
      "1998 / 3828 :  ('EDUCATION_4', 'ln_limit_bal') :  0.4208441550999648\n",
      "1999 / 3828 :  ('EDUCATION_5', 'EDUCATION_6') :  0.4209341447442891\n",
      "2000 / 3828 :  ('EDUCATION_5', 'MARRIAGE_0') :  0.4209341447442891\n",
      "2005 / 3828 :  ('EDUCATION_5', 'pay_hist_n1') :  0.4208013519746367\n",
      "2006 / 3828 :  ('EDUCATION_5', 'pay_hist_0') :  0.42157685471417095\n",
      "2007 / 3828 :  ('EDUCATION_5', 'pay_hist_1') :  0.42151318062194637\n",
      "2008 / 3828 :  ('EDUCATION_5', 'pay_hist_2') :  0.4252187604080386\n",
      "2010 / 3828 :  ('EDUCATION_5', 'pay_hist_4') :  0.4209341447442891\n",
      "2011 / 3828 :  ('EDUCATION_5', 'pay_hist_5') :  0.4209341447442891\n",
      "2012 / 3828 :  ('EDUCATION_5', 'pay_hist_6') :  0.4209341447442891\n",
      "2013 / 3828 :  ('EDUCATION_5', 'pay_hist_7') :  0.4209341447442891\n",
      "2014 / 3828 :  ('EDUCATION_5', 'pay_hist_8') :  0.4209341447442891\n",
      "2015 / 3828 :  ('EDUCATION_5', 'BAL_1') :  0.42156071219082275\n",
      "2016 / 3828 :  ('EDUCATION_5', 'BAL_2') :  0.42133751663440283\n",
      "2017 / 3828 :  ('EDUCATION_5', 'BAL_3') :  0.42155076224156485\n",
      "2018 / 3828 :  ('EDUCATION_5', 'BAL_4') :  0.421118285573701\n",
      "2019 / 3828 :  ('EDUCATION_5', 'BAL_5') :  0.4215849218352558\n",
      "2020 / 3828 :  ('EDUCATION_5', 'BAL_6') :  0.45103123158590314\n",
      "2021 / 3828 :  ('EDUCATION_5', 'BAL_change_6') :  0.4208511308135135\n",
      "2022 / 3828 :  ('EDUCATION_5', 'BAL_change_5') :  0.4207319620182515\n"
     ]
    },
    {
     "name": "stderr",
     "output_type": "stream",
     "text": [
      "C:\\Users\\Eunjoo\\anaconda3\\lib\\site-packages\\sklearn\\linear_model\\_logistic.py:940: ConvergenceWarning: lbfgs failed to converge (status=1):\n",
      "STOP: TOTAL NO. of ITERATIONS REACHED LIMIT.\n",
      "\n",
      "Increase the number of iterations (max_iter) or scale the data as shown in:\n",
      "    https://scikit-learn.org/stable/modules/preprocessing.html\n",
      "Please also refer to the documentation for alternative solver options:\n",
      "    https://scikit-learn.org/stable/modules/linear_model.html#logistic-regression\n",
      "  extra_warning_msg=_LOGISTIC_SOLVER_CONVERGENCE_MSG)\n"
     ]
    },
    {
     "name": "stdout",
     "output_type": "stream",
     "text": [
      "2023 / 3828 :  ('EDUCATION_5', 'BAL_change_4') :  0.448443952784924\n",
      "2024 / 3828 :  ('EDUCATION_5', 'BAL_change_3') :  0.45525422582756087\n",
      "2026 / 3828 :  ('EDUCATION_5', 'cum_bal_change') :  0.4207227899086381\n",
      "2027 / 3828 :  ('EDUCATION_5', 'final_balance') :  0.42156071219082275\n",
      "2028 / 3828 :  ('EDUCATION_5', 'final_payment') :  0.42109592976338694\n",
      "2033 / 3828 :  ('EDUCATION_5', 'DEF_5') :  0.4207284545330321\n",
      "2035 / 3828 :  ('EDUCATION_5', 'N_underpayment') :  0.42089339427601713\n",
      "2036 / 3828 :  ('EDUCATION_5', 'over_lim_1') :  0.42072729604372966\n",
      "2037 / 3828 :  ('EDUCATION_5', 'over_lim_2') :  0.42141255673408456\n",
      "2038 / 3828 :  ('EDUCATION_5', 'over_lim_3') :  0.42075327986906075\n",
      "2039 / 3828 :  ('EDUCATION_5', 'over_lim_4') :  0.42081974972081104\n",
      "2040 / 3828 :  ('EDUCATION_5', 'over_lim_5') :  0.4210288638971597\n",
      "2041 / 3828 :  ('EDUCATION_5', 'over_lim_6') :  0.4207517098837532\n",
      "2042 / 3828 :  ('EDUCATION_5', 'n_over_lim') :  0.42077652663860804\n",
      "2043 / 3828 :  ('EDUCATION_5', 'percent_use_1') :  0.4207776937090843\n",
      "2044 / 3828 :  ('EDUCATION_5', 'percent_use_2') :  0.42072729604372966\n",
      "2046 / 3828 :  ('EDUCATION_5', 'percent_use_4') :  0.42077537636398105\n",
      "2049 / 3828 :  ('EDUCATION_5', 'avg_percent_use') :  0.4221728675381387\n",
      "2050 / 3828 :  ('EDUCATION_5', 'percent_paid_1') :  0.4207521127985843\n",
      "2051 / 3828 :  ('EDUCATION_5', 'percent_paid_2') :  0.4207261543458281\n",
      "2056 / 3828 :  ('EDUCATION_5', 'payment_patter_change') :  0.42075286837305564\n",
      "2057 / 3828 :  ('EDUCATION_5', 'payment_average_p') :  0.42084531030439293\n",
      "2059 / 3828 :  ('EDUCATION_6', 'MARRIAGE_0') :  0.4209341447442891\n",
      "2061 / 3828 :  ('EDUCATION_6', 'MARRIAGE_2') :  0.4208424770924771\n",
      "2062 / 3828 :  ('EDUCATION_6', 'MARRIAGE_3') :  0.42072729604372966\n",
      "2063 / 3828 :  ('EDUCATION_6', 'pay_hist_n2') :  0.4207517098837532\n",
      "2065 / 3828 :  ('EDUCATION_6', 'pay_hist_0') :  0.42082501845486453\n",
      "2066 / 3828 :  ('EDUCATION_6', 'pay_hist_1') :  0.4209341447442891\n",
      "2068 / 3828 :  ('EDUCATION_6', 'pay_hist_3') :  0.4209341447442891\n",
      "2069 / 3828 :  ('EDUCATION_6', 'pay_hist_4') :  0.4209341447442891\n",
      "2070 / 3828 :  ('EDUCATION_6', 'pay_hist_5') :  0.4209341447442891\n",
      "2071 / 3828 :  ('EDUCATION_6', 'pay_hist_6') :  0.4209341447442891\n",
      "2072 / 3828 :  ('EDUCATION_6', 'pay_hist_7') :  0.4209341447442891\n",
      "2073 / 3828 :  ('EDUCATION_6', 'pay_hist_8') :  0.4209341447442891\n",
      "2075 / 3828 :  ('EDUCATION_6', 'BAL_2') :  0.4208898578706801\n",
      "2076 / 3828 :  ('EDUCATION_6', 'BAL_3') :  0.4207909939594055\n",
      "2077 / 3828 :  ('EDUCATION_6', 'BAL_4') :  0.4208332610210848\n",
      "2078 / 3828 :  ('EDUCATION_6', 'BAL_5') :  0.42076846371450616\n",
      "2079 / 3828 :  ('EDUCATION_6', 'BAL_6') :  0.42098415578133563\n",
      "2080 / 3828 :  ('EDUCATION_6', 'BAL_change_6') :  0.4208487604527273\n",
      "2082 / 3828 :  ('EDUCATION_6', 'BAL_change_4') :  0.42072905492745716\n",
      "2084 / 3828 :  ('EDUCATION_6', 'BAL_change_2') :  0.4218917697184376\n",
      "2085 / 3828 :  ('EDUCATION_6', 'cum_bal_change') :  0.42165760171893646\n",
      "2088 / 3828 :  ('EDUCATION_6', 'DEF_1') :  0.42075286837305564\n",
      "2089 / 3828 :  ('EDUCATION_6', 'DEF_2') :  0.42089339427601713\n",
      "2090 / 3828 :  ('EDUCATION_6', 'DEF_3') :  0.42081694970395905\n",
      "2091 / 3828 :  ('EDUCATION_6', 'DEF_4') :  0.42074645465622634\n",
      "2092 / 3828 :  ('EDUCATION_6', 'DEF_5') :  0.42108669886842276\n",
      "2093 / 3828 :  ('EDUCATION_6', 'DEF_6') :  0.4207521127985843\n",
      "2094 / 3828 :  ('EDUCATION_6', 'N_underpayment') :  0.42077537636398105\n",
      "2097 / 3828 :  ('EDUCATION_6', 'over_lim_3') :  0.42195986904651583\n",
      "2098 / 3828 :  ('EDUCATION_6', 'over_lim_4') :  0.4207521127985843\n",
      "2099 / 3828 :  ('EDUCATION_6', 'over_lim_5') :  0.4217637378899117\n",
      "2100 / 3828 :  ('EDUCATION_6', 'over_lim_6') :  0.4209341447442891\n",
      "2102 / 3828 :  ('EDUCATION_6', 'percent_use_1') :  0.42079133611516023\n",
      "2104 / 3828 :  ('EDUCATION_6', 'percent_use_3') :  0.42107870871709235\n",
      "2106 / 3828 :  ('EDUCATION_6', 'percent_use_5') :  0.4207932832237311\n",
      "2109 / 3828 :  ('EDUCATION_6', 'percent_paid_1') :  0.42072729604372966\n",
      "2112 / 3828 :  ('EDUCATION_6', 'percent_paid_4') :  0.42078583347601506\n"
     ]
    },
    {
     "name": "stderr",
     "output_type": "stream",
     "text": [
      "C:\\Users\\Eunjoo\\anaconda3\\lib\\site-packages\\sklearn\\linear_model\\_logistic.py:940: ConvergenceWarning: lbfgs failed to converge (status=1):\n",
      "STOP: TOTAL NO. of ITERATIONS REACHED LIMIT.\n",
      "\n",
      "Increase the number of iterations (max_iter) or scale the data as shown in:\n",
      "    https://scikit-learn.org/stable/modules/preprocessing.html\n",
      "Please also refer to the documentation for alternative solver options:\n",
      "    https://scikit-learn.org/stable/modules/linear_model.html#logistic-regression\n",
      "  extra_warning_msg=_LOGISTIC_SOLVER_CONVERGENCE_MSG)\n"
     ]
    },
    {
     "name": "stdout",
     "output_type": "stream",
     "text": [
      "2115 / 3828 :  ('EDUCATION_6', 'payment_patter_change') :  0.446822417738536\n",
      "2116 / 3828 :  ('EDUCATION_6', 'payment_average_p') :  0.42087014414619744\n",
      "2118 / 3828 :  ('MARRIAGE_0', 'MARRIAGE_1') :  0.4209341447442891\n",
      "2119 / 3828 :  ('MARRIAGE_0', 'MARRIAGE_2') :  0.4209341447442891\n",
      "2120 / 3828 :  ('MARRIAGE_0', 'MARRIAGE_3') :  0.4209341447442891\n",
      "2121 / 3828 :  ('MARRIAGE_0', 'pay_hist_n2') :  0.4208204849683643\n",
      "2123 / 3828 :  ('MARRIAGE_0', 'pay_hist_0') :  0.4208001931188359\n",
      "2125 / 3828 :  ('MARRIAGE_0', 'pay_hist_2') :  0.44912797318525827\n",
      "2127 / 3828 :  ('MARRIAGE_0', 'pay_hist_4') :  0.4208441550999648\n",
      "2128 / 3828 :  ('MARRIAGE_0', 'pay_hist_5') :  0.4208441550999648\n",
      "2129 / 3828 :  ('MARRIAGE_0', 'pay_hist_6') :  0.4209341447442891\n",
      "2130 / 3828 :  ('MARRIAGE_0', 'pay_hist_7') :  0.4209341447442891\n",
      "2131 / 3828 :  ('MARRIAGE_0', 'pay_hist_8') :  0.4209341447442891\n",
      "2133 / 3828 :  ('MARRIAGE_0', 'BAL_2') :  0.4218215843131472\n",
      "2135 / 3828 :  ('MARRIAGE_0', 'BAL_4') :  0.4207272969144844\n",
      "2137 / 3828 :  ('MARRIAGE_0', 'BAL_6') :  0.43514166407026256\n",
      "2138 / 3828 :  ('MARRIAGE_0', 'BAL_change_6') :  0.4214145812789396\n",
      "2139 / 3828 :  ('MARRIAGE_0', 'BAL_change_5') :  0.4231497765124095\n",
      "2140 / 3828 :  ('MARRIAGE_0', 'BAL_change_4') :  0.42079271400273477\n",
      "2142 / 3828 :  ('MARRIAGE_0', 'BAL_change_2') :  0.45060928820884394\n",
      "2145 / 3828 :  ('MARRIAGE_0', 'final_payment') :  0.42092588143381743\n",
      "2147 / 3828 :  ('MARRIAGE_0', 'DEF_2') :  0.4207269017056238\n"
     ]
    },
    {
     "name": "stderr",
     "output_type": "stream",
     "text": [
      "C:\\Users\\Eunjoo\\anaconda3\\lib\\site-packages\\sklearn\\linear_model\\_logistic.py:940: ConvergenceWarning: lbfgs failed to converge (status=1):\n",
      "STOP: TOTAL NO. of ITERATIONS REACHED LIMIT.\n",
      "\n",
      "Increase the number of iterations (max_iter) or scale the data as shown in:\n",
      "    https://scikit-learn.org/stable/modules/preprocessing.html\n",
      "Please also refer to the documentation for alternative solver options:\n",
      "    https://scikit-learn.org/stable/modules/linear_model.html#logistic-regression\n",
      "  extra_warning_msg=_LOGISTIC_SOLVER_CONVERGENCE_MSG)\n"
     ]
    },
    {
     "name": "stdout",
     "output_type": "stream",
     "text": [
      "2150 / 3828 :  ('MARRIAGE_0', 'DEF_5') :  0.4491466776280613\n",
      "2151 / 3828 :  ('MARRIAGE_0', 'DEF_6') :  0.4494175339977571\n",
      "2153 / 3828 :  ('MARRIAGE_0', 'over_lim_1') :  0.42081894400700426\n",
      "2154 / 3828 :  ('MARRIAGE_0', 'over_lim_2') :  0.4209341447442891\n",
      "2155 / 3828 :  ('MARRIAGE_0', 'over_lim_3') :  0.4209341447442891\n",
      "2156 / 3828 :  ('MARRIAGE_0', 'over_lim_4') :  0.4209341447442891\n",
      "2157 / 3828 :  ('MARRIAGE_0', 'over_lim_5') :  0.4209341447442891\n",
      "2158 / 3828 :  ('MARRIAGE_0', 'over_lim_6') :  0.42081894400700426\n",
      "2159 / 3828 :  ('MARRIAGE_0', 'n_over_lim') :  0.4207293145681352\n",
      "2160 / 3828 :  ('MARRIAGE_0', 'percent_use_1') :  0.4222771585579694\n",
      "2162 / 3828 :  ('MARRIAGE_0', 'percent_use_3') :  0.42077652663860804\n",
      "2164 / 3828 :  ('MARRIAGE_0', 'percent_use_5') :  0.42075096252395755\n",
      "2165 / 3828 :  ('MARRIAGE_0', 'percent_use_6') :  0.4207284545330321\n",
      "2166 / 3828 :  ('MARRIAGE_0', 'avg_percent_use') :  0.42077161195689544\n",
      "2171 / 3828 :  ('MARRIAGE_0', 'percent_paid_5') :  0.4208013519746367\n",
      "2173 / 3828 :  ('MARRIAGE_0', 'payment_patter_change') :  0.4207757792788122\n",
      "2176 / 3828 :  ('MARRIAGE_1', 'MARRIAGE_2') :  0.4209341447442891\n",
      "2177 / 3828 :  ('MARRIAGE_1', 'MARRIAGE_3') :  0.4209341447442891\n",
      "2178 / 3828 :  ('MARRIAGE_1', 'pay_hist_n2') :  0.4208426223559738\n",
      "2179 / 3828 :  ('MARRIAGE_1', 'pay_hist_n1') :  0.4208204849683643\n",
      "2180 / 3828 :  ('MARRIAGE_1', 'pay_hist_0') :  0.42123397421435566\n",
      "2182 / 3828 :  ('MARRIAGE_1', 'pay_hist_2') :  0.4211619342229512\n",
      "2183 / 3828 :  ('MARRIAGE_1', 'pay_hist_3') :  0.4226518321534282\n",
      "2184 / 3828 :  ('MARRIAGE_1', 'pay_hist_4') :  0.42075327986906075\n",
      "2186 / 3828 :  ('MARRIAGE_1', 'pay_hist_6') :  0.42073457195689795\n",
      "2189 / 3828 :  ('MARRIAGE_1', 'BAL_1') :  0.4223369190621699\n",
      "2190 / 3828 :  ('MARRIAGE_1', 'BAL_2') :  0.4220161244234224\n",
      "2191 / 3828 :  ('MARRIAGE_1', 'BAL_3') :  0.42270648924799686\n",
      "2192 / 3828 :  ('MARRIAGE_1', 'BAL_4') :  0.4224730231803337\n",
      "2194 / 3828 :  ('MARRIAGE_1', 'BAL_6') :  0.42232083718633767\n",
      "2195 / 3828 :  ('MARRIAGE_1', 'BAL_change_6') :  0.42096009518622224\n",
      "2197 / 3828 :  ('MARRIAGE_1', 'BAL_change_4') :  0.42076474358475696\n",
      "2198 / 3828 :  ('MARRIAGE_1', 'BAL_change_3') :  0.4213121883801398\n",
      "2199 / 3828 :  ('MARRIAGE_1', 'BAL_change_2') :  0.45227981062075334\n",
      "2200 / 3828 :  ('MARRIAGE_1', 'cum_bal_change') :  0.42166006341039264\n",
      "2201 / 3828 :  ('MARRIAGE_1', 'final_balance') :  0.4223369190621699\n",
      "2202 / 3828 :  ('MARRIAGE_1', 'final_payment') :  0.42224323173629025\n",
      "2206 / 3828 :  ('MARRIAGE_1', 'DEF_4') :  0.45065415435090334\n",
      "2207 / 3828 :  ('MARRIAGE_1', 'DEF_5') :  0.4207288744899069\n",
      "2209 / 3828 :  ('MARRIAGE_1', 'N_underpayment') :  0.4211390873650926\n",
      "2211 / 3828 :  ('MARRIAGE_1', 'over_lim_2') :  0.42077652663860804\n",
      "2214 / 3828 :  ('MARRIAGE_1', 'over_lim_5') :  0.42155086116839824\n",
      "2216 / 3828 :  ('MARRIAGE_1', 'n_over_lim') :  0.42073457195689795\n",
      "2217 / 3828 :  ('MARRIAGE_1', 'percent_use_1') :  0.42083918476566673\n",
      "2221 / 3828 :  ('MARRIAGE_1', 'percent_use_5') :  0.4207757792788122\n",
      "2222 / 3828 :  ('MARRIAGE_1', 'percent_use_6') :  0.4212101935463702\n",
      "2224 / 3828 :  ('MARRIAGE_1', 'percent_paid_1') :  0.4208871763051509\n",
      "2225 / 3828 :  ('MARRIAGE_1', 'percent_paid_2') :  0.4207949329659563\n",
      "2226 / 3828 :  ('MARRIAGE_1', 'percent_paid_3') :  0.42081893013548255\n",
      "2227 / 3828 :  ('MARRIAGE_1', 'percent_paid_4') :  0.42075253275545926\n",
      "2228 / 3828 :  ('MARRIAGE_1', 'percent_paid_5') :  0.42077537636398105\n",
      "2229 / 3828 :  ('MARRIAGE_1', 'percent_paid_6') :  0.42091176007969583\n",
      "2230 / 3828 :  ('MARRIAGE_1', 'payment_patter_change') :  0.4504560818305408\n",
      "2232 / 3828 :  ('MARRIAGE_1', 'ln_limit_bal') :  0.4211422196015722\n",
      "2233 / 3828 :  ('MARRIAGE_2', 'MARRIAGE_3') :  0.4209341447442891\n",
      "2234 / 3828 :  ('MARRIAGE_2', 'pay_hist_n2') :  0.4207277074194306\n",
      "2236 / 3828 :  ('MARRIAGE_2', 'pay_hist_0') :  0.4213323257938351\n",
      "2237 / 3828 :  ('MARRIAGE_2', 'pay_hist_1') :  0.42075204193980137\n",
      "2238 / 3828 :  ('MARRIAGE_2', 'pay_hist_2') :  0.4210404779574382\n",
      "2239 / 3828 :  ('MARRIAGE_2', 'pay_hist_3') :  0.4207517098837532\n",
      "2241 / 3828 :  ('MARRIAGE_2', 'pay_hist_5') :  0.4208181113121159\n",
      "2242 / 3828 :  ('MARRIAGE_2', 'pay_hist_6') :  0.42075096252395755\n",
      "2244 / 3828 :  ('MARRIAGE_2', 'pay_hist_8') :  0.42094534381290605\n",
      "2245 / 3828 :  ('MARRIAGE_2', 'BAL_1') :  0.42252378578145255\n",
      "2246 / 3828 :  ('MARRIAGE_2', 'BAL_2') :  0.42238735036030245\n",
      "2247 / 3828 :  ('MARRIAGE_2', 'BAL_3') :  0.4233518447614392\n",
      "2248 / 3828 :  ('MARRIAGE_2', 'BAL_4') :  0.422987542168829\n",
      "2249 / 3828 :  ('MARRIAGE_2', 'BAL_5') :  0.42242373124977733\n",
      "2250 / 3828 :  ('MARRIAGE_2', 'BAL_6') :  0.4225590558259235\n",
      "2253 / 3828 :  ('MARRIAGE_2', 'BAL_change_4') :  0.4491326911861258\n",
      "2254 / 3828 :  ('MARRIAGE_2', 'BAL_change_3') :  0.4208488175576395\n",
      "2255 / 3828 :  ('MARRIAGE_2', 'BAL_change_2') :  0.4222287169522629\n",
      "2256 / 3828 :  ('MARRIAGE_2', 'cum_bal_change') :  0.42124652474105373\n",
      "2257 / 3828 :  ('MARRIAGE_2', 'final_balance') :  0.42252378578145255\n",
      "2258 / 3828 :  ('MARRIAGE_2', 'final_payment') :  0.4219282365750911\n",
      "2259 / 3828 :  ('MARRIAGE_2', 'DEF_1') :  0.4207521127985843\n",
      "2260 / 3828 :  ('MARRIAGE_2', 'DEF_2') :  0.42075327986906075\n",
      "2265 / 3828 :  ('MARRIAGE_2', 'N_underpayment') :  0.4496958138461298\n",
      "2266 / 3828 :  ('MARRIAGE_2', 'over_lim_1') :  0.420728051618201\n",
      "2267 / 3828 :  ('MARRIAGE_2', 'over_lim_2') :  0.4208227883859988\n",
      "2268 / 3828 :  ('MARRIAGE_2', 'over_lim_3') :  0.42251111574109657\n",
      "2269 / 3828 :  ('MARRIAGE_2', 'over_lim_4') :  0.42084985237651856\n",
      "2271 / 3828 :  ('MARRIAGE_2', 'over_lim_6') :  0.4214390960596705\n",
      "2272 / 3828 :  ('MARRIAGE_2', 'n_over_lim') :  0.42075253275545926\n",
      "2274 / 3828 :  ('MARRIAGE_2', 'percent_use_2') :  0.4207277074194306\n",
      "2277 / 3828 :  ('MARRIAGE_2', 'percent_use_5') :  0.4207284545330321\n",
      "2278 / 3828 :  ('MARRIAGE_2', 'percent_use_6') :  0.4207521127985843\n",
      "2279 / 3828 :  ('MARRIAGE_2', 'avg_percent_use') :  0.42084210244290854\n",
      "2282 / 3828 :  ('MARRIAGE_2', 'percent_paid_3') :  0.4208332455670891\n",
      "2283 / 3828 :  ('MARRIAGE_2', 'percent_paid_4') :  0.42100483306008923\n",
      "2284 / 3828 :  ('MARRIAGE_2', 'percent_paid_5') :  0.45295525583371116\n",
      "2285 / 3828 :  ('MARRIAGE_2', 'percent_paid_6') :  0.4209140149044603\n",
      "2289 / 3828 :  ('MARRIAGE_3', 'pay_hist_n2') :  0.4208001931188359\n",
      "2290 / 3828 :  ('MARRIAGE_3', 'pay_hist_n1') :  0.4207691856792651\n",
      "2291 / 3828 :  ('MARRIAGE_3', 'pay_hist_0') :  0.4208697241444166\n",
      "2294 / 3828 :  ('MARRIAGE_3', 'pay_hist_3') :  0.4207521127985843\n",
      "2295 / 3828 :  ('MARRIAGE_3', 'pay_hist_4') :  0.42076973056113126\n",
      "2296 / 3828 :  ('MARRIAGE_3', 'pay_hist_5') :  0.4209341447442891\n",
      "2297 / 3828 :  ('MARRIAGE_3', 'pay_hist_6') :  0.4209341447442891\n",
      "2298 / 3828 :  ('MARRIAGE_3', 'pay_hist_7') :  0.4209341447442891\n",
      "2299 / 3828 :  ('MARRIAGE_3', 'pay_hist_8') :  0.4209341447442891\n",
      "2300 / 3828 :  ('MARRIAGE_3', 'BAL_1') :  0.4208572496417539\n",
      "2301 / 3828 :  ('MARRIAGE_3', 'BAL_2') :  0.420718090599509\n",
      "2302 / 3828 :  ('MARRIAGE_3', 'BAL_3') :  0.42080336791564193\n",
      "2303 / 3828 :  ('MARRIAGE_3', 'BAL_4') :  0.42077635442100014\n",
      "2304 / 3828 :  ('MARRIAGE_3', 'BAL_5') :  0.4207448996853748\n",
      "2305 / 3828 :  ('MARRIAGE_3', 'BAL_6') :  0.42075892875657733\n",
      "2306 / 3828 :  ('MARRIAGE_3', 'BAL_change_6') :  0.42083879899984095\n",
      "2307 / 3828 :  ('MARRIAGE_3', 'BAL_change_5') :  0.4207587515328426\n",
      "2308 / 3828 :  ('MARRIAGE_3', 'BAL_change_4') :  0.44737842317069226\n",
      "2309 / 3828 :  ('MARRIAGE_3', 'BAL_change_3') :  0.42099582542419217\n",
      "2311 / 3828 :  ('MARRIAGE_3', 'cum_bal_change') :  0.42137554965407836\n",
      "2312 / 3828 :  ('MARRIAGE_3', 'final_balance') :  0.4208572496417539\n",
      "2313 / 3828 :  ('MARRIAGE_3', 'final_payment') :  0.4218592587759911\n",
      "2315 / 3828 :  ('MARRIAGE_3', 'DEF_2') :  0.42072891453528616\n",
      "2317 / 3828 :  ('MARRIAGE_3', 'DEF_4') :  0.4217028224528539\n",
      "2318 / 3828 :  ('MARRIAGE_3', 'DEF_5') :  0.4207757792788122\n",
      "2319 / 3828 :  ('MARRIAGE_3', 'DEF_6') :  0.420776938134613\n",
      "2321 / 3828 :  ('MARRIAGE_3', 'over_lim_1') :  0.42075096252395755\n",
      "2325 / 3828 :  ('MARRIAGE_3', 'over_lim_5') :  0.42074686591167426\n",
      "2328 / 3828 :  ('MARRIAGE_3', 'percent_use_1') :  0.42075253275545926\n",
      "2329 / 3828 :  ('MARRIAGE_3', 'percent_use_2') :  0.45398940510224234\n",
      "2330 / 3828 :  ('MARRIAGE_3', 'percent_use_3') :  0.4534674118846324\n",
      "2332 / 3828 :  ('MARRIAGE_3', 'percent_use_5') :  0.4215604560849578\n",
      "2333 / 3828 :  ('MARRIAGE_3', 'percent_use_6') :  0.42075327986906075\n",
      "2334 / 3828 :  ('MARRIAGE_3', 'avg_percent_use') :  0.4208001931188359\n",
      "2336 / 3828 :  ('MARRIAGE_3', 'percent_paid_2') :  0.4208227883859988\n",
      "2338 / 3828 :  ('MARRIAGE_3', 'percent_paid_4') :  0.4207284545330321\n",
      "2340 / 3828 :  ('MARRIAGE_3', 'percent_paid_6') :  0.42071090547667006\n",
      "2344 / 3828 :  ('pay_hist_n2', 'pay_hist_n1') :  0.4207521127985843\n",
      "2345 / 3828 :  ('pay_hist_n2', 'pay_hist_0') :  0.42091065246219705\n",
      "2346 / 3828 :  ('pay_hist_n2', 'pay_hist_1') :  0.42081933834511015\n",
      "2347 / 3828 :  ('pay_hist_n2', 'pay_hist_2') :  0.42075286837305564\n",
      "2350 / 3828 :  ('pay_hist_n2', 'pay_hist_5') :  0.4207533283753097\n",
      "2351 / 3828 :  ('pay_hist_n2', 'pay_hist_6') :  0.4209341447442891\n",
      "2352 / 3828 :  ('pay_hist_n2', 'pay_hist_7') :  0.4209341447442891\n",
      "2353 / 3828 :  ('pay_hist_n2', 'pay_hist_8') :  0.4209341447442891\n",
      "2354 / 3828 :  ('pay_hist_n2', 'BAL_1') :  0.421429695796286\n"
     ]
    },
    {
     "name": "stderr",
     "output_type": "stream",
     "text": [
      "C:\\Users\\Eunjoo\\anaconda3\\lib\\site-packages\\sklearn\\linear_model\\_logistic.py:940: ConvergenceWarning: lbfgs failed to converge (status=1):\n",
      "STOP: TOTAL NO. of ITERATIONS REACHED LIMIT.\n",
      "\n",
      "Increase the number of iterations (max_iter) or scale the data as shown in:\n",
      "    https://scikit-learn.org/stable/modules/preprocessing.html\n",
      "Please also refer to the documentation for alternative solver options:\n",
      "    https://scikit-learn.org/stable/modules/linear_model.html#logistic-regression\n",
      "  extra_warning_msg=_LOGISTIC_SOLVER_CONVERGENCE_MSG)\n"
     ]
    },
    {
     "name": "stdout",
     "output_type": "stream",
     "text": [
      "2355 / 3828 :  ('pay_hist_n2', 'BAL_2') :  0.42759467960711217\n",
      "2356 / 3828 :  ('pay_hist_n2', 'BAL_3') :  0.4208280383453534\n",
      "2357 / 3828 :  ('pay_hist_n2', 'BAL_4') :  0.4207480330826489\n",
      "2358 / 3828 :  ('pay_hist_n2', 'BAL_5') :  0.42102034144848194\n",
      "2359 / 3828 :  ('pay_hist_n2', 'BAL_6') :  0.4216251917498795\n",
      "2360 / 3828 :  ('pay_hist_n2', 'BAL_change_6') :  0.4227963924372263\n",
      "2361 / 3828 :  ('pay_hist_n2', 'BAL_change_5') :  0.42183806839333476\n",
      "2362 / 3828 :  ('pay_hist_n2', 'BAL_change_4') :  0.42274106152207575\n",
      "2363 / 3828 :  ('pay_hist_n2', 'BAL_change_3') :  0.4219625323493265\n",
      "2364 / 3828 :  ('pay_hist_n2', 'BAL_change_2') :  0.42144701051591205\n",
      "2365 / 3828 :  ('pay_hist_n2', 'cum_bal_change') :  0.42087953353000424\n",
      "2366 / 3828 :  ('pay_hist_n2', 'final_balance') :  0.421429695796286\n",
      "2367 / 3828 :  ('pay_hist_n2', 'final_payment') :  0.42073211121279863\n",
      "2368 / 3828 :  ('pay_hist_n2', 'DEF_1') :  0.42075096252395755\n",
      "2369 / 3828 :  ('pay_hist_n2', 'DEF_2') :  0.42603551480324375\n",
      "2370 / 3828 :  ('pay_hist_n2', 'DEF_3') :  0.4207521127985843\n",
      "2371 / 3828 :  ('pay_hist_n2', 'DEF_4') :  0.421502142249593\n",
      "2373 / 3828 :  ('pay_hist_n2', 'DEF_6') :  0.42081974972081104\n",
      "2375 / 3828 :  ('pay_hist_n2', 'over_lim_1') :  0.4208001931188359\n",
      "2377 / 3828 :  ('pay_hist_n2', 'over_lim_3') :  0.42075327986906075\n",
      "2378 / 3828 :  ('pay_hist_n2', 'over_lim_4') :  0.42072729604372966\n",
      "2382 / 3828 :  ('pay_hist_n2', 'percent_use_1') :  0.42077537636398105\n",
      "2383 / 3828 :  ('pay_hist_n2', 'percent_use_2') :  0.4207284545330321\n",
      "2385 / 3828 :  ('pay_hist_n2', 'percent_use_4') :  0.4207757792788122\n",
      "2389 / 3828 :  ('pay_hist_n2', 'percent_paid_1') :  0.42090967855530265\n",
      "2400 / 3828 :  ('pay_hist_n1', 'pay_hist_2') :  0.44872273680631203\n",
      "2401 / 3828 :  ('pay_hist_n1', 'pay_hist_3') :  0.42081768860288493\n",
      "2403 / 3828 :  ('pay_hist_n1', 'pay_hist_5') :  0.4207288744899069\n",
      "2404 / 3828 :  ('pay_hist_n1', 'pay_hist_6') :  0.42095438550295156\n",
      "2405 / 3828 :  ('pay_hist_n1', 'pay_hist_7') :  0.4209341447442891\n",
      "2406 / 3828 :  ('pay_hist_n1', 'pay_hist_8') :  0.4209341447442891\n",
      "2407 / 3828 :  ('pay_hist_n1', 'BAL_1') :  0.44637499530177677\n",
      "2410 / 3828 :  ('pay_hist_n1', 'BAL_4') :  0.4208403729993489\n",
      "2411 / 3828 :  ('pay_hist_n1', 'BAL_5') :  0.4207549095721466\n",
      "2412 / 3828 :  ('pay_hist_n1', 'BAL_6') :  0.420749319962481\n",
      "2413 / 3828 :  ('pay_hist_n1', 'BAL_change_6') :  0.42074606471355974\n",
      "2414 / 3828 :  ('pay_hist_n1', 'BAL_change_5') :  0.42157961721782095\n",
      "2415 / 3828 :  ('pay_hist_n1', 'BAL_change_4') :  0.4210668442922298\n",
      "2418 / 3828 :  ('pay_hist_n1', 'cum_bal_change') :  0.4207137802262341\n",
      "2419 / 3828 :  ('pay_hist_n1', 'final_balance') :  0.44637499530177677\n",
      "2420 / 3828 :  ('pay_hist_n1', 'final_payment') :  0.42081395153826007\n",
      "2421 / 3828 :  ('pay_hist_n1', 'DEF_1') :  0.4207517098837532\n",
      "2423 / 3828 :  ('pay_hist_n1', 'DEF_3') :  0.42086312104523\n",
      "2424 / 3828 :  ('pay_hist_n1', 'DEF_4') :  0.4211955559072793\n",
      "2426 / 3828 :  ('pay_hist_n1', 'DEF_6') :  0.42081202494977504\n",
      "2427 / 3828 :  ('pay_hist_n1', 'N_underpayment') :  0.42104569941617553\n",
      "2428 / 3828 :  ('pay_hist_n1', 'over_lim_1') :  0.4207288744899069\n",
      "2429 / 3828 :  ('pay_hist_n1', 'over_lim_2') :  0.4207284545330321\n",
      "2430 / 3828 :  ('pay_hist_n1', 'over_lim_3') :  0.4207292183179027\n",
      "2431 / 3828 :  ('pay_hist_n1', 'over_lim_4') :  0.42075137389965844\n",
      "2432 / 3828 :  ('pay_hist_n1', 'over_lim_5') :  0.42075253275545926\n",
      "2433 / 3828 :  ('pay_hist_n1', 'over_lim_6') :  0.4208697241444166\n",
      "2434 / 3828 :  ('pay_hist_n1', 'n_over_lim') :  0.42072576858000216\n",
      "2436 / 3828 :  ('pay_hist_n1', 'percent_use_2') :  0.4207776937090843\n",
      "2441 / 3828 :  ('pay_hist_n1', 'avg_percent_use') :  0.42072126939151877\n",
      "2442 / 3828 :  ('pay_hist_n1', 'percent_paid_1') :  0.4209050230740366\n",
      "2445 / 3828 :  ('pay_hist_n1', 'percent_paid_4') :  0.42084593437152157\n",
      "2446 / 3828 :  ('pay_hist_n1', 'percent_paid_5') :  0.42093786482059\n",
      "2448 / 3828 :  ('pay_hist_n1', 'payment_patter_change') :  0.42077977286591633\n",
      "2449 / 3828 :  ('pay_hist_n1', 'payment_average_p') :  0.4210792717240068\n",
      "2450 / 3828 :  ('pay_hist_n1', 'ln_limit_bal') :  0.42118363219829696\n",
      "2451 / 3828 :  ('pay_hist_0', 'pay_hist_1') :  0.4487442564220152\n"
     ]
    },
    {
     "name": "stderr",
     "output_type": "stream",
     "text": [
      "C:\\Users\\Eunjoo\\anaconda3\\lib\\site-packages\\sklearn\\linear_model\\_logistic.py:940: ConvergenceWarning: lbfgs failed to converge (status=1):\n",
      "STOP: TOTAL NO. of ITERATIONS REACHED LIMIT.\n",
      "\n",
      "Increase the number of iterations (max_iter) or scale the data as shown in:\n",
      "    https://scikit-learn.org/stable/modules/preprocessing.html\n",
      "Please also refer to the documentation for alternative solver options:\n",
      "    https://scikit-learn.org/stable/modules/linear_model.html#logistic-regression\n",
      "  extra_warning_msg=_LOGISTIC_SOLVER_CONVERGENCE_MSG)\n"
     ]
    },
    {
     "name": "stdout",
     "output_type": "stream",
     "text": [
      "2452 / 3828 :  ('pay_hist_0', 'pay_hist_2') :  0.45676983122111575\n",
      "2453 / 3828 :  ('pay_hist_0', 'pay_hist_3') :  0.42076881373362013\n",
      "2454 / 3828 :  ('pay_hist_0', 'pay_hist_4') :  0.42074645465622634\n",
      "2457 / 3828 :  ('pay_hist_0', 'pay_hist_7') :  0.4209341447442891\n",
      "2458 / 3828 :  ('pay_hist_0', 'pay_hist_8') :  0.4209341447442891\n",
      "2459 / 3828 :  ('pay_hist_0', 'BAL_1') :  0.45863313722822685\n",
      "2460 / 3828 :  ('pay_hist_0', 'BAL_2') :  0.46281632197589645\n",
      "2461 / 3828 :  ('pay_hist_0', 'BAL_3') :  0.46230144153644653\n",
      "2462 / 3828 :  ('pay_hist_0', 'BAL_4') :  0.462561987902884\n",
      "2463 / 3828 :  ('pay_hist_0', 'BAL_5') :  0.45836325228698666\n",
      "2464 / 3828 :  ('pay_hist_0', 'BAL_6') :  0.4594534830293435\n",
      "2465 / 3828 :  ('pay_hist_0', 'BAL_change_6') :  0.4212526421793546\n",
      "2466 / 3828 :  ('pay_hist_0', 'BAL_change_5') :  0.4219956082554628\n",
      "2467 / 3828 :  ('pay_hist_0', 'BAL_change_4') :  0.42109858556246654\n",
      "2470 / 3828 :  ('pay_hist_0', 'cum_bal_change') :  0.42307063232227327\n",
      "2471 / 3828 :  ('pay_hist_0', 'final_balance') :  0.45863313722822685\n",
      "2472 / 3828 :  ('pay_hist_0', 'final_payment') :  0.4264319672736791\n",
      "2473 / 3828 :  ('pay_hist_0', 'DEF_1') :  0.44055101679843583\n",
      "2474 / 3828 :  ('pay_hist_0', 'DEF_2') :  0.42080060461484087\n",
      "2476 / 3828 :  ('pay_hist_0', 'DEF_4') :  0.4217529171413812\n",
      "2478 / 3828 :  ('pay_hist_0', 'DEF_6') :  0.42075327986906075\n",
      "2479 / 3828 :  ('pay_hist_0', 'N_underpayment') :  0.4207179921907544\n",
      "2480 / 3828 :  ('pay_hist_0', 'over_lim_1') :  0.42082501845486453\n",
      "2481 / 3828 :  ('pay_hist_0', 'over_lim_2') :  0.4207284545330321\n",
      "2484 / 3828 :  ('pay_hist_0', 'over_lim_5') :  0.4208001931188359\n",
      "2485 / 3828 :  ('pay_hist_0', 'over_lim_6') :  0.42075096252395755\n",
      "2486 / 3828 :  ('pay_hist_0', 'n_over_lim') :  0.4208967983817608\n",
      "2487 / 3828 :  ('pay_hist_0', 'percent_use_1') :  0.42100062697996515\n",
      "2488 / 3828 :  ('pay_hist_0', 'percent_use_2') :  0.42206051357185115\n",
      "2489 / 3828 :  ('pay_hist_0', 'percent_use_3') :  0.4208601067237656\n",
      "2490 / 3828 :  ('pay_hist_0', 'percent_use_4') :  0.42081894400700426\n",
      "2491 / 3828 :  ('pay_hist_0', 'percent_use_5') :  0.4207701247878269\n",
      "2492 / 3828 :  ('pay_hist_0', 'percent_use_6') :  0.4207338774218459\n",
      "2493 / 3828 :  ('pay_hist_0', 'avg_percent_use') :  0.42095049072732565\n",
      "2494 / 3828 :  ('pay_hist_0', 'percent_paid_1') :  0.42088348866867037\n",
      "2495 / 3828 :  ('pay_hist_0', 'percent_paid_2') :  0.42166562911622324\n",
      "2496 / 3828 :  ('pay_hist_0', 'percent_paid_3') :  0.4215680762917382\n",
      "2500 / 3828 :  ('pay_hist_0', 'payment_patter_change') :  0.44739523460922376\n",
      "2501 / 3828 :  ('pay_hist_0', 'payment_average_p') :  0.42078475659586045\n",
      "2502 / 3828 :  ('pay_hist_0', 'ln_limit_bal') :  0.4440280274367683\n",
      "2503 / 3828 :  ('pay_hist_1', 'pay_hist_2') :  0.4207101940672631\n",
      "2505 / 3828 :  ('pay_hist_1', 'pay_hist_4') :  0.4208013519746367\n",
      "2506 / 3828 :  ('pay_hist_1', 'pay_hist_5') :  0.4208013519746367\n",
      "2507 / 3828 :  ('pay_hist_1', 'pay_hist_6') :  0.4208013519746367\n",
      "2508 / 3828 :  ('pay_hist_1', 'pay_hist_7') :  0.42077537636398105\n",
      "2509 / 3828 :  ('pay_hist_1', 'pay_hist_8') :  0.42077652663860804\n",
      "2510 / 3828 :  ('pay_hist_1', 'BAL_1') :  0.42212900865245895\n",
      "2511 / 3828 :  ('pay_hist_1', 'BAL_2') :  0.4224351006329666\n",
      "2512 / 3828 :  ('pay_hist_1', 'BAL_3') :  0.42230006363765477\n",
      "2513 / 3828 :  ('pay_hist_1', 'BAL_4') :  0.4215162540769805\n",
      "2514 / 3828 :  ('pay_hist_1', 'BAL_5') :  0.4216630699814035\n",
      "2515 / 3828 :  ('pay_hist_1', 'BAL_6') :  0.4211363481579518\n",
      "2518 / 3828 :  ('pay_hist_1', 'BAL_change_4') :  0.4208494246519272\n",
      "2519 / 3828 :  ('pay_hist_1', 'BAL_change_3') :  0.4519233526935566\n",
      "2522 / 3828 :  ('pay_hist_1', 'final_balance') :  0.42212900865245895\n",
      "2524 / 3828 :  ('pay_hist_1', 'DEF_1') :  0.421624093763878\n",
      "2528 / 3828 :  ('pay_hist_1', 'DEF_5') :  0.42077537636398105\n",
      "2531 / 3828 :  ('pay_hist_1', 'over_lim_1') :  0.4207261543458281\n",
      "2533 / 3828 :  ('pay_hist_1', 'over_lim_3') :  0.4223617089546296\n",
      "2534 / 3828 :  ('pay_hist_1', 'over_lim_4') :  0.4329712735660889\n",
      "2535 / 3828 :  ('pay_hist_1', 'over_lim_5') :  0.42075180231300563\n",
      "2536 / 3828 :  ('pay_hist_1', 'over_lim_6') :  0.42072576858000216\n",
      "2537 / 3828 :  ('pay_hist_1', 'n_over_lim') :  0.420990926734367\n",
      "2538 / 3828 :  ('pay_hist_1', 'percent_use_1') :  0.42072729604372966\n",
      "2539 / 3828 :  ('pay_hist_1', 'percent_use_2') :  0.42121092062910687\n",
      "2540 / 3828 :  ('pay_hist_1', 'percent_use_3') :  0.42075253275545926\n",
      "2541 / 3828 :  ('pay_hist_1', 'percent_use_4') :  0.420728051618201\n",
      "2543 / 3828 :  ('pay_hist_1', 'percent_use_6') :  0.45165481194816826\n",
      "2544 / 3828 :  ('pay_hist_1', 'avg_percent_use') :  0.42088654052586544\n",
      "2545 / 3828 :  ('pay_hist_1', 'percent_paid_1') :  0.4211393741632192\n",
      "2546 / 3828 :  ('pay_hist_1', 'percent_paid_2') :  0.4207284545330321\n",
      "2547 / 3828 :  ('pay_hist_1', 'percent_paid_3') :  0.42077537636398105\n",
      "2548 / 3828 :  ('pay_hist_1', 'percent_paid_4') :  0.4450766212399421\n",
      "2549 / 3828 :  ('pay_hist_1', 'percent_paid_5') :  0.42120504364323663\n",
      "2550 / 3828 :  ('pay_hist_1', 'percent_paid_6') :  0.42072576858000216\n",
      "2553 / 3828 :  ('pay_hist_1', 'ln_limit_bal') :  0.4211176257367855\n",
      "2554 / 3828 :  ('pay_hist_2', 'pay_hist_3') :  0.42075327986906075\n",
      "2555 / 3828 :  ('pay_hist_2', 'pay_hist_4') :  0.42075056818585166\n",
      "2558 / 3828 :  ('pay_hist_2', 'pay_hist_7') :  0.4207517098837532\n",
      "2560 / 3828 :  ('pay_hist_2', 'BAL_1') :  0.47053079821500243\n",
      "2561 / 3828 :  ('pay_hist_2', 'BAL_2') :  0.4677995697954372\n",
      "2562 / 3828 :  ('pay_hist_2', 'BAL_3') :  0.46750498558695913\n",
      "2563 / 3828 :  ('pay_hist_2', 'BAL_4') :  0.46684418477300976\n",
      "2564 / 3828 :  ('pay_hist_2', 'BAL_5') :  0.4669490759128893\n",
      "2565 / 3828 :  ('pay_hist_2', 'BAL_6') :  0.4668772984153839\n",
      "2566 / 3828 :  ('pay_hist_2', 'BAL_change_6') :  0.421007486522146\n",
      "2567 / 3828 :  ('pay_hist_2', 'BAL_change_5') :  0.42085815440079694\n",
      "2568 / 3828 :  ('pay_hist_2', 'BAL_change_4') :  0.42216215025359544\n",
      "2571 / 3828 :  ('pay_hist_2', 'cum_bal_change') :  0.42148650712618174\n",
      "2572 / 3828 :  ('pay_hist_2', 'final_balance') :  0.47053079821500243\n",
      "2573 / 3828 :  ('pay_hist_2', 'final_payment') :  0.45449959853291916\n",
      "2574 / 3828 :  ('pay_hist_2', 'DEF_1') :  0.4207455274137128\n",
      "2575 / 3828 :  ('pay_hist_2', 'DEF_2') :  0.4207960795892105\n",
      "2577 / 3828 :  ('pay_hist_2', 'DEF_4') :  0.4207951523466969\n",
      "2578 / 3828 :  ('pay_hist_2', 'DEF_5') :  0.4208424770924771\n",
      "2580 / 3828 :  ('pay_hist_2', 'N_underpayment') :  0.42195854722107473\n",
      "2582 / 3828 :  ('pay_hist_2', 'over_lim_2') :  0.4207757792788122\n",
      "2583 / 3828 :  ('pay_hist_2', 'over_lim_3') :  0.4208013519746367\n",
      "2586 / 3828 :  ('pay_hist_2', 'over_lim_6') :  0.42072729604372966\n",
      "2587 / 3828 :  ('pay_hist_2', 'n_over_lim') :  0.42107074805251005\n",
      "2588 / 3828 :  ('pay_hist_2', 'percent_use_1') :  0.42090549991004605\n",
      "2589 / 3828 :  ('pay_hist_2', 'percent_use_2') :  0.4207324651077063\n",
      "2590 / 3828 :  ('pay_hist_2', 'percent_use_3') :  0.420923464203079\n",
      "2591 / 3828 :  ('pay_hist_2', 'percent_use_4') :  0.42235907281883106\n",
      "2592 / 3828 :  ('pay_hist_2', 'percent_use_5') :  0.42101796879857106\n",
      "2593 / 3828 :  ('pay_hist_2', 'percent_use_6') :  0.42083732156471854\n",
      "2594 / 3828 :  ('pay_hist_2', 'avg_percent_use') :  0.42097567207735564\n",
      "2595 / 3828 :  ('pay_hist_2', 'percent_paid_1') :  0.4478510893690029\n",
      "2596 / 3828 :  ('pay_hist_2', 'percent_paid_2') :  0.4209515912663388\n",
      "2597 / 3828 :  ('pay_hist_2', 'percent_paid_3') :  0.4214667210228044\n",
      "2598 / 3828 :  ('pay_hist_2', 'percent_paid_4') :  0.4215625030911285\n",
      "2599 / 3828 :  ('pay_hist_2', 'percent_paid_5') :  0.4208777885554058\n",
      "2600 / 3828 :  ('pay_hist_2', 'percent_paid_6') :  0.42085592639742053\n",
      "2601 / 3828 :  ('pay_hist_2', 'payment_patter_change') :  0.4214977758295384\n",
      "2602 / 3828 :  ('pay_hist_2', 'payment_average_p') :  0.4208574174127793\n",
      "2603 / 3828 :  ('pay_hist_2', 'ln_limit_bal') :  0.5177069742555486\n",
      "2604 / 3828 :  ('pay_hist_3', 'pay_hist_4') :  0.4207269017056238\n",
      "2605 / 3828 :  ('pay_hist_3', 'pay_hist_5') :  0.42075132401091797\n",
      "2609 / 3828 :  ('pay_hist_3', 'BAL_1') :  0.42460402468432207\n",
      "2610 / 3828 :  ('pay_hist_3', 'BAL_2') :  0.42459845381000977\n",
      "2611 / 3828 :  ('pay_hist_3', 'BAL_3') :  0.42455142649396443\n",
      "2612 / 3828 :  ('pay_hist_3', 'BAL_4') :  0.42480957053958157\n",
      "2613 / 3828 :  ('pay_hist_3', 'BAL_5') :  0.4236843471630714\n",
      "2614 / 3828 :  ('pay_hist_3', 'BAL_6') :  0.4233040740337182\n"
     ]
    },
    {
     "name": "stderr",
     "output_type": "stream",
     "text": [
      "C:\\Users\\Eunjoo\\anaconda3\\lib\\site-packages\\sklearn\\linear_model\\_logistic.py:940: ConvergenceWarning: lbfgs failed to converge (status=1):\n",
      "STOP: TOTAL NO. of ITERATIONS REACHED LIMIT.\n",
      "\n",
      "Increase the number of iterations (max_iter) or scale the data as shown in:\n",
      "    https://scikit-learn.org/stable/modules/preprocessing.html\n",
      "Please also refer to the documentation for alternative solver options:\n",
      "    https://scikit-learn.org/stable/modules/linear_model.html#logistic-regression\n",
      "  extra_warning_msg=_LOGISTIC_SOLVER_CONVERGENCE_MSG)\n"
     ]
    },
    {
     "name": "stdout",
     "output_type": "stream",
     "text": [
      "2616 / 3828 :  ('pay_hist_3', 'BAL_change_5') :  0.4413811848030152\n",
      "2620 / 3828 :  ('pay_hist_3', 'cum_bal_change') :  0.4208495951120235\n",
      "2621 / 3828 :  ('pay_hist_3', 'final_balance') :  0.42460402468432207\n",
      "2622 / 3828 :  ('pay_hist_3', 'final_payment') :  0.42259605686386426\n",
      "2623 / 3828 :  ('pay_hist_3', 'DEF_1') :  0.42086730242850573\n",
      "2624 / 3828 :  ('pay_hist_3', 'DEF_2') :  0.42075327986906075\n"
     ]
    },
    {
     "name": "stderr",
     "output_type": "stream",
     "text": [
      "C:\\Users\\Eunjoo\\anaconda3\\lib\\site-packages\\sklearn\\linear_model\\_logistic.py:940: ConvergenceWarning: lbfgs failed to converge (status=1):\n",
      "STOP: TOTAL NO. of ITERATIONS REACHED LIMIT.\n",
      "\n",
      "Increase the number of iterations (max_iter) or scale the data as shown in:\n",
      "    https://scikit-learn.org/stable/modules/preprocessing.html\n",
      "Please also refer to the documentation for alternative solver options:\n",
      "    https://scikit-learn.org/stable/modules/linear_model.html#logistic-regression\n",
      "  extra_warning_msg=_LOGISTIC_SOLVER_CONVERGENCE_MSG)\n"
     ]
    },
    {
     "name": "stdout",
     "output_type": "stream",
     "text": [
      "2626 / 3828 :  ('pay_hist_3', 'DEF_4') :  0.44226309072375564\n",
      "2627 / 3828 :  ('pay_hist_3', 'DEF_5') :  0.4207757792788122\n",
      "2630 / 3828 :  ('pay_hist_3', 'over_lim_1') :  0.4207269017056238\n",
      "2632 / 3828 :  ('pay_hist_3', 'over_lim_3') :  0.4208013519746367\n",
      "2636 / 3828 :  ('pay_hist_3', 'n_over_lim') :  0.4224608197259023\n",
      "2637 / 3828 :  ('pay_hist_3', 'percent_use_1') :  0.4208204849683643\n",
      "2638 / 3828 :  ('pay_hist_3', 'percent_use_2') :  0.42077652663860804\n",
      "2640 / 3828 :  ('pay_hist_3', 'percent_use_4') :  0.420776938134613\n",
      "2643 / 3828 :  ('pay_hist_3', 'avg_percent_use') :  0.45088647194022974\n",
      "2644 / 3828 :  ('pay_hist_3', 'percent_paid_1') :  0.4207517098837532\n",
      "2645 / 3828 :  ('pay_hist_3', 'percent_paid_2') :  0.420776938134613\n",
      "2646 / 3828 :  ('pay_hist_3', 'percent_paid_3') :  0.42071090547667006\n",
      "2647 / 3828 :  ('pay_hist_3', 'percent_paid_4') :  0.42075286837305564\n",
      "2648 / 3828 :  ('pay_hist_3', 'percent_paid_5') :  0.4221092704204025\n",
      "2649 / 3828 :  ('pay_hist_3', 'percent_paid_6') :  0.4207517098837532\n",
      "2652 / 3828 :  ('pay_hist_3', 'ln_limit_bal') :  0.45242258819247727\n",
      "2655 / 3828 :  ('pay_hist_4', 'pay_hist_7') :  0.42077537636398105\n",
      "2657 / 3828 :  ('pay_hist_4', 'BAL_1') :  0.42248335037550583\n",
      "2658 / 3828 :  ('pay_hist_4', 'BAL_2') :  0.4220183160323587\n",
      "2659 / 3828 :  ('pay_hist_4', 'BAL_3') :  0.42187862630965683\n",
      "2660 / 3828 :  ('pay_hist_4', 'BAL_4') :  0.42174725407882135\n",
      "2661 / 3828 :  ('pay_hist_4', 'BAL_5') :  0.42142715145053317\n",
      "2662 / 3828 :  ('pay_hist_4', 'BAL_6') :  0.4215535821902021\n",
      "2663 / 3828 :  ('pay_hist_4', 'BAL_change_6') :  0.42072967296096664\n",
      "2664 / 3828 :  ('pay_hist_4', 'BAL_change_5') :  0.42657472766393206\n",
      "2666 / 3828 :  ('pay_hist_4', 'BAL_change_3') :  0.421090318701481\n",
      "2668 / 3828 :  ('pay_hist_4', 'cum_bal_change') :  0.42140316052982585\n",
      "2669 / 3828 :  ('pay_hist_4', 'final_balance') :  0.42248335037550583\n",
      "2670 / 3828 :  ('pay_hist_4', 'final_payment') :  0.4213648467968459\n",
      "2672 / 3828 :  ('pay_hist_4', 'DEF_2') :  0.420776938134613\n",
      "2673 / 3828 :  ('pay_hist_4', 'DEF_3') :  0.42405529831256356\n",
      "2674 / 3828 :  ('pay_hist_4', 'DEF_4') :  0.4207757792788122\n",
      "2676 / 3828 :  ('pay_hist_4', 'DEF_6') :  0.42071090547667006\n",
      "2678 / 3828 :  ('pay_hist_4', 'over_lim_1') :  0.42072729604372966\n",
      "2679 / 3828 :  ('pay_hist_4', 'over_lim_2') :  0.4207776937090843\n",
      "2683 / 3828 :  ('pay_hist_4', 'over_lim_6') :  0.4207269017056238\n",
      "2684 / 3828 :  ('pay_hist_4', 'n_over_lim') :  0.42074365277999504\n",
      "2690 / 3828 :  ('pay_hist_4', 'percent_use_6') :  0.4207517098837532\n",
      "2691 / 3828 :  ('pay_hist_4', 'avg_percent_use') :  0.42082501845486453\n",
      "2694 / 3828 :  ('pay_hist_4', 'percent_paid_3') :  0.4487228322258652\n",
      "2695 / 3828 :  ('pay_hist_4', 'percent_paid_4') :  0.4478153290264688\n",
      "2696 / 3828 :  ('pay_hist_4', 'percent_paid_5') :  0.42081974972081104\n",
      "2697 / 3828 :  ('pay_hist_4', 'percent_paid_6') :  0.4208001931188359\n",
      "2698 / 3828 :  ('pay_hist_4', 'payment_patter_change') :  0.4207277074194306\n",
      "2699 / 3828 :  ('pay_hist_4', 'payment_average_p') :  0.4207517098837532\n",
      "2700 / 3828 :  ('pay_hist_4', 'ln_limit_bal') :  0.4207269017056238\n",
      "2702 / 3828 :  ('pay_hist_5', 'pay_hist_7') :  0.4207269017056238\n",
      "2704 / 3828 :  ('pay_hist_5', 'BAL_1') :  0.4211739819157969\n",
      "2705 / 3828 :  ('pay_hist_5', 'BAL_2') :  0.44931644041428626\n",
      "2706 / 3828 :  ('pay_hist_5', 'BAL_3') :  0.4211739819157969\n",
      "2707 / 3828 :  ('pay_hist_5', 'BAL_4') :  0.42119895742832325\n",
      "2708 / 3828 :  ('pay_hist_5', 'BAL_5') :  0.4212910709825801\n",
      "2709 / 3828 :  ('pay_hist_5', 'BAL_6') :  0.4445603421883981\n",
      "2714 / 3828 :  ('pay_hist_5', 'BAL_change_2') :  0.4207396975980888\n",
      "2715 / 3828 :  ('pay_hist_5', 'cum_bal_change') :  0.4209795082848425\n",
      "2716 / 3828 :  ('pay_hist_5', 'final_balance') :  0.4211739819157969\n",
      "2717 / 3828 :  ('pay_hist_5', 'final_payment') :  0.4209218524238683\n",
      "2718 / 3828 :  ('pay_hist_5', 'DEF_1') :  0.4499764287498422\n",
      "2719 / 3828 :  ('pay_hist_5', 'DEF_2') :  0.4210233465887425\n",
      "2720 / 3828 :  ('pay_hist_5', 'DEF_3') :  0.4215509614687704\n",
      "2722 / 3828 :  ('pay_hist_5', 'DEF_5') :  0.4208685689399885\n",
      "2724 / 3828 :  ('pay_hist_5', 'N_underpayment') :  0.420728051618201\n",
      "2725 / 3828 :  ('pay_hist_5', 'over_lim_1') :  0.4207521127985843\n",
      "2726 / 3828 :  ('pay_hist_5', 'over_lim_2') :  0.420728051618201\n",
      "2727 / 3828 :  ('pay_hist_5', 'over_lim_3') :  0.4208001931188359\n",
      "2728 / 3828 :  ('pay_hist_5', 'over_lim_4') :  0.4214226762000603\n",
      "2729 / 3828 :  ('pay_hist_5', 'over_lim_5') :  0.420728051618201\n",
      "2730 / 3828 :  ('pay_hist_5', 'over_lim_6') :  0.42081933834511015\n",
      "2732 / 3828 :  ('pay_hist_5', 'percent_use_1') :  0.42075253275545926\n",
      "2733 / 3828 :  ('pay_hist_5', 'percent_use_2') :  0.4207460604295307\n",
      "2734 / 3828 :  ('pay_hist_5', 'percent_use_3') :  0.4207269017056238\n",
      "2736 / 3828 :  ('pay_hist_5', 'percent_use_5') :  0.42075253275545926\n",
      "2737 / 3828 :  ('pay_hist_5', 'percent_use_6') :  0.42075096252395755\n",
      "2739 / 3828 :  ('pay_hist_5', 'percent_paid_1') :  0.4207288744899069\n",
      "2740 / 3828 :  ('pay_hist_5', 'percent_paid_2') :  0.4441374614850797\n",
      "2741 / 3828 :  ('pay_hist_5', 'percent_paid_3') :  0.4207517098837532\n",
      "2743 / 3828 :  ('pay_hist_5', 'percent_paid_5') :  0.42080060461484087\n",
      "2744 / 3828 :  ('pay_hist_5', 'percent_paid_6') :  0.42075096252395755\n",
      "2747 / 3828 :  ('pay_hist_5', 'ln_limit_bal') :  0.42080060461484087\n",
      "2748 / 3828 :  ('pay_hist_6', 'pay_hist_7') :  0.4208001931188359\n",
      "2749 / 3828 :  ('pay_hist_6', 'pay_hist_8') :  0.4208204849683643\n",
      "2750 / 3828 :  ('pay_hist_6', 'BAL_1') :  0.42101458661183394\n",
      "2751 / 3828 :  ('pay_hist_6', 'BAL_2') :  0.4210399852859397\n",
      "2752 / 3828 :  ('pay_hist_6', 'BAL_3') :  0.421089775745532\n",
      "2753 / 3828 :  ('pay_hist_6', 'BAL_4') :  0.4211063003982011\n",
      "2754 / 3828 :  ('pay_hist_6', 'BAL_5') :  0.4210632005366022\n",
      "2755 / 3828 :  ('pay_hist_6', 'BAL_6') :  0.42098292085525957\n",
      "2757 / 3828 :  ('pay_hist_6', 'BAL_change_5') :  0.420835053703821\n",
      "2758 / 3828 :  ('pay_hist_6', 'BAL_change_4') :  0.4208090786703064\n",
      "2759 / 3828 :  ('pay_hist_6', 'BAL_change_3') :  0.42903055762759984\n",
      "2761 / 3828 :  ('pay_hist_6', 'cum_bal_change') :  0.44127269736850616\n",
      "2762 / 3828 :  ('pay_hist_6', 'final_balance') :  0.42101458661183394\n",
      "2763 / 3828 :  ('pay_hist_6', 'final_payment') :  0.4208872018406953\n",
      "2764 / 3828 :  ('pay_hist_6', 'DEF_1') :  0.42075286837305564\n",
      "2767 / 3828 :  ('pay_hist_6', 'DEF_4') :  0.4207757792788122\n",
      "2768 / 3828 :  ('pay_hist_6', 'DEF_5') :  0.4208200820535331\n",
      "2769 / 3828 :  ('pay_hist_6', 'DEF_6') :  0.4207277074194306\n",
      "2770 / 3828 :  ('pay_hist_6', 'N_underpayment') :  0.4207761992356871\n",
      "2771 / 3828 :  ('pay_hist_6', 'over_lim_1') :  0.42072729604372966\n",
      "2773 / 3828 :  ('pay_hist_6', 'over_lim_3') :  0.42080060461484087\n",
      "2774 / 3828 :  ('pay_hist_6', 'over_lim_4') :  0.4207288744899069\n",
      "2775 / 3828 :  ('pay_hist_6', 'over_lim_5') :  0.4208619747856089\n",
      "2778 / 3828 :  ('pay_hist_6', 'percent_use_1') :  0.42075056818585166\n",
      "2781 / 3828 :  ('pay_hist_6', 'percent_use_4') :  0.4207284545330321\n",
      "2782 / 3828 :  ('pay_hist_6', 'percent_use_5') :  0.4208434280697806\n",
      "2783 / 3828 :  ('pay_hist_6', 'percent_use_6') :  0.42483989028726765\n",
      "2785 / 3828 :  ('pay_hist_6', 'percent_paid_1') :  0.42156983499421047\n",
      "2788 / 3828 :  ('pay_hist_6', 'percent_paid_4') :  0.4208001931188359\n",
      "2789 / 3828 :  ('pay_hist_6', 'percent_paid_5') :  0.4208013519746367\n",
      "2792 / 3828 :  ('pay_hist_6', 'payment_average_p') :  0.42157462794899825\n",
      "2793 / 3828 :  ('pay_hist_6', 'ln_limit_bal') :  0.42086590062450346\n",
      "2795 / 3828 :  ('pay_hist_7', 'BAL_1') :  0.42112855201376437\n",
      "2796 / 3828 :  ('pay_hist_7', 'BAL_2') :  0.420857709024199\n",
      "2797 / 3828 :  ('pay_hist_7', 'BAL_3') :  0.4210877023405617\n",
      "2798 / 3828 :  ('pay_hist_7', 'BAL_4') :  0.4210875593347551\n",
      "2799 / 3828 :  ('pay_hist_7', 'BAL_5') :  0.4211679995122309\n",
      "2800 / 3828 :  ('pay_hist_7', 'BAL_6') :  0.42122522818774444\n",
      "2801 / 3828 :  ('pay_hist_7', 'BAL_change_6') :  0.4217651550359666\n",
      "2802 / 3828 :  ('pay_hist_7', 'BAL_change_5') :  0.4217627717341658\n",
      "2803 / 3828 :  ('pay_hist_7', 'BAL_change_4') :  0.42236511358883305\n",
      "2804 / 3828 :  ('pay_hist_7', 'BAL_change_3') :  0.42145136152460827\n",
      "2805 / 3828 :  ('pay_hist_7', 'BAL_change_2') :  0.4211695494950982\n",
      "2806 / 3828 :  ('pay_hist_7', 'cum_bal_change') :  0.42072513198651057\n",
      "2807 / 3828 :  ('pay_hist_7', 'final_balance') :  0.42112855201376437\n",
      "2810 / 3828 :  ('pay_hist_7', 'DEF_2') :  0.45042769095016216\n",
      "2811 / 3828 :  ('pay_hist_7', 'DEF_3') :  0.4208612412634399\n",
      "2812 / 3828 :  ('pay_hist_7', 'DEF_4') :  0.4207443998935965\n",
      "2813 / 3828 :  ('pay_hist_7', 'DEF_5') :  0.4518399282353096\n",
      "2815 / 3828 :  ('pay_hist_7', 'N_underpayment') :  0.42072729604372966\n",
      "2816 / 3828 :  ('pay_hist_7', 'over_lim_1') :  0.4208001931188359\n",
      "2817 / 3828 :  ('pay_hist_7', 'over_lim_2') :  0.42073457195689795\n",
      "2818 / 3828 :  ('pay_hist_7', 'over_lim_3') :  0.42081894400700426\n",
      "2822 / 3828 :  ('pay_hist_7', 'n_over_lim') :  0.42072729604372966\n",
      "2823 / 3828 :  ('pay_hist_7', 'percent_use_1') :  0.42075253275545926\n",
      "2824 / 3828 :  ('pay_hist_7', 'percent_use_2') :  0.4207498290450107\n",
      "2825 / 3828 :  ('pay_hist_7', 'percent_use_3') :  0.42075056818585166\n",
      "2827 / 3828 :  ('pay_hist_7', 'percent_use_5') :  0.42077652663860804\n"
     ]
    },
    {
     "name": "stderr",
     "output_type": "stream",
     "text": [
      "C:\\Users\\Eunjoo\\anaconda3\\lib\\site-packages\\sklearn\\linear_model\\_logistic.py:940: ConvergenceWarning: lbfgs failed to converge (status=1):\n",
      "STOP: TOTAL NO. of ITERATIONS REACHED LIMIT.\n",
      "\n",
      "Increase the number of iterations (max_iter) or scale the data as shown in:\n",
      "    https://scikit-learn.org/stable/modules/preprocessing.html\n",
      "Please also refer to the documentation for alternative solver options:\n",
      "    https://scikit-learn.org/stable/modules/linear_model.html#logistic-regression\n",
      "  extra_warning_msg=_LOGISTIC_SOLVER_CONVERGENCE_MSG)\n"
     ]
    },
    {
     "name": "stdout",
     "output_type": "stream",
     "text": [
      "2828 / 3828 :  ('pay_hist_7', 'percent_use_6') :  0.4302875593981172\n",
      "2831 / 3828 :  ('pay_hist_7', 'percent_paid_2') :  0.42075056818585166\n",
      "2832 / 3828 :  ('pay_hist_7', 'percent_paid_3') :  0.4207349806907981\n",
      "2833 / 3828 :  ('pay_hist_7', 'percent_paid_4') :  0.42081894400700426\n",
      "2836 / 3828 :  ('pay_hist_7', 'payment_patter_change') :  0.42075180231300563\n",
      "2837 / 3828 :  ('pay_hist_7', 'payment_average_p') :  0.42175208950933135\n",
      "2839 / 3828 :  ('pay_hist_8', 'BAL_1') :  0.4210315221153201\n"
     ]
    },
    {
     "name": "stderr",
     "output_type": "stream",
     "text": [
      "C:\\Users\\Eunjoo\\anaconda3\\lib\\site-packages\\sklearn\\linear_model\\_logistic.py:940: ConvergenceWarning: lbfgs failed to converge (status=1):\n",
      "STOP: TOTAL NO. of ITERATIONS REACHED LIMIT.\n",
      "\n",
      "Increase the number of iterations (max_iter) or scale the data as shown in:\n",
      "    https://scikit-learn.org/stable/modules/preprocessing.html\n",
      "Please also refer to the documentation for alternative solver options:\n",
      "    https://scikit-learn.org/stable/modules/linear_model.html#logistic-regression\n",
      "  extra_warning_msg=_LOGISTIC_SOLVER_CONVERGENCE_MSG)\n"
     ]
    },
    {
     "name": "stdout",
     "output_type": "stream",
     "text": [
      "2840 / 3828 :  ('pay_hist_8', 'BAL_2') :  0.4364090694547867\n",
      "2841 / 3828 :  ('pay_hist_8', 'BAL_3') :  0.4207703388441195\n",
      "2842 / 3828 :  ('pay_hist_8', 'BAL_4') :  0.4207267992088087\n",
      "2843 / 3828 :  ('pay_hist_8', 'BAL_5') :  0.42156218888292174\n",
      "2844 / 3828 :  ('pay_hist_8', 'BAL_6') :  0.4210403310920527\n",
      "2847 / 3828 :  ('pay_hist_8', 'BAL_change_4') :  0.42101340495126177\n",
      "2848 / 3828 :  ('pay_hist_8', 'BAL_change_3') :  0.4214059965512928\n",
      "2850 / 3828 :  ('pay_hist_8', 'cum_bal_change') :  0.42075132401091797\n",
      "2851 / 3828 :  ('pay_hist_8', 'final_balance') :  0.4210315221153201\n",
      "2852 / 3828 :  ('pay_hist_8', 'final_payment') :  0.4214629814510726\n",
      "2853 / 3828 :  ('pay_hist_8', 'DEF_1') :  0.4207521127985843\n",
      "2854 / 3828 :  ('pay_hist_8', 'DEF_2') :  0.42075371994728905\n",
      "2855 / 3828 :  ('pay_hist_8', 'DEF_3') :  0.4208204849683643\n",
      "2856 / 3828 :  ('pay_hist_8', 'DEF_4') :  0.420776938134613\n",
      "2860 / 3828 :  ('pay_hist_8', 'over_lim_1') :  0.42451648672894865\n",
      "2861 / 3828 :  ('pay_hist_8', 'over_lim_2') :  0.42451648672894865\n",
      "2862 / 3828 :  ('pay_hist_8', 'over_lim_3') :  0.42077537636398105\n",
      "2863 / 3828 :  ('pay_hist_8', 'over_lim_4') :  0.4507148727510663\n",
      "2864 / 3828 :  ('pay_hist_8', 'over_lim_5') :  0.45065041007843076\n",
      "2865 / 3828 :  ('pay_hist_8', 'over_lim_6') :  0.4208025276307385\n",
      "2866 / 3828 :  ('pay_hist_8', 'n_over_lim') :  0.4483127031233032\n",
      "2869 / 3828 :  ('pay_hist_8', 'percent_use_3') :  0.4207521127985843\n",
      "2870 / 3828 :  ('pay_hist_8', 'percent_use_4') :  0.4487830344600792\n",
      "2876 / 3828 :  ('pay_hist_8', 'percent_paid_3') :  0.4207261543458281\n",
      "2877 / 3828 :  ('pay_hist_8', 'percent_paid_4') :  0.42077813378731266\n",
      "2878 / 3828 :  ('pay_hist_8', 'percent_paid_5') :  0.42082501845486453\n",
      "2879 / 3828 :  ('pay_hist_8', 'percent_paid_6') :  0.42086730242850573\n",
      "2880 / 3828 :  ('pay_hist_8', 'payment_patter_change') :  0.42076805255364347\n",
      "2896 / 3828 :  ('BAL_1', 'DEF_1') :  0.42547144878564186\n",
      "2897 / 3828 :  ('BAL_1', 'DEF_2') :  0.42609965624202456\n",
      "2898 / 3828 :  ('BAL_1', 'DEF_3') :  0.4241273572243545\n",
      "2899 / 3828 :  ('BAL_1', 'DEF_4') :  0.4224845709946035\n",
      "2900 / 3828 :  ('BAL_1', 'DEF_5') :  0.42269359681747903\n",
      "2901 / 3828 :  ('BAL_1', 'DEF_6') :  0.42286190469174656\n",
      "2902 / 3828 :  ('BAL_1', 'N_underpayment') :  0.44002603477411933\n",
      "2903 / 3828 :  ('BAL_1', 'over_lim_1') :  0.43500063132258965\n",
      "2904 / 3828 :  ('BAL_1', 'over_lim_2') :  0.4237148715294765\n",
      "2905 / 3828 :  ('BAL_1', 'over_lim_3') :  0.4232315827290681\n",
      "2906 / 3828 :  ('BAL_1', 'over_lim_4') :  0.42139735567859965\n",
      "2907 / 3828 :  ('BAL_1', 'over_lim_5') :  0.42212398249210037\n",
      "2908 / 3828 :  ('BAL_1', 'over_lim_6') :  0.4215581074042352\n",
      "2909 / 3828 :  ('BAL_1', 'n_over_lim') :  0.4257214281850307\n",
      "2910 / 3828 :  ('BAL_1', 'percent_use_1') :  0.4257040368837126\n",
      "2911 / 3828 :  ('BAL_1', 'percent_use_2') :  0.42494778528841587\n",
      "2912 / 3828 :  ('BAL_1', 'percent_use_3') :  0.4219237451821701\n",
      "2913 / 3828 :  ('BAL_1', 'percent_use_4') :  0.42266761622430193\n",
      "2914 / 3828 :  ('BAL_1', 'percent_use_5') :  0.4230383816823111\n",
      "2915 / 3828 :  ('BAL_1', 'percent_use_6') :  0.4216540535342415\n",
      "2916 / 3828 :  ('BAL_1', 'avg_percent_use') :  0.4235944311728139\n",
      "2921 / 3828 :  ('BAL_1', 'percent_paid_5') :  0.4208026415948443\n",
      "2922 / 3828 :  ('BAL_1', 'percent_paid_6') :  0.42074143228828836\n",
      "2938 / 3828 :  ('BAL_2', 'DEF_1') :  0.4263967490491192\n",
      "2939 / 3828 :  ('BAL_2', 'DEF_2') :  0.4271560559718479\n",
      "2940 / 3828 :  ('BAL_2', 'DEF_3') :  0.4242165341454956\n",
      "2941 / 3828 :  ('BAL_2', 'DEF_4') :  0.42278788741860973\n",
      "2942 / 3828 :  ('BAL_2', 'DEF_5') :  0.4225142829794731\n",
      "2943 / 3828 :  ('BAL_2', 'DEF_6') :  0.4230182870539358\n",
      "2944 / 3828 :  ('BAL_2', 'N_underpayment') :  0.44160822367152014\n",
      "2945 / 3828 :  ('BAL_2', 'over_lim_1') :  0.4258660573328357\n",
      "2946 / 3828 :  ('BAL_2', 'over_lim_2') :  0.4254515515676173\n",
      "2947 / 3828 :  ('BAL_2', 'over_lim_3') :  0.42292680123024134\n",
      "2948 / 3828 :  ('BAL_2', 'over_lim_4') :  0.42171187319266434\n",
      "2949 / 3828 :  ('BAL_2', 'over_lim_5') :  0.4222873537077012\n",
      "2950 / 3828 :  ('BAL_2', 'over_lim_6') :  0.4216900166448673\n",
      "2951 / 3828 :  ('BAL_2', 'n_over_lim') :  0.4254566888517366\n",
      "2952 / 3828 :  ('BAL_2', 'percent_use_1') :  0.425360878642092\n",
      "2953 / 3828 :  ('BAL_2', 'percent_use_2') :  0.4252079481768003\n",
      "2954 / 3828 :  ('BAL_2', 'percent_use_3') :  0.42279950029796337\n",
      "2955 / 3828 :  ('BAL_2', 'percent_use_4') :  0.42347368814467345\n",
      "2956 / 3828 :  ('BAL_2', 'percent_use_5') :  0.45577917660772266\n",
      "2957 / 3828 :  ('BAL_2', 'percent_use_6') :  0.4220647953858803\n",
      "2958 / 3828 :  ('BAL_2', 'avg_percent_use') :  0.42405241100943963\n",
      "2979 / 3828 :  ('BAL_3', 'DEF_1') :  0.4548176891116509\n",
      "2980 / 3828 :  ('BAL_3', 'DEF_2') :  0.42645171322150266\n",
      "2981 / 3828 :  ('BAL_3', 'DEF_3') :  0.4258629385853503\n",
      "2982 / 3828 :  ('BAL_3', 'DEF_4') :  0.422084653688801\n",
      "2983 / 3828 :  ('BAL_3', 'DEF_5') :  0.4225389452491107\n",
      "2984 / 3828 :  ('BAL_3', 'DEF_6') :  0.4233185683785223\n",
      "2985 / 3828 :  ('BAL_3', 'N_underpayment') :  0.44157866629730297\n",
      "2986 / 3828 :  ('BAL_3', 'over_lim_1') :  0.4241287839798158\n",
      "2987 / 3828 :  ('BAL_3', 'over_lim_2') :  0.4240503106453553\n",
      "2988 / 3828 :  ('BAL_3', 'over_lim_3') :  0.4230972187965622\n",
      "2989 / 3828 :  ('BAL_3', 'over_lim_4') :  0.4216027993339077\n",
      "2990 / 3828 :  ('BAL_3', 'over_lim_5') :  0.4214969815781668\n",
      "2991 / 3828 :  ('BAL_3', 'over_lim_6') :  0.4214823586028165\n",
      "2992 / 3828 :  ('BAL_3', 'n_over_lim') :  0.42425294790279094\n",
      "2993 / 3828 :  ('BAL_3', 'percent_use_1') :  0.42294991603747367\n",
      "2994 / 3828 :  ('BAL_3', 'percent_use_2') :  0.4227245866295058\n",
      "2995 / 3828 :  ('BAL_3', 'percent_use_3') :  0.4235665410672014\n",
      "2996 / 3828 :  ('BAL_3', 'percent_use_4') :  0.4471804193325166\n",
      "2997 / 3828 :  ('BAL_3', 'percent_use_5') :  0.4237948304575792\n",
      "2998 / 3828 :  ('BAL_3', 'percent_use_6') :  0.45092790773530766\n",
      "2999 / 3828 :  ('BAL_3', 'avg_percent_use') :  0.4219010313215019\n",
      "3004 / 3828 :  ('BAL_3', 'percent_paid_5') :  0.4216464890886494\n",
      "3019 / 3828 :  ('BAL_4', 'DEF_1') :  0.4259055549984105\n",
      "3020 / 3828 :  ('BAL_4', 'DEF_2') :  0.42513992531789674\n",
      "3021 / 3828 :  ('BAL_4', 'DEF_3') :  0.4246651561542803\n",
      "3022 / 3828 :  ('BAL_4', 'DEF_4') :  0.4228721623385445\n",
      "3023 / 3828 :  ('BAL_4', 'DEF_5') :  0.4215789139751749\n",
      "3024 / 3828 :  ('BAL_4', 'DEF_6') :  0.4226520820608736\n",
      "3025 / 3828 :  ('BAL_4', 'N_underpayment') :  0.43991153086743195\n",
      "3026 / 3828 :  ('BAL_4', 'over_lim_1') :  0.4245730556073822\n",
      "3027 / 3828 :  ('BAL_4', 'over_lim_2') :  0.4235086317318209\n",
      "3028 / 3828 :  ('BAL_4', 'over_lim_3') :  0.42306411198319055\n",
      "3029 / 3828 :  ('BAL_4', 'over_lim_4') :  0.42191109120860704\n",
      "3030 / 3828 :  ('BAL_4', 'over_lim_5') :  0.4215594512543861\n",
      "3031 / 3828 :  ('BAL_4', 'over_lim_6') :  0.42090388786458316\n",
      "3032 / 3828 :  ('BAL_4', 'n_over_lim') :  0.42424392352349516\n",
      "3033 / 3828 :  ('BAL_4', 'percent_use_1') :  0.45256532567754953\n",
      "3034 / 3828 :  ('BAL_4', 'percent_use_2') :  0.4237675241136262\n",
      "3035 / 3828 :  ('BAL_4', 'percent_use_3') :  0.4235997309005568\n",
      "3036 / 3828 :  ('BAL_4', 'percent_use_4') :  0.4239098015265263\n",
      "3037 / 3828 :  ('BAL_4', 'percent_use_5') :  0.42191376044598017\n",
      "3038 / 3828 :  ('BAL_4', 'percent_use_6') :  0.4236681031252738\n",
      "3039 / 3828 :  ('BAL_4', 'avg_percent_use') :  0.42274587971460226\n",
      "3044 / 3828 :  ('BAL_4', 'percent_paid_5') :  0.4208674367304663\n",
      "3058 / 3828 :  ('BAL_5', 'DEF_1') :  0.42561085511074154\n",
      "3059 / 3828 :  ('BAL_5', 'DEF_2') :  0.426092732645494\n",
      "3060 / 3828 :  ('BAL_5', 'DEF_3') :  0.42518729738986366\n",
      "3061 / 3828 :  ('BAL_5', 'DEF_4') :  0.4233739888550994\n",
      "3062 / 3828 :  ('BAL_5', 'DEF_5') :  0.4232089789116091\n",
      "3063 / 3828 :  ('BAL_5', 'DEF_6') :  0.42287463038587214\n",
      "3064 / 3828 :  ('BAL_5', 'N_underpayment') :  0.44157056214051255\n",
      "3065 / 3828 :  ('BAL_5', 'over_lim_1') :  0.4238683656204343\n",
      "3066 / 3828 :  ('BAL_5', 'over_lim_2') :  0.42407070954448706\n",
      "3067 / 3828 :  ('BAL_5', 'over_lim_3') :  0.42305368287707773\n",
      "3068 / 3828 :  ('BAL_5', 'over_lim_4') :  0.42178893530206246\n",
      "3069 / 3828 :  ('BAL_5', 'over_lim_5') :  0.421982527249885\n",
      "3070 / 3828 :  ('BAL_5', 'over_lim_6') :  0.4216393078573661\n",
      "3071 / 3828 :  ('BAL_5', 'n_over_lim') :  0.42401794818776367\n",
      "3072 / 3828 :  ('BAL_5', 'percent_use_1') :  0.4229825561965966\n",
      "3073 / 3828 :  ('BAL_5', 'percent_use_2') :  0.4235869941376593\n",
      "3074 / 3828 :  ('BAL_5', 'percent_use_3') :  0.4239466452755655\n",
      "3075 / 3828 :  ('BAL_5', 'percent_use_4') :  0.4226189603050696\n",
      "3076 / 3828 :  ('BAL_5', 'percent_use_5') :  0.4220119200021682\n",
      "3077 / 3828 :  ('BAL_5', 'percent_use_6') :  0.4254628801033269\n",
      "3078 / 3828 :  ('BAL_5', 'avg_percent_use') :  0.42278961642046475\n",
      "3084 / 3828 :  ('BAL_5', 'percent_paid_6') :  0.42089768202586236\n",
      "3096 / 3828 :  ('BAL_6', 'DEF_1') :  0.4260096058216359\n",
      "3097 / 3828 :  ('BAL_6', 'DEF_2') :  0.42392538001032315\n",
      "3098 / 3828 :  ('BAL_6', 'DEF_3') :  0.4251921829434184\n",
      "3099 / 3828 :  ('BAL_6', 'DEF_4') :  0.423575536218181\n",
      "3100 / 3828 :  ('BAL_6', 'DEF_5') :  0.42315056775883325\n",
      "3101 / 3828 :  ('BAL_6', 'DEF_6') :  0.4242662637456605\n",
      "3102 / 3828 :  ('BAL_6', 'N_underpayment') :  0.44225077132587504\n",
      "3103 / 3828 :  ('BAL_6', 'over_lim_1') :  0.42350573059331237\n",
      "3104 / 3828 :  ('BAL_6', 'over_lim_2') :  0.42327643312276514\n",
      "3105 / 3828 :  ('BAL_6', 'over_lim_3') :  0.42232105404160913\n",
      "3106 / 3828 :  ('BAL_6', 'over_lim_4') :  0.422146695119541\n",
      "3107 / 3828 :  ('BAL_6', 'over_lim_5') :  0.4221734395810184\n",
      "3108 / 3828 :  ('BAL_6', 'over_lim_6') :  0.4212062996751975\n",
      "3109 / 3828 :  ('BAL_6', 'n_over_lim') :  0.4229209984139278\n",
      "3110 / 3828 :  ('BAL_6', 'percent_use_1') :  0.42277963510217503\n",
      "3111 / 3828 :  ('BAL_6', 'percent_use_2') :  0.4237858199971636\n",
      "3112 / 3828 :  ('BAL_6', 'percent_use_3') :  0.42311099241171995\n",
      "3113 / 3828 :  ('BAL_6', 'percent_use_4') :  0.422560664819195\n",
      "3114 / 3828 :  ('BAL_6', 'percent_use_5') :  0.42188156896280343\n",
      "3115 / 3828 :  ('BAL_6', 'percent_use_6') :  0.4229555311094427\n",
      "3116 / 3828 :  ('BAL_6', 'avg_percent_use') :  0.42250883840787345\n",
      "3133 / 3828 :  ('BAL_change_6', 'DEF_1') :  0.44793886553239926\n",
      "3134 / 3828 :  ('BAL_change_6', 'DEF_2') :  0.42076099567592395\n",
      "3136 / 3828 :  ('BAL_change_6', 'DEF_4') :  0.4207858561378089\n",
      "3137 / 3828 :  ('BAL_change_6', 'DEF_5') :  0.4259155737476625\n",
      "3138 / 3828 :  ('BAL_change_6', 'DEF_6') :  0.42139615462001667\n",
      "3140 / 3828 :  ('BAL_change_6', 'over_lim_1') :  0.4223579309665432\n",
      "3141 / 3828 :  ('BAL_change_6', 'over_lim_2') :  0.4230830562475692\n",
      "3142 / 3828 :  ('BAL_change_6', 'over_lim_3') :  0.421381087675738\n",
      "3143 / 3828 :  ('BAL_change_6', 'over_lim_4') :  0.4209604472979507\n",
      "3144 / 3828 :  ('BAL_change_6', 'over_lim_5') :  0.42475147236056415\n",
      "3146 / 3828 :  ('BAL_change_6', 'n_over_lim') :  0.42146647709566865\n",
      "3147 / 3828 :  ('BAL_change_6', 'percent_use_1') :  0.4211306284000817\n",
      "3148 / 3828 :  ('BAL_change_6', 'percent_use_2') :  0.4214520848046866\n",
      "3149 / 3828 :  ('BAL_change_6', 'percent_use_3') :  0.4213701667015532\n",
      "3150 / 3828 :  ('BAL_change_6', 'percent_use_4') :  0.42111996400219165\n",
      "3151 / 3828 :  ('BAL_change_6', 'percent_use_5') :  0.42115971458522244\n",
      "3152 / 3828 :  ('BAL_change_6', 'percent_use_6') :  0.4209953091625551\n",
      "3153 / 3828 :  ('BAL_change_6', 'avg_percent_use') :  0.4208599118565089\n",
      "3156 / 3828 :  ('BAL_change_6', 'percent_paid_3') :  0.4209727489545978\n",
      "3169 / 3828 :  ('BAL_change_5', 'DEF_1') :  0.4218783323252948\n",
      "3170 / 3828 :  ('BAL_change_5', 'DEF_2') :  0.4213392994623774\n",
      "3171 / 3828 :  ('BAL_change_5', 'DEF_3') :  0.42089340672396675\n",
      "3172 / 3828 :  ('BAL_change_5', 'DEF_4') :  0.42074607667730324\n",
      "3173 / 3828 :  ('BAL_change_5', 'DEF_5') :  0.4208898585580532\n",
      "3174 / 3828 :  ('BAL_change_5', 'DEF_6') :  0.4207803460425423\n",
      "3175 / 3828 :  ('BAL_change_5', 'N_underpayment') :  0.4217020135659801\n",
      "3176 / 3828 :  ('BAL_change_5', 'over_lim_1') :  0.4216456290520218\n",
      "3177 / 3828 :  ('BAL_change_5', 'over_lim_2') :  0.4215098322891519\n",
      "3178 / 3828 :  ('BAL_change_5', 'over_lim_3') :  0.4215416732743626\n",
      "3179 / 3828 :  ('BAL_change_5', 'over_lim_4') :  0.42097267973399566\n",
      "3180 / 3828 :  ('BAL_change_5', 'over_lim_5') :  0.4214821770348512\n",
      "3181 / 3828 :  ('BAL_change_5', 'over_lim_6') :  0.42119814882481316\n",
      "3182 / 3828 :  ('BAL_change_5', 'n_over_lim') :  0.42117296597229864\n"
     ]
    },
    {
     "name": "stderr",
     "output_type": "stream",
     "text": [
      "C:\\Users\\Eunjoo\\anaconda3\\lib\\site-packages\\sklearn\\linear_model\\_logistic.py:940: ConvergenceWarning: lbfgs failed to converge (status=1):\n",
      "STOP: TOTAL NO. of ITERATIONS REACHED LIMIT.\n",
      "\n",
      "Increase the number of iterations (max_iter) or scale the data as shown in:\n",
      "    https://scikit-learn.org/stable/modules/preprocessing.html\n",
      "Please also refer to the documentation for alternative solver options:\n",
      "    https://scikit-learn.org/stable/modules/linear_model.html#logistic-regression\n",
      "  extra_warning_msg=_LOGISTIC_SOLVER_CONVERGENCE_MSG)\n"
     ]
    },
    {
     "name": "stdout",
     "output_type": "stream",
     "text": [
      "3185 / 3828 :  ('BAL_change_5', 'percent_use_3') :  0.4441829841955825\n",
      "3187 / 3828 :  ('BAL_change_5', 'percent_use_5') :  0.4208403835994268\n",
      "3188 / 3828 :  ('BAL_change_5', 'percent_use_6') :  0.4208242051150462\n",
      "3195 / 3828 :  ('BAL_change_5', 'percent_paid_6') :  0.4210066491491047\n",
      "3198 / 3828 :  ('BAL_change_5', 'ln_limit_bal') :  0.4211734959023761\n",
      "3204 / 3828 :  ('BAL_change_4', 'DEF_1') :  0.4209865876493768\n",
      "3206 / 3828 :  ('BAL_change_4', 'DEF_3') :  0.4219524438292565\n",
      "3209 / 3828 :  ('BAL_change_4', 'DEF_6') :  0.42080675215242397\n",
      "3211 / 3828 :  ('BAL_change_4', 'over_lim_1') :  0.42154273440273954\n",
      "3212 / 3828 :  ('BAL_change_4', 'over_lim_2') :  0.42160991057942193\n",
      "3213 / 3828 :  ('BAL_change_4', 'over_lim_3') :  0.42231578387568064\n",
      "3214 / 3828 :  ('BAL_change_4', 'over_lim_4') :  0.4211204943455961\n",
      "3215 / 3828 :  ('BAL_change_4', 'over_lim_5') :  0.4210405736409391\n"
     ]
    },
    {
     "name": "stderr",
     "output_type": "stream",
     "text": [
      "C:\\Users\\Eunjoo\\anaconda3\\lib\\site-packages\\sklearn\\linear_model\\_logistic.py:940: ConvergenceWarning: lbfgs failed to converge (status=1):\n",
      "STOP: TOTAL NO. of ITERATIONS REACHED LIMIT.\n",
      "\n",
      "Increase the number of iterations (max_iter) or scale the data as shown in:\n",
      "    https://scikit-learn.org/stable/modules/preprocessing.html\n",
      "Please also refer to the documentation for alternative solver options:\n",
      "    https://scikit-learn.org/stable/modules/linear_model.html#logistic-regression\n",
      "  extra_warning_msg=_LOGISTIC_SOLVER_CONVERGENCE_MSG)\n"
     ]
    },
    {
     "name": "stdout",
     "output_type": "stream",
     "text": [
      "3216 / 3828 :  ('BAL_change_4', 'over_lim_6') :  0.4440722044906124\n",
      "3217 / 3828 :  ('BAL_change_4', 'n_over_lim') :  0.4222161506016518\n",
      "3219 / 3828 :  ('BAL_change_4', 'percent_use_2') :  0.42130229303010874\n",
      "3220 / 3828 :  ('BAL_change_4', 'percent_use_3') :  0.42123589207393025\n",
      "3223 / 3828 :  ('BAL_change_4', 'percent_use_6') :  0.446574059368003\n",
      "3226 / 3828 :  ('BAL_change_4', 'percent_paid_2') :  0.42100992043875785\n",
      "3230 / 3828 :  ('BAL_change_4', 'percent_paid_6') :  0.4207106458580158\n",
      "3231 / 3828 :  ('BAL_change_4', 'payment_patter_change') :  0.4207741713972896\n",
      "3233 / 3828 :  ('BAL_change_4', 'ln_limit_bal') :  0.4210217937532155\n",
      "3238 / 3828 :  ('BAL_change_3', 'DEF_1') :  0.4460244651178904\n",
      "3240 / 3828 :  ('BAL_change_3', 'DEF_3') :  0.4225080892446477\n"
     ]
    },
    {
     "name": "stderr",
     "output_type": "stream",
     "text": [
      "C:\\Users\\Eunjoo\\anaconda3\\lib\\site-packages\\sklearn\\linear_model\\_logistic.py:940: ConvergenceWarning: lbfgs failed to converge (status=1):\n",
      "STOP: TOTAL NO. of ITERATIONS REACHED LIMIT.\n",
      "\n",
      "Increase the number of iterations (max_iter) or scale the data as shown in:\n",
      "    https://scikit-learn.org/stable/modules/preprocessing.html\n",
      "Please also refer to the documentation for alternative solver options:\n",
      "    https://scikit-learn.org/stable/modules/linear_model.html#logistic-regression\n",
      "  extra_warning_msg=_LOGISTIC_SOLVER_CONVERGENCE_MSG)\n"
     ]
    },
    {
     "name": "stdout",
     "output_type": "stream",
     "text": [
      "3242 / 3828 :  ('BAL_change_3', 'DEF_5') :  0.43421514744240003\n",
      "3243 / 3828 :  ('BAL_change_3', 'DEF_6') :  0.42135146403564466\n",
      "3244 / 3828 :  ('BAL_change_3', 'N_underpayment') :  0.42213017435105904\n",
      "3245 / 3828 :  ('BAL_change_3', 'over_lim_1') :  0.4230563845087842\n",
      "3247 / 3828 :  ('BAL_change_3', 'over_lim_3') :  0.42085859759961436\n",
      "3248 / 3828 :  ('BAL_change_3', 'over_lim_4') :  0.42143389327603004\n",
      "3249 / 3828 :  ('BAL_change_3', 'over_lim_5') :  0.421788219983762\n",
      "3250 / 3828 :  ('BAL_change_3', 'over_lim_6') :  0.45056024577705833\n",
      "3251 / 3828 :  ('BAL_change_3', 'n_over_lim') :  0.42352384145756433\n",
      "3252 / 3828 :  ('BAL_change_3', 'percent_use_1') :  0.42395517998673854\n",
      "3253 / 3828 :  ('BAL_change_3', 'percent_use_2') :  0.4234095688434382\n",
      "3254 / 3828 :  ('BAL_change_3', 'percent_use_3') :  0.4492896251242115\n",
      "3255 / 3828 :  ('BAL_change_3', 'percent_use_4') :  0.4212956828059677\n",
      "3256 / 3828 :  ('BAL_change_3', 'percent_use_5') :  0.420774080931729\n",
      "3257 / 3828 :  ('BAL_change_3', 'percent_use_6') :  0.4210899539699173\n",
      "3258 / 3828 :  ('BAL_change_3', 'avg_percent_use') :  0.4211192350878806\n",
      "3264 / 3828 :  ('BAL_change_3', 'percent_paid_6') :  0.4208737588226734\n",
      "3267 / 3828 :  ('BAL_change_3', 'ln_limit_bal') :  0.4208695360643902\n",
      "3271 / 3828 :  ('BAL_change_2', 'DEF_1') :  0.4234290941105689\n",
      "3272 / 3828 :  ('BAL_change_2', 'DEF_2') :  0.42181032403959434\n",
      "3274 / 3828 :  ('BAL_change_2', 'DEF_4') :  0.4511370221332787\n",
      "3275 / 3828 :  ('BAL_change_2', 'DEF_5') :  0.42105267738245367\n",
      "3276 / 3828 :  ('BAL_change_2', 'DEF_6') :  0.450631530875013\n",
      "3277 / 3828 :  ('BAL_change_2', 'N_underpayment') :  0.420951344982619\n",
      "3278 / 3828 :  ('BAL_change_2', 'over_lim_1') :  0.42191449613576953\n",
      "3286 / 3828 :  ('BAL_change_2', 'percent_use_2') :  0.4214167033637002\n",
      "3287 / 3828 :  ('BAL_change_2', 'percent_use_3') :  0.4219435196671035\n",
      "3288 / 3828 :  ('BAL_change_2', 'percent_use_4') :  0.4213477334511529\n",
      "3289 / 3828 :  ('BAL_change_2', 'percent_use_5') :  0.42114770324691514\n",
      "3290 / 3828 :  ('BAL_change_2', 'percent_use_6') :  0.42099174669972\n",
      "3291 / 3828 :  ('BAL_change_2', 'avg_percent_use') :  0.42095360352714817\n",
      "3294 / 3828 :  ('BAL_change_2', 'percent_paid_3') :  0.4213862190405515\n"
     ]
    },
    {
     "name": "stderr",
     "output_type": "stream",
     "text": [
      "C:\\Users\\Eunjoo\\anaconda3\\lib\\site-packages\\sklearn\\linear_model\\_logistic.py:940: ConvergenceWarning: lbfgs failed to converge (status=1):\n",
      "STOP: TOTAL NO. of ITERATIONS REACHED LIMIT.\n",
      "\n",
      "Increase the number of iterations (max_iter) or scale the data as shown in:\n",
      "    https://scikit-learn.org/stable/modules/preprocessing.html\n",
      "Please also refer to the documentation for alternative solver options:\n",
      "    https://scikit-learn.org/stable/modules/linear_model.html#logistic-regression\n",
      "  extra_warning_msg=_LOGISTIC_SOLVER_CONVERGENCE_MSG)\n"
     ]
    },
    {
     "name": "stdout",
     "output_type": "stream",
     "text": [
      "3295 / 3828 :  ('BAL_change_2', 'percent_paid_4') :  0.43979130360196966\n",
      "3300 / 3828 :  ('BAL_change_2', 'ln_limit_bal') :  0.42483311132975593\n",
      "3303 / 3828 :  ('cum_bal_change', 'DEF_1') :  0.42255345513749915\n",
      "3305 / 3828 :  ('cum_bal_change', 'DEF_3') :  0.42141565630361627\n",
      "3308 / 3828 :  ('cum_bal_change', 'DEF_6') :  0.4210990942494866\n",
      "3309 / 3828 :  ('cum_bal_change', 'N_underpayment') :  0.4213795047839699\n",
      "3310 / 3828 :  ('cum_bal_change', 'over_lim_1') :  0.42608173398571125\n",
      "3311 / 3828 :  ('cum_bal_change', 'over_lim_2') :  0.42338617897549957\n",
      "3312 / 3828 :  ('cum_bal_change', 'over_lim_3') :  0.4223645670245899\n",
      "3313 / 3828 :  ('cum_bal_change', 'over_lim_4') :  0.4216958554611007\n",
      "3314 / 3828 :  ('cum_bal_change', 'over_lim_5') :  0.4209785640976662\n",
      "3315 / 3828 :  ('cum_bal_change', 'over_lim_6') :  0.42130749244074406\n",
      "3316 / 3828 :  ('cum_bal_change', 'n_over_lim') :  0.4250219946095346\n",
      "3317 / 3828 :  ('cum_bal_change', 'percent_use_1') :  0.42386610824428445\n",
      "3318 / 3828 :  ('cum_bal_change', 'percent_use_2') :  0.4216575511344381\n",
      "3319 / 3828 :  ('cum_bal_change', 'percent_use_3') :  0.42081453452558715\n",
      "3320 / 3828 :  ('cum_bal_change', 'percent_use_4') :  0.42071959752935645\n",
      "3321 / 3828 :  ('cum_bal_change', 'percent_use_5') :  0.4211845910783485\n"
     ]
    },
    {
     "name": "stderr",
     "output_type": "stream",
     "text": [
      "C:\\Users\\Eunjoo\\anaconda3\\lib\\site-packages\\sklearn\\linear_model\\_logistic.py:940: ConvergenceWarning: lbfgs failed to converge (status=1):\n",
      "STOP: TOTAL NO. of ITERATIONS REACHED LIMIT.\n",
      "\n",
      "Increase the number of iterations (max_iter) or scale the data as shown in:\n",
      "    https://scikit-learn.org/stable/modules/preprocessing.html\n",
      "Please also refer to the documentation for alternative solver options:\n",
      "    https://scikit-learn.org/stable/modules/linear_model.html#logistic-regression\n",
      "  extra_warning_msg=_LOGISTIC_SOLVER_CONVERGENCE_MSG)\n"
     ]
    },
    {
     "name": "stdout",
     "output_type": "stream",
     "text": [
      "3322 / 3828 :  ('cum_bal_change', 'percent_use_6') :  0.4346173768197847\n",
      "3323 / 3828 :  ('cum_bal_change', 'avg_percent_use') :  0.42174654541762896\n",
      "3334 / 3828 :  ('final_balance', 'DEF_1') :  0.42547144878564186\n",
      "3335 / 3828 :  ('final_balance', 'DEF_2') :  0.42609965624202456\n",
      "3336 / 3828 :  ('final_balance', 'DEF_3') :  0.4241273572243545\n",
      "3337 / 3828 :  ('final_balance', 'DEF_4') :  0.4224845709946035\n",
      "3338 / 3828 :  ('final_balance', 'DEF_5') :  0.42269359681747903\n",
      "3339 / 3828 :  ('final_balance', 'DEF_6') :  0.42286190469174656\n",
      "3340 / 3828 :  ('final_balance', 'N_underpayment') :  0.44002603477411933\n",
      "3341 / 3828 :  ('final_balance', 'over_lim_1') :  0.43500063132258965\n",
      "3342 / 3828 :  ('final_balance', 'over_lim_2') :  0.4237148715294765\n",
      "3343 / 3828 :  ('final_balance', 'over_lim_3') :  0.4232315827290681\n",
      "3344 / 3828 :  ('final_balance', 'over_lim_4') :  0.42139735567859965\n",
      "3345 / 3828 :  ('final_balance', 'over_lim_5') :  0.42212398249210037\n",
      "3346 / 3828 :  ('final_balance', 'over_lim_6') :  0.4215581074042352\n",
      "3347 / 3828 :  ('final_balance', 'n_over_lim') :  0.4257214281850307\n",
      "3348 / 3828 :  ('final_balance', 'percent_use_1') :  0.4257040368837126\n",
      "3349 / 3828 :  ('final_balance', 'percent_use_2') :  0.42494778528841587\n",
      "3350 / 3828 :  ('final_balance', 'percent_use_3') :  0.4219237451821701\n",
      "3351 / 3828 :  ('final_balance', 'percent_use_4') :  0.42266761622430193\n",
      "3352 / 3828 :  ('final_balance', 'percent_use_5') :  0.4230383816823111\n",
      "3353 / 3828 :  ('final_balance', 'percent_use_6') :  0.4216540535342415\n",
      "3354 / 3828 :  ('final_balance', 'avg_percent_use') :  0.4235944311728139\n",
      "3359 / 3828 :  ('final_balance', 'percent_paid_5') :  0.4208026415948443\n",
      "3360 / 3828 :  ('final_balance', 'percent_paid_6') :  0.42074143228828836\n",
      "3365 / 3828 :  ('final_payment', 'DEF_2') :  0.4233476657087372\n",
      "3366 / 3828 :  ('final_payment', 'DEF_3') :  0.42141623354808216\n",
      "3367 / 3828 :  ('final_payment', 'DEF_4') :  0.4323906938943367\n",
      "3368 / 3828 :  ('final_payment', 'DEF_5') :  0.4212886843328323\n",
      "3369 / 3828 :  ('final_payment', 'DEF_6') :  0.4215218675738391\n",
      "3370 / 3828 :  ('final_payment', 'N_underpayment') :  0.42621854292684946\n",
      "3371 / 3828 :  ('final_payment', 'over_lim_1') :  0.4237163155417907\n",
      "3372 / 3828 :  ('final_payment', 'over_lim_2') :  0.4219624021465675\n",
      "3373 / 3828 :  ('final_payment', 'over_lim_3') :  0.4217428506279209\n",
      "3374 / 3828 :  ('final_payment', 'over_lim_4') :  0.42141245322167165\n",
      "3375 / 3828 :  ('final_payment', 'over_lim_5') :  0.4211229630460514\n",
      "3376 / 3828 :  ('final_payment', 'over_lim_6') :  0.42140567380679395\n",
      "3377 / 3828 :  ('final_payment', 'n_over_lim') :  0.4243688368615796\n",
      "3378 / 3828 :  ('final_payment', 'percent_use_1') :  0.4215467058050402\n",
      "3379 / 3828 :  ('final_payment', 'percent_use_2') :  0.42275709272517986\n",
      "3380 / 3828 :  ('final_payment', 'percent_use_3') :  0.42292629148943767\n",
      "3381 / 3828 :  ('final_payment', 'percent_use_4') :  0.42319006616718613\n",
      "3382 / 3828 :  ('final_payment', 'percent_use_5') :  0.4220023411702724\n",
      "3383 / 3828 :  ('final_payment', 'percent_use_6') :  0.42184862448377974\n",
      "3384 / 3828 :  ('final_payment', 'avg_percent_use') :  0.4219580999954012\n",
      "3388 / 3828 :  ('final_payment', 'percent_paid_4') :  0.42239408128745576\n",
      "3390 / 3828 :  ('final_payment', 'percent_paid_6') :  0.42074891309451407\n",
      "3392 / 3828 :  ('final_payment', 'payment_average_p') :  0.4208796883685914\n",
      "3393 / 3828 :  ('final_payment', 'ln_limit_bal') :  0.4218204579659441\n",
      "3394 / 3828 :  ('DEF_1', 'DEF_2') :  0.42074645465622634\n",
      "3396 / 3828 :  ('DEF_1', 'DEF_4') :  0.42082123688987955\n",
      "3398 / 3828 :  ('DEF_1', 'DEF_6') :  0.42079147608566975\n",
      "3399 / 3828 :  ('DEF_1', 'N_underpayment') :  0.42072187735855976\n",
      "3400 / 3828 :  ('DEF_1', 'over_lim_1') :  0.42079285215949297\n",
      "3404 / 3828 :  ('DEF_1', 'over_lim_5') :  0.42075137389965844\n",
      "3408 / 3828 :  ('DEF_1', 'percent_use_2') :  0.42102760337499207\n",
      "3411 / 3828 :  ('DEF_1', 'percent_use_5') :  0.420728051618201\n",
      "3412 / 3828 :  ('DEF_1', 'percent_use_6') :  0.42075137389965844\n",
      "3413 / 3828 :  ('DEF_1', 'avg_percent_use') :  0.42486335295670247\n",
      "3416 / 3828 :  ('DEF_1', 'percent_paid_3') :  0.4208200820535331\n",
      "3417 / 3828 :  ('DEF_1', 'percent_paid_4') :  0.4241393460736422\n",
      "3419 / 3828 :  ('DEF_1', 'percent_paid_6') :  0.42096085045459514\n",
      "3420 / 3828 :  ('DEF_1', 'payment_patter_change') :  0.42075286837305564\n",
      "3421 / 3828 :  ('DEF_1', 'payment_average_p') :  0.42091208055602874\n",
      "3422 / 3828 :  ('DEF_1', 'ln_limit_bal') :  0.42126379225054295\n",
      "3423 / 3828 :  ('DEF_2', 'DEF_3') :  0.4207265571448037\n",
      "3425 / 3828 :  ('DEF_2', 'DEF_5') :  0.42081894400700426\n",
      "3427 / 3828 :  ('DEF_2', 'N_underpayment') :  0.4208892296555258\n",
      "3429 / 3828 :  ('DEF_2', 'over_lim_2') :  0.42262673704976256\n",
      "3431 / 3828 :  ('DEF_2', 'over_lim_4') :  0.4207533283753097\n",
      "3432 / 3828 :  ('DEF_2', 'over_lim_5') :  0.42080060461484087\n",
      "3433 / 3828 :  ('DEF_2', 'over_lim_6') :  0.42075096252395755\n",
      "3434 / 3828 :  ('DEF_2', 'n_over_lim') :  0.42077652663860804\n",
      "3438 / 3828 :  ('DEF_2', 'percent_use_4') :  0.4207521127985843\n",
      "3439 / 3828 :  ('DEF_2', 'percent_use_5') :  0.4215804915739225\n",
      "3443 / 3828 :  ('DEF_2', 'percent_paid_2') :  0.42072729604372966\n",
      "3444 / 3828 :  ('DEF_2', 'percent_paid_3') :  0.42078922548721537\n",
      "3445 / 3828 :  ('DEF_2', 'percent_paid_4') :  0.4207521127985843\n",
      "3447 / 3828 :  ('DEF_2', 'percent_paid_6') :  0.42093567824965833\n",
      "3448 / 3828 :  ('DEF_2', 'payment_patter_change') :  0.42072037717877664\n",
      "3449 / 3828 :  ('DEF_2', 'payment_average_p') :  0.4207254981941156\n",
      "3450 / 3828 :  ('DEF_2', 'ln_limit_bal') :  0.4236672651848729\n",
      "3451 / 3828 :  ('DEF_3', 'DEF_4') :  0.4208067289651259\n",
      "3452 / 3828 :  ('DEF_3', 'DEF_5') :  0.4207428758365235\n",
      "3454 / 3828 :  ('DEF_3', 'N_underpayment') :  0.42077652663860804\n",
      "3455 / 3828 :  ('DEF_3', 'over_lim_1') :  0.42075371994728905\n",
      "3456 / 3828 :  ('DEF_3', 'over_lim_2') :  0.44775662314299\n",
      "3458 / 3828 :  ('DEF_3', 'over_lim_4') :  0.4207521127985843\n",
      "3463 / 3828 :  ('DEF_3', 'percent_use_2') :  0.42075286837305564\n",
      "3464 / 3828 :  ('DEF_3', 'percent_use_3') :  0.4207517098837532\n",
      "3465 / 3828 :  ('DEF_3', 'percent_use_4') :  0.42076805815914886\n",
      "3466 / 3828 :  ('DEF_3', 'percent_use_5') :  0.42081974972081104\n",
      "3467 / 3828 :  ('DEF_3', 'percent_use_6') :  0.42072729604372966\n",
      "3470 / 3828 :  ('DEF_3', 'percent_paid_2') :  0.4208261858962907\n",
      "3471 / 3828 :  ('DEF_3', 'percent_paid_3') :  0.42292643629932125\n",
      "3473 / 3828 :  ('DEF_3', 'percent_paid_5') :  0.4207456832315423\n",
      "3474 / 3828 :  ('DEF_3', 'percent_paid_6') :  0.42074760091584745\n",
      "3476 / 3828 :  ('DEF_3', 'payment_average_p') :  0.42081933834511015\n",
      "3477 / 3828 :  ('DEF_3', 'ln_limit_bal') :  0.42130711056705544\n",
      "3478 / 3828 :  ('DEF_4', 'DEF_5') :  0.42071959752935645\n",
      "3479 / 3828 :  ('DEF_4', 'DEF_6') :  0.4208013519746367\n",
      "3480 / 3828 :  ('DEF_4', 'N_underpayment') :  0.42072037717877664\n",
      "3481 / 3828 :  ('DEF_4', 'over_lim_1') :  0.4215542953588729\n"
     ]
    },
    {
     "name": "stderr",
     "output_type": "stream",
     "text": [
      "C:\\Users\\Eunjoo\\anaconda3\\lib\\site-packages\\sklearn\\linear_model\\_logistic.py:940: ConvergenceWarning: lbfgs failed to converge (status=1):\n",
      "STOP: TOTAL NO. of ITERATIONS REACHED LIMIT.\n",
      "\n",
      "Increase the number of iterations (max_iter) or scale the data as shown in:\n",
      "    https://scikit-learn.org/stable/modules/preprocessing.html\n",
      "Please also refer to the documentation for alternative solver options:\n",
      "    https://scikit-learn.org/stable/modules/linear_model.html#logistic-regression\n",
      "  extra_warning_msg=_LOGISTIC_SOLVER_CONVERGENCE_MSG)\n"
     ]
    },
    {
     "name": "stdout",
     "output_type": "stream",
     "text": [
      "3482 / 3828 :  ('DEF_4', 'over_lim_2') :  0.4398969689811982\n",
      "3484 / 3828 :  ('DEF_4', 'over_lim_4') :  0.4215404824128856\n",
      "3485 / 3828 :  ('DEF_4', 'over_lim_5') :  0.4207517098837532\n",
      "3487 / 3828 :  ('DEF_4', 'n_over_lim') :  0.42072729604372966\n",
      "3488 / 3828 :  ('DEF_4', 'percent_use_1') :  0.42077537636398105\n",
      "3491 / 3828 :  ('DEF_4', 'percent_use_4') :  0.42074760091584745\n",
      "3492 / 3828 :  ('DEF_4', 'percent_use_5') :  0.4207265571448037\n",
      "3494 / 3828 :  ('DEF_4', 'avg_percent_use') :  0.420884514300553\n",
      "3496 / 3828 :  ('DEF_4', 'percent_paid_2') :  0.42128402300788453\n",
      "3497 / 3828 :  ('DEF_4', 'percent_paid_3') :  0.42079071959911446\n",
      "3498 / 3828 :  ('DEF_4', 'percent_paid_4') :  0.4210600334707648\n",
      "3499 / 3828 :  ('DEF_4', 'percent_paid_5') :  0.4207939938573945\n",
      "3500 / 3828 :  ('DEF_4', 'percent_paid_6') :  0.4208001931188359\n",
      "3503 / 3828 :  ('DEF_4', 'ln_limit_bal') :  0.42150063297267115\n",
      "3504 / 3828 :  ('DEF_5', 'DEF_6') :  0.42075137389965844\n",
      "3506 / 3828 :  ('DEF_5', 'over_lim_1') :  0.4207261543458281\n",
      "3508 / 3828 :  ('DEF_5', 'over_lim_3') :  0.42084489880838793\n",
      "3509 / 3828 :  ('DEF_5', 'over_lim_4') :  0.4208013519746367\n",
      "3512 / 3828 :  ('DEF_5', 'n_over_lim') :  0.4207757792788122\n",
      "3514 / 3828 :  ('DEF_5', 'percent_use_2') :  0.42084289395095337\n",
      "3515 / 3828 :  ('DEF_5', 'percent_use_3') :  0.45229977052341125\n",
      "3516 / 3828 :  ('DEF_5', 'percent_use_4') :  0.422877497459958\n",
      "3517 / 3828 :  ('DEF_5', 'percent_use_5') :  0.4498721314444007\n",
      "3519 / 3828 :  ('DEF_5', 'avg_percent_use') :  0.4207283754595734\n",
      "3520 / 3828 :  ('DEF_5', 'percent_paid_1') :  0.42079285215949297\n",
      "3521 / 3828 :  ('DEF_5', 'percent_paid_2') :  0.4208001931188359\n",
      "3525 / 3828 :  ('DEF_5', 'percent_paid_6') :  0.42080060461484087\n",
      "3527 / 3828 :  ('DEF_5', 'payment_average_p') :  0.4207521127985843\n",
      "3528 / 3828 :  ('DEF_5', 'ln_limit_bal') :  0.4211153816507059\n",
      "3529 / 3828 :  ('DEF_6', 'N_underpayment') :  0.42084375218513365\n",
      "3531 / 3828 :  ('DEF_6', 'over_lim_2') :  0.4207269017056238\n",
      "3532 / 3828 :  ('DEF_6', 'over_lim_3') :  0.421883045301562\n",
      "3534 / 3828 :  ('DEF_6', 'over_lim_5') :  0.42075096252395755\n",
      "3535 / 3828 :  ('DEF_6', 'over_lim_6') :  0.42075137389965844\n",
      "3536 / 3828 :  ('DEF_6', 'n_over_lim') :  0.4216722123983893\n",
      "3537 / 3828 :  ('DEF_6', 'percent_use_1') :  0.4207521127985843\n",
      "3538 / 3828 :  ('DEF_6', 'percent_use_2') :  0.4210804188149257\n",
      "3542 / 3828 :  ('DEF_6', 'percent_use_6') :  0.4211267908003609\n",
      "3543 / 3828 :  ('DEF_6', 'avg_percent_use') :  0.42072729604372966\n",
      "3544 / 3828 :  ('DEF_6', 'percent_paid_1') :  0.4208001931188359\n",
      "3545 / 3828 :  ('DEF_6', 'percent_paid_2') :  0.4464874125376153\n",
      "3546 / 3828 :  ('DEF_6', 'percent_paid_3') :  0.4207419025730443\n",
      "3547 / 3828 :  ('DEF_6', 'percent_paid_4') :  0.42112564910245937\n",
      "3548 / 3828 :  ('DEF_6', 'percent_paid_5') :  0.42075137389965844\n",
      "3549 / 3828 :  ('DEF_6', 'percent_paid_6') :  0.4416109971347006\n",
      "3550 / 3828 :  ('DEF_6', 'payment_patter_change') :  0.42077652663860804\n",
      "3551 / 3828 :  ('DEF_6', 'payment_average_p') :  0.4208013519746367\n",
      "3552 / 3828 :  ('DEF_6', 'ln_limit_bal') :  0.42093040120783454\n",
      "3553 / 3828 :  ('N_underpayment', 'over_lim_1') :  0.4460297932241482\n",
      "3554 / 3828 :  ('N_underpayment', 'over_lim_2') :  0.4207781137907148\n",
      "3555 / 3828 :  ('N_underpayment', 'over_lim_3') :  0.4208128992594243\n",
      "3556 / 3828 :  ('N_underpayment', 'over_lim_4') :  0.42075096252395755\n",
      "3557 / 3828 :  ('N_underpayment', 'over_lim_5') :  0.42075096252395755\n",
      "3559 / 3828 :  ('N_underpayment', 'n_over_lim') :  0.42119970630284587\n",
      "3560 / 3828 :  ('N_underpayment', 'percent_use_1') :  0.4207113142105703\n",
      "3562 / 3828 :  ('N_underpayment', 'percent_use_3') :  0.43170625683510816\n",
      "3563 / 3828 :  ('N_underpayment', 'percent_use_4') :  0.4207757792788122\n",
      "3565 / 3828 :  ('N_underpayment', 'percent_use_6') :  0.4208450129159527\n",
      "3566 / 3828 :  ('N_underpayment', 'avg_percent_use') :  0.4207517098837532\n",
      "3567 / 3828 :  ('N_underpayment', 'percent_paid_1') :  0.42074793912886493\n",
      "3568 / 3828 :  ('N_underpayment', 'percent_paid_2') :  0.4495625088440327\n",
      "3570 / 3828 :  ('N_underpayment', 'percent_paid_4') :  0.4209347870064053\n",
      "3571 / 3828 :  ('N_underpayment', 'percent_paid_5') :  0.4209143954999246\n",
      "3572 / 3828 :  ('N_underpayment', 'percent_paid_6') :  0.4208567078535983\n",
      "3573 / 3828 :  ('N_underpayment', 'payment_patter_change') :  0.4211391101182423\n",
      "3574 / 3828 :  ('N_underpayment', 'payment_average_p') :  0.4207757792788122\n",
      "3575 / 3828 :  ('N_underpayment', 'ln_limit_bal') :  0.447263424373383\n",
      "3576 / 3828 :  ('over_lim_1', 'over_lim_2') :  0.42081768860288493\n",
      "3577 / 3828 :  ('over_lim_1', 'over_lim_3') :  0.4207265571448037\n",
      "3580 / 3828 :  ('over_lim_1', 'over_lim_6') :  0.44900051110686306\n",
      "3586 / 3828 :  ('over_lim_1', 'percent_use_5') :  0.42075253275545926\n",
      "3588 / 3828 :  ('over_lim_1', 'avg_percent_use') :  0.42077537636398105\n",
      "3589 / 3828 :  ('over_lim_1', 'percent_paid_1') :  0.42153932833310154\n",
      "3590 / 3828 :  ('over_lim_1', 'percent_paid_2') :  0.4207261543458281\n",
      "3591 / 3828 :  ('over_lim_1', 'percent_paid_3') :  0.4207761992356871\n",
      "3592 / 3828 :  ('over_lim_1', 'percent_paid_4') :  0.42075286837305564\n",
      "3593 / 3828 :  ('over_lim_1', 'percent_paid_5') :  0.4213482970532209\n",
      "3594 / 3828 :  ('over_lim_1', 'percent_paid_6') :  0.42072729604372966\n",
      "3595 / 3828 :  ('over_lim_1', 'payment_patter_change') :  0.42140403108129704\n",
      "3597 / 3828 :  ('over_lim_1', 'ln_limit_bal') :  0.42089111710472177\n",
      "3599 / 3828 :  ('over_lim_2', 'over_lim_4') :  0.4207517098837532\n",
      "3603 / 3828 :  ('over_lim_2', 'percent_use_1') :  0.42075137389965844\n",
      "3605 / 3828 :  ('over_lim_2', 'percent_use_3') :  0.42082501845486453\n",
      "3606 / 3828 :  ('over_lim_2', 'percent_use_4') :  0.4207265571448037\n",
      "3607 / 3828 :  ('over_lim_2', 'percent_use_5') :  0.4208001931188359\n",
      "3608 / 3828 :  ('over_lim_2', 'percent_use_6') :  0.42086626031414526\n",
      "3610 / 3828 :  ('over_lim_2', 'percent_paid_1') :  0.42074760091584745\n",
      "3612 / 3828 :  ('over_lim_2', 'percent_paid_3') :  0.4207521127985843\n",
      "3613 / 3828 :  ('over_lim_2', 'percent_paid_4') :  0.42083683588428605\n",
      "3618 / 3828 :  ('over_lim_2', 'ln_limit_bal') :  0.42091553941001597\n",
      "3619 / 3828 :  ('over_lim_3', 'over_lim_4') :  0.422471127086133\n",
      "3620 / 3828 :  ('over_lim_3', 'over_lim_5') :  0.4207261543458281\n",
      "3621 / 3828 :  ('over_lim_3', 'over_lim_6') :  0.42072729604372966\n",
      "3622 / 3828 :  ('over_lim_3', 'n_over_lim') :  0.42141827987228403\n",
      "3624 / 3828 :  ('over_lim_3', 'percent_use_2') :  0.42075253275545926\n",
      "3625 / 3828 :  ('over_lim_3', 'percent_use_3') :  0.4207548638064263\n",
      "3628 / 3828 :  ('over_lim_3', 'percent_use_6') :  0.42110429923451037\n",
      "3629 / 3828 :  ('over_lim_3', 'avg_percent_use') :  0.4364809031243329\n",
      "3630 / 3828 :  ('over_lim_3', 'percent_paid_1') :  0.42086618317149754\n",
      "3631 / 3828 :  ('over_lim_3', 'percent_paid_2') :  0.4207288744899069\n",
      "3632 / 3828 :  ('over_lim_3', 'percent_paid_3') :  0.44750713567166106\n",
      "3639 / 3828 :  ('over_lim_4', 'over_lim_5') :  0.4207757792788122\n",
      "3641 / 3828 :  ('over_lim_4', 'n_over_lim') :  0.420776938134613\n",
      "3643 / 3828 :  ('over_lim_4', 'percent_use_2') :  0.4207284545330321\n",
      "3644 / 3828 :  ('over_lim_4', 'percent_use_3') :  0.4208013519746367\n",
      "3645 / 3828 :  ('over_lim_4', 'percent_use_4') :  0.42159281535008564\n",
      "3646 / 3828 :  ('over_lim_4', 'percent_use_5') :  0.4207521127985843\n",
      "3647 / 3828 :  ('over_lim_4', 'percent_use_6') :  0.45068594922378247\n"
     ]
    },
    {
     "name": "stderr",
     "output_type": "stream",
     "text": [
      "C:\\Users\\Eunjoo\\anaconda3\\lib\\site-packages\\sklearn\\linear_model\\_logistic.py:940: ConvergenceWarning: lbfgs failed to converge (status=1):\n",
      "STOP: TOTAL NO. of ITERATIONS REACHED LIMIT.\n",
      "\n",
      "Increase the number of iterations (max_iter) or scale the data as shown in:\n",
      "    https://scikit-learn.org/stable/modules/preprocessing.html\n",
      "Please also refer to the documentation for alternative solver options:\n",
      "    https://scikit-learn.org/stable/modules/linear_model.html#logistic-regression\n",
      "  extra_warning_msg=_LOGISTIC_SOLVER_CONVERGENCE_MSG)\n"
     ]
    },
    {
     "name": "stdout",
     "output_type": "stream",
     "text": [
      "3650 / 3828 :  ('over_lim_4', 'percent_paid_2') :  0.449521844524615\n",
      "3651 / 3828 :  ('over_lim_4', 'percent_paid_3') :  0.4489621436945867\n",
      "3652 / 3828 :  ('over_lim_4', 'percent_paid_4') :  0.420776938134613\n",
      "3653 / 3828 :  ('over_lim_4', 'percent_paid_5') :  0.4207517098837532\n",
      "3655 / 3828 :  ('over_lim_4', 'payment_patter_change') :  0.42088880969865095\n",
      "3656 / 3828 :  ('over_lim_4', 'payment_average_p') :  0.4207757792788122\n",
      "3657 / 3828 :  ('over_lim_4', 'ln_limit_bal') :  0.4207997986692753\n",
      "3658 / 3828 :  ('over_lim_5', 'over_lim_6') :  0.42081134725523545\n",
      "3659 / 3828 :  ('over_lim_5', 'n_over_lim') :  0.42080060461484087\n",
      "3660 / 3828 :  ('over_lim_5', 'percent_use_1') :  0.4208013519746367\n",
      "3661 / 3828 :  ('over_lim_5', 'percent_use_2') :  0.42071734323971327\n",
      "3663 / 3828 :  ('over_lim_5', 'percent_use_4') :  0.42077537636398105\n",
      "3664 / 3828 :  ('over_lim_5', 'percent_use_5') :  0.4208181113121159\n",
      "3665 / 3828 :  ('over_lim_5', 'percent_use_6') :  0.4207521127985843\n",
      "3667 / 3828 :  ('over_lim_5', 'percent_paid_1') :  0.42075137389965844\n",
      "3669 / 3828 :  ('over_lim_5', 'percent_paid_3') :  0.42084985237651856\n",
      "3670 / 3828 :  ('over_lim_5', 'percent_paid_4') :  0.4207443998935965\n",
      "3672 / 3828 :  ('over_lim_5', 'percent_paid_6') :  0.42075096252395755\n",
      "3675 / 3828 :  ('over_lim_5', 'ln_limit_bal') :  0.42077652663860804\n",
      "3677 / 3828 :  ('over_lim_6', 'percent_use_1') :  0.42072729604372966\n",
      "3678 / 3828 :  ('over_lim_6', 'percent_use_2') :  0.4207265571448037\n",
      "3679 / 3828 :  ('over_lim_6', 'percent_use_3') :  0.4207206787923156\n",
      "3682 / 3828 :  ('over_lim_6', 'percent_use_6') :  0.42072729604372966\n",
      "3684 / 3828 :  ('over_lim_6', 'percent_paid_1') :  0.42077652663860804\n",
      "3685 / 3828 :  ('over_lim_6', 'percent_paid_2') :  0.4215664970328395\n",
      "3686 / 3828 :  ('over_lim_6', 'percent_paid_3') :  0.4207761992356871\n",
      "3689 / 3828 :  ('over_lim_6', 'percent_paid_6') :  0.42075137389965844\n",
      "3693 / 3828 :  ('n_over_lim', 'percent_use_1') :  0.42075056818585166\n",
      "3694 / 3828 :  ('n_over_lim', 'percent_use_2') :  0.441858302217343\n",
      "3695 / 3828 :  ('n_over_lim', 'percent_use_3') :  0.42072853153759365\n",
      "3696 / 3828 :  ('n_over_lim', 'percent_use_4') :  0.4208001931188359\n",
      "3697 / 3828 :  ('n_over_lim', 'percent_use_5') :  0.4207369009466057\n",
      "3699 / 3828 :  ('n_over_lim', 'avg_percent_use') :  0.42072729604372966\n",
      "3701 / 3828 :  ('n_over_lim', 'percent_paid_2') :  0.42084210244290854\n",
      "3703 / 3828 :  ('n_over_lim', 'percent_paid_4') :  0.42077200629500117\n",
      "3704 / 3828 :  ('n_over_lim', 'percent_paid_5') :  0.44882615107918405\n",
      "3705 / 3828 :  ('n_over_lim', 'percent_paid_6') :  0.4215277240747753\n",
      "3708 / 3828 :  ('n_over_lim', 'ln_limit_bal') :  0.4232043673187688\n",
      "3710 / 3828 :  ('percent_use_1', 'percent_use_3') :  0.42120057027831076\n",
      "3711 / 3828 :  ('percent_use_1', 'percent_use_4') :  0.42077652663860804\n",
      "3713 / 3828 :  ('percent_use_1', 'percent_use_6') :  0.4214433976369554\n",
      "3714 / 3828 :  ('percent_use_1', 'avg_percent_use') :  0.4246590635919589\n",
      "3716 / 3828 :  ('percent_use_1', 'percent_paid_2') :  0.42077537636398105\n",
      "3717 / 3828 :  ('percent_use_1', 'percent_paid_3') :  0.4207944021346968\n",
      "3718 / 3828 :  ('percent_use_1', 'percent_paid_4') :  0.42105505866193943\n",
      "3720 / 3828 :  ('percent_use_1', 'percent_paid_6') :  0.42072891453528616\n",
      "3721 / 3828 :  ('percent_use_1', 'payment_patter_change') :  0.420776938134613\n",
      "3722 / 3828 :  ('percent_use_1', 'payment_average_p') :  0.4207757792788122\n",
      "3723 / 3828 :  ('percent_use_1', 'ln_limit_bal') :  0.42127156135031\n",
      "3725 / 3828 :  ('percent_use_2', 'percent_use_4') :  0.420776938134613\n",
      "3727 / 3828 :  ('percent_use_2', 'percent_use_6') :  0.4297660327231325\n",
      "3728 / 3828 :  ('percent_use_2', 'avg_percent_use') :  0.4207284545330321\n",
      "3730 / 3828 :  ('percent_use_2', 'percent_paid_2') :  0.4207277074194306\n",
      "3731 / 3828 :  ('percent_use_2', 'percent_paid_3') :  0.4207757792788122\n",
      "3732 / 3828 :  ('percent_use_2', 'percent_paid_4') :  0.42075096252395755\n",
      "3734 / 3828 :  ('percent_use_2', 'percent_paid_6') :  0.42075253275545926\n",
      "3735 / 3828 :  ('percent_use_2', 'payment_patter_change') :  0.42075253275545926\n",
      "3738 / 3828 :  ('percent_use_3', 'percent_use_4') :  0.4209634880695523\n",
      "3739 / 3828 :  ('percent_use_3', 'percent_use_5') :  0.421475549658227\n",
      "3742 / 3828 :  ('percent_use_3', 'percent_paid_1') :  0.42122666697638705\n",
      "3743 / 3828 :  ('percent_use_3', 'percent_paid_2') :  0.420776938134613\n",
      "3744 / 3828 :  ('percent_use_3', 'percent_paid_3') :  0.4207277074194306\n",
      "3747 / 3828 :  ('percent_use_3', 'percent_paid_6') :  0.420776938134613\n",
      "3753 / 3828 :  ('percent_use_4', 'avg_percent_use') :  0.42071090547667006\n",
      "3754 / 3828 :  ('percent_use_4', 'percent_paid_1') :  0.4207506430212953\n",
      "3756 / 3828 :  ('percent_use_4', 'percent_paid_3') :  0.4207277074194306\n",
      "3757 / 3828 :  ('percent_use_4', 'percent_paid_4') :  0.4207265571448037\n",
      "3758 / 3828 :  ('percent_use_4', 'percent_paid_5') :  0.4207276334622489\n",
      "3759 / 3828 :  ('percent_use_4', 'percent_paid_6') :  0.42086693053129326\n",
      "3761 / 3828 :  ('percent_use_4', 'payment_average_p') :  0.42127849155202385\n",
      "3763 / 3828 :  ('percent_use_5', 'percent_use_6') :  0.44700126126884476\n",
      "3768 / 3828 :  ('percent_use_5', 'percent_paid_4') :  0.42087197304573215\n",
      "3770 / 3828 :  ('percent_use_5', 'percent_paid_6') :  0.42080294777805055\n",
      "3771 / 3828 :  ('percent_use_5', 'payment_patter_change') :  0.42072729604372966\n",
      "3772 / 3828 :  ('percent_use_5', 'payment_average_p') :  0.4207517098837532\n",
      "3773 / 3828 :  ('percent_use_5', 'ln_limit_bal') :  0.4211934701320537\n",
      "3776 / 3828 :  ('percent_use_6', 'percent_paid_2') :  0.42072729604372966\n",
      "3777 / 3828 :  ('percent_use_6', 'percent_paid_3') :  0.42075371994728905\n",
      "3781 / 3828 :  ('percent_use_6', 'payment_patter_change') :  0.4211470864559222\n",
      "3782 / 3828 :  ('percent_use_6', 'payment_average_p') :  0.4215531813128128\n",
      "3785 / 3828 :  ('avg_percent_use', 'percent_paid_2') :  0.4207284545330321\n",
      "3787 / 3828 :  ('avg_percent_use', 'percent_paid_4') :  0.421387075428388\n",
      "3788 / 3828 :  ('avg_percent_use', 'percent_paid_5') :  0.4211504572805888\n",
      "3789 / 3828 :  ('avg_percent_use', 'percent_paid_6') :  0.42075096252395755\n",
      "3791 / 3828 :  ('avg_percent_use', 'payment_average_p') :  0.4207277074194306\n",
      "3794 / 3828 :  ('percent_paid_1', 'percent_paid_3') :  0.4210111026456345\n",
      "3795 / 3828 :  ('percent_paid_1', 'percent_paid_4') :  0.42086147287747216\n",
      "3796 / 3828 :  ('percent_paid_1', 'percent_paid_5') :  0.42101656533881826\n",
      "3800 / 3828 :  ('percent_paid_1', 'ln_limit_bal') :  0.4434923986240367\n",
      "3802 / 3828 :  ('percent_paid_2', 'percent_paid_4') :  0.4208531609573047\n",
      "3803 / 3828 :  ('percent_paid_2', 'percent_paid_5') :  0.42106101763740306\n",
      "3804 / 3828 :  ('percent_paid_2', 'percent_paid_6') :  0.420739376188223\n",
      "3805 / 3828 :  ('percent_paid_2', 'payment_patter_change') :  0.42078817252103645\n",
      "3806 / 3828 :  ('percent_paid_2', 'payment_average_p') :  0.4208531525775179\n",
      "3808 / 3828 :  ('percent_paid_3', 'percent_paid_4') :  0.4209331604531225\n",
      "3815 / 3828 :  ('percent_paid_4', 'percent_paid_6') :  0.420719419016187\n",
      "3816 / 3828 :  ('percent_paid_4', 'payment_patter_change') :  0.4212486348597162\n",
      "3818 / 3828 :  ('percent_paid_4', 'ln_limit_bal') :  0.4208019009642449\n",
      "3820 / 3828 :  ('percent_paid_5', 'payment_patter_change') :  0.42083652053515874\n",
      "3823 / 3828 :  ('percent_paid_6', 'payment_patter_change') :  0.42072614631023275\n",
      "3824 / 3828 :  ('percent_paid_6', 'payment_average_p') :  0.42082311506158576\n",
      "3825 / 3828 :  ('percent_paid_6', 'ln_limit_bal') :  0.4207505707106332\n",
      "3827 / 3828 :  ('payment_patter_change', 'ln_limit_bal') :  0.4209841970908271\n",
      "3828 / 3828 :  ('payment_average_p', 'ln_limit_bal') :  0.42084664891986434\n"
     ]
    },
    {
     "data": {
      "text/html": [
       "<div>\n",
       "<style scoped>\n",
       "    .dataframe tbody tr th:only-of-type {\n",
       "        vertical-align: middle;\n",
       "    }\n",
       "\n",
       "    .dataframe tbody tr th {\n",
       "        vertical-align: top;\n",
       "    }\n",
       "\n",
       "    .dataframe thead th {\n",
       "        text-align: right;\n",
       "    }\n",
       "</style>\n",
       "<table border=\"1\" class=\"dataframe\">\n",
       "  <thead>\n",
       "    <tr style=\"text-align: right;\">\n",
       "      <th></th>\n",
       "      <th>pair</th>\n",
       "      <th>f1</th>\n",
       "    </tr>\n",
       "  </thead>\n",
       "  <tbody>\n",
       "    <tr>\n",
       "      <th>0</th>\n",
       "      <td>(LIMIT_BAL, PAY_0)</td>\n",
       "      <td>0.447203</td>\n",
       "    </tr>\n",
       "    <tr>\n",
       "      <th>1</th>\n",
       "      <td>(LIMIT_BAL, PAY_2)</td>\n",
       "      <td>0.430327</td>\n",
       "    </tr>\n",
       "    <tr>\n",
       "      <th>2</th>\n",
       "      <td>(LIMIT_BAL, PAY_3)</td>\n",
       "      <td>0.426254</td>\n",
       "    </tr>\n",
       "    <tr>\n",
       "      <th>3</th>\n",
       "      <td>(LIMIT_BAL, PAY_4)</td>\n",
       "      <td>0.424723</td>\n",
       "    </tr>\n",
       "    <tr>\n",
       "      <th>4</th>\n",
       "      <td>(LIMIT_BAL, PAY_5)</td>\n",
       "      <td>0.421096</td>\n",
       "    </tr>\n",
       "    <tr>\n",
       "      <th>...</th>\n",
       "      <td>...</td>\n",
       "      <td>...</td>\n",
       "    </tr>\n",
       "    <tr>\n",
       "      <th>2433</th>\n",
       "      <td>(percent_paid_6, payment_patter_change)</td>\n",
       "      <td>0.420726</td>\n",
       "    </tr>\n",
       "    <tr>\n",
       "      <th>2434</th>\n",
       "      <td>(percent_paid_6, payment_average_p)</td>\n",
       "      <td>0.420823</td>\n",
       "    </tr>\n",
       "    <tr>\n",
       "      <th>2435</th>\n",
       "      <td>(percent_paid_6, ln_limit_bal)</td>\n",
       "      <td>0.420751</td>\n",
       "    </tr>\n",
       "    <tr>\n",
       "      <th>2436</th>\n",
       "      <td>(payment_patter_change, ln_limit_bal)</td>\n",
       "      <td>0.420984</td>\n",
       "    </tr>\n",
       "    <tr>\n",
       "      <th>2437</th>\n",
       "      <td>(payment_average_p, ln_limit_bal)</td>\n",
       "      <td>0.420847</td>\n",
       "    </tr>\n",
       "  </tbody>\n",
       "</table>\n",
       "<p>2438 rows × 2 columns</p>\n",
       "</div>"
      ],
      "text/plain": [
       "                                         pair        f1\n",
       "0                          (LIMIT_BAL, PAY_0)  0.447203\n",
       "1                          (LIMIT_BAL, PAY_2)  0.430327\n",
       "2                          (LIMIT_BAL, PAY_3)  0.426254\n",
       "3                          (LIMIT_BAL, PAY_4)  0.424723\n",
       "4                          (LIMIT_BAL, PAY_5)  0.421096\n",
       "...                                       ...       ...\n",
       "2433  (percent_paid_6, payment_patter_change)  0.420726\n",
       "2434      (percent_paid_6, payment_average_p)  0.420823\n",
       "2435           (percent_paid_6, ln_limit_bal)  0.420751\n",
       "2436    (payment_patter_change, ln_limit_bal)  0.420984\n",
       "2437        (payment_average_p, ln_limit_bal)  0.420847\n",
       "\n",
       "[2438 rows x 2 columns]"
      ]
     },
     "execution_count": 85,
     "metadata": {},
     "output_type": "execute_result"
    }
   ],
   "source": [
    "from itertools import combinations\n",
    "train_test_splitrn.model_selection import KFold\n",
    "from sklearn.model_selection import cross_val_score\n",
    "\n",
    "def add_interaction(X, y): \n",
    "    allpairs = list(combinations(X.columns, 2))\n",
    "\n",
    "    interactions = pd.DataFrame(columns = ['pair', 'f1'])\n",
    "    logreg = LogisticRegression(class_weight = 'balanced', max_iter = 5000)\n",
    "    cv = KFold(n_splits = 3, shuffle = True, random_state = 2)\n",
    "    thresh = np.mean(cross_val_score(logreg, X, y, scoring = 'f1', cv = cv))\n",
    "    print(thresh)\n",
    "    i = 0\n",
    "    for pair in allpairs:\n",
    "        i += 1\n",
    "        X['interaction'] = X[pair[0]] * X[pair[1]]\n",
    "        score = np.mean(cross_val_score(logreg, X, y, scoring = 'f1', cv = cv))\n",
    "        if score > thresh: \n",
    "            print(i, '/', len(allpairs), ': ', pair, ': ', score)\n",
    "            interactions.loc[len(interactions)] = [pair, score]\n",
    "    return interactions\n",
    "\n",
    "interactions = add_interaction(X, y)"
   ]
  },
  {
   "cell_type": "code",
   "execution_count": null,
   "metadata": {},
   "outputs": [],
   "source": []
  },
  {
   "cell_type": "code",
   "execution_count": null,
   "metadata": {},
   "outputs": [],
   "source": []
  },
  {
   "cell_type": "code",
   "execution_count": null,
   "metadata": {},
   "outputs": [],
   "source": []
  },
  {
   "cell_type": "markdown",
   "metadata": {},
   "source": [
    "### Train Test Split\n",
    "For the rest of model evaluation, I'll split the dataset."
   ]
  },
  {
   "cell_type": "code",
   "execution_count": null,
   "metadata": {},
   "outputs": [],
   "source": [
    "X_train, X_test, y_train, y_test = train_test_split(X, y, test_size = 0.25, random_state = 2)"
   ]
  },
  {
   "cell_type": "markdown",
   "metadata": {},
   "source": [
    "### Class Imbalance Problem\n",
    "First, we will balance out our train samples with the best method. (I don't have to use this for decision trees)"
   ]
  },
  {
   "cell_type": "code",
   "execution_count": null,
   "metadata": {},
   "outputs": [],
   "source": [
    "# Balanced weight method\n",
    "lr_weight = LogisticRegression(solver='liblinear', class_weight='balanced')\n",
    "lr_weight.fit(X_train, y_train)\n",
    "lr_weight_test = lr_weight.predict(X_test)\n",
    "\n",
    "print('Test Accuracy score: ', accuracy_score(y_test, lr_weight_test))\n",
    "print('Test F1 score: ', f1_score(y_test, lr_weight_test))"
   ]
  },
  {
   "cell_type": "code",
   "execution_count": null,
   "metadata": {},
   "outputs": [],
   "source": [
    "# SMOTE Oversampling\n",
    "from imblearn.over_sampling import SMOTE\n",
    "\n",
    "smote = SMOTE()\n",
    "X_train_resampled, y_train_resampled = smote.fit_sample(X_train, y_train)\n",
    "\n",
    "smote_lr = LogisticRegression(solver='liblinear')\n",
    "smote_lr.fit(X_train_resampled, y_train_resampled)\n",
    "smote_lr_test = lr_weight.predict(X_test)\n",
    "\n",
    "print('Test Accuracy score: ', accuracy_score(y_test, smote_lr_test))\n",
    "print('Test F1 score: ', f1_score(y_test, smote_lr_test))"
   ]
  },
  {
   "cell_type": "code",
   "execution_count": null,
   "metadata": {},
   "outputs": [],
   "source": [
    "# Tomek Links Undersampling\n",
    "from imblearn.under_sampling import TomekLinks # doctest: +NORMALIZE_WHITESPACE\n",
    "\n",
    "tl = TomekLinks()\n",
    "X_train_resampled, y_train_resampled = tl.fit_sample(X_train, y_train)\n",
    "\n",
    "tl_lr = LogisticRegression(solver='liblinear')\n",
    "tl_lr.fit(X_train_resampled, y_train_resampled)\n",
    "tl_lr_test = tl_lr.predict(X_test)\n",
    "\n",
    "print('Test Accuracy score: ', accuracy_score(y_test, tl_lr_test))\n",
    "print('Test F1 score: ', f1_score(y_test, tl_lr_test))"
   ]
  },
  {
   "cell_type": "code",
   "execution_count": null,
   "metadata": {},
   "outputs": [],
   "source": []
  },
  {
   "cell_type": "code",
   "execution_count": null,
   "metadata": {},
   "outputs": [],
   "source": []
  },
  {
   "cell_type": "markdown",
   "metadata": {},
   "source": [
    "## Model Evaluation\n",
    "### Logistic Regression\n",
    "I'm going to now compare model performance. I'll first do multiple logistic regressions and test couple different things.\n",
    "1. Choose the best way to control for multicollinearity (VIF vs manual controls vs. variance threshold)\n",
    "2. Try regularizations (L1, L2) + find the best C "
   ]
  },
  {
   "cell_type": "markdown",
   "metadata": {},
   "source": [
    "### Multicollinearity choice for Logistic Regression\n",
    "#### Manual control"
   ]
  },
  {
   "cell_type": "code",
   "execution_count": null,
   "metadata": {},
   "outputs": [],
   "source": [
    "# check correlation\n",
    "corr_high(X_train)[1]"
   ]
  },
  {
   "cell_type": "code",
   "execution_count": 157,
   "metadata": {},
   "outputs": [],
   "source": [
    "# drop manually\n",
    "X_train_manual = X_train.drop(['Y'] + cols_to_drop, axis = 1)"
   ]
  },
  {
   "cell_type": "markdown",
   "metadata": {},
   "source": [
    "#### VIF"
   ]
  },
  {
   "cell_type": "code",
   "execution_count": 158,
   "metadata": {},
   "outputs": [
    {
     "name": "stderr",
     "output_type": "stream",
     "text": [
      "/opt/anaconda3/lib/python3.7/site-packages/statsmodels/stats/outliers_influence.py:185: RuntimeWarning: divide by zero encountered in double_scalars\n",
      "  vif = 1. / (1. - r_squared_i)\n"
     ]
    }
   ],
   "source": [
    "from statsmodels.stats.outliers_influence import variance_inflation_factor\n",
    "def vif_(X):\n",
    "    vif = pd.DataFrame()\n",
    "    vif['VIF'] = [variance_inflation_factor(X.values, i) for i in range(len(X.columns))]\n",
    "    vif['Features'] = X.columns\n",
    "    return vif\n",
    "Vif = vif_(X_train)"
   ]
  },
  {
   "cell_type": "code",
   "execution_count": 159,
   "metadata": {},
   "outputs": [
    {
     "name": "stdout",
     "output_type": "stream",
     "text": [
      "F1_train: 0.416\n",
      "F1_test: 0.428\n",
      "Accuracy: 0.553\n"
     ]
    }
   ],
   "source": [
    "X_train_VIF = X_train.drop(['Y'] + list(Vif.Features[Vif.VIF > 10].values), axis = 1)\n"
   ]
  },
  {
   "cell_type": "markdown",
   "metadata": {},
   "source": [
    "#### Lasso/Ridge Regression"
   ]
  },
  {
   "cell_type": "code",
   "execution_count": null,
   "metadata": {},
   "outputs": [],
   "source": [
    "# grid search hyperparams\n",
    "from sklearn.model_selection import GridSearchCV\n",
    "\n",
    "params = {\n",
    "    'penalty':['l1', 'l2'],\n",
    "    'C': [0.1, 0.3, 0.5, 0.7, 0.9, 1]\n",
    "}\n",
    "lr_l1 = LogisticRegression(random_state = 2, solver = 'liblinear')\n",
    "tree_g = GridSearchCV(lr_l1, params, cv = 5, scoring = 'f1', verbose = 1, n_jobs = -1)\n",
    "tree_g.fit(X_train, y_train)\n",
    "print(tree_g.best_params_, ': ', tree_g.best_score_)\n",
    "y_pred = tree_g.best_estimator_.predict(X_test)\n",
    "print(metrics.f1_score(y_test, y_pred))\n"
   ]
  },
  {
   "cell_type": "code",
   "execution_count": null,
   "metadata": {},
   "outputs": [],
   "source": []
  },
  {
   "cell_type": "code",
   "execution_count": null,
   "metadata": {},
   "outputs": [],
   "source": []
  },
  {
   "cell_type": "markdown",
   "metadata": {},
   "source": [
    "### KNN \n",
    "Fit KNN model"
   ]
  },
  {
   "cell_type": "code",
   "execution_count": null,
   "metadata": {},
   "outputs": [],
   "source": [
    "# first data needs to be scaled\n",
    "from sklearn.preprocessing import StandardScaler\n",
    "\n",
    "# Instantiate StandardScaler\n",
    "scaler = StandardScaler()\n",
    "\n",
    "# Transform the training and test sets\n",
    "scaled_X_train = scaler.fit_transform(X_train)\n",
    "scaled_X_test = scaler.transform(X_test)\n",
    "\n",
    "# Convert into a DataFrame\n",
    "scaled_X_train = pd.DataFrame(scaled_X_train, columns=X_train.columns)\n"
   ]
  },
  {
   "cell_type": "code",
   "execution_count": null,
   "metadata": {},
   "outputs": [],
   "source": [
    "from sklearn.neighbors import KNeighborsClassifier\n",
    "\n",
    "bestK = 0\n",
    "for k in range(1, 30, 2):\n",
    "    knc = KNeighborsClassifier(n_neighbors = k)\n",
    "    knc.fit(scaled_X_train, y_train)\n",
    "    y_pred = knc.predict(scaled_X_test)\n",
    "    f1 = metrics.f1_score(y_test, y_pred)\n",
    "    if f1 > bestK: \n",
    "        bestK = k\n",
    "        \n",
    "knc = KNeighborsClassifier(n_neighbors = bestK)\n",
    "knc.fit(scaled_X_train, y_train)\n",
    "y_pred = knc.predict(scaled_X_test)\n",
    "print(f'f1: {round(metrics.f1_score(y_test, y_pres), 3)}')"
   ]
  },
  {
   "cell_type": "code",
   "execution_count": null,
   "metadata": {},
   "outputs": [],
   "source": []
  },
  {
   "cell_type": "markdown",
   "metadata": {},
   "source": [
    "### Decision Trees\n",
    "Fit different decision trees"
   ]
  },
  {
   "cell_type": "code",
   "execution_count": null,
   "metadata": {},
   "outputs": [],
   "source": []
  },
  {
   "cell_type": "code",
   "execution_count": null,
   "metadata": {},
   "outputs": [],
   "source": []
  },
  {
   "cell_type": "markdown",
   "metadata": {},
   "source": [
    "### Ensemble Methods\n",
    "Test ensemble methods"
   ]
  },
  {
   "cell_type": "code",
   "execution_count": null,
   "metadata": {},
   "outputs": [],
   "source": []
  },
  {
   "cell_type": "code",
   "execution_count": null,
   "metadata": {},
   "outputs": [],
   "source": []
  },
  {
   "cell_type": "code",
   "execution_count": null,
   "metadata": {},
   "outputs": [],
   "source": []
  }
 ],
 "metadata": {
  "kernelspec": {
   "display_name": "Python 3",
   "language": "python",
   "name": "python3"
  },
  "language_info": {
   "codemirror_mode": {
    "name": "ipython",
    "version": 3
   },
   "file_extension": ".py",
   "mimetype": "text/x-python",
   "name": "python",
   "nbconvert_exporter": "python",
   "pygments_lexer": "ipython3",
   "version": "3.7.6"
  }
 },
 "nbformat": 4,
 "nbformat_minor": 4
}
